{
 "cells": [
  {
   "cell_type": "code",
   "execution_count": null,
   "metadata": {},
   "outputs": [],
   "source": []
  },
  {
   "cell_type": "code",
   "execution_count": null,
   "metadata": {},
   "outputs": [],
   "source": []
  },
  {
   "cell_type": "code",
   "execution_count": 1,
   "metadata": {},
   "outputs": [],
   "source": [
    "import pandas\n",
    "import scanpy\n",
    "import os\n",
    "import sys\n",
    "import numpy\n",
    "import itertools\n",
    "import numpy\n",
    "import seaborn\n",
    "from matplotlib import pyplot\n",
    "import matplotlib\n",
    "from statsmodels.distributions.empirical_distribution import ECDF"
   ]
  },
  {
   "cell_type": "code",
   "execution_count": 2,
   "metadata": {},
   "outputs": [],
   "source": [
    "matplotlib.font_manager._rebuild()"
   ]
  },
  {
   "cell_type": "code",
   "execution_count": 3,
   "metadata": {},
   "outputs": [],
   "source": [
    "mm2inch=25.4"
   ]
  },
  {
   "cell_type": "code",
   "execution_count": 4,
   "metadata": {},
   "outputs": [],
   "source": [
    "matplotlib.rcParams['font.family'] = 'Arial'"
   ]
  },
  {
   "cell_type": "code",
   "execution_count": 5,
   "metadata": {},
   "outputs": [],
   "source": [
    "adata = scanpy.read_h5ad('monocle/200315_C1.h5ad')\n",
    "#adata = scanpy.read_h5ad('monocle/200120_C1.h5ad')"
   ]
  },
  {
   "cell_type": "code",
   "execution_count": 6,
   "metadata": {},
   "outputs": [
    {
     "data": {
      "text/plain": [
       "Mesenchymal      571\n",
       "Perichondrial    139\n",
       "Chondrocyte       57\n",
       "Muscle 1          54\n",
       "Muscle 2          38\n",
       "Muscle 3          23\n",
       "Macrophage        10\n",
       "Neural Crest       8\n",
       "Epithelial         8\n",
       "Endothelial        7\n",
       "EMP                5\n",
       "Name: cell_type, dtype: int64"
      ]
     },
     "execution_count": 6,
     "metadata": {},
     "output_type": "execute_result"
    }
   ],
   "source": [
    "adata.obs['cell_type'].value_counts()"
   ]
  },
  {
   "cell_type": "code",
   "execution_count": 7,
   "metadata": {},
   "outputs": [],
   "source": [
    "clusters = {\n",
    "    'Muscle 1': adata[:,'Pitx3'][adata.obs['cell_type']=='Muscle 1'].X.toarray(),\n",
    "    'Muscle 2': adata[:,'Pitx3'][adata.obs['cell_type']=='Muscle 2'].X.toarray(),\n",
    "    'Muscle 3': adata[:,'Pitx3'][adata.obs['cell_type']=='Muscle 3'].X.toarray(),\n",
    "}\n"
   ]
  },
  {
   "cell_type": "code",
   "execution_count": 8,
   "metadata": {},
   "outputs": [],
   "source": [
    "def plot_gene(adata, gene_name, ax=None,\n",
    "              fontname='Arial', fontsize=6,\n",
    "              hidex=False, hidey=False,\n",
    "    ):\n",
    "    if ax is None:\n",
    "        f = pyplot.figure(figsize=(1,3))\n",
    "        ax = f.add_subplot(1,1,1)\n",
    "\n",
    "    clusters = [\n",
    "        (adata[:,gene_name][adata.obs['cell_type']=='Muscle 1'].X.toarray()),\n",
    "        (adata[:,gene_name][adata.obs['cell_type']=='Muscle 2'].X.toarray()),\n",
    "        (adata[:,gene_name][adata.obs['cell_type']=='Muscle 3'].X.toarray()),\n",
    "    ]\n",
    "    ax.set_title(gene_name, fontname=fontname, fontsize=fontsize)\n",
    "    boxplot = ax.boxplot(\n",
    "        clusters,\n",
    "        labels=['M1', 'M2', 'M3'],\n",
    "        patch_artist=True,\n",
    "        #showfliers=False,\n",
    "        boxprops={'linewidth': .5},\n",
    "        medianprops={'color': 'black','linewidth':.5},\n",
    "        capprops={'linewidth':.5},\n",
    "        whiskerprops={'linewidth':.5},\n",
    "        flierprops={'markersize': 1.9,\n",
    "                    'markeredgecolor': 'white',\n",
    "                    'markeredgewidth': 0,\n",
    "                    'markerfacecolor': '#c0c0c0'},\n",
    "        widths=.65,\n",
    "    )\n",
    "    colors = ['#00ff00', '#ff8e80', '#ff0000']\n",
    "    for patch, color in zip(boxplot['boxes'], colors):\n",
    "        patch.set_facecolor(color)\n",
    "        \n",
    "    for l in ax.get_yticklabels():\n",
    "        l.set_fontname(fontname)\n",
    "        l.set_fontsize(fontsize-1)\n",
    "        if hidey:\n",
    "            l.set_visible(False)\n",
    "        \n",
    "    for l in ax.get_xticklabels():\n",
    "        l.set_fontname(fontname)\n",
    "        l.set_fontsize(fontsize-1)\n",
    "        if hidex:\n",
    "            l.set_visible(False)\n",
    "\n",
    "    if hidex:\n",
    "        ax.tick_params(bottom=False)\n",
    "    #ax.get_yaxis().get_offset_text().set_visible(False)\n",
    "    return ax"
   ]
  },
  {
   "cell_type": "code",
   "execution_count": 9,
   "metadata": {
    "scrolled": false
   },
   "outputs": [
    {
     "data": {
      "image/png": "[encoded data removed]",
      "text/plain": [
       "<Figure size 319.181x968.504 with 6 Axes>"
      ]
     },
     "metadata": {
      "needs_background": "light"
     },
     "output_type": "display_data"
    }
   ],
   "source": [
    "f = pyplot.figure(figsize=(27.024/mm2inch,82/mm2inch), dpi=300)\n",
    "gs = f.add_gridspec(nrows=3, ncols=2, wspace=.6)\n",
    "ax = plot_gene(adata, 'Pax3', ax=f.add_subplot(gs[0,0]), hidex=True)\n",
    "ax = plot_gene(adata, 'Myod1', ax=f.add_subplot(gs[0,1]), hidex=True)\n",
    "ax = plot_gene(adata, 'Pax7', ax=f.add_subplot(gs[1,0]), hidex=True)\n",
    "ax = plot_gene(adata, 'Pitx3', ax=f.add_subplot(gs[1,1]), hidex=True)\n",
    "ax = plot_gene(adata, 'Myog', ax=f.add_subplot(gs[2,0]))\n",
    "ax = plot_gene(adata, 'Pitx2', ax=f.add_subplot(gs[2,1]))\n"
   ]
  },
  {
   "cell_type": "code",
   "execution_count": 10,
   "metadata": {},
   "outputs": [],
   "source": [
    "f.savefig('figure3f-was4b.svg', bbox_inches=\"tight\", pad_inches=0, transparent=True)"
   ]
  },
  {
   "cell_type": "code",
   "execution_count": null,
   "metadata": {},
   "outputs": [],
   "source": []
  }
 ],
 "metadata": {
  "kernelspec": {
   "display_name": "Python 3",
   "language": "python",
   "name": "python3"
  },
  "language_info": {
   "codemirror_mode": {
    "name": "ipython",
    "version": 3
   },
   "file_extension": ".py",
   "mimetype": "text/x-python",
   "name": "python",
   "nbconvert_exporter": "python",
   "pygments_lexer": "ipython3",
   "version": "3.8.2"
  }
 },
 "nbformat": 4,
 "nbformat_minor": 4
}
