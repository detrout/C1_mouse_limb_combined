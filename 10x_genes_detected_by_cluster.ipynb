{
 "cells": [
  {
   "cell_type": "code",
   "execution_count": 1,
   "metadata": {},
   "outputs": [],
   "source": [
    "import pandas\n",
    "import sys\n",
    "import os\n",
    "import seaborn\n",
    "from matplotlib import pyplot"
   ]
  },
  {
   "cell_type": "code",
   "execution_count": 2,
   "metadata": {},
   "outputs": [],
   "source": [
    "mouselimb = pandas.read_csv('190425MouseLimb10XMeta.csv', index_col=0, dtype={'ident': str})"
   ]
  },
  {
   "cell_type": "code",
   "execution_count": 3,
   "metadata": {},
   "outputs": [
    {
     "data": {
      "text/html": [
       "<div>\n",
       "<style scoped>\n",
       "    .dataframe tbody tr th:only-of-type {\n",
       "        vertical-align: middle;\n",
       "    }\n",
       "\n",
       "    .dataframe tbody tr th {\n",
       "        vertical-align: top;\n",
       "    }\n",
       "\n",
       "    .dataframe thead th {\n",
       "        text-align: right;\n",
       "    }\n",
       "</style>\n",
       "<table border=\"1\" class=\"dataframe\">\n",
       "  <thead>\n",
       "    <tr style=\"text-align: right;\">\n",
       "      <th></th>\n",
       "      <th>nGene</th>\n",
       "      <th>ident</th>\n",
       "    </tr>\n",
       "  </thead>\n",
       "  <tbody>\n",
       "    <tr>\n",
       "      <th>limb12_13_0AAACCTGAGATCGATA_1</th>\n",
       "      <td>3404</td>\n",
       "      <td>3</td>\n",
       "    </tr>\n",
       "    <tr>\n",
       "      <th>limb12_13_0AAACCTGAGATGAGAG_1</th>\n",
       "      <td>2322</td>\n",
       "      <td>2</td>\n",
       "    </tr>\n",
       "    <tr>\n",
       "      <th>limb12_13_0AAACCTGAGCAGATCG_1</th>\n",
       "      <td>2162</td>\n",
       "      <td>5</td>\n",
       "    </tr>\n",
       "    <tr>\n",
       "      <th>limb12_13_0AAACCTGAGCGATCCC_1</th>\n",
       "      <td>3771</td>\n",
       "      <td>6</td>\n",
       "    </tr>\n",
       "    <tr>\n",
       "      <th>limb12_13_0AAACCTGAGTGTACCT_1</th>\n",
       "      <td>2517</td>\n",
       "      <td>1</td>\n",
       "    </tr>\n",
       "  </tbody>\n",
       "</table>\n",
       "</div>"
      ],
      "text/plain": [
       "                               nGene ident\n",
       "limb12_13_0AAACCTGAGATCGATA_1   3404     3\n",
       "limb12_13_0AAACCTGAGATGAGAG_1   2322     2\n",
       "limb12_13_0AAACCTGAGCAGATCG_1   2162     5\n",
       "limb12_13_0AAACCTGAGCGATCCC_1   3771     6\n",
       "limb12_13_0AAACCTGAGTGTACCT_1   2517     1"
      ]
     },
     "execution_count": 3,
     "metadata": {},
     "output_type": "execute_result"
    }
   ],
   "source": [
    "mouselimb.head()"
   ]
  },
  {
   "cell_type": "code",
   "execution_count": 4,
   "metadata": {},
   "outputs": [],
   "source": [
    "MouseColorDict = {\n",
    "    '0':'#000000',#'#575757',\n",
    "    '1':'#0118FA',\n",
    "    '2':'#C2BDC0',\n",
    "    '3':'#00FFFF',\n",
    "    '4':'#FF8380',\n",
    "    '5':'#8B8A1D',\n",
    "    '6':'#CAC379',\n",
    "    '7':'#00FF00',\n",
    "    '8':'#FFFA2C',\n",
    "    '9':'#C39CFB',\n",
    "    '10':'#7762F0',\n",
    "    '11':'#717E8D',\n",
    "    '12':'#871F4E',\n",
    "    '13':'#35B5E2',\n",
    "    '14':'#9834E7',\n",
    "    '15':'#995432',\n",
    "    '16':'#483F84',\n",
    "    '17':'#ff0000',\n",
    "    '18':'#216407',\n",
    "    '19':'#ff42ef',\n",
    "    '20':'#FBC83C',\n",
    "    '21':'#FF9A21',\n",
    "    '22':'#B4246E',\n",
    "    '23':'#09658A',\n",
    "    '24':'#016edb'}\n",
    "\n",
    "MouseDict={\n",
    "    '0':'Mesenchymal cell 1',\n",
    "    '1':'Perichondrial cell',\n",
    "    '2':'Mesenchymal cell 2',\n",
    "    '3':'Chondrocyte',\n",
    "    '4':'Muscle 2',\n",
    "    '5':'Epithelium 1',\n",
    "    '6':'Fibroblast',\n",
    "    '7':'Muscle 1',\n",
    "    '8':'Macrophage',\n",
    "    '9':'Endothelium',\n",
    "    '10':'FoxP1(+) perichondrial cell',\n",
    "    '11':'Tenocyte',\n",
    "    '12':'Muscle 4',\n",
    "    '13':'Early erythrocyte',\n",
    "    '14':'Neural crest',\n",
    "    '15':'Stressed mesenchymal cell',\n",
    "    '16':'Osteoblast',\n",
    "    '17':'Muscle 3',\n",
    "    '18':'Epithelium 2',\n",
    "    '19':'Smooth muscle cell',\n",
    "    '20':'EMP',\n",
    "    '21':'Megakaryocyte',\n",
    "    '22':'Col1a1 + Muscle 4',\n",
    "    '23':'Late erythrocyte',\n",
    "    '24':'Ihh(+) chondrocyte'\n",
    "}\n"
   ]
  },
  {
   "cell_type": "code",
   "execution_count": 5,
   "metadata": {},
   "outputs": [],
   "source": [
    "order_list = [\n",
    "    'Muscle 4',\n",
    "    'Col1a1 + Muscle 4',\n",
    "    'Muscle 3',\n",
    "    'Muscle 2',\n",
    "    'Muscle 1',\n",
    "    'Smooth muscle cell',\n",
    "    'Perichondrial cell',\n",
    "    'FoxP1(+) perichondrial cell',\n",
    "    'Osteoblast',\n",
    "    'Chondrocyte',\n",
    "    'Ihh(+) chondrocyte',\n",
    "    'Tenocyte',\n",
    "    'Mesenchymal cell 1',\n",
    "    'Mesenchymal cell 2',\n",
    "    'Stressed mesenchymal cell',\n",
    "    'Fibroblast',\n",
    "    'Macrophage',\n",
    "    'EMP',\n",
    "    'Megakaryocyte',\n",
    "    'Late erythrocyte',\n",
    "    'Early erythrocyte',\n",
    "    'Epithelium 2',\n",
    "    'Epithelium 1',\n",
    "    'Endothelium',\n",
    "    'Neural crest',\n",
    "]\n",
    "order_key = { MouseDict[k]: k for k in MouseDict }\n",
    "order = [ order_key[c] for c in order_list]"
   ]
  },
  {
   "cell_type": "code",
   "execution_count": 6,
   "metadata": {},
   "outputs": [],
   "source": [
    "mouselimb['color'] = mouselimb['ident'].apply(lambda x: MouseColorDict[x])\n",
    "mouselimb['cluster_name'] = mouselimb['ident'].apply(lambda x: MouseDict[x])"
   ]
  },
  {
   "cell_type": "code",
   "execution_count": 7,
   "metadata": {},
   "outputs": [
    {
     "data": {
      "image/png": "[encoded data removed]",
      "text/plain": [
       "<Figure size 576x432 with 1 Axes>"
      ]
     },
     "metadata": {
      "needs_background": "light"
     },
     "output_type": "display_data"
    }
   ],
   "source": [
    "def plot_boxplot(expressed):\n",
    "    font_size = 12.0\n",
    "    f = pyplot.figure(figsize=(8,6))\n",
    "    ax = f.add_subplot(1,1,1)\n",
    "    _ = seaborn.boxplot(x='ident', y='nGene', order=order, \n",
    "                        palette=MouseColorDict, \n",
    "                        data=expressed, \n",
    "                        showfliers=False,\n",
    "                        medianprops={'color': '#FFFFFF'},\n",
    "                        ax=ax)\n",
    "    #_ = ax.set_ylabel('Count of genes $\\geq$ 1 FPKM per cell', size=font_size)\n",
    "    _ = ax.set_ylabel('Count of genes $\\geq$ 1 UMI per cell', size=font_size)\n",
    "    _ = ax.set_xlabel('')\n",
    "    \n",
    "    labels = ax.get_yticklabels()\n",
    "    for l in labels:\n",
    "        l.set_fontsize(font_size)\n",
    "\n",
    "    labels = ax.get_xticklabels()\n",
    "    for l in labels:\n",
    "        l.set_text(MouseDict[l.get_text()])\n",
    "        l.set_fontsize(font_size)    \n",
    "    _ = ax.set_xticklabels(labels, rotation=90, ha='center')\n",
    "    _ = ax.set_ylim(0, 9000)\n",
    "    return f, ax\n",
    "f, ax = plot_boxplot(mouselimb)"
   ]
  },
  {
   "cell_type": "code",
   "execution_count": 8,
   "metadata": {},
   "outputs": [],
   "source": [
    "f.savefig('10x_genes_gt_1_UMI.png')"
   ]
  },
  {
   "cell_type": "code",
   "execution_count": null,
   "metadata": {},
   "outputs": [],
   "source": []
  }
 ],
 "metadata": {
  "kernelspec": {
   "display_name": "Python 3",
   "language": "python",
   "name": "python3"
  },
  "language_info": {
   "codemirror_mode": {
    "name": "ipython",
    "version": 3
   },
   "file_extension": ".py",
   "mimetype": "text/x-python",
   "name": "python",
   "nbconvert_exporter": "python",
   "pygments_lexer": "ipython3",
   "version": "3.7.2+"
  }
 },
 "nbformat": 4,
 "nbformat_minor": 2
}
