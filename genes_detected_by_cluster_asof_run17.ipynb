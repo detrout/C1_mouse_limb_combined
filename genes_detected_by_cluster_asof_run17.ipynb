{
 "cells": [
  {
   "cell_type": "markdown",
   "metadata": {},
   "source": [
    "# Introduction"
   ]
  },
  {
   "cell_type": "markdown",
   "metadata": {},
   "source": [
    "Brian & barbara wanted a boxplot of genes detected (>= 1.0 FPKM) for the 920 cells in the muscle development paper\n",
    "\n",
    "Box plot (see seaborn) y axis is number of genes > 1 fpkm.\n",
    "can use protein coding. should include that in axis."
   ]
  },
  {
   "cell_type": "code",
   "execution_count": 1,
   "metadata": {},
   "outputs": [],
   "source": [
    "import numpy\n",
    "import pandas\n",
    "import sys\n",
    "import os\n",
    "import seaborn\n",
    "from matplotlib import pyplot\n",
    "from c1boxplot import boxplot"
   ]
  },
  {
   "cell_type": "code",
   "execution_count": 2,
   "metadata": {},
   "outputs": [],
   "source": [
    "LONG_RNA_SEQ_DIR = os.path.expanduser('~diane/proj/long-rna-seq-condor')\n",
    "if LONG_RNA_SEQ_DIR not in sys.path:\n",
    "    sys.path.append(LONG_RNA_SEQ_DIR)"
   ]
  },
  {
   "cell_type": "code",
   "execution_count": 3,
   "metadata": {},
   "outputs": [],
   "source": [
    "from woldrnaseq.models import load_gtf_cache\n",
    "from woldrnaseq.gtfcache import protein_coding_gene_ids"
   ]
  },
  {
   "cell_type": "code",
   "execution_count": 4,
   "metadata": {},
   "outputs": [],
   "source": [
    "PANDASODF = os.path.expanduser('~diane/src/pandasodf')\n",
    "if PANDASODF not in sys.path:\n",
    "    sys.path.append(PANDASODF)\n",
    "from pandasodf import ODFReader"
   ]
  },
  {
   "cell_type": "code",
   "execution_count": 5,
   "metadata": {},
   "outputs": [],
   "source": [
    "from find_bigwigs import read_peng_20180710_cluster_memberships"
   ]
  },
  {
   "cell_type": "code",
   "execution_count": 6,
   "metadata": {},
   "outputs": [],
   "source": [
    "%matplotlib inline"
   ]
  },
  {
   "cell_type": "code",
   "execution_count": 7,
   "metadata": {},
   "outputs": [],
   "source": [
    "annotation = load_gtf_cache(os.path.expanduser('~diane/proj/genome/mm10-M4-male/mm10-M4-male.h5'))\n",
    "protein_coding = protein_coding_gene_ids(annotation)"
   ]
  },
  {
   "cell_type": "code",
   "execution_count": 8,
   "metadata": {},
   "outputs": [],
   "source": [
    "genes_asof17 = pandas.read_csv('C1_mouse_combined_asof_run17.tsv',\n",
    "                               dtype={0: str},\n",
    "                               index_col=0,\n",
    "                               sep='\\t')"
   ]
  },
  {
   "cell_type": "code",
   "execution_count": 9,
   "metadata": {},
   "outputs": [
    {
     "data": {
      "text/plain": [
       "(920, 2)"
      ]
     },
     "execution_count": 9,
     "metadata": {},
     "output_type": "execute_result"
    }
   ],
   "source": [
    "book = ODFReader('C1_single_cells_library_number_cell_type_annotation_Jan13_2019.ods')\n",
    "clusters = book.parse('Sheet1')\n",
    "clusters = clusters[['cell_ID', 'cell type cluster 920']]\n",
    "clusters.shape"
   ]
  },
  {
   "cell_type": "code",
   "execution_count": 10,
   "metadata": {},
   "outputs": [
    {
     "data": {
      "text/html": [
       "<div>\n",
       "<style scoped>\n",
       "    .dataframe tbody tr th:only-of-type {\n",
       "        vertical-align: middle;\n",
       "    }\n",
       "\n",
       "    .dataframe tbody tr th {\n",
       "        vertical-align: top;\n",
       "    }\n",
       "\n",
       "    .dataframe thead th {\n",
       "        text-align: right;\n",
       "    }\n",
       "</style>\n",
       "<table border=\"1\" class=\"dataframe\">\n",
       "  <thead>\n",
       "    <tr style=\"text-align: right;\">\n",
       "      <th></th>\n",
       "      <th>cell_ID</th>\n",
       "      <th>cell type cluster 920</th>\n",
       "    </tr>\n",
       "  </thead>\n",
       "  <tbody>\n",
       "    <tr>\n",
       "      <th>0</th>\n",
       "      <td>18317_G10</td>\n",
       "      <td>DarkRed</td>\n",
       "    </tr>\n",
       "    <tr>\n",
       "      <th>1</th>\n",
       "      <td>20040_B1</td>\n",
       "      <td>DarkRed</td>\n",
       "    </tr>\n",
       "    <tr>\n",
       "      <th>2</th>\n",
       "      <td>20044_A10</td>\n",
       "      <td>DarkRed</td>\n",
       "    </tr>\n",
       "    <tr>\n",
       "      <th>3</th>\n",
       "      <td>20042_D4</td>\n",
       "      <td>DarkRed</td>\n",
       "    </tr>\n",
       "    <tr>\n",
       "      <th>4</th>\n",
       "      <td>18255_E8</td>\n",
       "      <td>DarkRed</td>\n",
       "    </tr>\n",
       "  </tbody>\n",
       "</table>\n",
       "</div>"
      ],
      "text/plain": [
       "     cell_ID cell type cluster 920\n",
       "0  18317_G10               DarkRed\n",
       "1   20040_B1               DarkRed\n",
       "2  20044_A10               DarkRed\n",
       "3   20042_D4               DarkRed\n",
       "4   18255_E8               DarkRed"
      ]
     },
     "execution_count": 10,
     "metadata": {},
     "output_type": "execute_result"
    }
   ],
   "source": [
    "clusters.head()"
   ]
  },
  {
   "cell_type": "markdown",
   "metadata": {},
   "source": [
    "Lets make sure that all the cells in the C1_single_cells_library_number_type_annotation_Jan13_2019 are in the full quantification data table"
   ]
  },
  {
   "cell_type": "code",
   "execution_count": 11,
   "metadata": {},
   "outputs": [
    {
     "data": {
      "text/plain": [
       "920"
      ]
     },
     "execution_count": 11,
     "metadata": {},
     "output_type": "execute_result"
    }
   ],
   "source": [
    "len(set(clusters.cell_ID).intersection(genes_asof17.columns))"
   ]
  },
  {
   "cell_type": "code",
   "execution_count": 12,
   "metadata": {},
   "outputs": [
    {
     "data": {
      "text/plain": [
       "(22032, 920)"
      ]
     },
     "execution_count": 12,
     "metadata": {},
     "output_type": "execute_result"
    }
   ],
   "source": [
    "protein_genes = genes_asof17.loc[protein_coding][clusters.cell_ID]\n",
    "protein_genes.shape"
   ]
  },
  {
   "cell_type": "code",
   "execution_count": 13,
   "metadata": {},
   "outputs": [],
   "source": [
    "cluster_label = {\n",
    "    'DarkRed': 'Muscle 3',\n",
    "    'red': 'Muscle 2',\n",
    "    'green': 'Muscle 1',\n",
    "    'black': 'Mesenchymal cell 2',\n",
    "    'grey': 'Mesenchymal cell 1',\n",
    "    'cyan': 'Chondrocyte',\n",
    "    'orange': 'EMP',\n",
    "    'yellow': 'Macrophage',\n",
    "    'purple': 'Endothelium',\n",
    "    'blue': 'Perichondrial cell',\n",
    "    'YellowGreen': 'Epithelial cell 2',\n",
    "    'magenta': 'Neural crest',\n",
    "    \n",
    "}\n",
    "\n",
    "cluster_color = {\n",
    "    'DarkRed': '#871f4e',\n",
    "    'red': '#ff8380',\n",
    "    'green': '#00ff00',\n",
    "    'black': '#e7e7e7',\n",
    "    'grey': '#000000',\n",
    "    'cyan': '#00ffff',\n",
    "    'orange': '#ff8000',\n",
    "    'yellow': '#e6e600',\n",
    "    'purple': '#c39cfb',\n",
    "    'blue': '#6666ff',\n",
    "    'YellowGreen': '#84994d',\n",
    "    'magenta': '#9834e7',\n",
    "    \n",
    "}\n",
    "\n",
    "label_color = { cluster_label[k]: cluster_color[k] for k in cluster_color}"
   ]
  },
  {
   "cell_type": "code",
   "execution_count": 14,
   "metadata": {},
   "outputs": [],
   "source": [
    "label_to_cluster = {cluster_label[k]: k for k in cluster_label}"
   ]
  },
  {
   "cell_type": "code",
   "execution_count": 15,
   "metadata": {},
   "outputs": [],
   "source": [
    "cluster_order_by_label = [\n",
    "    'Muscle 3',\n",
    "    'Muscle 2',\n",
    "    'Muscle 1',\n",
    "    'Perichondrial cell',\n",
    "    'Chondrocyte',\n",
    "    'Mesenchymal cell 1',\n",
    "    'Macrophage',\n",
    "    'EMP',\n",
    "    'Epithelial cell 2',\n",
    "    'Endothelium',\n",
    "    'Neural crest',\n",
    "]\n",
    "cluster_order = [ label_to_cluster[c] for c in cluster_order_by_label]"
   ]
  },
  {
   "cell_type": "code",
   "execution_count": 16,
   "metadata": {},
   "outputs": [
    {
     "data": {
      "text/plain": [
       "(22032, 920)"
      ]
     },
     "execution_count": 16,
     "metadata": {},
     "output_type": "execute_result"
    }
   ],
   "source": [
    "expressed = protein_genes[protein_genes >= 1]\n",
    "expressed.shape"
   ]
  },
  {
   "cell_type": "markdown",
   "metadata": {},
   "source": [
    "Force merge two mesenchyme clusters together."
   ]
  },
  {
   "cell_type": "code",
   "execution_count": 17,
   "metadata": {},
   "outputs": [],
   "source": [
    "clusters.loc[clusters['cell type cluster 920'] == 'black', 'cell type cluster 920'] = 'grey'"
   ]
  },
  {
   "cell_type": "code",
   "execution_count": 18,
   "metadata": {},
   "outputs": [],
   "source": [
    "clusters['cluster_name'] = clusters['cell type cluster 920'].apply(lambda x: cluster_label[x])\n",
    "clusters['color'] = clusters['cell type cluster 920'].apply(lambda x: cluster_color[x])\n",
    "clusters = clusters.merge(expressed.count().to_frame(name='count'), left_on='cell_ID', right_index=True)"
   ]
  },
  {
   "cell_type": "code",
   "execution_count": 19,
   "metadata": {},
   "outputs": [
    {
     "data": {
      "image/png": "[encoded data removed]",
      "text/plain": [
       "<Figure size 253.44x432 with 1 Axes>"
      ]
     },
     "metadata": {
      "needs_background": "light"
     },
     "output_type": "display_data"
    }
   ],
   "source": [
    "def plot_boxplot(expressed, color_dict, order):\n",
    "    font_size = 12.0\n",
    "    \n",
    "    f = pyplot.figure(figsize=(3.52,6))\n",
    "    ax = f.add_subplot(1,1,1)\n",
    "    _ = boxplot(x='cluster_name', y='count', \n",
    "                order=order,\n",
    "                palette=color_dict, \n",
    "                data=expressed, \n",
    "                showfliers=False,\n",
    "                ax=ax)\n",
    "    _ = ax.set_ylabel('Count of genes $\\geq$ 1 FPKM per cell', size=font_size)\n",
    "    _ = ax.set_xlabel('')\n",
    "    \n",
    "    labels = ax.get_yticklabels()\n",
    "    for l in labels:\n",
    "        l.set_fontsize(font_size)\n",
    "    \n",
    "    labels = ax.get_xticklabels()\n",
    "    for l in labels:\n",
    "        l.set_text(l.get_text().replace('+', '&\\n'))\n",
    "        l.set_fontsize(font_size)\n",
    "    _ = ax.set_xticklabels(labels, rotation=90, ha='center')\n",
    "    _ = ax.set_ylim(0, 9000)\n",
    "    f.tight_layout()\n",
    "    return f, ax\n",
    "f, ax = plot_boxplot(clusters, label_color, cluster_order_by_label)"
   ]
  },
  {
   "cell_type": "code",
   "execution_count": 20,
   "metadata": {},
   "outputs": [],
   "source": [
    "f.savefig('count_of_genes_gt_1_fpkm_920cells.png')"
   ]
  },
  {
   "cell_type": "code",
   "execution_count": 21,
   "metadata": {},
   "outputs": [],
   "source": [
    "f.savefig('count_of_genes_gt_1_fpkm_920cells.eps')"
   ]
  },
  {
   "cell_type": "code",
   "execution_count": null,
   "metadata": {},
   "outputs": [],
   "source": []
  }
 ],
 "metadata": {
  "kernelspec": {
   "display_name": "Python 3",
   "language": "python",
   "name": "python3"
  },
  "language_info": {
   "codemirror_mode": {
    "name": "ipython",
    "version": 3
   },
   "file_extension": ".py",
   "mimetype": "text/x-python",
   "name": "python",
   "nbconvert_exporter": "python",
   "pygments_lexer": "ipython3",
   "version": "3.7.3rc1"
  }
 },
 "nbformat": 4,
 "nbformat_minor": 2
}
