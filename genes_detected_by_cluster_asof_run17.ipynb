{
 "cells": [
  {
   "cell_type": "markdown",
   "metadata": {},
   "source": [
    "# Introduction"
   ]
  },
  {
   "cell_type": "markdown",
   "metadata": {},
   "source": [
    "Brian & barbara wanted a boxplot of genes detected (>= 1.0 FPKM) for the 920 cells in the muscle development paper\n",
    "\n",
    "Box plot (see seaborn) y axis is number of genes > 1 fpkm.\n",
    "can use protein coding. should include that in axis."
   ]
  },
  {
   "cell_type": "code",
   "execution_count": 1,
   "metadata": {},
   "outputs": [],
   "source": [
    "import pandas\n",
    "import sys\n",
    "import os\n",
    "import seaborn\n",
    "from matplotlib import pyplot"
   ]
  },
  {
   "cell_type": "code",
   "execution_count": null,
   "metadata": {},
   "outputs": [],
   "source": []
  },
  {
   "cell_type": "code",
   "execution_count": 2,
   "metadata": {},
   "outputs": [],
   "source": [
    "LONG_RNA_SEQ_DIR = os.path.expanduser('~diane/proj/long-rna-seq-condor')\n",
    "if LONG_RNA_SEQ_DIR not in sys.path:\n",
    "    sys.path.append(LONG_RNA_SEQ_DIR)"
   ]
  },
  {
   "cell_type": "code",
   "execution_count": 3,
   "metadata": {},
   "outputs": [],
   "source": [
    "from woldrnaseq.models import load_gtf_cache\n",
    "from woldrnaseq.gtfcache import protein_coding_gene_ids"
   ]
  },
  {
   "cell_type": "code",
   "execution_count": 4,
   "metadata": {},
   "outputs": [],
   "source": [
    "PANDASODF = os.path.expanduser('~diane/src/pandasodf')\n",
    "if PANDASODF not in sys.path:\n",
    "    sys.path.append(PANDASODF)\n",
    "from pandasodf import ODFReader"
   ]
  },
  {
   "cell_type": "code",
   "execution_count": 5,
   "metadata": {},
   "outputs": [],
   "source": [
    "from find_bigwigs import read_peng_20180710_cluster_memberships"
   ]
  },
  {
   "cell_type": "code",
   "execution_count": 6,
   "metadata": {},
   "outputs": [],
   "source": [
    "%matplotlib inline"
   ]
  },
  {
   "cell_type": "code",
   "execution_count": 7,
   "metadata": {},
   "outputs": [],
   "source": [
    "annotation = load_gtf_cache(os.path.expanduser('~diane/proj/genome/mm10-M4-male/mm10-M4-male.h5'))\n",
    "protein_coding = protein_coding_gene_ids(annotation)"
   ]
  },
  {
   "cell_type": "code",
   "execution_count": 8,
   "metadata": {},
   "outputs": [],
   "source": [
    "genes_asof17 = pandas.read_csv('C1_mouse_combined_asof_run17.tsv',\n",
    "                               dtype={0: str},\n",
    "                               index_col=0,\n",
    "                               sep='\\t')"
   ]
  },
  {
   "cell_type": "code",
   "execution_count": 9,
   "metadata": {},
   "outputs": [
    {
     "data": {
      "text/plain": [
       "(920, 2)"
      ]
     },
     "execution_count": 9,
     "metadata": {},
     "output_type": "execute_result"
    }
   ],
   "source": [
    "book = ODFReader('C1_single_cells_library_number_cell_type_annotation_Jan13_2019.ods')\n",
    "clusters = book.parse('Sheet1')\n",
    "clusters = clusters[['cell_ID', 'cell type cluster 920']]\n",
    "clusters.shape"
   ]
  },
  {
   "cell_type": "code",
   "execution_count": 10,
   "metadata": {},
   "outputs": [
    {
     "data": {
      "text/html": [
       "<div>\n",
       "<style scoped>\n",
       "    .dataframe tbody tr th:only-of-type {\n",
       "        vertical-align: middle;\n",
       "    }\n",
       "\n",
       "    .dataframe tbody tr th {\n",
       "        vertical-align: top;\n",
       "    }\n",
       "\n",
       "    .dataframe thead th {\n",
       "        text-align: right;\n",
       "    }\n",
       "</style>\n",
       "<table border=\"1\" class=\"dataframe\">\n",
       "  <thead>\n",
       "    <tr style=\"text-align: right;\">\n",
       "      <th></th>\n",
       "      <th>cell_ID</th>\n",
       "      <th>cell type cluster 920</th>\n",
       "    </tr>\n",
       "  </thead>\n",
       "  <tbody>\n",
       "    <tr>\n",
       "      <th>0</th>\n",
       "      <td>18317_G10</td>\n",
       "      <td>DarkRed</td>\n",
       "    </tr>\n",
       "    <tr>\n",
       "      <th>1</th>\n",
       "      <td>20040_B1</td>\n",
       "      <td>DarkRed</td>\n",
       "    </tr>\n",
       "    <tr>\n",
       "      <th>2</th>\n",
       "      <td>20044_A10</td>\n",
       "      <td>DarkRed</td>\n",
       "    </tr>\n",
       "    <tr>\n",
       "      <th>3</th>\n",
       "      <td>20042_D4</td>\n",
       "      <td>DarkRed</td>\n",
       "    </tr>\n",
       "    <tr>\n",
       "      <th>4</th>\n",
       "      <td>18255_E8</td>\n",
       "      <td>DarkRed</td>\n",
       "    </tr>\n",
       "  </tbody>\n",
       "</table>\n",
       "</div>"
      ],
      "text/plain": [
       "     cell_ID cell type cluster 920\n",
       "0  18317_G10               DarkRed\n",
       "1   20040_B1               DarkRed\n",
       "2  20044_A10               DarkRed\n",
       "3   20042_D4               DarkRed\n",
       "4   18255_E8               DarkRed"
      ]
     },
     "execution_count": 10,
     "metadata": {},
     "output_type": "execute_result"
    }
   ],
   "source": [
    "clusters.head()"
   ]
  },
  {
   "cell_type": "markdown",
   "metadata": {},
   "source": [
    "Lets make sure that all the cells in the C1_single_cells_library_number_type_annotation_Jan13_2019 are in the full quantification data table"
   ]
  },
  {
   "cell_type": "code",
   "execution_count": 11,
   "metadata": {},
   "outputs": [
    {
     "data": {
      "text/plain": [
       "920"
      ]
     },
     "execution_count": 11,
     "metadata": {},
     "output_type": "execute_result"
    }
   ],
   "source": [
    "len(set(clusters.cell_ID).intersection(genes_asof17.columns))"
   ]
  },
  {
   "cell_type": "code",
   "execution_count": 12,
   "metadata": {},
   "outputs": [
    {
     "data": {
      "text/plain": [
       "(22032, 920)"
      ]
     },
     "execution_count": 12,
     "metadata": {},
     "output_type": "execute_result"
    }
   ],
   "source": [
    "protein_genes = genes_asof17.loc[protein_coding][clusters.cell_ID]\n",
    "protein_genes.shape"
   ]
  },
  {
   "cell_type": "code",
   "execution_count": 13,
   "metadata": {},
   "outputs": [],
   "source": [
    "order = ['DarkRed', 'red', 'green', 'black', 'grey', 'cyan', 'orange', 'yellow', \n",
    "         'purple', 'blue', 'YellowGreen', 'magenta']\n",
    "\n",
    "#cluster_order = ['Muscle 3', 'Muscle 2', 'Muscle 1', 'Mesenchyme2 + Unknown', 'Mesenchyme', 'Chondrocyte',  \n",
    "#                 'EMP', 'Macrophage', 'Endothelial', 'Perichondrium', 'Epithelial', 'Neural Crest']"
   ]
  },
  {
   "cell_type": "code",
   "execution_count": 14,
   "metadata": {},
   "outputs": [
    {
     "data": {
      "text/plain": [
       "(22032, 920)"
      ]
     },
     "execution_count": 14,
     "metadata": {},
     "output_type": "execute_result"
    }
   ],
   "source": [
    "expressed = protein_genes[protein_genes >= 1]\n",
    "expressed.shape"
   ]
  },
  {
   "cell_type": "code",
   "execution_count": 15,
   "metadata": {},
   "outputs": [],
   "source": [
    "def color_to_cluster_name():\n",
    "    peng = {}\n",
    "    for row in read_peng_20180710_cluster_memberships():\n",
    "        cluster = row['cluster_name']\n",
    "        peng[row['value']] = cluster\n",
    "    return peng\n",
    "\n",
    "def cluster_name_to_color():\n",
    "    peng = {}\n",
    "    for row in read_peng_20180710_cluster_memberships():\n",
    "        cluster = row['cluster_name']\n",
    "        peng[cluster] = row['value']\n",
    "    return peng\n",
    "\n",
    "def build_multi_index(clusters, protein_genes):\n",
    "    peng_color_names = color_to_cluster_name()\n",
    "    cells = []\n",
    "    for cell_id in protein_genes.columns:\n",
    "        row_index = clusters[clusters['cell_ID'] == cell_id].first_valid_index()\n",
    "        color = clusters.loc[row_index]['cell type cluster 920']\n",
    "        cluster_name = peng_color_names[color]\n",
    "        cells.append((cluster_name, cell_id))\n",
    "    index = pandas.MultiIndex.from_tuples(cells)\n",
    "    return index\n"
   ]
  },
  {
   "cell_type": "code",
   "execution_count": 16,
   "metadata": {},
   "outputs": [],
   "source": [
    "cluster_columns = build_multi_index(clusters, protein_genes)\n",
    "expressed.columns = cluster_columns"
   ]
  },
  {
   "cell_type": "code",
   "execution_count": 17,
   "metadata": {},
   "outputs": [],
   "source": [
    "def build_color_palatte(order):\n",
    "    cluster_colors = pandas.read_csv('violin-paper/peng-violin-plot-colors.csv')\n",
    "    peng_cluster_colors = cluster_name_to_color()\n",
    "    flat_colors = []\n",
    "    for cluster_name in order:\n",
    "        color = peng_cluster_colors[cluster_name]\n",
    "        row_index = cluster_colors[cluster_colors['cell type'] == cluster_name].first_valid_index()\n",
    "        flat_colors.append(cluster_colors.iloc[row_index]['hex'])\n",
    "    return flat_colors"
   ]
  },
  {
   "cell_type": "code",
   "execution_count": 18,
   "metadata": {},
   "outputs": [
    {
     "data": {
      "image/png": "[encoded data removed]",
      "text/plain": [
       "<Figure size 576x432 with 1 Axes>"
      ]
     },
     "metadata": {
      "needs_background": "light"
     },
     "output_type": "display_data"
    }
   ],
   "source": [
    "def plot_boxplot(expressed):\n",
    "    font_size = 12.0\n",
    "    order = expressed.columns.get_level_values(0).to_series().unique()\n",
    "    flat_colors = build_color_palatte(order)\n",
    "    flat_expressed = expressed.count().reset_index()\n",
    "    flat_expressed.columns=['cluster', 'cell_ID', 'count']\n",
    "    \n",
    "    f = pyplot.figure(figsize=(8,6))\n",
    "    ax = f.add_subplot(1,1,1)\n",
    "    _ = seaborn.boxplot(x='cluster', y='count', palette=flat_colors, data=flat_expressed, ax=ax)\n",
    "    _ = ax.set_ylabel('Count of genes $\\geq$ 1 FPKM per cell', size=font_size)\n",
    "    _ = ax.set_xlabel('')\n",
    "    \n",
    "    labels = ax.get_yticklabels()\n",
    "    for l in labels:\n",
    "        l.set_fontsize(font_size)\n",
    "    \n",
    "    labels = ax.get_xticklabels()\n",
    "    for l in labels:\n",
    "        l.set_text(l.get_text().replace('+', '&\\n'))\n",
    "        l.set_fontsize(font_size)\n",
    "    _ = ax.set_xticklabels(labels, rotation=90, ha='center')\n",
    "    _ = ax.set_ylim(0, 9000)\n",
    "    return f, ax\n",
    "f, ax = plot_boxplot(expressed)"
   ]
  },
  {
   "cell_type": "code",
   "execution_count": 19,
   "metadata": {},
   "outputs": [
    {
     "data": {
      "text/plain": [
       "12.0"
      ]
     },
     "execution_count": 19,
     "metadata": {},
     "output_type": "execute_result"
    }
   ],
   "source": [
    "ax.get_xticklabels()[0].get_fontsize()"
   ]
  },
  {
   "cell_type": "code",
   "execution_count": 20,
   "metadata": {},
   "outputs": [],
   "source": [
    "#f.savefig('count_of_genes_gt_1_fpkm_920cells.png')"
   ]
  },
  {
   "cell_type": "code",
   "execution_count": 21,
   "metadata": {},
   "outputs": [],
   "source": [
    "cluster_order = ['Muscle 3', 'Muscle 2', 'Muscle 1', 'Mesenchyme2 + Unknown', 'Mesenchyme1',\n",
    "                 'Chondrocyte', 'Perichondrium', \n",
    "                 'EMP', 'Macrophage', 'Endothelial', 'Epithelial', 'Neural Crest']"
   ]
  },
  {
   "cell_type": "code",
   "execution_count": 22,
   "metadata": {},
   "outputs": [
    {
     "data": {
      "image/png": "[encoded data removed]",
      "text/plain": [
       "<Figure size 576x432 with 1 Axes>"
      ]
     },
     "metadata": {
      "needs_background": "light"
     },
     "output_type": "display_data"
    }
   ],
   "source": [
    "f2 = plot_boxplot(expressed[cluster_order])"
   ]
  },
  {
   "cell_type": "code",
   "execution_count": 23,
   "metadata": {},
   "outputs": [],
   "source": [
    "c = expressed.columns.get_level_values(0)"
   ]
  },
  {
   "cell_type": "code",
   "execution_count": 24,
   "metadata": {},
   "outputs": [
    {
     "data": {
      "text/plain": [
       "array(['Muscle 3', 'Muscle 2', 'Muscle 1', 'Mesenchyme2 + Unknown',\n",
       "       'Mesenchyme1', 'Chondrocyte', 'EMP', 'Macrophage', 'Endothelial',\n",
       "       'Perichondrium', 'Epithelial', 'Neural Crest'], dtype=object)"
      ]
     },
     "execution_count": 24,
     "metadata": {},
     "output_type": "execute_result"
    }
   ],
   "source": [
    "c.to_series().unique()"
   ]
  },
  {
   "cell_type": "code",
   "execution_count": null,
   "metadata": {},
   "outputs": [],
   "source": []
  }
 ],
 "metadata": {
  "kernelspec": {
   "display_name": "Python 3",
   "language": "python",
   "name": "python3"
  },
  "language_info": {
   "codemirror_mode": {
    "name": "ipython",
    "version": 3
   },
   "file_extension": ".py",
   "mimetype": "text/x-python",
   "name": "python",
   "nbconvert_exporter": "python",
   "pygments_lexer": "ipython3",
   "version": "3.7.2+"
  }
 },
 "nbformat": 4,
 "nbformat_minor": 2
}
