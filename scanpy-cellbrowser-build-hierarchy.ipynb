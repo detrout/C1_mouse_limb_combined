{
 "cells": [
  {
   "cell_type": "code",
   "execution_count": 6,
   "metadata": {},
   "outputs": [],
   "source": [
    "import os"
   ]
  },
  {
   "cell_type": "code",
   "execution_count": 7,
   "metadata": {},
   "outputs": [
    {
     "name": "stdout",
     "output_type": "stream",
     "text": [
      "/woldlab/loxcyc/home/diane/proj/C1_mouse_limb_combined/cellbrowser\n"
     ]
    }
   ],
   "source": [
    "cd ~/proj/C1_mouse_limb_combined/cellbrowser"
   ]
  },
  {
   "cell_type": "code",
   "execution_count": 8,
   "metadata": {},
   "outputs": [
    {
     "name": "stdout",
     "output_type": "stream",
     "text": [
      "Usage: cbBuild [options] -i cellbrowser.conf -o outputDir - add a dataset to the single cell viewer directory\r\n",
      "\r\n",
      "    If you have previously built into the same output directory with the same dataset and the\r\n",
      "    expression matrix has not changed its filesize, this will be detected and the expression\r\n",
      "    matrix will not be copied again. This means that an update of a few meta data attributes\r\n",
      "    is quite quick.\r\n",
      "\r\n",
      "    \r\n",
      "\r\n",
      "Options:\r\n",
      "  -h, --help            show this help message and exit\r\n",
      "  --init                copy sample cellbrowser.conf and desc.conf to current\r\n",
      "                        directory\r\n",
      "  -d, --debug           show debug messages\r\n",
      "  -i INCONF, --inConf=INCONF\r\n",
      "                        a cellbrowser.conf file that specifies labels and all\r\n",
      "                        input files, default is ./cellbrowser.conf, can be\r\n",
      "                        specified multiple times\r\n",
      "  -o OUTDIR, --outDir=OUTDIR\r\n",
      "                        output directory, default can be set through the env.\r\n",
      "                        variable CBOUT or ~/.cellbrowser.conf, current value:\r\n",
      "                        none\r\n",
      "  -p PORT, --port=PORT  if build is successful, start an http server on this\r\n",
      "                        port and serve the result via http://localhost:port\r\n",
      "  -r, --recursive       run in all subdirectories of the current directory.\r\n",
      "                        Useful when rebuilding a full hierarchy.\r\n",
      "  --redo=REDO           do not use cached old data. Can be: 'meta' or 'matrix'\r\n",
      "                        (matrix includes meta).\r\n"
     ]
    }
   ],
   "source": [
    "!cbBuild --help"
   ]
  },
  {
   "cell_type": "code",
   "execution_count": 9,
   "metadata": {},
   "outputs": [
    {
     "name": "stdout",
     "output_type": "stream",
     "text": [
      "dataRoot=\"/woldlab/loxcyc/home/diane/proj/C1_mouse_limb_combined/cellbrowser\""
     ]
    }
   ],
   "source": [
    "cat ~/.cellbrowser.conf"
   ]
  },
  {
   "cell_type": "code",
   "execution_count": 11,
   "metadata": {},
   "outputs": [
    {
     "name": "stdout",
     "output_type": "stream",
     "text": [
      "INFO:root:Recursive mode: processing 10x/cellbrowser.conf\n",
      "INFO:root:using dataset hierarchies: 'name' in 10x/cellbrowser.conf is ignored\n",
      "INFO:root:Determining if /woldlab/loxcyc/home/diane/public_html/cellbrowser/10x/exprMatrix.tsv.gz needs to be created\n",
      "INFO:root:Reading headers of file /woldlab/loxcyc/home/diane/public_html/cellbrowser/10x/exprMatrix.tsv.gz\n",
      "INFO:root:current input matrix looks identical to previously processed matrix, same file size, same sample names\n",
      "INFO:root:/woldlab/loxcyc/home/diane/public_html/cellbrowser/10x/meta.tsv has the same md5 as in /woldlab/loxcyc/home/diane/public_html/cellbrowser/10x/dataset.json, no need to rebuild meta data\n",
      "INFO:root:Reading sample names from /woldlab/loxcyc/home/diane/public_html/cellbrowser/10x/meta.tsv\n",
      "INFO:root:Checking and reordering meta data to /woldlab/loxcyc/home/diane/public_html/cellbrowser/10x/meta.tsv\n",
      "INFO:root:Reading sample names from /woldlab/loxcyc/home/diane/proj/C1_mouse_limb_combined/cellbrowser/10x/meta.tsv\n",
      "INFO:root:Reading headers of file /woldlab/loxcyc/home/diane/proj/C1_mouse_limb_combined/cellbrowser/10x/exprMatrix.tsv.gz\n",
      "INFO:root:Data contains 90637 samples/cells\n",
      "INFO:root:Converting to numbers and compressing meta data fields\n",
      "INFO:root:Field index: type uniqueString, 90637 different values\n",
      "INFO:root:Field celltype: type enum, 25 different values\n",
      "INFO:root:Field batch: type int, 9 different values\n",
      "INFO:root:Field doubletscores: type float, 979 different values\n",
      "INFO:root:Field nCountRNA: type float, 22115 different values\n",
      "INFO:root:Field nFeaturesRNA: type int, 5509 different values\n",
      "INFO:root:Field PercentMitochond: type float, 80050 different values\n",
      "INFO:root:Field stage: type float, 7 different values\n",
      "INFO:root:Field UMICount: type float, 22079 different values\n",
      "INFO:root:Field doubletcorrectedp: type float, 185 different values\n",
      "INFO:root:Field doubletcorrectedplessthan01: type int, 2 different values\n",
      "INFO:root:Indexing meta file /woldlab/loxcyc/home/diane/public_html/cellbrowser/10x/meta.tsv to /woldlab/loxcyc/home/diane/public_html/cellbrowser/10x/meta.index\n",
      "INFO:root:Kept 90637 cells present in both meta data file and expression matrix\n",
      "INFO:root:Matrix and meta sample names have not changed, not indexing matrix again\n",
      "INFO:root:Parsing column cell_type from /woldlab/loxcyc/home/diane/public_html/cellbrowser/10x/meta.tsv\n",
      "INFO:root:Parsing coordinates for t-SNE\n",
      "INFO:root:Writing coordinates for t-SNE\n",
      "INFO:root:Parsing coordinates for UMAP\n",
      "INFO:root:Writing coordinates for UMAP\n",
      "INFO:root:Not copying 10x/200120_10x.h5ad again, already in output directory\n",
      "INFO:root:Wrote /woldlab/loxcyc/home/diane/public_html/cellbrowser/10x/desc.json\n",
      "INFO:root:Auto-detecting number type of /woldlab/loxcyc/home/diane/proj/C1_mouse_limb_combined/cellbrowser/10x/exprMatrix.tsv.gz\n",
      "INFO:root:Auto-detect: Numbers in matrix are of type 'float'\n",
      "INFO:root:Auto-detected gene IDs type: symbols\n",
      "INFO:root:Reading /woldlab/loxcyc/home/diane/proj/C1_mouse_limb_combined/cellbrowser/10x/markers.tsv: assuming marker file format (cluster, gene, score) + any other fields\n",
      "INFO:root:Wrote 25 .tsv.gz files into directory /woldlab/loxcyc/home/diane/public_html/cellbrowser/10x/markers/markers_0\n",
      "INFO:root:Read 25 quick genes from /woldlab/loxcyc/home/diane/proj/C1_mouse_limb_combined/cellbrowser/10x/quickGenes.tsv, kept 25\n",
      "INFO:root:/woldlab/loxcyc/home/diane/proj/C1_mouse_limb_combined/cellbrowser/cellbrowser.conf: 'name' entry in cellbrowser.conf is ignored\n",
      "INFO:root:Wrote /woldlab/loxcyc/home/diane/public_html/cellbrowser/10x/cellbrowser.json.bak\n",
      "INFO:root:Wrote /woldlab/loxcyc/home/diane/public_html/cellbrowser/10x/dataset.json\n",
      "INFO:root:Wrote main config /woldlab/loxcyc/home/diane/public_html/cellbrowser/10x/dataset.json\n",
      "INFO:root:/woldlab/loxcyc/home/diane/proj/C1_mouse_limb_combined/cellbrowser/cellbrowser.conf: 'name' entry in cellbrowser.conf is ignored\n",
      "INFO:root:Found 2 datasets in subdirectories of directory /woldlab/loxcyc/home/diane/public_html/cellbrowser/.\n",
      "INFO:root:Wrote /woldlab/loxcyc/home/diane/public_html/cellbrowser/./desc.json\n",
      "INFO:root:Wrote /woldlab/loxcyc/home/diane/public_html/cellbrowser/./dataset.json\n",
      "INFO:root:Recursive mode: processing C1_200325/cellbrowser.conf\n",
      "INFO:root:using dataset hierarchies: 'name' in C1_200325/cellbrowser.conf is ignored\n",
      "INFO:root:Determining if /woldlab/loxcyc/home/diane/public_html/cellbrowser/C1_200325/exprMatrix.tsv.gz needs to be created\n",
      "INFO:root:Reading headers of file /woldlab/loxcyc/home/diane/public_html/cellbrowser/C1_200325/exprMatrix.tsv.gz\n",
      "INFO:root:current input matrix looks identical to previously processed matrix, same file size, same sample names\n",
      "INFO:root:/woldlab/loxcyc/home/diane/public_html/cellbrowser/C1_200325/meta.tsv has the same md5 as in /woldlab/loxcyc/home/diane/public_html/cellbrowser/C1_200325/dataset.json, no need to rebuild meta data\n",
      "INFO:root:Reading sample names from /woldlab/loxcyc/home/diane/public_html/cellbrowser/C1_200325/meta.tsv\n",
      "INFO:root:Checking and reordering meta data to /woldlab/loxcyc/home/diane/public_html/cellbrowser/C1_200325/meta.tsv\n",
      "INFO:root:Reading sample names from /woldlab/loxcyc/home/diane/proj/C1_mouse_limb_combined/cellbrowser/C1_200325/meta.tsv\n",
      "INFO:root:Reading headers of file /woldlab/loxcyc/home/diane/proj/C1_mouse_limb_combined/cellbrowser/C1_200325/exprMatrix.tsv.gz\n",
      "INFO:root:Data contains 920 samples/cells\n",
      "INFO:root:Converting to numbers and compressing meta data fields\n",
      "INFO:root:Field cellid: type uniqueString, 920 different values\n",
      "INFO:root:Field nCountRNA: type float, 920 different values\n",
      "INFO:root:Field nFeatureRNA: type int, 812 different values\n",
      "INFO:root:Field percentmt: type float, 920 different values\n",
      "INFO:root:Field stage: type float, 10 different values\n",
      "INFO:root:Field UMICount: type float, 920 different values\n",
      "INFO:root:Field librarybatch: type enum, 88 different values\n",
      "INFO:root:Field celltype: type enum, 11 different values\n",
      "INFO:root:Field C1runbatch: type enum, 16 different values\n",
      "INFO:root:Indexing meta file /woldlab/loxcyc/home/diane/public_html/cellbrowser/C1_200325/meta.tsv to /woldlab/loxcyc/home/diane/public_html/cellbrowser/C1_200325/meta.index\n",
      "INFO:root:Kept 920 cells present in both meta data file and expression matrix\n",
      "INFO:root:Matrix and meta sample names have not changed, not indexing matrix again\n",
      "INFO:root:Parsing column cell_type from /woldlab/loxcyc/home/diane/public_html/cellbrowser/C1_200325/meta.tsv\n",
      "INFO:root:Parsing coordinates for t-SNE\n",
      "INFO:root:Writing coordinates for t-SNE\n",
      "INFO:root:Parsing coordinates for UMAP\n",
      "INFO:root:Writing coordinates for UMAP\n",
      "INFO:root:Not copying C1_200325/200315_C1_categorical.h5ad again, already in output directory\n",
      "INFO:root:Wrote /woldlab/loxcyc/home/diane/public_html/cellbrowser/C1_200325/desc.json\n",
      "INFO:root:Auto-detecting number type of /woldlab/loxcyc/home/diane/proj/C1_mouse_limb_combined/cellbrowser/C1_200325/exprMatrix.tsv.gz\n",
      "INFO:root:Auto-detect: Numbers in matrix are of type 'float'\n",
      "INFO:root:Auto-detected gene IDs type: symbols\n",
      "INFO:root:Reading /woldlab/loxcyc/home/diane/proj/C1_mouse_limb_combined/cellbrowser/C1_200325/markers.tsv: assuming marker file format (cluster, gene, score) + any other fields\n",
      "INFO:root:Wrote 11 .tsv.gz files into directory /woldlab/loxcyc/home/diane/public_html/cellbrowser/C1_200325/markers/markers_0\n",
      "INFO:root:Read 22 quick genes from /woldlab/loxcyc/home/diane/proj/C1_mouse_limb_combined/cellbrowser/C1_200325/quickGenes.tsv, kept 22\n",
      "INFO:root:Wrote /woldlab/loxcyc/home/diane/public_html/cellbrowser/C1_200325/cellbrowser.json.bak\n",
      "INFO:root:Wrote /woldlab/loxcyc/home/diane/public_html/cellbrowser/C1_200325/dataset.json\n",
      "INFO:root:Wrote main config /woldlab/loxcyc/home/diane/public_html/cellbrowser/C1_200325/dataset.json\n",
      "INFO:root:/woldlab/loxcyc/home/diane/proj/C1_mouse_limb_combined/cellbrowser/cellbrowser.conf: 'name' entry in cellbrowser.conf is ignored\n",
      "INFO:root:Found 2 datasets in subdirectories of directory /woldlab/loxcyc/home/diane/public_html/cellbrowser/.\n",
      "INFO:root:Wrote /woldlab/loxcyc/home/diane/public_html/cellbrowser/./desc.json\n",
      "INFO:root:Wrote /woldlab/loxcyc/home/diane/public_html/cellbrowser/./dataset.json\n"
     ]
    }
   ],
   "source": [
    "!cbBuild -r -o ~/public_html/cellbrowser"
   ]
  },
  {
   "cell_type": "code",
   "execution_count": null,
   "metadata": {},
   "outputs": [],
   "source": []
  }
 ],
 "metadata": {
  "kernelspec": {
   "display_name": "Python 3",
   "language": "python",
   "name": "python3"
  },
  "language_info": {
   "codemirror_mode": {
    "name": "ipython",
    "version": 3
   },
   "file_extension": ".py",
   "mimetype": "text/x-python",
   "name": "python",
   "nbconvert_exporter": "python",
   "pygments_lexer": "ipython3",
   "version": "3.8.2"
  }
 },
 "nbformat": 4,
 "nbformat_minor": 4
}
