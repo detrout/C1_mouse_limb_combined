{
 "cells": [
  {
   "cell_type": "markdown",
   "metadata": {},
   "source": [
    "# Introduction"
   ]
  },
  {
   "cell_type": "markdown",
   "metadata": {},
   "source": [
    "Create publication_set containing all of our 10x "
   ]
  },
  {
   "cell_type": "code",
   "execution_count": 1,
   "metadata": {},
   "outputs": [],
   "source": [
    "import pandas\n",
    "import sys\n",
    "import os\n",
    "import rdflib"
   ]
  },
  {
   "cell_type": "code",
   "execution_count": 2,
   "metadata": {},
   "outputs": [],
   "source": [
    "HTSW=os.path.expanduser('~diane/proj/htsworkflow')\n",
    "if HTSW not in sys.path:\n",
    "    sys.path.append(HTSW)\n",
    "from htsworkflow.submission import encoded"
   ]
  },
  {
   "cell_type": "code",
   "execution_count": 3,
   "metadata": {},
   "outputs": [],
   "source": [
    "server = encoded.ENCODED('www.encodeproject.org')\n",
    "#server = encoded.ENCODED('test.encodedcc.org')\n",
    "server.load_netrc()\n",
    "validator = encoded.DCCValidator(server)"
   ]
  },
  {
   "cell_type": "code",
   "execution_count": 4,
   "metadata": {},
   "outputs": [],
   "source": [
    "tenx_experiments = server.get_json('https://www.encodeproject.org/search/?type=Experiment&status=released&lab.title=Barbara+Wold%2C+Caltech&files.platform.term_name=Illumina+HiSeq+4000')"
   ]
  },
  {
   "cell_type": "code",
   "execution_count": 5,
   "metadata": {},
   "outputs": [],
   "source": [
    "files = []\n",
    "for experiment in [x['@id'] for x in tenx_experiments['@graph']]:\n",
    "    obj = server.get_json(experiment)\n",
    "    for f in obj['files']:\n",
    "        library = server.get_json(f['library'])\n",
    "        files.append((f['accession'], f['submitted_file_name'], library['aliases']))\n"
   ]
  },
  {
   "cell_type": "code",
   "execution_count": 6,
   "metadata": {},
   "outputs": [
    {
     "data": {
      "text/plain": [
       "[('ENCFF471WVX',\n",
       "  'FT-BB01671/FT-SA17505_FT-TS92809/FT-SA17505_S3_L006_R1_001.fastq.gz',\n",
       "  ['barbara-wold:10x-9']),\n",
       " ('ENCFF555EDW',\n",
       "  'FT-BB01671/FT-SA17505_FT-TS92809/FT-SA17505_S3_L006_R2_001.fastq.gz',\n",
       "  ['barbara-wold:10x-9']),\n",
       " ('ENCFF509PTC',\n",
       "  'FT-BB01675/FT-SA17521_FT-TS92825/FT-SA17521_S2_L002_R1_001.fastq.gz',\n",
       "  ['barbara-wold:10x-13']),\n",
       " ('ENCFF600MXF',\n",
       "  'FT-BB01675/FT-SA17521_FT-TS92825/FT-SA17521_S2_L002_R2_001.fastq.gz',\n",
       "  ['barbara-wold:10x-13']),\n",
       " ('ENCFF665DKW', 'wold10x_1_e13_5_mouse_limb_S3_L008_R2_001.fastq.gz', []),\n",
       " ('ENCFF093KXG', 'wold10x_1_e13_5_mouse_limb_S2_L008_R2_001.fastq.gz', []),\n",
       " ('ENCFF321GGP', 'wold10x_1_e13_5_mouse_limb_S3_L008_R1_001.fastq.gz', []),\n",
       " ('ENCFF817GKI', 'wold10x_1_e13_5_mouse_limb_S1_L008_R1_001.fastq.gz', []),\n",
       " ('ENCFF820VIA', 'wold10x_1_e13_5_mouse_limb_S1_L008_R2_001.fastq.gz', []),\n",
       " ('ENCFF947WRU', 'wold10x_1_e13_5_mouse_limb_S2_L008_R1_001.fastq.gz', []),\n",
       " ('ENCFF951GHL', 'wold10x_1_e13_5_mouse_limb_S4_L008_R1_001.fastq.gz', []),\n",
       " ('ENCFF665SYG', 'wold10x_1_e13_5_mouse_limb_S4_L008_R2_001.fastq.gz', []),\n",
       " ('ENCFF635ZQE',\n",
       "  'SE731_new/outs/fastq_path/Wold10x-3_S1_L001_R1_001.fastq.gz',\n",
       "  ['barbara-wold:10x-3']),\n",
       " ('ENCFF301CXO',\n",
       "  'SE731_new/outs/fastq_path/Wold10x-3_S1_L001_R2_001.fastq.gz',\n",
       "  ['barbara-wold:10x-3']),\n",
       " ('ENCFF662OYB',\n",
       "  'FT-BB01672/FT-SA17509_FT-TS92813/FT-SA17509_S4_L007_R1_001.fastq.gz',\n",
       "  ['barbara-wold:10x-10']),\n",
       " ('ENCFF739LBM',\n",
       "  'FT-BB01672/FT-SA17509_FT-TS92813/FT-SA17509_S4_L007_R2_001.fastq.gz',\n",
       "  ['barbara-wold:10x-10']),\n",
       " ('ENCFF491XKJ',\n",
       "  'FT-BB01673/FT-SA17513_FT-TS92817/FT-SA17513_S5_L008_R2_001.fastq.gz',\n",
       "  ['barbara-wold:10x-11']),\n",
       " ('ENCFF084ZHV',\n",
       "  'FT-BB01673/FT-SA17513_FT-TS92817/FT-SA17513_S5_L008_R1_001.fastq.gz',\n",
       "  ['barbara-wold:10x-11']),\n",
       " ('ENCFF294PZE',\n",
       "  'FT-BB01669/FT-SA17497_FT-TS92801/FT-SA17497_S1_L004_R1_001.fastq.gz',\n",
       "  ['barbara-wold:10x-7']),\n",
       " ('ENCFF111ISS',\n",
       "  'FT-BB01669/FT-SA17497_FT-TS92801/FT-SA17497_S1_L004_R2_001.fastq.gz',\n",
       "  ['barbara-wold:10x-7']),\n",
       " ('ENCFF067CXK',\n",
       "  'FT-BB01670/FT-SA17501_FT-TS92805/FT-SA17501_S2_L005_R1_001.fastq.gz',\n",
       "  ['barbara-wold:10x-8']),\n",
       " ('ENCFF137BBV',\n",
       "  'FT-BB01670/FT-SA17501_FT-TS92805/FT-SA17501_S2_L005_R2_001.fastq.gz',\n",
       "  ['barbara-wold:10x-8']),\n",
       " ('ENCFF151FBB',\n",
       "  'FT-BB01674/FT-SA17517_FT-TS92821/FT-SA17517_S1_L001_R1_001.fastq.gz',\n",
       "  ['barbara-wold:10x-12']),\n",
       " ('ENCFF233PFV',\n",
       "  'FT-BB01674/FT-SA17517_FT-TS92821/FT-SA17517_S1_L001_R2_001.fastq.gz',\n",
       "  ['barbara-wold:10x-12']),\n",
       " ('ENCFF190PWV',\n",
       "  'SE733/outs/fastq_path/Wold10x-5_S1_L003_R1_001.fastq.gz',\n",
       "  ['barbara-wold:10x-5']),\n",
       " ('ENCFF065KAC',\n",
       "  'SE733/outs/fastq_path/Wold10x-5_S1_L003_R2_001.fastq.gz',\n",
       "  ['barbara-wold:10x-5']),\n",
       " ('ENCFF608GWY',\n",
       "  'SE732_new/outs/fastq_path/Wold10x-4_S1_L002_R2_001.fastq.gz',\n",
       "  ['barbara-wold:10x-4']),\n",
       " ('ENCFF875QKS',\n",
       "  'SE732_new/outs/fastq_path/Wold10x-4_S1_L002_R1_001.fastq.gz',\n",
       "  ['barbara-wold:10x-4']),\n",
       " ('ENCFF818XJI',\n",
       "  'SE734/outs/fastq_path/Wold10x-6_S1_L004_R1_001.fastq.gz',\n",
       "  ['barbara-wold:10x-6']),\n",
       " ('ENCFF167JPD',\n",
       "  'SE734/outs/fastq_path/Wold10x-6_S1_L004_R2_001.fastq.gz',\n",
       "  ['barbara-wold:10x-6'])]"
      ]
     },
     "execution_count": 6,
     "metadata": {},
     "output_type": "execute_result"
    }
   ],
   "source": [
    "files"
   ]
  },
  {
   "cell_type": "code",
   "execution_count": 7,
   "metadata": {},
   "outputs": [],
   "source": [
    "award = '/awards/UM1HG009443/'\n",
    "lab = '/labs/barbara-wold/'"
   ]
  },
  {
   "cell_type": "code",
   "execution_count": 8,
   "metadata": {},
   "outputs": [],
   "source": [
    "payload = {\n",
    "    'award': award,\n",
    "    'lab': lab,\n",
    "    'description': \"10x single cell RNA-seq mouse forelimb embryonic developmental time course.\",\n",
    "    'related_files': [x[0] for x in files],\n",
    "    'references': ['/publications/e0d01543-9965-4edb-933c-778a40575cd9/'],\n",
    "}\n"
   ]
  },
  {
   "cell_type": "code",
   "execution_count": 9,
   "metadata": {},
   "outputs": [],
   "source": [
    "validator.validate(payload, 'PublicationData')"
   ]
  },
  {
   "cell_type": "code",
   "execution_count": 12,
   "metadata": {},
   "outputs": [
    {
     "name": "stdout",
     "output_type": "stream",
     "text": [
      "{'@graph': [{'files': ['/files/ENCFF471WVX/', '/files/ENCFF555EDW/', '/files/ENCFF509PTC/', '/files/ENCFF600MXF/', '/files/ENCFF665DKW/', '/files/ENCFF093KXG/', '/files/ENCFF321GGP/', '/files/ENCFF817GKI/', '/files/ENCFF820VIA/', '/files/ENCFF947WRU/', '/files/ENCFF951GHL/', '/files/ENCFF665SYG/', '/files/ENCFF635ZQE/', '/files/ENCFF301CXO/', '/files/ENCFF662OYB/', '/files/ENCFF739LBM/', '/files/ENCFF491XKJ/', '/files/ENCFF084ZHV/', '/files/ENCFF294PZE/', '/files/ENCFF111ISS/', '/files/ENCFF067CXK/', '/files/ENCFF137BBV/', '/files/ENCFF151FBB/', '/files/ENCFF233PFV/', '/files/ENCFF190PWV/', '/files/ENCFF065KAC/', '/files/ENCFF608GWY/', '/files/ENCFF875QKS/', '/files/ENCFF818XJI/', '/files/ENCFF167JPD/'], '@id': '/publication-data/ENCSR713GIS/', 'assembly': [], 'description': '10x single cell RNA-seq mouse forelimb embryonic developmental time course.', 'accession': 'ENCSR713GIS', 'documents': [], 'assay_term_name': ['single cell isolation followed by RNA-seq'], 'biosample_ontology': ['/biosample-types/tissue_UBERON_0002470/', '/biosample-types/tissue_UBERON_0002386/', '/biosample-types/tissue_UBERON_0002102/', '/biosample-types/single_cell_UBERON_0002102/', '/biosample-types/tissue_UBERON_0003822/'], 'internal_tags': [], 'assay_synonyms': ['single cell isolation followed by RNA-seq'], '@type': ['PublicationData', 'FileSet', 'Dataset', 'Item'], 'date_created': '2020-02-14T00:52:02.832211+00:00', 'schema_version': '15', 'status': 'in progress', 'assay_term_id': ['NTR:0003082'], 'references': ['/publications/e0d01543-9965-4edb-933c-778a40575cd9/'], 'alternate_accessions': [], 'dbxrefs': [], 'organism': ['/organisms/mouse/'], 'contributing_files': [], 'original_files': [], 'related_files': ['/files/ENCFF471WVX/', '/files/ENCFF555EDW/', '/files/ENCFF509PTC/', '/files/ENCFF600MXF/', '/files/ENCFF665DKW/', '/files/ENCFF093KXG/', '/files/ENCFF321GGP/', '/files/ENCFF817GKI/', '/files/ENCFF820VIA/', '/files/ENCFF947WRU/', '/files/ENCFF951GHL/', '/files/ENCFF665SYG/', '/files/ENCFF635ZQE/', '/files/ENCFF301CXO/', '/files/ENCFF662OYB/', '/files/ENCFF739LBM/', '/files/ENCFF491XKJ/', '/files/ENCFF084ZHV/', '/files/ENCFF294PZE/', '/files/ENCFF111ISS/', '/files/ENCFF067CXK/', '/files/ENCFF137BBV/', '/files/ENCFF151FBB/', '/files/ENCFF233PFV/', '/files/ENCFF190PWV/', '/files/ENCFF065KAC/', '/files/ENCFF608GWY/', '/files/ENCFF875QKS/', '/files/ENCFF818XJI/', '/files/ENCFF167JPD/'], 'award': '/awards/UM1HG009443/', 'lab': '/labs/barbara-wold/', 'submitted_by': '/users/bc5b62f7-ce28-4a1e-b6b3-81c9c5a86d7a/', 'revoked_files': [], 'aliases': [], 'uuid': '569688ed-1f8d-4c2a-a535-a73c34df3d09'}], '@type': ['result'], 'status': 'success'}\n"
     ]
    }
   ],
   "source": [
    "response = server.post_json('/publication-data/', payload)\n",
    "print(response)"
   ]
  },
  {
   "cell_type": "code",
   "execution_count": 13,
   "metadata": {},
   "outputs": [
    {
     "data": {
      "text/plain": [
       "'/publication-data/ENCSR713GIS/'"
      ]
     },
     "execution_count": 13,
     "metadata": {},
     "output_type": "execute_result"
    }
   ],
   "source": [
    "response['@graph'][0]['@id']"
   ]
  },
  {
   "cell_type": "code",
   "execution_count": null,
   "metadata": {},
   "outputs": [],
   "source": []
  }
 ],
 "metadata": {
  "kernelspec": {
   "display_name": "Python 3",
   "language": "python",
   "name": "python3"
  },
  "language_info": {
   "codemirror_mode": {
    "name": "ipython",
    "version": 3
   },
   "file_extension": ".py",
   "mimetype": "text/x-python",
   "name": "python",
   "nbconvert_exporter": "python",
   "pygments_lexer": "ipython3",
   "version": "3.7.4"
  }
 },
 "nbformat": 4,
 "nbformat_minor": 2
}
