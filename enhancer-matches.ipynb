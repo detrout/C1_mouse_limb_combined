{
 "cells": [
  {
   "cell_type": "markdown",
   "metadata": {},
   "source": [
    "# Introduction"
   ]
  },
  {
   "cell_type": "markdown",
   "metadata": {},
   "source": [
    "Peng was having trouble trying to match up candidate regulatory elements.\n",
    "\n",
    "This turned out to be very difficult for me due to UCSC liftover's failure to retain bedfile information. \n",
    "I'm attaching the input files here and cc'ing Diane in case she knows how to get intersection lists with \"metadata\" there.\n",
    "\n",
    "Files include:\n",
    "\n",
    "1. our lists of candidate enhancers\n",
    "    1. 0.4 threshold using mm10 coordinates:    limbcCRE0.4.bed\n",
    "    2. 0.2 threshold using mm10 coordinates:    limbcCRE0.2.bed\n",
    "2. ENCODE vista lists of selected enhancers\n",
    "    1.  mouse elements using mm9 coordinates:   VISTA_2974_elements_.........Mouse_..... \n",
    "    2.  Human elements using hg19 coordinates:  VISTA_2964_elements_.........Human_....\n",
    "\n",
    "So altogether five files.\n",
    "This might work:\n",
    "Before doing intersect, you need to liftover the coordinates to mm10. i.e. Mouse mm9 -> Mouse mm10 for file 2.1 and Human hg19 -> Mouse mm10 for file 2.2\n",
    "\n",
    "After lifting over, join the lifted file with the original file to add back the \"metadata\" for each element\n",
    "\n",
    "Then use sort the bed files and use intersectBed to get the intersected elements.\n",
    "\n",
    "Then based on the metadata for each element you can grep out the negtive, positive, others etc or crosstabulate in anyway you like.\n",
    "\n",
    "Please let me know whether this makes sense Diane?\n"
   ]
  },
  {
   "cell_type": "code",
   "execution_count": 1,
   "metadata": {},
   "outputs": [
    {
     "name": "stdout",
     "output_type": "stream",
     "text": [
      "Diane_VISTA_liftover_to_mm10_July18_2019.tsv\r\n",
      "ExtTable9.txt.bed\r\n",
      "limbcCRE0.2.bed\r\n",
      "limbcCRE0.4.bed\r\n",
      "VISTA_2974_elements_July3_2019.Human_hg19.bed\r\n",
      "VISTA_2974_elements_July3_2019.Mouse_mm9.bed\r\n"
     ]
    }
   ],
   "source": [
    "ls enhancer_matches/"
   ]
  },
  {
   "cell_type": "code",
   "execution_count": 2,
   "metadata": {},
   "outputs": [],
   "source": [
    "import pandas"
   ]
  },
  {
   "cell_type": "code",
   "execution_count": 10,
   "metadata": {},
   "outputs": [
    {
     "name": "stdout",
     "output_type": "stream",
     "text": [
      "(151, 4)\n"
     ]
    },
    {
     "data": {
      "text/html": [
       "<div>\n",
       "<style scoped>\n",
       "    .dataframe tbody tr th:only-of-type {\n",
       "        vertical-align: middle;\n",
       "    }\n",
       "\n",
       "    .dataframe tbody tr th {\n",
       "        vertical-align: top;\n",
       "    }\n",
       "\n",
       "    .dataframe thead th {\n",
       "        text-align: right;\n",
       "    }\n",
       "</style>\n",
       "<table border=\"1\" class=\"dataframe\">\n",
       "  <thead>\n",
       "    <tr style=\"text-align: right;\">\n",
       "      <th></th>\n",
       "      <th>chromsome</th>\n",
       "      <th>start</th>\n",
       "      <th>end</th>\n",
       "      <th>name</th>\n",
       "    </tr>\n",
       "  </thead>\n",
       "  <tbody>\n",
       "    <tr>\n",
       "      <th>0</th>\n",
       "      <td>chr2</td>\n",
       "      <td>25124845</td>\n",
       "      <td>25128090</td>\n",
       "      <td>chr2_25124845_25128090_mm1454_Ext9amidbrain_mi...</td>\n",
       "    </tr>\n",
       "    <tr>\n",
       "      <th>1</th>\n",
       "      <td>chr12</td>\n",
       "      <td>109946504</td>\n",
       "      <td>109950294</td>\n",
       "      <td>chr12_109946504_109950294_mm1456_Ext9amidbrain...</td>\n",
       "    </tr>\n",
       "    <tr>\n",
       "      <th>2</th>\n",
       "      <td>chr18</td>\n",
       "      <td>38378941</td>\n",
       "      <td>38381638</td>\n",
       "      <td>chr18_38378941_38381638_mm1457_Ext9amidbrain_o...</td>\n",
       "    </tr>\n",
       "    <tr>\n",
       "      <th>3</th>\n",
       "      <td>chr8</td>\n",
       "      <td>93916782</td>\n",
       "      <td>93919741</td>\n",
       "      <td>chr8_93916782_93919741_mm1458_Ext9amidbrain_mi...</td>\n",
       "    </tr>\n",
       "    <tr>\n",
       "      <th>4</th>\n",
       "      <td>chr3</td>\n",
       "      <td>65973873</td>\n",
       "      <td>65976364</td>\n",
       "      <td>chr3_65973873_65976364_mm1459_Ext9amidbrain_ne...</td>\n",
       "    </tr>\n",
       "  </tbody>\n",
       "</table>\n",
       "</div>"
      ],
      "text/plain": [
       "  chromsome      start        end  \\\n",
       "0      chr2   25124845   25128090   \n",
       "1     chr12  109946504  109950294   \n",
       "2     chr18   38378941   38381638   \n",
       "3      chr8   93916782   93919741   \n",
       "4      chr3   65973873   65976364   \n",
       "\n",
       "                                                name  \n",
       "0  chr2_25124845_25128090_mm1454_Ext9amidbrain_mi...  \n",
       "1  chr12_109946504_109950294_mm1456_Ext9amidbrain...  \n",
       "2  chr18_38378941_38381638_mm1457_Ext9amidbrain_o...  \n",
       "3  chr8_93916782_93919741_mm1458_Ext9amidbrain_mi...  \n",
       "4  chr3_65973873_65976364_mm1459_Ext9amidbrain_ne...  "
      ]
     },
     "execution_count": 10,
     "metadata": {},
     "output_type": "execute_result"
    }
   ],
   "source": [
    "ext_table = pandas.read_csv(\n",
    "    'enhancer_matches/ExtTable9.txt.bed', \n",
    "    names=['chromsome', 'start', 'end', 'name'],\n",
    "    sep='\\t', \n",
    "    header=None)\n",
    "print(ext_table.shape)\n",
    "ext_table.head()"
   ]
  },
  {
   "cell_type": "code",
   "execution_count": 9,
   "metadata": {},
   "outputs": [
    {
     "name": "stdout",
     "output_type": "stream",
     "text": [
      "(5, 4)\n"
     ]
    },
    {
     "data": {
      "text/html": [
       "<div>\n",
       "<style scoped>\n",
       "    .dataframe tbody tr th:only-of-type {\n",
       "        vertical-align: middle;\n",
       "    }\n",
       "\n",
       "    .dataframe tbody tr th {\n",
       "        vertical-align: top;\n",
       "    }\n",
       "\n",
       "    .dataframe thead th {\n",
       "        text-align: right;\n",
       "    }\n",
       "</style>\n",
       "<table border=\"1\" class=\"dataframe\">\n",
       "  <thead>\n",
       "    <tr style=\"text-align: right;\">\n",
       "      <th></th>\n",
       "      <th>chromsome</th>\n",
       "      <th>start</th>\n",
       "      <th>end</th>\n",
       "      <th>name</th>\n",
       "    </tr>\n",
       "  </thead>\n",
       "  <tbody>\n",
       "    <tr>\n",
       "      <th>0</th>\n",
       "      <td>chr16</td>\n",
       "      <td>86430087</td>\n",
       "      <td>86430726</td>\n",
       "      <td>_Human_chr16:86430087-86430726___element_1___p...</td>\n",
       "    </tr>\n",
       "    <tr>\n",
       "      <th>1</th>\n",
       "      <td>chr16</td>\n",
       "      <td>85620095</td>\n",
       "      <td>85621736</td>\n",
       "      <td>_Human_chr16:85620095-85621736___element_2___n...</td>\n",
       "    </tr>\n",
       "    <tr>\n",
       "      <th>2</th>\n",
       "      <td>chr16</td>\n",
       "      <td>80423343</td>\n",
       "      <td>80424652</td>\n",
       "      <td>_Human_chr16:80423343-80424652___element_3___n...</td>\n",
       "    </tr>\n",
       "    <tr>\n",
       "      <th>3</th>\n",
       "      <td>chr16</td>\n",
       "      <td>80372593</td>\n",
       "      <td>80373755</td>\n",
       "      <td>_Human_chr16:80372593-80373755___element_4___p...</td>\n",
       "    </tr>\n",
       "    <tr>\n",
       "      <th>4</th>\n",
       "      <td>chr16</td>\n",
       "      <td>79969907</td>\n",
       "      <td>79971297</td>\n",
       "      <td>_Human_chr16:79969907-79971297___element_5___n...</td>\n",
       "    </tr>\n",
       "  </tbody>\n",
       "</table>\n",
       "</div>"
      ],
      "text/plain": [
       "  chromsome     start       end  \\\n",
       "0     chr16  86430087  86430726   \n",
       "1     chr16  85620095  85621736   \n",
       "2     chr16  80423343  80424652   \n",
       "3     chr16  80372593  80373755   \n",
       "4     chr16  79969907  79971297   \n",
       "\n",
       "                                                name  \n",
       "0  _Human_chr16:86430087-86430726___element_1___p...  \n",
       "1  _Human_chr16:85620095-85621736___element_2___n...  \n",
       "2  _Human_chr16:80423343-80424652___element_3___n...  \n",
       "3  _Human_chr16:80372593-80373755___element_4___p...  \n",
       "4  _Human_chr16:79969907-79971297___element_5___n...  "
      ]
     },
     "execution_count": 9,
     "metadata": {},
     "output_type": "execute_result"
    }
   ],
   "source": [
    "vista_human = pandas.read_csv(\n",
    "    'enhancer_matches/VISTA_2974_elements_July3_2019.Human_hg19.bed', \n",
    "    names=['chromsome', 'start', 'end', 'name'],                \n",
    "    sep='\\t', \n",
    "    header=None).head()\n",
    "print(vista_human.shape)\n",
    "vista_human.head()"
   ]
  },
  {
   "cell_type": "code",
   "execution_count": 12,
   "metadata": {},
   "outputs": [
    {
     "name": "stdout",
     "output_type": "stream",
     "text": [
      "1912 enhancer_matches/VISTA_2974_elements_July3_2019.Human_hg19.bed\r\n"
     ]
    }
   ],
   "source": [
    "!wc -l enhancer_matches/VISTA_2974_elements_July3_2019.Human_hg19.bed"
   ]
  },
  {
   "cell_type": "code",
   "execution_count": null,
   "metadata": {},
   "outputs": [],
   "source": []
  }
 ],
 "metadata": {
  "kernelspec": {
   "display_name": "Python 3",
   "language": "python",
   "name": "python3"
  },
  "language_info": {
   "codemirror_mode": {
    "name": "ipython",
    "version": 3
   },
   "file_extension": ".py",
   "mimetype": "text/x-python",
   "name": "python",
   "nbconvert_exporter": "python",
   "pygments_lexer": "ipython3",
   "version": "3.7.3"
  }
 },
 "nbformat": 4,
 "nbformat_minor": 2
}
