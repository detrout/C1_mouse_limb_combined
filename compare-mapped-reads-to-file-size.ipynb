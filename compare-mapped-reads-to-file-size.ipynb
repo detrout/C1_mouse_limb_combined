{
 "cells": [
  {
   "cell_type": "markdown",
   "metadata": {},
   "source": [
    "# Introduction"
   ]
  },
  {
   "cell_type": "markdown",
   "metadata": {},
   "source": [
    "I was curious what the relationship between file size and mapped reads were."
   ]
  },
  {
   "cell_type": "code",
   "execution_count": 1,
   "metadata": {},
   "outputs": [],
   "source": [
    "import numpy\n",
    "import pandas\n",
    "import sys\n",
    "import os\n",
    "from functools import partial\n",
    "from woldrnaseq.models import (\n",
    "    load_all_samstats,\n",
    "    load_experiments, \n",
    "    load_library_tables, \n",
    "    genome_name_from_library, \n",
    "    find_library_analysis_file\n",
    ")\n",
    "from generate_combined_transcript_C1 import ASOF_RUN17_library_files\n",
    "from glob import glob\n",
    "import rdflib\n",
    "from requests import HTTPError\n",
    "from xopen import xopen\n",
    "import json\n",
    "from matplotlib import pyplot"
   ]
  },
  {
   "cell_type": "code",
   "execution_count": 2,
   "metadata": {},
   "outputs": [],
   "source": [
    "%matplotlib inline"
   ]
  },
  {
   "cell_type": "code",
   "execution_count": 3,
   "metadata": {},
   "outputs": [],
   "source": [
    "vdir = 'all_analysis_vdir'"
   ]
  },
  {
   "cell_type": "code",
   "execution_count": 4,
   "metadata": {},
   "outputs": [],
   "source": [
    "refined_library_files = [\n",
    " '/woldlab/castor/home/sau/flowcells/C1_mouse_limb_combined_Mar_2017/library_mm10_clean.tsv',\n",
    " '/woldlab/castor/home/sau/flowcells/HFNLNBCX2/library.tsv',\n",
    " '/woldlab/castor/home/sau/flowcells/H7CNTBCX2/library.tsv',\n",
    " '/woldlab/castor/home/sau/flowcells/HFNLTBCX2/library.tsv',\n",
    " '/woldlab/castor/home/sau/flowcells/HF7NTBCX2/library.tsv',\n",
    " '/woldlab/castor/home/sau/flowcells/HFNYNBCX2/library.tsv']"
   ]
  },
  {
   "cell_type": "code",
   "execution_count": 5,
   "metadata": {},
   "outputs": [],
   "source": [
    "libraries = load_library_tables(refined_library_files)"
   ]
  },
  {
   "cell_type": "code",
   "execution_count": 6,
   "metadata": {},
   "outputs": [],
   "source": [
    "libraries.index = [x.replace('_mm10', '').replace('_clean', '') for x in libraries.index]"
   ]
  },
  {
   "cell_type": "code",
   "execution_count": 7,
   "metadata": {},
   "outputs": [],
   "source": [
    "samstats = load_all_samstats(libraries)"
   ]
  },
  {
   "cell_type": "code",
   "execution_count": 8,
   "metadata": {},
   "outputs": [
    {
     "data": {
      "text/html": [
       "<div>\n",
       "<style scoped>\n",
       "    .dataframe tbody tr th:only-of-type {\n",
       "        vertical-align: middle;\n",
       "    }\n",
       "\n",
       "    .dataframe tbody tr th {\n",
       "        vertical-align: top;\n",
       "    }\n",
       "\n",
       "    .dataframe thead th {\n",
       "        text-align: right;\n",
       "    }\n",
       "</style>\n",
       "<table border=\"1\" class=\"dataframe\">\n",
       "  <thead>\n",
       "    <tr style=\"text-align: right;\">\n",
       "      <th></th>\n",
       "      <th>uuid</th>\n",
       "      <th>file_accession</th>\n",
       "      <th>library_id:skip</th>\n",
       "      <th>md5sum</th>\n",
       "      <th>flowcell_details:json</th>\n",
       "      <th>run_type</th>\n",
       "      <th>read_length:integer</th>\n",
       "      <th>file_size:integer</th>\n",
       "      <th>submitted_file_name</th>\n",
       "    </tr>\n",
       "  </thead>\n",
       "  <tbody>\n",
       "    <tr>\n",
       "      <th>0</th>\n",
       "      <td>NaN</td>\n",
       "      <td>ENCFF178OXC</td>\n",
       "      <td>18251_A1</td>\n",
       "      <td>8489a39c1f9802a69f23e35750ff4a8e</td>\n",
       "      <td>[{\"machine\": \"http://jumpgate.caltech.edu/sequ...</td>\n",
       "      <td>single-ended</td>\n",
       "      <td>50</td>\n",
       "      <td>25919352</td>\n",
       "      <td>/woldlab/castor/home/sau/flowcells/C1_mouse_li...</td>\n",
       "    </tr>\n",
       "    <tr>\n",
       "      <th>1</th>\n",
       "      <td>NaN</td>\n",
       "      <td>ENCFF547WQZ</td>\n",
       "      <td>18251_A1</td>\n",
       "      <td>19355390ffad4017f4b3d80f27ca2763</td>\n",
       "      <td>[{\"machine\": \"http://jumpgate.caltech.edu/sequ...</td>\n",
       "      <td>single-ended</td>\n",
       "      <td>50</td>\n",
       "      <td>25718028</td>\n",
       "      <td>/woldlab/castor/home/sau/flowcells/C1_mouse_li...</td>\n",
       "    </tr>\n",
       "    <tr>\n",
       "      <th>2</th>\n",
       "      <td>NaN</td>\n",
       "      <td>NaN</td>\n",
       "      <td>18251_A2</td>\n",
       "      <td>b6a127c848716018d592bb9eb65da4ea</td>\n",
       "      <td>[{\"machine\": \"http://jumpgate.caltech.edu/sequ...</td>\n",
       "      <td>single-ended</td>\n",
       "      <td>50</td>\n",
       "      <td>26320606</td>\n",
       "      <td>/woldlab/castor/home/sau/flowcells/C1_mouse_li...</td>\n",
       "    </tr>\n",
       "    <tr>\n",
       "      <th>3</th>\n",
       "      <td>NaN</td>\n",
       "      <td>NaN</td>\n",
       "      <td>18251_A2</td>\n",
       "      <td>cec750266fc098378f7d69475a72d737</td>\n",
       "      <td>[{\"machine\": \"http://jumpgate.caltech.edu/sequ...</td>\n",
       "      <td>single-ended</td>\n",
       "      <td>50</td>\n",
       "      <td>26429050</td>\n",
       "      <td>/woldlab/castor/home/sau/flowcells/C1_mouse_li...</td>\n",
       "    </tr>\n",
       "    <tr>\n",
       "      <th>4</th>\n",
       "      <td>NaN</td>\n",
       "      <td>ENCFF752SWG</td>\n",
       "      <td>18251_A3</td>\n",
       "      <td>fbd71f67c646fa73b0b141ab93f83581</td>\n",
       "      <td>[{\"machine\": \"http://jumpgate.caltech.edu/sequ...</td>\n",
       "      <td>single-ended</td>\n",
       "      <td>50</td>\n",
       "      <td>23873809</td>\n",
       "      <td>/woldlab/castor/home/sau/flowcells/C1_mouse_li...</td>\n",
       "    </tr>\n",
       "  </tbody>\n",
       "</table>\n",
       "</div>"
      ],
      "text/plain": [
       "   uuid file_accession library_id:skip                            md5sum  \\\n",
       "0   NaN    ENCFF178OXC        18251_A1  8489a39c1f9802a69f23e35750ff4a8e   \n",
       "1   NaN    ENCFF547WQZ        18251_A1  19355390ffad4017f4b3d80f27ca2763   \n",
       "2   NaN            NaN        18251_A2  b6a127c848716018d592bb9eb65da4ea   \n",
       "3   NaN            NaN        18251_A2  cec750266fc098378f7d69475a72d737   \n",
       "4   NaN    ENCFF752SWG        18251_A3  fbd71f67c646fa73b0b141ab93f83581   \n",
       "\n",
       "                               flowcell_details:json      run_type  \\\n",
       "0  [{\"machine\": \"http://jumpgate.caltech.edu/sequ...  single-ended   \n",
       "1  [{\"machine\": \"http://jumpgate.caltech.edu/sequ...  single-ended   \n",
       "2  [{\"machine\": \"http://jumpgate.caltech.edu/sequ...  single-ended   \n",
       "3  [{\"machine\": \"http://jumpgate.caltech.edu/sequ...  single-ended   \n",
       "4  [{\"machine\": \"http://jumpgate.caltech.edu/sequ...  single-ended   \n",
       "\n",
       "   read_length:integer  file_size:integer  \\\n",
       "0                   50           25919352   \n",
       "1                   50           25718028   \n",
       "2                   50           26320606   \n",
       "3                   50           26429050   \n",
       "4                   50           23873809   \n",
       "\n",
       "                                 submitted_file_name  \n",
       "0  /woldlab/castor/home/sau/flowcells/C1_mouse_li...  \n",
       "1  /woldlab/castor/home/sau/flowcells/C1_mouse_li...  \n",
       "2  /woldlab/castor/home/sau/flowcells/C1_mouse_li...  \n",
       "3  /woldlab/castor/home/sau/flowcells/C1_mouse_li...  \n",
       "4  /woldlab/castor/home/sau/flowcells/C1_mouse_li...  "
      ]
     },
     "execution_count": 8,
     "metadata": {},
     "output_type": "execute_result"
    }
   ],
   "source": [
    "file_details = pandas.read_csv(os.path.join(vdir, 'file_details.csv'))\n",
    "file_details.head()"
   ]
  },
  {
   "cell_type": "code",
   "execution_count": 9,
   "metadata": {},
   "outputs": [],
   "source": [
    "file_size = file_details[['library_id:skip', 'file_size:integer']].groupby(['library_id:skip']).sum()"
   ]
  },
  {
   "cell_type": "code",
   "execution_count": 10,
   "metadata": {},
   "outputs": [
    {
     "data": {
      "text/plain": [
       "(file_size:integer    51637380\n",
       " Name: 18251_A1, dtype: int64, 51637380)"
      ]
     },
     "execution_count": 10,
     "metadata": {},
     "output_type": "execute_result"
    }
   ],
   "source": [
    "file_size.loc['18251_A1'], file_details[file_details['library_id:skip'] == '18251_A1']['file_size:integer'].sum()"
   ]
  },
  {
   "cell_type": "code",
   "execution_count": 11,
   "metadata": {},
   "outputs": [],
   "source": [
    "sizes = pandas.merge(\n",
    "    file_size,\n",
    "    samstats[['Total Aligned Reads', 'Fraction Mapped']],\n",
    "    left_index=True,\n",
    "    right_index=True,\n",
    ")"
   ]
  },
  {
   "cell_type": "code",
   "execution_count": 12,
   "metadata": {},
   "outputs": [
    {
     "data": {
      "text/html": [
       "<div>\n",
       "<style scoped>\n",
       "    .dataframe tbody tr th:only-of-type {\n",
       "        vertical-align: middle;\n",
       "    }\n",
       "\n",
       "    .dataframe tbody tr th {\n",
       "        vertical-align: top;\n",
       "    }\n",
       "\n",
       "    .dataframe thead th {\n",
       "        text-align: right;\n",
       "    }\n",
       "</style>\n",
       "<table border=\"1\" class=\"dataframe\">\n",
       "  <thead>\n",
       "    <tr style=\"text-align: right;\">\n",
       "      <th></th>\n",
       "      <th>file_size:integer</th>\n",
       "      <th>Total Aligned Reads</th>\n",
       "      <th>Fraction Mapped</th>\n",
       "    </tr>\n",
       "  </thead>\n",
       "  <tbody>\n",
       "    <tr>\n",
       "      <th>17327_A1</th>\n",
       "      <td>155260145</td>\n",
       "      <td>2748646.0</td>\n",
       "      <td>0.592372</td>\n",
       "    </tr>\n",
       "    <tr>\n",
       "      <th>17327_A10</th>\n",
       "      <td>60361404</td>\n",
       "      <td>1109535.0</td>\n",
       "      <td>0.596038</td>\n",
       "    </tr>\n",
       "    <tr>\n",
       "      <th>17327_A11</th>\n",
       "      <td>174665516</td>\n",
       "      <td>3217854.0</td>\n",
       "      <td>0.624463</td>\n",
       "    </tr>\n",
       "    <tr>\n",
       "      <th>17327_A12</th>\n",
       "      <td>177954740</td>\n",
       "      <td>3311980.0</td>\n",
       "      <td>0.586764</td>\n",
       "    </tr>\n",
       "    <tr>\n",
       "      <th>17327_A2</th>\n",
       "      <td>128156340</td>\n",
       "      <td>2367205.0</td>\n",
       "      <td>0.601362</td>\n",
       "    </tr>\n",
       "  </tbody>\n",
       "</table>\n",
       "</div>"
      ],
      "text/plain": [
       "           file_size:integer  Total Aligned Reads  Fraction Mapped\n",
       "17327_A1           155260145            2748646.0         0.592372\n",
       "17327_A10           60361404            1109535.0         0.596038\n",
       "17327_A11          174665516            3217854.0         0.624463\n",
       "17327_A12          177954740            3311980.0         0.586764\n",
       "17327_A2           128156340            2367205.0         0.601362"
      ]
     },
     "execution_count": 12,
     "metadata": {},
     "output_type": "execute_result"
    }
   ],
   "source": [
    "sizes.head()"
   ]
  },
  {
   "cell_type": "markdown",
   "metadata": {},
   "source": [
    "Compare file size to total number of aligned reads"
   ]
  },
  {
   "cell_type": "code",
   "execution_count": 13,
   "metadata": {},
   "outputs": [
    {
     "data": {
      "text/plain": [
       "<matplotlib.axes._subplots.AxesSubplot at 0x7f18eb1daa50>"
      ]
     },
     "execution_count": 13,
     "metadata": {},
     "output_type": "execute_result"
    },
    {
     "data": {
      "image/png": "[encoded data removed]",
      "text/plain": [
       "<Figure size 720x576 with 1 Axes>"
      ]
     },
     "metadata": {
      "needs_background": "light"
     },
     "output_type": "display_data"
    }
   ],
   "source": [
    "sizes.plot.scatter(x='file_size:integer', y='Total Aligned Reads', figsize=(10,8), s=.5)"
   ]
  },
  {
   "cell_type": "code",
   "execution_count": null,
   "metadata": {},
   "outputs": [],
   "source": []
  },
  {
   "cell_type": "markdown",
   "metadata": {},
   "source": [
    "Zoom in on libraries with relatively few total aligned reads"
   ]
  },
  {
   "cell_type": "code",
   "execution_count": 14,
   "metadata": {},
   "outputs": [
    {
     "data": {
      "text/plain": [
       "<matplotlib.axes._subplots.AxesSubplot at 0x7f18eabde5d0>"
      ]
     },
     "execution_count": 14,
     "metadata": {},
     "output_type": "execute_result"
    },
    {
     "data": {
      "image/png": "[encoded data removed]",
      "text/plain": [
       "<Figure size 720x576 with 1 Axes>"
      ]
     },
     "metadata": {
      "needs_background": "light"
     },
     "output_type": "display_data"
    }
   ],
   "source": [
    "sizes[sizes['Total Aligned Reads']<500000].plot.scatter(x='file_size:integer', y='Total Aligned Reads', figsize=(10,8))"
   ]
  },
  {
   "cell_type": "code",
   "execution_count": 15,
   "metadata": {},
   "outputs": [
    {
     "data": {
      "image/png": "[encoded data removed]",
      "text/plain": [
       "<Figure size 720x576 with 1 Axes>"
      ]
     },
     "metadata": {
      "needs_background": "light"
     },
     "output_type": "display_data"
    }
   ],
   "source": [
    "f = pyplot.figure(figsize=(10,8))\n",
    "a = f.add_subplot(1,1,1)\n",
    "a.set_xlabel('file size (bytes)/ Total Aligned Reads')\n",
    "_ = a.hist(sizes['file_size:integer']/sizes['Total Aligned Reads'], bins=100)"
   ]
  },
  {
   "cell_type": "markdown",
   "metadata": {},
   "source": [
    "Compute "
   ]
  },
  {
   "cell_type": "code",
   "execution_count": 16,
   "metadata": {},
   "outputs": [],
   "source": [
    "sizes['normalized_file_size'] = sizes['file_size:integer'] * sizes['Fraction Mapped']"
   ]
  },
  {
   "cell_type": "code",
   "execution_count": 17,
   "metadata": {},
   "outputs": [
    {
     "data": {
      "text/plain": [
       "<matplotlib.axes._subplots.AxesSubplot at 0x7f18eadc8d90>"
      ]
     },
     "execution_count": 17,
     "metadata": {},
     "output_type": "execute_result"
    },
    {
     "data": {
      "image/png": "[encoded data removed]",
      "text/plain": [
       "<Figure size 720x576 with 1 Axes>"
      ]
     },
     "metadata": {
      "needs_background": "light"
     },
     "output_type": "display_data"
    }
   ],
   "source": [
    "sizes.plot.scatter(x='file_size:integer', y='normalized_file_size', figsize=(10,8), s=.5)"
   ]
  },
  {
   "cell_type": "code",
   "execution_count": 18,
   "metadata": {},
   "outputs": [
    {
     "data": {
      "image/png": "[encoded data removed]",
      "text/plain": [
       "<Figure size 720x576 with 1 Axes>"
      ]
     },
     "metadata": {
      "needs_background": "light"
     },
     "output_type": "display_data"
    }
   ],
   "source": [
    "f = pyplot.figure(figsize=(10,8))\n",
    "a = f.add_subplot(1,1,1)\n",
    "a.set_xlabel('file size (bytes)/ (file size * fraction mapped)')\n",
    "_ = a.hist(sizes['file_size:integer']/sizes['normalized_file_size'], bins=100)"
   ]
  },
  {
   "cell_type": "code",
   "execution_count": 19,
   "metadata": {},
   "outputs": [
    {
     "data": {
      "text/plain": [
       "<matplotlib.axes._subplots.AxesSubplot at 0x7f18eaeecb50>"
      ]
     },
     "execution_count": 19,
     "metadata": {},
     "output_type": "execute_result"
    },
    {
     "data": {
      "image/png": "[encoded data removed]",
      "text/plain": [
       "<Figure size 720x576 with 1 Axes>"
      ]
     },
     "metadata": {
      "needs_background": "light"
     },
     "output_type": "display_data"
    }
   ],
   "source": [
    "sizes.plot.scatter(x='file_size:integer', y='Fraction Mapped', figsize=(10,8), s=1)"
   ]
  },
  {
   "cell_type": "code",
   "execution_count": 20,
   "metadata": {},
   "outputs": [
    {
     "data": {
      "image/png": "[encoded data removed]",
      "text/plain": [
       "<Figure size 720x576 with 1 Axes>"
      ]
     },
     "metadata": {
      "needs_background": "light"
     },
     "output_type": "display_data"
    }
   ],
   "source": [
    "f = pyplot.figure(figsize=(10,8))\n",
    "a = f.add_subplot(1,1,1)\n",
    "a.set_xlabel('Fraction Mapped')\n",
    "a.set_ylabel('Count(Fraction Mapped)')\n",
    "_ = a.hist(sizes['Fraction Mapped'], bins=100)"
   ]
  },
  {
   "cell_type": "code",
   "execution_count": 21,
   "metadata": {},
   "outputs": [
    {
     "data": {
      "text/plain": [
       "0.6504220956110001"
      ]
     },
     "execution_count": 21,
     "metadata": {},
     "output_type": "execute_result"
    }
   ],
   "source": [
    "sizes['Fraction Mapped'].median()"
   ]
  },
  {
   "cell_type": "code",
   "execution_count": 22,
   "metadata": {},
   "outputs": [
    {
     "data": {
      "image/png": "[encoded data removed]",
      "text/plain": [
       "<Figure size 720x576 with 1 Axes>"
      ]
     },
     "metadata": {
      "needs_background": "light"
     },
     "output_type": "display_data"
    }
   ],
   "source": [
    "f = pyplot.figure(figsize=(10,8))\n",
    "a = f.add_subplot(1,1,1)\n",
    "a.set_xlabel('File size (bytes)')\n",
    "a.set_ylabel('Total Aligned Reads')\n",
    "a.scatter(x='file_size:integer', y='Total Aligned Reads', data=sizes)\n",
    "x_start, x_end = a.get_xlim()\n",
    "x_start = int(numpy.floor(x_start))\n",
    "x_end = int(numpy.ceil(x_end))\n",
    "m, b = numpy.polyfit(sizes['file_size:integer'], sizes['Total Aligned Reads'], deg=1)\n",
    "m = numpy.round(m, 2)\n",
    "_ = a.plot([0,x_end], [0,x_end*m], color='r')\n"
   ]
  },
  {
   "cell_type": "code",
   "execution_count": 23,
   "metadata": {},
   "outputs": [
    {
     "data": {
      "text/plain": [
       "array([ 1.77532802e-02, -3.13384122e+04])"
      ]
     },
     "execution_count": 23,
     "metadata": {},
     "output_type": "execute_result"
    }
   ],
   "source": [
    "numpy.polyfit(sizes['file_size:integer'], sizes['Total Aligned Reads'], deg=1)"
   ]
  },
  {
   "cell_type": "code",
   "execution_count": 24,
   "metadata": {},
   "outputs": [
    {
     "data": {
      "text/plain": [
       "0.02"
      ]
     },
     "execution_count": 24,
     "metadata": {},
     "output_type": "execute_result"
    }
   ],
   "source": [
    "numpy.round(m, 2)"
   ]
  },
  {
   "cell_type": "markdown",
   "metadata": {},
   "source": [
    "Looks like file size $\\times$ 0.02 is not a bad estimate for total aligned reads given the fastq file size (at least for these C1 libraries)"
   ]
  },
  {
   "cell_type": "code",
   "execution_count": 26,
   "metadata": {},
   "outputs": [
    {
     "data": {
      "text/html": [
       "<div>\n",
       "<style scoped>\n",
       "    .dataframe tbody tr th:only-of-type {\n",
       "        vertical-align: middle;\n",
       "    }\n",
       "\n",
       "    .dataframe tbody tr th {\n",
       "        vertical-align: top;\n",
       "    }\n",
       "\n",
       "    .dataframe thead th {\n",
       "        text-align: right;\n",
       "    }\n",
       "</style>\n",
       "<table border=\"1\" class=\"dataframe\">\n",
       "  <thead>\n",
       "    <tr style=\"text-align: right;\">\n",
       "      <th></th>\n",
       "      <th>file_size:integer</th>\n",
       "      <th>Total Aligned Reads</th>\n",
       "      <th>Fraction Mapped</th>\n",
       "      <th>normalized_file_size</th>\n",
       "    </tr>\n",
       "  </thead>\n",
       "  <tbody>\n",
       "    <tr>\n",
       "      <th>19915_B5</th>\n",
       "      <td>80081</td>\n",
       "      <td>220.0</td>\n",
       "      <td>0.135635</td>\n",
       "      <td>1.086179e+04</td>\n",
       "    </tr>\n",
       "    <tr>\n",
       "      <th>18262_E4</th>\n",
       "      <td>107103</td>\n",
       "      <td>481.0</td>\n",
       "      <td>0.242929</td>\n",
       "      <td>2.601846e+04</td>\n",
       "    </tr>\n",
       "    <tr>\n",
       "      <th>18276_G10</th>\n",
       "      <td>79207</td>\n",
       "      <td>603.0</td>\n",
       "      <td>0.489051</td>\n",
       "      <td>3.873627e+04</td>\n",
       "    </tr>\n",
       "    <tr>\n",
       "      <th>18089_H12</th>\n",
       "      <td>99431</td>\n",
       "      <td>803.0</td>\n",
       "      <td>0.407407</td>\n",
       "      <td>4.050893e+04</td>\n",
       "    </tr>\n",
       "    <tr>\n",
       "      <th>18275_F8</th>\n",
       "      <td>5160528</td>\n",
       "      <td>51007.0</td>\n",
       "      <td>0.628258</td>\n",
       "      <td>3.242142e+06</td>\n",
       "    </tr>\n",
       "    <tr>\n",
       "      <th>18257_G10</th>\n",
       "      <td>51715337</td>\n",
       "      <td>154027.0</td>\n",
       "      <td>0.558409</td>\n",
       "      <td>2.887830e+07</td>\n",
       "    </tr>\n",
       "    <tr>\n",
       "      <th>18276_G8</th>\n",
       "      <td>43536964</td>\n",
       "      <td>198338.0</td>\n",
       "      <td>0.667636</td>\n",
       "      <td>2.906685e+07</td>\n",
       "    </tr>\n",
       "    <tr>\n",
       "      <th>18257_G1</th>\n",
       "      <td>27494793</td>\n",
       "      <td>205701.0</td>\n",
       "      <td>0.539797</td>\n",
       "      <td>1.484161e+07</td>\n",
       "    </tr>\n",
       "    <tr>\n",
       "      <th>18255_E9</th>\n",
       "      <td>52870668</td>\n",
       "      <td>229719.0</td>\n",
       "      <td>0.632030</td>\n",
       "      <td>3.341586e+07</td>\n",
       "    </tr>\n",
       "    <tr>\n",
       "      <th>18253_C3</th>\n",
       "      <td>33273809</td>\n",
       "      <td>239523.0</td>\n",
       "      <td>0.608107</td>\n",
       "      <td>2.023404e+07</td>\n",
       "    </tr>\n",
       "    <tr>\n",
       "      <th>17328_B5</th>\n",
       "      <td>14007934</td>\n",
       "      <td>252236.0</td>\n",
       "      <td>0.564317</td>\n",
       "      <td>7.904910e+06</td>\n",
       "    </tr>\n",
       "    <tr>\n",
       "      <th>18252_B4</th>\n",
       "      <td>47168515</td>\n",
       "      <td>286739.0</td>\n",
       "      <td>0.588092</td>\n",
       "      <td>2.773943e+07</td>\n",
       "    </tr>\n",
       "    <tr>\n",
       "      <th>18258_A4</th>\n",
       "      <td>97389281</td>\n",
       "      <td>289364.0</td>\n",
       "      <td>0.772711</td>\n",
       "      <td>7.525376e+07</td>\n",
       "    </tr>\n",
       "    <tr>\n",
       "      <th>18253_C2</th>\n",
       "      <td>38874105</td>\n",
       "      <td>291106.0</td>\n",
       "      <td>0.667198</td>\n",
       "      <td>2.593674e+07</td>\n",
       "    </tr>\n",
       "    <tr>\n",
       "      <th>18255_E1</th>\n",
       "      <td>34922083</td>\n",
       "      <td>292262.0</td>\n",
       "      <td>0.643036</td>\n",
       "      <td>2.245617e+07</td>\n",
       "    </tr>\n",
       "    <tr>\n",
       "      <th>18256_F10</th>\n",
       "      <td>44689547</td>\n",
       "      <td>297380.0</td>\n",
       "      <td>0.654800</td>\n",
       "      <td>2.926271e+07</td>\n",
       "    </tr>\n",
       "    <tr>\n",
       "      <th>18252_B7</th>\n",
       "      <td>77972855</td>\n",
       "      <td>324418.0</td>\n",
       "      <td>0.597754</td>\n",
       "      <td>4.660861e+07</td>\n",
       "    </tr>\n",
       "    <tr>\n",
       "      <th>17331_E3</th>\n",
       "      <td>18322985</td>\n",
       "      <td>329222.0</td>\n",
       "      <td>0.548631</td>\n",
       "      <td>1.005256e+07</td>\n",
       "    </tr>\n",
       "    <tr>\n",
       "      <th>18256_F8</th>\n",
       "      <td>47053009</td>\n",
       "      <td>329510.0</td>\n",
       "      <td>0.657556</td>\n",
       "      <td>3.094000e+07</td>\n",
       "    </tr>\n",
       "    <tr>\n",
       "      <th>18256_F6</th>\n",
       "      <td>37255286</td>\n",
       "      <td>334827.0</td>\n",
       "      <td>0.626325</td>\n",
       "      <td>2.333391e+07</td>\n",
       "    </tr>\n",
       "    <tr>\n",
       "      <th>18254_D11</th>\n",
       "      <td>47432412</td>\n",
       "      <td>337798.0</td>\n",
       "      <td>0.651712</td>\n",
       "      <td>3.091227e+07</td>\n",
       "    </tr>\n",
       "    <tr>\n",
       "      <th>18253_C5</th>\n",
       "      <td>47278890</td>\n",
       "      <td>353695.0</td>\n",
       "      <td>0.630875</td>\n",
       "      <td>2.982707e+07</td>\n",
       "    </tr>\n",
       "    <tr>\n",
       "      <th>18251_A2</th>\n",
       "      <td>52749656</td>\n",
       "      <td>361021.0</td>\n",
       "      <td>0.663267</td>\n",
       "      <td>3.498712e+07</td>\n",
       "    </tr>\n",
       "    <tr>\n",
       "      <th>18270_A2</th>\n",
       "      <td>39663049</td>\n",
       "      <td>367570.0</td>\n",
       "      <td>0.645129</td>\n",
       "      <td>2.558778e+07</td>\n",
       "    </tr>\n",
       "    <tr>\n",
       "      <th>18315_E5</th>\n",
       "      <td>36360853</td>\n",
       "      <td>368594.0</td>\n",
       "      <td>0.803321</td>\n",
       "      <td>2.920942e+07</td>\n",
       "    </tr>\n",
       "    <tr>\n",
       "      <th>18254_D6</th>\n",
       "      <td>33470142</td>\n",
       "      <td>368895.0</td>\n",
       "      <td>0.598773</td>\n",
       "      <td>2.004101e+07</td>\n",
       "    </tr>\n",
       "    <tr>\n",
       "      <th>18255_E6</th>\n",
       "      <td>46478085</td>\n",
       "      <td>369897.0</td>\n",
       "      <td>0.644031</td>\n",
       "      <td>2.993331e+07</td>\n",
       "    </tr>\n",
       "    <tr>\n",
       "      <th>18254_D2</th>\n",
       "      <td>41239514</td>\n",
       "      <td>376198.0</td>\n",
       "      <td>0.624583</td>\n",
       "      <td>2.575749e+07</td>\n",
       "    </tr>\n",
       "    <tr>\n",
       "      <th>18255_E2</th>\n",
       "      <td>33965862</td>\n",
       "      <td>379081.0</td>\n",
       "      <td>0.606760</td>\n",
       "      <td>2.060912e+07</td>\n",
       "    </tr>\n",
       "    <tr>\n",
       "      <th>19913_H8</th>\n",
       "      <td>18773203</td>\n",
       "      <td>380456.0</td>\n",
       "      <td>0.634017</td>\n",
       "      <td>1.190253e+07</td>\n",
       "    </tr>\n",
       "    <tr>\n",
       "      <th>...</th>\n",
       "      <td>...</td>\n",
       "      <td>...</td>\n",
       "      <td>...</td>\n",
       "      <td>...</td>\n",
       "    </tr>\n",
       "    <tr>\n",
       "      <th>20046_C10</th>\n",
       "      <td>161327579</td>\n",
       "      <td>3439182.0</td>\n",
       "      <td>0.773919</td>\n",
       "      <td>1.248545e+08</td>\n",
       "    </tr>\n",
       "    <tr>\n",
       "      <th>20033_A12</th>\n",
       "      <td>166060382</td>\n",
       "      <td>3483045.0</td>\n",
       "      <td>0.729177</td>\n",
       "      <td>1.210874e+08</td>\n",
       "    </tr>\n",
       "    <tr>\n",
       "      <th>17332_F1</th>\n",
       "      <td>189928232</td>\n",
       "      <td>3534501.0</td>\n",
       "      <td>0.616625</td>\n",
       "      <td>1.171144e+08</td>\n",
       "    </tr>\n",
       "    <tr>\n",
       "      <th>19906_A11</th>\n",
       "      <td>170245973</td>\n",
       "      <td>3568406.0</td>\n",
       "      <td>0.672352</td>\n",
       "      <td>1.144653e+08</td>\n",
       "    </tr>\n",
       "    <tr>\n",
       "      <th>19910_E12</th>\n",
       "      <td>170420993</td>\n",
       "      <td>3598640.0</td>\n",
       "      <td>0.640663</td>\n",
       "      <td>1.091825e+08</td>\n",
       "    </tr>\n",
       "    <tr>\n",
       "      <th>20038_F12</th>\n",
       "      <td>175002469</td>\n",
       "      <td>3638667.0</td>\n",
       "      <td>0.681840</td>\n",
       "      <td>1.193237e+08</td>\n",
       "    </tr>\n",
       "    <tr>\n",
       "      <th>17328_B1</th>\n",
       "      <td>194993603</td>\n",
       "      <td>3642277.0</td>\n",
       "      <td>0.603013</td>\n",
       "      <td>1.175836e+08</td>\n",
       "    </tr>\n",
       "    <tr>\n",
       "      <th>20044_A11</th>\n",
       "      <td>173461876</td>\n",
       "      <td>3655554.0</td>\n",
       "      <td>0.697295</td>\n",
       "      <td>1.209541e+08</td>\n",
       "    </tr>\n",
       "    <tr>\n",
       "      <th>17333_G2</th>\n",
       "      <td>195684084</td>\n",
       "      <td>3675906.0</td>\n",
       "      <td>0.620563</td>\n",
       "      <td>1.214343e+08</td>\n",
       "    </tr>\n",
       "    <tr>\n",
       "      <th>17334_H3</th>\n",
       "      <td>198668259</td>\n",
       "      <td>3697452.0</td>\n",
       "      <td>0.585865</td>\n",
       "      <td>1.163927e+08</td>\n",
       "    </tr>\n",
       "    <tr>\n",
       "      <th>17329_C11</th>\n",
       "      <td>199368074</td>\n",
       "      <td>3697807.0</td>\n",
       "      <td>0.570585</td>\n",
       "      <td>1.137565e+08</td>\n",
       "    </tr>\n",
       "    <tr>\n",
       "      <th>17329_C1</th>\n",
       "      <td>198090876</td>\n",
       "      <td>3704774.0</td>\n",
       "      <td>0.604223</td>\n",
       "      <td>1.196911e+08</td>\n",
       "    </tr>\n",
       "    <tr>\n",
       "      <th>19908_C12</th>\n",
       "      <td>179943368</td>\n",
       "      <td>3789789.0</td>\n",
       "      <td>0.662014</td>\n",
       "      <td>1.191250e+08</td>\n",
       "    </tr>\n",
       "    <tr>\n",
       "      <th>20046_C11</th>\n",
       "      <td>180250406</td>\n",
       "      <td>3816568.0</td>\n",
       "      <td>0.695691</td>\n",
       "      <td>1.253986e+08</td>\n",
       "    </tr>\n",
       "    <tr>\n",
       "      <th>20048_E12</th>\n",
       "      <td>182952473</td>\n",
       "      <td>3915133.0</td>\n",
       "      <td>0.655877</td>\n",
       "      <td>1.199944e+08</td>\n",
       "    </tr>\n",
       "    <tr>\n",
       "      <th>20043_E3</th>\n",
       "      <td>171521896</td>\n",
       "      <td>3986329.0</td>\n",
       "      <td>0.644459</td>\n",
       "      <td>1.105388e+08</td>\n",
       "    </tr>\n",
       "    <tr>\n",
       "      <th>17334_H1</th>\n",
       "      <td>215302209</td>\n",
       "      <td>4005125.0</td>\n",
       "      <td>0.607860</td>\n",
       "      <td>1.308736e+08</td>\n",
       "    </tr>\n",
       "    <tr>\n",
       "      <th>20045_B12</th>\n",
       "      <td>189507672</td>\n",
       "      <td>4012567.0</td>\n",
       "      <td>0.689286</td>\n",
       "      <td>1.306249e+08</td>\n",
       "    </tr>\n",
       "    <tr>\n",
       "      <th>17331_E1</th>\n",
       "      <td>217133363</td>\n",
       "      <td>4048362.0</td>\n",
       "      <td>0.608543</td>\n",
       "      <td>1.321350e+08</td>\n",
       "    </tr>\n",
       "    <tr>\n",
       "      <th>17329_C12</th>\n",
       "      <td>225964365</td>\n",
       "      <td>4166169.0</td>\n",
       "      <td>0.572044</td>\n",
       "      <td>1.292616e+08</td>\n",
       "    </tr>\n",
       "    <tr>\n",
       "      <th>20036_D12</th>\n",
       "      <td>199385670</td>\n",
       "      <td>4173920.0</td>\n",
       "      <td>0.681794</td>\n",
       "      <td>1.359399e+08</td>\n",
       "    </tr>\n",
       "    <tr>\n",
       "      <th>17331_E12</th>\n",
       "      <td>225237072</td>\n",
       "      <td>4174575.0</td>\n",
       "      <td>0.600141</td>\n",
       "      <td>1.351740e+08</td>\n",
       "    </tr>\n",
       "    <tr>\n",
       "      <th>20044_A12</th>\n",
       "      <td>196121032</td>\n",
       "      <td>4181809.0</td>\n",
       "      <td>0.645074</td>\n",
       "      <td>1.265125e+08</td>\n",
       "    </tr>\n",
       "    <tr>\n",
       "      <th>20046_C12</th>\n",
       "      <td>200155462</td>\n",
       "      <td>4251955.0</td>\n",
       "      <td>0.724103</td>\n",
       "      <td>1.449331e+08</td>\n",
       "    </tr>\n",
       "    <tr>\n",
       "      <th>17330_D12</th>\n",
       "      <td>241619279</td>\n",
       "      <td>4535664.0</td>\n",
       "      <td>0.617116</td>\n",
       "      <td>1.491072e+08</td>\n",
       "    </tr>\n",
       "    <tr>\n",
       "      <th>20047_D12</th>\n",
       "      <td>223987419</td>\n",
       "      <td>4767729.0</td>\n",
       "      <td>0.680260</td>\n",
       "      <td>1.523696e+08</td>\n",
       "    </tr>\n",
       "    <tr>\n",
       "      <th>20043_E2</th>\n",
       "      <td>206955812</td>\n",
       "      <td>4818154.0</td>\n",
       "      <td>0.646058</td>\n",
       "      <td>1.337054e+08</td>\n",
       "    </tr>\n",
       "    <tr>\n",
       "      <th>17328_B12</th>\n",
       "      <td>263923178</td>\n",
       "      <td>4867139.0</td>\n",
       "      <td>0.587456</td>\n",
       "      <td>1.550431e+08</td>\n",
       "    </tr>\n",
       "    <tr>\n",
       "      <th>17333_G1</th>\n",
       "      <td>313811875</td>\n",
       "      <td>5878223.0</td>\n",
       "      <td>0.612291</td>\n",
       "      <td>1.921441e+08</td>\n",
       "    </tr>\n",
       "    <tr>\n",
       "      <th>20043_E1</th>\n",
       "      <td>274829331</td>\n",
       "      <td>6327308.0</td>\n",
       "      <td>0.642382</td>\n",
       "      <td>1.765454e+08</td>\n",
       "    </tr>\n",
       "  </tbody>\n",
       "</table>\n",
       "<p>1042 rows × 4 columns</p>\n",
       "</div>"
      ],
      "text/plain": [
       "           file_size:integer  Total Aligned Reads  Fraction Mapped  \\\n",
       "19915_B5               80081                220.0         0.135635   \n",
       "18262_E4              107103                481.0         0.242929   \n",
       "18276_G10              79207                603.0         0.489051   \n",
       "18089_H12              99431                803.0         0.407407   \n",
       "18275_F8             5160528              51007.0         0.628258   \n",
       "18257_G10           51715337             154027.0         0.558409   \n",
       "18276_G8            43536964             198338.0         0.667636   \n",
       "18257_G1            27494793             205701.0         0.539797   \n",
       "18255_E9            52870668             229719.0         0.632030   \n",
       "18253_C3            33273809             239523.0         0.608107   \n",
       "17328_B5            14007934             252236.0         0.564317   \n",
       "18252_B4            47168515             286739.0         0.588092   \n",
       "18258_A4            97389281             289364.0         0.772711   \n",
       "18253_C2            38874105             291106.0         0.667198   \n",
       "18255_E1            34922083             292262.0         0.643036   \n",
       "18256_F10           44689547             297380.0         0.654800   \n",
       "18252_B7            77972855             324418.0         0.597754   \n",
       "17331_E3            18322985             329222.0         0.548631   \n",
       "18256_F8            47053009             329510.0         0.657556   \n",
       "18256_F6            37255286             334827.0         0.626325   \n",
       "18254_D11           47432412             337798.0         0.651712   \n",
       "18253_C5            47278890             353695.0         0.630875   \n",
       "18251_A2            52749656             361021.0         0.663267   \n",
       "18270_A2            39663049             367570.0         0.645129   \n",
       "18315_E5            36360853             368594.0         0.803321   \n",
       "18254_D6            33470142             368895.0         0.598773   \n",
       "18255_E6            46478085             369897.0         0.644031   \n",
       "18254_D2            41239514             376198.0         0.624583   \n",
       "18255_E2            33965862             379081.0         0.606760   \n",
       "19913_H8            18773203             380456.0         0.634017   \n",
       "...                      ...                  ...              ...   \n",
       "20046_C10          161327579            3439182.0         0.773919   \n",
       "20033_A12          166060382            3483045.0         0.729177   \n",
       "17332_F1           189928232            3534501.0         0.616625   \n",
       "19906_A11          170245973            3568406.0         0.672352   \n",
       "19910_E12          170420993            3598640.0         0.640663   \n",
       "20038_F12          175002469            3638667.0         0.681840   \n",
       "17328_B1           194993603            3642277.0         0.603013   \n",
       "20044_A11          173461876            3655554.0         0.697295   \n",
       "17333_G2           195684084            3675906.0         0.620563   \n",
       "17334_H3           198668259            3697452.0         0.585865   \n",
       "17329_C11          199368074            3697807.0         0.570585   \n",
       "17329_C1           198090876            3704774.0         0.604223   \n",
       "19908_C12          179943368            3789789.0         0.662014   \n",
       "20046_C11          180250406            3816568.0         0.695691   \n",
       "20048_E12          182952473            3915133.0         0.655877   \n",
       "20043_E3           171521896            3986329.0         0.644459   \n",
       "17334_H1           215302209            4005125.0         0.607860   \n",
       "20045_B12          189507672            4012567.0         0.689286   \n",
       "17331_E1           217133363            4048362.0         0.608543   \n",
       "17329_C12          225964365            4166169.0         0.572044   \n",
       "20036_D12          199385670            4173920.0         0.681794   \n",
       "17331_E12          225237072            4174575.0         0.600141   \n",
       "20044_A12          196121032            4181809.0         0.645074   \n",
       "20046_C12          200155462            4251955.0         0.724103   \n",
       "17330_D12          241619279            4535664.0         0.617116   \n",
       "20047_D12          223987419            4767729.0         0.680260   \n",
       "20043_E2           206955812            4818154.0         0.646058   \n",
       "17328_B12          263923178            4867139.0         0.587456   \n",
       "17333_G1           313811875            5878223.0         0.612291   \n",
       "20043_E1           274829331            6327308.0         0.642382   \n",
       "\n",
       "           normalized_file_size  \n",
       "19915_B5           1.086179e+04  \n",
       "18262_E4           2.601846e+04  \n",
       "18276_G10          3.873627e+04  \n",
       "18089_H12          4.050893e+04  \n",
       "18275_F8           3.242142e+06  \n",
       "18257_G10          2.887830e+07  \n",
       "18276_G8           2.906685e+07  \n",
       "18257_G1           1.484161e+07  \n",
       "18255_E9           3.341586e+07  \n",
       "18253_C3           2.023404e+07  \n",
       "17328_B5           7.904910e+06  \n",
       "18252_B4           2.773943e+07  \n",
       "18258_A4           7.525376e+07  \n",
       "18253_C2           2.593674e+07  \n",
       "18255_E1           2.245617e+07  \n",
       "18256_F10          2.926271e+07  \n",
       "18252_B7           4.660861e+07  \n",
       "17331_E3           1.005256e+07  \n",
       "18256_F8           3.094000e+07  \n",
       "18256_F6           2.333391e+07  \n",
       "18254_D11          3.091227e+07  \n",
       "18253_C5           2.982707e+07  \n",
       "18251_A2           3.498712e+07  \n",
       "18270_A2           2.558778e+07  \n",
       "18315_E5           2.920942e+07  \n",
       "18254_D6           2.004101e+07  \n",
       "18255_E6           2.993331e+07  \n",
       "18254_D2           2.575749e+07  \n",
       "18255_E2           2.060912e+07  \n",
       "19913_H8           1.190253e+07  \n",
       "...                         ...  \n",
       "20046_C10          1.248545e+08  \n",
       "20033_A12          1.210874e+08  \n",
       "17332_F1           1.171144e+08  \n",
       "19906_A11          1.144653e+08  \n",
       "19910_E12          1.091825e+08  \n",
       "20038_F12          1.193237e+08  \n",
       "17328_B1           1.175836e+08  \n",
       "20044_A11          1.209541e+08  \n",
       "17333_G2           1.214343e+08  \n",
       "17334_H3           1.163927e+08  \n",
       "17329_C11          1.137565e+08  \n",
       "17329_C1           1.196911e+08  \n",
       "19908_C12          1.191250e+08  \n",
       "20046_C11          1.253986e+08  \n",
       "20048_E12          1.199944e+08  \n",
       "20043_E3           1.105388e+08  \n",
       "17334_H1           1.308736e+08  \n",
       "20045_B12          1.306249e+08  \n",
       "17331_E1           1.321350e+08  \n",
       "17329_C12          1.292616e+08  \n",
       "20036_D12          1.359399e+08  \n",
       "17331_E12          1.351740e+08  \n",
       "20044_A12          1.265125e+08  \n",
       "20046_C12          1.449331e+08  \n",
       "17330_D12          1.491072e+08  \n",
       "20047_D12          1.523696e+08  \n",
       "20043_E2           1.337054e+08  \n",
       "17328_B12          1.550431e+08  \n",
       "17333_G1           1.921441e+08  \n",
       "20043_E1           1.765454e+08  \n",
       "\n",
       "[1042 rows x 4 columns]"
      ]
     },
     "execution_count": 26,
     "metadata": {},
     "output_type": "execute_result"
    }
   ],
   "source": [
    "sizes.sort_values('Total Aligned Reads')"
   ]
  },
  {
   "cell_type": "code",
   "execution_count": null,
   "metadata": {},
   "outputs": [],
   "source": []
  }
 ],
 "metadata": {
  "kernelspec": {
   "display_name": "Python 3",
   "language": "python",
   "name": "python3"
  },
  "language_info": {
   "codemirror_mode": {
    "name": "ipython",
    "version": 3
   },
   "file_extension": ".py",
   "mimetype": "text/x-python",
   "name": "python",
   "nbconvert_exporter": "python",
   "pygments_lexer": "ipython3",
   "version": "3.7.4"
  }
 },
 "nbformat": 4,
 "nbformat_minor": 2
}
