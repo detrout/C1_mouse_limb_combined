{
 "cells": [
  {
   "cell_type": "markdown",
   "metadata": {},
   "source": [
    "# Introduction"
   ]
  },
  {
   "cell_type": "markdown",
   "metadata": {},
   "source": [
    "The updated tenx h5ad file didn't have the gene ids in, peng gave me a separate file containing the gene ids, so I could add them."
   ]
  },
  {
   "cell_type": "code",
   "execution_count": 1,
   "metadata": {},
   "outputs": [],
   "source": [
    "import scanpy as scanpy\n",
    "import pandas\n",
    "import os\n",
    "import numpy"
   ]
  },
  {
   "cell_type": "code",
   "execution_count": 2,
   "metadata": {},
   "outputs": [
    {
     "name": "stdout",
     "output_type": "stream",
     "text": [
      "(43346, 1)\n"
     ]
    },
    {
     "data": {
      "text/html": [
       "<div>\n",
       "<style scoped>\n",
       "    .dataframe tbody tr th:only-of-type {\n",
       "        vertical-align: middle;\n",
       "    }\n",
       "\n",
       "    .dataframe tbody tr th {\n",
       "        vertical-align: top;\n",
       "    }\n",
       "\n",
       "    .dataframe thead th {\n",
       "        text-align: right;\n",
       "    }\n",
       "</style>\n",
       "<table border=\"1\" class=\"dataframe\">\n",
       "  <thead>\n",
       "    <tr style=\"text-align: right;\">\n",
       "      <th></th>\n",
       "      <th>gene_ids-0</th>\n",
       "    </tr>\n",
       "  </thead>\n",
       "  <tbody>\n",
       "    <tr>\n",
       "      <th>RP23-271O17.1</th>\n",
       "      <td>ENSMUSG00000102693.1</td>\n",
       "    </tr>\n",
       "    <tr>\n",
       "      <th>Gm26206</th>\n",
       "      <td>ENSMUSG00000064842.1</td>\n",
       "    </tr>\n",
       "    <tr>\n",
       "      <th>Xkr4</th>\n",
       "      <td>ENSMUSG00000051951.5</td>\n",
       "    </tr>\n",
       "    <tr>\n",
       "      <th>RP23-317L18.1</th>\n",
       "      <td>ENSMUSG00000102851.1</td>\n",
       "    </tr>\n",
       "    <tr>\n",
       "      <th>RP23-317L18.4</th>\n",
       "      <td>ENSMUSG00000103377.1</td>\n",
       "    </tr>\n",
       "  </tbody>\n",
       "</table>\n",
       "</div>"
      ],
      "text/plain": [
       "                         gene_ids-0\n",
       "RP23-271O17.1  ENSMUSG00000102693.1\n",
       "Gm26206        ENSMUSG00000064842.1\n",
       "Xkr4           ENSMUSG00000051951.5\n",
       "RP23-317L18.1  ENSMUSG00000102851.1\n",
       "RP23-317L18.4  ENSMUSG00000103377.1"
      ]
     },
     "execution_count": 2,
     "metadata": {},
     "output_type": "execute_result"
    }
   ],
   "source": [
    "tenx_gene_ids = pandas.read_csv('monocle/200319GeneID.csv', index_col=0)\n",
    "print(tenx_gene_ids.shape)\n",
    "tenx_gene_ids.head()"
   ]
  },
  {
   "cell_type": "code",
   "execution_count": 3,
   "metadata": {},
   "outputs": [],
   "source": [
    "tenx_h5ad_filename = 'monocle/200120_10x.h5ad'\n",
    "adata = scanpy.read(os.path.expanduser(tenx_h5ad_filename))"
   ]
  },
  {
   "cell_type": "code",
   "execution_count": 4,
   "metadata": {},
   "outputs": [],
   "source": [
    "assert numpy.all(adata.var_names == tenx_gene_ids.index)"
   ]
  },
  {
   "cell_type": "code",
   "execution_count": 5,
   "metadata": {},
   "outputs": [
    {
     "name": "stdout",
     "output_type": "stream",
     "text": [
      "adding gene_id\n"
     ]
    }
   ],
   "source": [
    "if 'gene_id' not in adata.var_keys():\n",
    "    print(\"adding gene_id\")\n",
    "    adata.var['gene_id'] = tenx_gene_ids['gene_ids-0']\n",
    "    adata.write(tenx_h5ad_filename, compression=9)"
   ]
  }
 ],
 "metadata": {
  "kernelspec": {
   "display_name": "Python 3",
   "language": "python",
   "name": "python3"
  },
  "language_info": {
   "codemirror_mode": {
    "name": "ipython",
    "version": 3
   },
   "file_extension": ".py",
   "mimetype": "text/x-python",
   "name": "python",
   "nbconvert_exporter": "python",
   "pygments_lexer": "ipython3",
   "version": "3.8.2"
  }
 },
 "nbformat": 4,
 "nbformat_minor": 4
}
