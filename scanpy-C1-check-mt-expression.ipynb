{
 "cells": [
  {
   "cell_type": "code",
   "execution_count": 1,
   "metadata": {},
   "outputs": [
    {
     "name": "stderr",
     "output_type": "stream",
     "text": [
      "/usr/lib/python3/dist-packages/numba/errors.py:104: UserWarning: Insufficiently recent colorama version found. Numba requires colorama >= 0.3.9\n",
      "  warnings.warn(msg)\n"
     ]
    }
   ],
   "source": [
    "import anndata\n",
    "import numpy\n",
    "import os\n",
    "import pandas\n",
    "import scanpy\n",
    "from matplotlib import pyplot"
   ]
  },
  {
   "cell_type": "code",
   "execution_count": 2,
   "metadata": {},
   "outputs": [],
   "source": [
    "%matplotlib inline"
   ]
  },
  {
   "cell_type": "code",
   "execution_count": 3,
   "metadata": {},
   "outputs": [],
   "source": [
    "from woldrnaseq import gtfcache"
   ]
  },
  {
   "cell_type": "code",
   "execution_count": 4,
   "metadata": {},
   "outputs": [],
   "source": [
    "m4 = gtfcache.load_gtf_cache(os.path.expanduser('~/proj/genome/mm10-M4-male/mm10-M4-male.h5'))"
   ]
  },
  {
   "cell_type": "code",
   "execution_count": 5,
   "metadata": {},
   "outputs": [],
   "source": [
    "scanpy.settings.verbosity = 3"
   ]
  },
  {
   "cell_type": "code",
   "execution_count": 6,
   "metadata": {},
   "outputs": [],
   "source": [
    "quantification='FPKM'"
   ]
  },
  {
   "cell_type": "code",
   "execution_count": 7,
   "metadata": {},
   "outputs": [],
   "source": [
    "ad = scanpy.read_h5ad('paper_analysis_vdir/C1_mouse_forelimb_{}.h5ad'.format(quantification))"
   ]
  },
  {
   "cell_type": "code",
   "execution_count": 8,
   "metadata": {},
   "outputs": [
    {
     "data": {
      "text/plain": [
       "index\n",
       "10000    10000\n",
       "10001    10001\n",
       "10002    10002\n",
       "10003    10003\n",
       "10004    10004\n",
       "Name: gene_id, dtype: object"
      ]
     },
     "execution_count": 8,
     "metadata": {},
     "output_type": "execute_result"
    }
   ],
   "source": [
    "ad.obs['gene_id'].head()"
   ]
  },
  {
   "cell_type": "code",
   "execution_count": 9,
   "metadata": {},
   "outputs": [
    {
     "data": {
      "text/plain": [
       "{'3prime_overlapping_ncrna',\n",
       " 'IG_C_gene',\n",
       " 'IG_C_pseudogene',\n",
       " 'IG_D_gene',\n",
       " 'IG_D_pseudogene',\n",
       " 'IG_J_gene',\n",
       " 'IG_LV_gene',\n",
       " 'IG_V_gene',\n",
       " 'IG_V_pseudogene',\n",
       " 'Mt_rRNA',\n",
       " 'Mt_tRNA',\n",
       " 'TEC',\n",
       " 'TR_C_gene',\n",
       " 'TR_D_gene',\n",
       " 'TR_J_gene',\n",
       " 'TR_J_pseudogene',\n",
       " 'TR_V_gene',\n",
       " 'TR_V_pseudogene',\n",
       " 'antisense',\n",
       " 'lincRNA',\n",
       " 'miRNA',\n",
       " 'misc_RNA',\n",
       " nan,\n",
       " 'polymorphic_pseudogene',\n",
       " 'processed_pseudogene',\n",
       " 'processed_transcript',\n",
       " 'protein_coding',\n",
       " 'pseudogene',\n",
       " 'rRNA',\n",
       " 'sense_intronic',\n",
       " 'sense_overlapping',\n",
       " 'snRNA',\n",
       " 'snoRNA',\n",
       " 'tRNAscan',\n",
       " 'transcribed_processed_pseudogene',\n",
       " 'transcribed_unprocessed_pseudogene',\n",
       " 'translated_processed_pseudogene',\n",
       " 'translated_unprocessed_pseudogene',\n",
       " 'unitary_pseudogene',\n",
       " 'unprocessed_pseudogene'}"
      ]
     },
     "execution_count": 9,
     "metadata": {},
     "output_type": "execute_result"
    }
   ],
   "source": [
    "set(m4['gene_type'])"
   ]
  },
  {
   "cell_type": "code",
   "execution_count": 10,
   "metadata": {},
   "outputs": [
    {
     "data": {
      "text/html": [
       "<div>\n",
       "<style scoped>\n",
       "    .dataframe tbody tr th:only-of-type {\n",
       "        vertical-align: middle;\n",
       "    }\n",
       "\n",
       "    .dataframe tbody tr th {\n",
       "        vertical-align: top;\n",
       "    }\n",
       "\n",
       "    .dataframe thead th {\n",
       "        text-align: right;\n",
       "    }\n",
       "</style>\n",
       "<table border=\"1\" class=\"dataframe\">\n",
       "  <thead>\n",
       "    <tr style=\"text-align: right;\">\n",
       "      <th></th>\n",
       "      <th>gene_id</th>\n",
       "      <th>gene_name</th>\n",
       "    </tr>\n",
       "  </thead>\n",
       "  <tbody>\n",
       "    <tr>\n",
       "      <th>1490858</th>\n",
       "      <td>ENSMUSG00000064336.1</td>\n",
       "      <td>mt-Tf</td>\n",
       "    </tr>\n",
       "    <tr>\n",
       "      <th>1490861</th>\n",
       "      <td>ENSMUSG00000064337.1</td>\n",
       "      <td>mt-Rnr1</td>\n",
       "    </tr>\n",
       "    <tr>\n",
       "      <th>1490864</th>\n",
       "      <td>ENSMUSG00000064338.1</td>\n",
       "      <td>mt-Tv</td>\n",
       "    </tr>\n",
       "    <tr>\n",
       "      <th>1490867</th>\n",
       "      <td>ENSMUSG00000064339.1</td>\n",
       "      <td>mt-Rnr2</td>\n",
       "    </tr>\n",
       "    <tr>\n",
       "      <th>1490870</th>\n",
       "      <td>ENSMUSG00000064340.1</td>\n",
       "      <td>mt-Tl1</td>\n",
       "    </tr>\n",
       "    <tr>\n",
       "      <th>1490873</th>\n",
       "      <td>ENSMUSG00000064341.1</td>\n",
       "      <td>mt-Nd1</td>\n",
       "    </tr>\n",
       "    <tr>\n",
       "      <th>1490879</th>\n",
       "      <td>ENSMUSG00000064342.1</td>\n",
       "      <td>mt-Ti</td>\n",
       "    </tr>\n",
       "    <tr>\n",
       "      <th>1490882</th>\n",
       "      <td>ENSMUSG00000064343.1</td>\n",
       "      <td>mt-Tq</td>\n",
       "    </tr>\n",
       "    <tr>\n",
       "      <th>1490885</th>\n",
       "      <td>ENSMUSG00000064344.1</td>\n",
       "      <td>mt-Tm</td>\n",
       "    </tr>\n",
       "    <tr>\n",
       "      <th>1490888</th>\n",
       "      <td>ENSMUSG00000064345.1</td>\n",
       "      <td>mt-Nd2</td>\n",
       "    </tr>\n",
       "    <tr>\n",
       "      <th>1490894</th>\n",
       "      <td>ENSMUSG00000064346.1</td>\n",
       "      <td>mt-Tw</td>\n",
       "    </tr>\n",
       "    <tr>\n",
       "      <th>1490897</th>\n",
       "      <td>ENSMUSG00000064347.1</td>\n",
       "      <td>mt-Ta</td>\n",
       "    </tr>\n",
       "    <tr>\n",
       "      <th>1490900</th>\n",
       "      <td>ENSMUSG00000064348.1</td>\n",
       "      <td>mt-Tn</td>\n",
       "    </tr>\n",
       "    <tr>\n",
       "      <th>1490903</th>\n",
       "      <td>ENSMUSG00000064349.1</td>\n",
       "      <td>mt-Tc</td>\n",
       "    </tr>\n",
       "    <tr>\n",
       "      <th>1490906</th>\n",
       "      <td>ENSMUSG00000064350.1</td>\n",
       "      <td>mt-Ty</td>\n",
       "    </tr>\n",
       "    <tr>\n",
       "      <th>1490909</th>\n",
       "      <td>ENSMUSG00000064351.1</td>\n",
       "      <td>mt-Co1</td>\n",
       "    </tr>\n",
       "    <tr>\n",
       "      <th>1490916</th>\n",
       "      <td>ENSMUSG00000064352.1</td>\n",
       "      <td>mt-Ts1</td>\n",
       "    </tr>\n",
       "    <tr>\n",
       "      <th>1490919</th>\n",
       "      <td>ENSMUSG00000064353.1</td>\n",
       "      <td>mt-Td</td>\n",
       "    </tr>\n",
       "    <tr>\n",
       "      <th>1490922</th>\n",
       "      <td>ENSMUSG00000064354.1</td>\n",
       "      <td>mt-Co2</td>\n",
       "    </tr>\n",
       "    <tr>\n",
       "      <th>1490929</th>\n",
       "      <td>ENSMUSG00000064355.1</td>\n",
       "      <td>mt-Tk</td>\n",
       "    </tr>\n",
       "    <tr>\n",
       "      <th>1490932</th>\n",
       "      <td>ENSMUSG00000064356.3</td>\n",
       "      <td>mt-Atp8</td>\n",
       "    </tr>\n",
       "    <tr>\n",
       "      <th>1490939</th>\n",
       "      <td>ENSMUSG00000064357.1</td>\n",
       "      <td>mt-Atp6</td>\n",
       "    </tr>\n",
       "    <tr>\n",
       "      <th>1490946</th>\n",
       "      <td>ENSMUSG00000064358.1</td>\n",
       "      <td>mt-Co3</td>\n",
       "    </tr>\n",
       "    <tr>\n",
       "      <th>1490951</th>\n",
       "      <td>ENSMUSG00000064359.1</td>\n",
       "      <td>mt-Tg</td>\n",
       "    </tr>\n",
       "    <tr>\n",
       "      <th>1490954</th>\n",
       "      <td>ENSMUSG00000064360.1</td>\n",
       "      <td>mt-Nd3</td>\n",
       "    </tr>\n",
       "    <tr>\n",
       "      <th>1490960</th>\n",
       "      <td>ENSMUSG00000064361.1</td>\n",
       "      <td>mt-Tr</td>\n",
       "    </tr>\n",
       "    <tr>\n",
       "      <th>1490963</th>\n",
       "      <td>ENSMUSG00000065947.3</td>\n",
       "      <td>mt-Nd4l</td>\n",
       "    </tr>\n",
       "    <tr>\n",
       "      <th>1490970</th>\n",
       "      <td>ENSMUSG00000064363.1</td>\n",
       "      <td>mt-Nd4</td>\n",
       "    </tr>\n",
       "    <tr>\n",
       "      <th>1490975</th>\n",
       "      <td>ENSMUSG00000064364.1</td>\n",
       "      <td>mt-Th</td>\n",
       "    </tr>\n",
       "    <tr>\n",
       "      <th>1490978</th>\n",
       "      <td>ENSMUSG00000064365.1</td>\n",
       "      <td>mt-Ts2</td>\n",
       "    </tr>\n",
       "    <tr>\n",
       "      <th>1490981</th>\n",
       "      <td>ENSMUSG00000064366.1</td>\n",
       "      <td>mt-Tl2</td>\n",
       "    </tr>\n",
       "    <tr>\n",
       "      <th>1490984</th>\n",
       "      <td>ENSMUSG00000064367.1</td>\n",
       "      <td>mt-Nd5</td>\n",
       "    </tr>\n",
       "    <tr>\n",
       "      <th>1490990</th>\n",
       "      <td>ENSMUSG00000064368.1</td>\n",
       "      <td>mt-Nd6</td>\n",
       "    </tr>\n",
       "    <tr>\n",
       "      <th>1490997</th>\n",
       "      <td>ENSMUSG00000064369.1</td>\n",
       "      <td>mt-Te</td>\n",
       "    </tr>\n",
       "    <tr>\n",
       "      <th>1491000</th>\n",
       "      <td>ENSMUSG00000064370.1</td>\n",
       "      <td>mt-Cytb</td>\n",
       "    </tr>\n",
       "    <tr>\n",
       "      <th>1491005</th>\n",
       "      <td>ENSMUSG00000064371.1</td>\n",
       "      <td>mt-Tt</td>\n",
       "    </tr>\n",
       "    <tr>\n",
       "      <th>1491008</th>\n",
       "      <td>ENSMUSG00000064372.1</td>\n",
       "      <td>mt-Tp</td>\n",
       "    </tr>\n",
       "  </tbody>\n",
       "</table>\n",
       "</div>"
      ],
      "text/plain": [
       "                      gene_id gene_name\n",
       "1490858  ENSMUSG00000064336.1     mt-Tf\n",
       "1490861  ENSMUSG00000064337.1   mt-Rnr1\n",
       "1490864  ENSMUSG00000064338.1     mt-Tv\n",
       "1490867  ENSMUSG00000064339.1   mt-Rnr2\n",
       "1490870  ENSMUSG00000064340.1    mt-Tl1\n",
       "1490873  ENSMUSG00000064341.1    mt-Nd1\n",
       "1490879  ENSMUSG00000064342.1     mt-Ti\n",
       "1490882  ENSMUSG00000064343.1     mt-Tq\n",
       "1490885  ENSMUSG00000064344.1     mt-Tm\n",
       "1490888  ENSMUSG00000064345.1    mt-Nd2\n",
       "1490894  ENSMUSG00000064346.1     mt-Tw\n",
       "1490897  ENSMUSG00000064347.1     mt-Ta\n",
       "1490900  ENSMUSG00000064348.1     mt-Tn\n",
       "1490903  ENSMUSG00000064349.1     mt-Tc\n",
       "1490906  ENSMUSG00000064350.1     mt-Ty\n",
       "1490909  ENSMUSG00000064351.1    mt-Co1\n",
       "1490916  ENSMUSG00000064352.1    mt-Ts1\n",
       "1490919  ENSMUSG00000064353.1     mt-Td\n",
       "1490922  ENSMUSG00000064354.1    mt-Co2\n",
       "1490929  ENSMUSG00000064355.1     mt-Tk\n",
       "1490932  ENSMUSG00000064356.3   mt-Atp8\n",
       "1490939  ENSMUSG00000064357.1   mt-Atp6\n",
       "1490946  ENSMUSG00000064358.1    mt-Co3\n",
       "1490951  ENSMUSG00000064359.1     mt-Tg\n",
       "1490954  ENSMUSG00000064360.1    mt-Nd3\n",
       "1490960  ENSMUSG00000064361.1     mt-Tr\n",
       "1490963  ENSMUSG00000065947.3   mt-Nd4l\n",
       "1490970  ENSMUSG00000064363.1    mt-Nd4\n",
       "1490975  ENSMUSG00000064364.1     mt-Th\n",
       "1490978  ENSMUSG00000064365.1    mt-Ts2\n",
       "1490981  ENSMUSG00000064366.1    mt-Tl2\n",
       "1490984  ENSMUSG00000064367.1    mt-Nd5\n",
       "1490990  ENSMUSG00000064368.1    mt-Nd6\n",
       "1490997  ENSMUSG00000064369.1     mt-Te\n",
       "1491000  ENSMUSG00000064370.1   mt-Cytb\n",
       "1491005  ENSMUSG00000064371.1     mt-Tt\n",
       "1491008  ENSMUSG00000064372.1     mt-Tp"
      ]
     },
     "execution_count": 10,
     "metadata": {},
     "output_type": "execute_result"
    }
   ],
   "source": [
    "mt = m4[(m4['type'] == 'gene') & (m4['gene_name'].apply(lambda x: str(x).startswith('mt-')))][['gene_id', 'gene_name']]\n",
    "mt"
   ]
  },
  {
   "cell_type": "code",
   "execution_count": 11,
   "metadata": {},
   "outputs": [
    {
     "data": {
      "image/png": "[encoded data removed]",
      "text/plain": [
       "<Figure size 432x576 with 1 Axes>"
      ]
     },
     "metadata": {
      "needs_background": "light"
     },
     "output_type": "display_data"
    }
   ],
   "source": [
    "f = pyplot.figure(figsize=(6,8))\n",
    "ax = f.add_subplot(1,1,1)\n",
    "for gene_id in mt['gene_id']:\n",
    "    mt_expression = ad[ad.obs['gene_id'] == gene_id] \n",
    "    ax.plot(mt_expression.X, label=gene_id)"
   ]
  },
  {
   "cell_type": "code",
   "execution_count": null,
   "metadata": {},
   "outputs": [],
   "source": []
  }
 ],
 "metadata": {
  "kernelspec": {
   "display_name": "Python 3",
   "language": "python",
   "name": "python3"
  },
  "language_info": {
   "codemirror_mode": {
    "name": "ipython",
    "version": 3
   },
   "file_extension": ".py",
   "mimetype": "text/x-python",
   "name": "python",
   "nbconvert_exporter": "python",
   "pygments_lexer": "ipython3",
   "version": "3.7.3"
  }
 },
 "nbformat": 4,
 "nbformat_minor": 2
}
