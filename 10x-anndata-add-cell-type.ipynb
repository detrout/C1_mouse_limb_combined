{
 "cells": [
  {
   "cell_type": "markdown",
   "metadata": {},
   "source": [
    "# Introduction"
   ]
  },
  {
   "cell_type": "markdown",
   "metadata": {},
   "source": [
    "In preparation for submitting the AnnData matrix to UCSC Peng thought it a good idea to add the cell type."
   ]
  },
  {
   "cell_type": "code",
   "execution_count": 1,
   "metadata": {},
   "outputs": [
    {
     "name": "stderr",
     "output_type": "stream",
     "text": [
      "/usr/lib/python3/dist-packages/numba/errors.py:104: UserWarning: Insufficiently recent colorama version found. Numba requires colorama >= 0.3.9\n",
      "  warnings.warn(msg)\n"
     ]
    }
   ],
   "source": [
    "import scanpy"
   ]
  },
  {
   "cell_type": "code",
   "execution_count": 2,
   "metadata": {},
   "outputs": [],
   "source": [
    "adata=scanpy.read(\"monocle/190714MouseLimb10Xraw.h5ad\")"
   ]
  },
  {
   "cell_type": "code",
   "execution_count": 3,
   "metadata": {},
   "outputs": [],
   "source": [
    "MouseDict={'0':'Mesenchymal cell 1',\n",
    "           '1':'Perichondrial cell',\n",
    "           '2':'Mesenchymal cell 2',\n",
    "           '3':'Chondrocyte',\n",
    "           '4':'Muscle 2',\n",
    "           '5':'Epithelial cell 1',\n",
    "           '6':'Fibroblast',\n",
    "           '7':'Muscle 1',\n",
    "           '8':'Macrophage',\n",
    "           '9':'Endothelial cell',\n",
    "           '10':'Foxp1+ perichondrial cell',\n",
    "           '11':'Tenocyte',\n",
    "           '12':'Muscle 4',\n",
    "           '13':'Early erythrocyte',\n",
    "           '14':'Neural crest cell',\n",
    "           '15':'Stressed mesenchymal cell',\n",
    "           '16':'Osteoblast',\n",
    "           '17':'Muscle 3',\n",
    "           '18':'Epithelial cell 2',\n",
    "           '19':'Smooth muscle cell',\n",
    "           '20':'EMP',\n",
    "           '21':'Megakaryocyte',\n",
    "           '22':'Col1a1+ muscle 4',\n",
    "           '23':'Late erythrocyte',\n",
    "           '24':'Ihh+ chondrocyte'\n",
    "        }"
   ]
  },
  {
   "cell_type": "code",
   "execution_count": 4,
   "metadata": {},
   "outputs": [
    {
     "name": "stderr",
     "output_type": "stream",
     "text": [
      "... storing 'CellType' as categorical\n"
     ]
    }
   ],
   "source": [
    "adata.obs['CellType']=adata.obs['ident'].replace(to_replace=MouseDict)\n",
    "adata.write_h5ad(\"monocle/190714MouseLimb10Xraw.h5ad\")"
   ]
  },
  {
   "cell_type": "code",
   "execution_count": null,
   "metadata": {},
   "outputs": [],
   "source": []
  }
 ],
 "metadata": {
  "kernelspec": {
   "display_name": "Python 3",
   "language": "python",
   "name": "python3"
  },
  "language_info": {
   "codemirror_mode": {
    "name": "ipython",
    "version": 3
   },
   "file_extension": ".py",
   "mimetype": "text/x-python",
   "name": "python",
   "nbconvert_exporter": "python",
   "pygments_lexer": "ipython3",
   "version": "3.7.4"
  }
 },
 "nbformat": 4,
 "nbformat_minor": 2
}
