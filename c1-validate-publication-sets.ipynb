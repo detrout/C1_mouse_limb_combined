{
 "cells": [
  {
   "cell_type": "markdown",
   "metadata": {},
   "source": [
    "# Introduction"
   ]
  },
  {
   "cell_type": "markdown",
   "metadata": {},
   "source": [
    "I feel like I should report to brian what's actually posted"
   ]
  },
  {
   "cell_type": "code",
   "execution_count": 1,
   "metadata": {},
   "outputs": [],
   "source": [
    "import pandas\n",
    "import collections\n",
    "import sys\n",
    "import os\n",
    "import rdflib"
   ]
  },
  {
   "cell_type": "code",
   "execution_count": 2,
   "metadata": {},
   "outputs": [],
   "source": [
    "HTSW=os.path.expanduser('~diane/proj/htsworkflow')\n",
    "if HTSW not in sys.path:\n",
    "    sys.path.append(HTSW)\n",
    "from htsworkflow.submission import encoded"
   ]
  },
  {
   "cell_type": "code",
   "execution_count": 3,
   "metadata": {},
   "outputs": [],
   "source": [
    "class JumpgateInfo:\n",
    "    def __init__(self):\n",
    "        self.cache = {}\n",
    "        \n",
    "    def __call__(self, library_id):\n",
    "        return self.cache.setdefault(library_id, self.get_library_info(library_id))\n",
    "        \n",
    "    def get_library_info(self, library_id):\n",
    "        if library_id is None:\n",
    "            return None\n",
    "\n",
    "        library = rdflib.term.URIRef(f'http://jumpgate.caltech.edu/library/{library_id}/')\n",
    "        g = rdflib.Graph()\n",
    "        g.parse(library)    \n",
    "        query = \"\"\"\n",
    "        prefix libns: <http://jumpgate.caltech.edu/wiki/LibraryOntology#>\n",
    "\n",
    "        select ?name\n",
    "        where {\n",
    "            ?library libns:name ?name .\n",
    "        }\n",
    "        \"\"\"\n",
    "\n",
    "        rows = list(g.query(query, initBindings={'library': library}))\n",
    "        assert len(rows) == 1, f'missing {library_id}'\n",
    "        fields = rows[0]\n",
    "        return {\n",
    "            'name': fields[0].toPython(),\n",
    "        }\n",
    "\n",
    "get_library_info = JumpgateInfo()"
   ]
  },
  {
   "cell_type": "code",
   "execution_count": null,
   "metadata": {},
   "outputs": [],
   "source": []
  },
  {
   "cell_type": "code",
   "execution_count": 4,
   "metadata": {},
   "outputs": [
    {
     "data": {
      "text/plain": [
       "{'name': 'Illumina index__708_517_Paired_ends_e10.5_mouse_forebrain_rep1'}"
      ]
     },
     "execution_count": 4,
     "metadata": {},
     "output_type": "execute_result"
    }
   ],
   "source": [
    "get_library_info('17288')"
   ]
  },
  {
   "cell_type": "code",
   "execution_count": 5,
   "metadata": {},
   "outputs": [],
   "source": [
    "server = encoded.ENCODED('www.encodeproject.org')\n",
    "#server = encoded.ENCODED('test.encodedcc.org')\n",
    "server.load_netrc()\n",
    "validator = encoded.DCCValidator(server)"
   ]
  },
  {
   "cell_type": "code",
   "execution_count": 6,
   "metadata": {},
   "outputs": [],
   "source": [
    "publication_sets = ['ENCSR574CRQ', 'ENCSR226XLF']"
   ]
  },
  {
   "cell_type": "code",
   "execution_count": 7,
   "metadata": {},
   "outputs": [],
   "source": [
    "publication_set = server.get_json('ENCSR574CRQ')"
   ]
  },
  {
   "cell_type": "code",
   "execution_count": null,
   "metadata": {},
   "outputs": [],
   "source": []
  },
  {
   "cell_type": "code",
   "execution_count": 8,
   "metadata": {},
   "outputs": [],
   "source": [
    "def get_publication_set_details(server, publication_accession):\n",
    "    records = []\n",
    "    publication_set = server.get_json(publication_accession)\n",
    "    for file_accession in publication_set['related_files']:\n",
    "        f = server.get_json(file_accession)\n",
    "        library = f.get('library', {})\n",
    "        aliases = library.get('aliases', [])\n",
    "        if len(aliases) == 1:\n",
    "            library_id = aliases[0].replace('barbara-wold:', '')\n",
    "            if '_' in library_id:\n",
    "                library_id = library_id.split('_')[0]\n",
    "            jumpgate = get_library_info(library_id)\n",
    "        else:\n",
    "            library_id = None\n",
    "            jumpgate = None\n",
    "        file_status = f.get('status')\n",
    "        library_status = library.get('status')\n",
    "        records.append({\n",
    "            'filename': f.get('submitted_file_name'),\n",
    "            'file': f['accession'],\n",
    "            'file_status': file_status,\n",
    "            'library': library.get('accession'),\n",
    "            'library_status': library_status,\n",
    "            'jumpgate': library_id,\n",
    "            'name': jumpgate.get('name') if jumpgate is not None else None,\n",
    "        })\n",
    "        \n",
    "    return pandas.DataFrame(\n",
    "        records, \n",
    "        columns=['file', 'file_status', 'library', 'library_status', 'jumpgate', 'name', 'filename'])"
   ]
  },
  {
   "cell_type": "code",
   "execution_count": 9,
   "metadata": {},
   "outputs": [],
   "source": [
    "ENCSR574CRQ = get_publication_set_details(server, 'ENCSR574CRQ')"
   ]
  },
  {
   "cell_type": "code",
   "execution_count": 10,
   "metadata": {},
   "outputs": [],
   "source": [
    "ENCSR574CRQ.to_excel('ENCSR574CRQ.xlsx', 'ENCSR574CRQ')"
   ]
  },
  {
   "cell_type": "code",
   "execution_count": 11,
   "metadata": {},
   "outputs": [
    {
     "data": {
      "text/plain": [
       "(7360, 7)"
      ]
     },
     "execution_count": 11,
     "metadata": {},
     "output_type": "execute_result"
    }
   ],
   "source": [
    "ENCSR226XLF = get_publication_set_details(server, 'ENCSR226XLF')\n",
    "ENCSR226XLF.shape"
   ]
  },
  {
   "cell_type": "code",
   "execution_count": 12,
   "metadata": {},
   "outputs": [],
   "source": [
    "ENCSR226XLF.to_excel('ENCSR226XLF.xlsx', 'ENCSR226XLF')"
   ]
  },
  {
   "cell_type": "code",
   "execution_count": 13,
   "metadata": {},
   "outputs": [],
   "source": [
    "ENCSR574CRQ_jumpgate = ENCSR574CRQ[['jumpgate', 'name']].dropna().drop_duplicates()"
   ]
  },
  {
   "cell_type": "code",
   "execution_count": 14,
   "metadata": {},
   "outputs": [],
   "source": [
    "ENCSR574CRQ_jumpgate.to_csv('ENCSR574CRQ_jumpgate.csv')"
   ]
  },
  {
   "cell_type": "code",
   "execution_count": 15,
   "metadata": {},
   "outputs": [
    {
     "data": {
      "text/plain": [
       "Counter({'released': 1199, 'revoked': 96})"
      ]
     },
     "execution_count": 15,
     "metadata": {},
     "output_type": "execute_result"
    }
   ],
   "source": [
    "collections.Counter(ENCSR574CRQ['file_status'])"
   ]
  },
  {
   "cell_type": "code",
   "execution_count": 16,
   "metadata": {},
   "outputs": [
    {
     "data": {
      "text/plain": [
       "Counter({'released': 7360})"
      ]
     },
     "execution_count": 16,
     "metadata": {},
     "output_type": "execute_result"
    }
   ],
   "source": [
    "collections.Counter(ENCSR226XLF['file_status'])"
   ]
  },
  {
   "cell_type": "code",
   "execution_count": 17,
   "metadata": {},
   "outputs": [],
   "source": [
    "#ENCSR226XLF[ENCSR226XLF['file_status'] == 'released']['filename']"
   ]
  },
  {
   "cell_type": "code",
   "execution_count": null,
   "metadata": {},
   "outputs": [],
   "source": []
  }
 ],
 "metadata": {
  "kernelspec": {
   "display_name": "Python 3",
   "language": "python",
   "name": "python3"
  },
  "language_info": {
   "codemirror_mode": {
    "name": "ipython",
    "version": 3
   },
   "file_extension": ".py",
   "mimetype": "text/x-python",
   "name": "python",
   "nbconvert_exporter": "python",
   "pygments_lexer": "ipython3",
   "version": "3.7.4"
  }
 },
 "nbformat": 4,
 "nbformat_minor": 2
}
