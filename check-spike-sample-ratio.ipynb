{
 "cells": [
  {
   "cell_type": "markdown",
   "metadata": {},
   "source": [
    "# Introduction"
   ]
  },
  {
   "cell_type": "markdown",
   "metadata": {},
   "source": [
    "I've always been somewhat curious how stable the ratio of between spike-ins and sample is"
   ]
  },
  {
   "cell_type": "code",
   "execution_count": 4,
   "metadata": {},
   "outputs": [],
   "source": [
    "import pandas\n",
    "import os\n",
    "import sys\n",
    "import re\n",
    "from matplotlib import pyplot\n",
    "import seaborn\n",
    "\n",
    "from bulk_peng_utils import (\n",
    "    load_gene_table\n",
    ")"
   ]
  },
  {
   "cell_type": "code",
   "execution_count": 5,
   "metadata": {},
   "outputs": [],
   "source": [
    "%matplotlib inline"
   ]
  },
  {
   "cell_type": "markdown",
   "metadata": {},
   "source": [
    "The file is also available at https://woldlab.caltech.edu/~phe/temp2/RSEMTMPtime.gene"
   ]
  },
  {
   "cell_type": "code",
   "execution_count": 6,
   "metadata": {},
   "outputs": [],
   "source": [
    "tpms = load_gene_table('bulk_peng/RSEMTPMtime.gene')"
   ]
  },
  {
   "cell_type": "code",
   "execution_count": 13,
   "metadata": {},
   "outputs": [
    {
     "data": {
      "text/plain": [
       "Index(['10000', '10001', '10002', '10003', '10004', '10005', '10006', '10007',\n",
       "       '10008', '10009',\n",
       "       ...\n",
       "       'ENSMUSG00000104518.1', 'ENSMUSG00000104519.1', 'ENSMUSG00000104520.1',\n",
       "       'ENSMUSG00000104521.1', 'ENSMUSG00000104522.1', 'ENSMUSG00000104523.1',\n",
       "       'ENSMUSG00000104524.1', 'ENSMUSG00000104525.1', 'ENSMUSG00000104526.1',\n",
       "       'ENSMUSG00000104527.1'],\n",
       "      dtype='object', length=69594)"
      ]
     },
     "execution_count": 13,
     "metadata": {},
     "output_type": "execute_result"
    }
   ],
   "source": [
    "tpms.index[:-96]"
   ]
  },
  {
   "cell_type": "code",
   "execution_count": 9,
   "metadata": {},
   "outputs": [
    {
     "data": {
      "text/plain": [
       "Index(['gSpikein_ERCC-00002', 'gSpikein_ERCC-00003', 'gSpikein_ERCC-00004',\n",
       "       'gSpikein_ERCC-00007', 'gSpikein_ERCC-00009', 'gSpikein_ERCC-00012',\n",
       "       'gSpikein_ERCC-00013', 'gSpikein_ERCC-00014', 'gSpikein_ERCC-00016',\n",
       "       'gSpikein_ERCC-00017', 'gSpikein_ERCC-00018', 'gSpikein_ERCC-00019',\n",
       "       'gSpikein_ERCC-00022', 'gSpikein_ERCC-00023', 'gSpikein_ERCC-00024',\n",
       "       'gSpikein_ERCC-00025', 'gSpikein_ERCC-00028', 'gSpikein_ERCC-00031',\n",
       "       'gSpikein_ERCC-00033', 'gSpikein_ERCC-00034', 'gSpikein_ERCC-00035',\n",
       "       'gSpikein_ERCC-00039', 'gSpikein_ERCC-00040', 'gSpikein_ERCC-00041',\n",
       "       'gSpikein_ERCC-00042', 'gSpikein_ERCC-00043', 'gSpikein_ERCC-00044',\n",
       "       'gSpikein_ERCC-00046', 'gSpikein_ERCC-00048', 'gSpikein_ERCC-00051',\n",
       "       'gSpikein_ERCC-00053', 'gSpikein_ERCC-00054', 'gSpikein_ERCC-00057',\n",
       "       'gSpikein_ERCC-00058', 'gSpikein_ERCC-00059', 'gSpikein_ERCC-00060',\n",
       "       'gSpikein_ERCC-00061', 'gSpikein_ERCC-00062', 'gSpikein_ERCC-00067',\n",
       "       'gSpikein_ERCC-00069', 'gSpikein_ERCC-00071', 'gSpikein_ERCC-00073',\n",
       "       'gSpikein_ERCC-00074', 'gSpikein_ERCC-00075', 'gSpikein_ERCC-00076',\n",
       "       'gSpikein_ERCC-00077', 'gSpikein_ERCC-00078', 'gSpikein_ERCC-00079',\n",
       "       'gSpikein_ERCC-00081', 'gSpikein_ERCC-00083', 'gSpikein_ERCC-00084',\n",
       "       'gSpikein_ERCC-00085', 'gSpikein_ERCC-00086', 'gSpikein_ERCC-00092',\n",
       "       'gSpikein_ERCC-00095', 'gSpikein_ERCC-00096', 'gSpikein_ERCC-00097',\n",
       "       'gSpikein_ERCC-00098', 'gSpikein_ERCC-00099', 'gSpikein_ERCC-00104',\n",
       "       'gSpikein_ERCC-00108', 'gSpikein_ERCC-00109', 'gSpikein_ERCC-00111',\n",
       "       'gSpikein_ERCC-00112', 'gSpikein_ERCC-00113', 'gSpikein_ERCC-00116',\n",
       "       'gSpikein_ERCC-00117', 'gSpikein_ERCC-00120', 'gSpikein_ERCC-00123',\n",
       "       'gSpikein_ERCC-00126', 'gSpikein_ERCC-00128', 'gSpikein_ERCC-00130',\n",
       "       'gSpikein_ERCC-00131', 'gSpikein_ERCC-00134', 'gSpikein_ERCC-00136',\n",
       "       'gSpikein_ERCC-00137', 'gSpikein_ERCC-00138', 'gSpikein_ERCC-00142',\n",
       "       'gSpikein_ERCC-00143', 'gSpikein_ERCC-00144', 'gSpikein_ERCC-00145',\n",
       "       'gSpikein_ERCC-00147', 'gSpikein_ERCC-00148', 'gSpikein_ERCC-00150',\n",
       "       'gSpikein_ERCC-00154', 'gSpikein_ERCC-00156', 'gSpikein_ERCC-00157',\n",
       "       'gSpikein_ERCC-00158', 'gSpikein_ERCC-00160', 'gSpikein_ERCC-00162',\n",
       "       'gSpikein_ERCC-00163', 'gSpikein_ERCC-00164', 'gSpikein_ERCC-00165',\n",
       "       'gSpikein_ERCC-00168', 'gSpikein_ERCC-00170', 'gSpikein_ERCC-00171'],\n",
       "      dtype='object')"
      ]
     },
     "execution_count": 9,
     "metadata": {},
     "output_type": "execute_result"
    }
   ],
   "source": [
    "tpms.index[-96:]"
   ]
  },
  {
   "cell_type": "code",
   "execution_count": 17,
   "metadata": {},
   "outputs": [
    {
     "data": {
      "text/plain": [
       "Index(['gene_name', 'adrenal_p0_1', 'adrenal_p0_2', 'bladder_p0_1',\n",
       "       'bladder_p0_2', 'face_e10.5_1', 'face_e10.5_2', 'face_e11.5_1',\n",
       "       'face_e11.5_2', 'face_e12.5_1',\n",
       "       ...\n",
       "       'stomach_e14.5_1', 'stomach_e14.5_2', 'stomach_e15.5_1',\n",
       "       'stomach_e15.5_2', 'stomach_e16.5_1', 'stomach_e16.5_2', 'stomach_p0_1',\n",
       "       'stomach_p0_2', 'thymus_p0_1', 'thymus_p0_2'],\n",
       "      dtype='object', length=157)"
      ]
     },
     "execution_count": 17,
     "metadata": {},
     "output_type": "execute_result"
    }
   ],
   "source": [
    "tpms.columns"
   ]
  },
  {
   "cell_type": "code",
   "execution_count": 23,
   "metadata": {},
   "outputs": [],
   "source": [
    "sample = tpms.loc['10000':'ENSMUSG00000104527.1', 'adrenal_p0_1':'thymus_p0_2'].sum(axis='rows')"
   ]
  },
  {
   "cell_type": "code",
   "execution_count": 24,
   "metadata": {},
   "outputs": [],
   "source": [
    "spikes = tpms.loc['gSpikein_ERCC-00002':'gSpikein_ERCC-00171', 'adrenal_p0_1':'thymus_p0_2'].sum(axis='rows')"
   ]
  },
  {
   "cell_type": "code",
   "execution_count": 26,
   "metadata": {},
   "outputs": [],
   "source": [
    "fraction_spike = spikes / (sample+spikes)"
   ]
  },
  {
   "cell_type": "code",
   "execution_count": null,
   "metadata": {},
   "outputs": [],
   "source": []
  },
  {
   "cell_type": "markdown",
   "metadata": {},
   "source": [
    "$\\frac{\\displaystyle\\sum_{i=spike-ins}{TPM_{experiment}}}\n",
    "  {\\displaystyle\\sum_{i=spike-ins}{TPM_{experiment}}+\n",
    "  {\\displaystyle\\sum_{i=genes}{TPM_{experiment}}}\n",
    "}$"
   ]
  },
  {
   "cell_type": "code",
   "execution_count": 58,
   "metadata": {},
   "outputs": [
    {
     "data": {
      "image/png": "[encoded data removed]",
      "text/plain": [
       "<Figure size 576x432 with 1 Axes>"
      ]
     },
     "metadata": {
      "needs_background": "light"
     },
     "output_type": "display_data"
    }
   ],
   "source": [
    "f = pyplot.figure(figsize=(8,6))\n",
    "ax = f.add_subplot(1,1,1)\n",
    "fraction_spike.sort_values().plot.line(ax=ax, use_index=True)\n",
    "_ = ax.set_ylabel('Fraction spikes')\n",
    "_ = ax.set_xlabel('experiments')\n",
    "\n",
    "ticks = [ int(x) for x in ax.get_xticks() ]\n",
    "labels = [ fraction_spike.index[x] if x >=0 and x < len(fraction_spike.index) else '' for x in ticks]\n",
    "_ = ax.set_xticklabels(labels, rotation=90)"
   ]
  },
  {
   "cell_type": "code",
   "execution_count": 56,
   "metadata": {},
   "outputs": [
    {
     "data": {
      "text/plain": [
       "[-20.0, 0.0, 20.0, 40.0, 60.0, 80.0, 100.0, 120.0, 140.0, 160.0, 180.0]"
      ]
     },
     "execution_count": 56,
     "metadata": {},
     "output_type": "execute_result"
    }
   ],
   "source": [
    "ticks"
   ]
  },
  {
   "cell_type": "code",
   "execution_count": 43,
   "metadata": {},
   "outputs": [],
   "source": [
    "pandas.DataFrame.plot?"
   ]
  },
  {
   "cell_type": "code",
   "execution_count": 54,
   "metadata": {},
   "outputs": [
    {
     "data": {
      "text/plain": [
       "'neuraltube_e13.5_1'"
      ]
     },
     "execution_count": 54,
     "metadata": {},
     "output_type": "execute_result"
    }
   ],
   "source": [
    "fraction_spike.index[]"
   ]
  },
  {
   "cell_type": "code",
   "execution_count": null,
   "metadata": {},
   "outputs": [],
   "source": []
  }
 ],
 "metadata": {
  "kernelspec": {
   "display_name": "Python 3",
   "language": "python",
   "name": "python3"
  },
  "language_info": {
   "codemirror_mode": {
    "name": "ipython",
    "version": 3
   },
   "file_extension": ".py",
   "mimetype": "text/x-python",
   "name": "python",
   "nbconvert_exporter": "python",
   "pygments_lexer": "ipython3",
   "version": "3.7.4"
  }
 },
 "nbformat": 4,
 "nbformat_minor": 2
}
