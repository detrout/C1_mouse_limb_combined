{
 "cells": [
  {
   "cell_type": "code",
   "execution_count": 1,
   "metadata": {},
   "outputs": [],
   "source": [
    "import os\n",
    "from glob import glob\n",
    "import sys\n",
    "import pandas\n",
    "from collections import Counter\n",
    "from matplotlib import pyplot\n",
    "from seaborn import boxplot, stripplot, violinplot\n",
    "import numpy\n",
    "#from bokeh.io import output_notebook, show, save"
   ]
  },
  {
   "cell_type": "code",
   "execution_count": 2,
   "metadata": {},
   "outputs": [],
   "source": [
    "LRSC=os.path.expanduser('/woldlab/loxcyc/home/diane/proj/long-rna-seq-condor/')\n",
    "if LRSC not in sys.path:\n",
    "    sys.path.append(LRSC)"
   ]
  },
  {
   "cell_type": "code",
   "execution_count": 3,
   "metadata": {},
   "outputs": [],
   "source": [
    "from c1extra import boxplot, read_remote_sheet, get_cluster_maps, ODFReader"
   ]
  },
  {
   "cell_type": "code",
   "execution_count": 4,
   "metadata": {},
   "outputs": [],
   "source": [
    "%matplotlib inline"
   ]
  },
  {
   "cell_type": "code",
   "execution_count": 5,
   "metadata": {},
   "outputs": [],
   "source": [
    "LRSC = os.path.expanduser('~/proj/long-rna-seq-condor')\n",
    "if LRSC not in sys.path:\n",
    "    sys.path.append(LRSC)\n",
    "    \n",
    "from woldrnaseq.models import load_experiments\n",
    "#from woldrnaseq.iplots.genes_detected import GenesDetectedPlot\n",
    "from woldrnaseq.madqc import create_quantification_cache"
   ]
  },
  {
   "cell_type": "code",
   "execution_count": 6,
   "metadata": {},
   "outputs": [],
   "source": [
    "#output_notebook()"
   ]
  },
  {
   "cell_type": "code",
   "execution_count": 7,
   "metadata": {},
   "outputs": [],
   "source": [
    "sheet = read_remote_sheet(\n",
    "    \"https://woldlab.caltech.edu/nextcloud/index.php/s/Y5G5PTk5TNJaaPn/download\", \n",
    "    'genes_by_cluster')\n",
    "#cluster_label, cluster_color, cluster_order\n",
    "cluster_maps = get_cluster_maps(sheet, 'c1_class', 'c1_abbreviations')\n",
    "cluster_label = cluster_maps['label']\n",
    "cluster_color = cluster_maps['color']\n",
    "cluster_order = cluster_maps['order']"
   ]
  },
  {
   "cell_type": "code",
   "execution_count": 8,
   "metadata": {},
   "outputs": [],
   "source": [
    "vdir = os.path.expanduser('~diane/proj/C1_mouse_limb_combined/paper_analysis_vdir')"
   ]
  },
  {
   "cell_type": "code",
   "execution_count": 9,
   "metadata": {},
   "outputs": [],
   "source": [
    "runs = load_experiments([os.path.join(vdir, 'experiment_short_run_name.tsv')])"
   ]
  },
  {
   "cell_type": "code",
   "execution_count": 10,
   "metadata": {},
   "outputs": [
    {
     "data": {
      "text/html": [
       "<div>\n",
       "<style scoped>\n",
       "    .dataframe tbody tr th:only-of-type {\n",
       "        vertical-align: middle;\n",
       "    }\n",
       "\n",
       "    .dataframe tbody tr th {\n",
       "        vertical-align: top;\n",
       "    }\n",
       "\n",
       "    .dataframe thead th {\n",
       "        text-align: right;\n",
       "    }\n",
       "</style>\n",
       "<table border=\"1\" class=\"dataframe\">\n",
       "  <thead>\n",
       "    <tr style=\"text-align: right;\">\n",
       "      <th></th>\n",
       "      <th>replicates</th>\n",
       "      <th>analysis_dir</th>\n",
       "    </tr>\n",
       "    <tr>\n",
       "      <th>experiment</th>\n",
       "      <th></th>\n",
       "      <th></th>\n",
       "    </tr>\n",
       "  </thead>\n",
       "  <tbody>\n",
       "    <tr>\n",
       "      <th>run01_e10.5</th>\n",
       "      <td>[18042_A1, 18042_A2, 18042_A3, 18042_A4, 18042...</td>\n",
       "      <td>/woldlab/loxcyc/home/diane/proj/C1_mouse_limb_...</td>\n",
       "    </tr>\n",
       "    <tr>\n",
       "      <th>run02_e10.5</th>\n",
       "      <td>[17327_A2, 17327_A3, 17327_A4, 17327_A5, 17327...</td>\n",
       "      <td>/woldlab/loxcyc/home/diane/proj/C1_mouse_limb_...</td>\n",
       "    </tr>\n",
       "    <tr>\n",
       "      <th>run03_e10.5</th>\n",
       "      <td>[18087_F1, 18087_F2, 18087_F3, 18087_F4, 18087...</td>\n",
       "      <td>/woldlab/loxcyc/home/diane/proj/C1_mouse_limb_...</td>\n",
       "    </tr>\n",
       "    <tr>\n",
       "      <th>run04_e13.5</th>\n",
       "      <td>[18251_A1, 18251_A2, 18251_A3, 18251_A4, 18251...</td>\n",
       "      <td>/woldlab/loxcyc/home/diane/proj/C1_mouse_limb_...</td>\n",
       "    </tr>\n",
       "    <tr>\n",
       "      <th>run05_e11.0</th>\n",
       "      <td>[18258_A1, 18258_A2, 18258_A3, 18258_A5, 18258...</td>\n",
       "      <td>/woldlab/loxcyc/home/diane/proj/C1_mouse_limb_...</td>\n",
       "    </tr>\n",
       "    <tr>\n",
       "      <th>run06_e11.5</th>\n",
       "      <td>[18263_A2, 18263_A3, 18263_A4, 18263_A5, 18263...</td>\n",
       "      <td>/woldlab/loxcyc/home/diane/proj/C1_mouse_limb_...</td>\n",
       "    </tr>\n",
       "    <tr>\n",
       "      <th>run07_e12.5</th>\n",
       "      <td>[18270_A1, 18270_A2, 18270_A3, 18270_A4, 18270...</td>\n",
       "      <td>/woldlab/loxcyc/home/diane/proj/C1_mouse_limb_...</td>\n",
       "    </tr>\n",
       "    <tr>\n",
       "      <th>run08_e13.5</th>\n",
       "      <td>[18311_A1, 18311_A2, 18311_A4, 18311_A6, 18311...</td>\n",
       "      <td>/woldlab/loxcyc/home/diane/proj/C1_mouse_limb_...</td>\n",
       "    </tr>\n",
       "    <tr>\n",
       "      <th>run10_e11.5</th>\n",
       "      <td>[19906_A1, 19906_A2, 19906_A3, 19906_A4, 19906...</td>\n",
       "      <td>/woldlab/loxcyc/home/diane/proj/C1_mouse_limb_...</td>\n",
       "    </tr>\n",
       "    <tr>\n",
       "      <th>run11_e12.0</th>\n",
       "      <td>[20026_A1, 20026_A2, 20026_A3, 20026_A4, 20026...</td>\n",
       "      <td>/woldlab/loxcyc/home/diane/proj/C1_mouse_limb_...</td>\n",
       "    </tr>\n",
       "    <tr>\n",
       "      <th>run12_e13.0</th>\n",
       "      <td>[20033_A1, 20033_A2, 20033_A3, 20033_A4, 20033...</td>\n",
       "      <td>/woldlab/loxcyc/home/diane/proj/C1_mouse_limb_...</td>\n",
       "    </tr>\n",
       "    <tr>\n",
       "      <th>run13_e14.0</th>\n",
       "      <td>[20039_A1, 20039_A2, 20039_A3, 20039_A4, 20039...</td>\n",
       "      <td>/woldlab/loxcyc/home/diane/proj/C1_mouse_limb_...</td>\n",
       "    </tr>\n",
       "    <tr>\n",
       "      <th>run14_e15.5</th>\n",
       "      <td>[20044_A1, 20044_A2, 20044_A3, 20044_A4, 20044...</td>\n",
       "      <td>/woldlab/loxcyc/home/diane/proj/C1_mouse_limb_...</td>\n",
       "    </tr>\n",
       "    <tr>\n",
       "      <th>run15_e10.5</th>\n",
       "      <td>[19913_H1, 19913_H2, 19913_H3, 19913_H4, 19913...</td>\n",
       "      <td>/woldlab/loxcyc/home/diane/proj/C1_mouse_limb_...</td>\n",
       "    </tr>\n",
       "    <tr>\n",
       "      <th>run16_e11.0</th>\n",
       "      <td>[19914_A1, 19914_A2, 19914_A3, 19914_A4, 19914...</td>\n",
       "      <td>/woldlab/loxcyc/home/diane/proj/C1_mouse_limb_...</td>\n",
       "    </tr>\n",
       "    <tr>\n",
       "      <th>run17_e14.5</th>\n",
       "      <td>[19916_C2, 19916_C3, 19916_C4, 19916_C5, 19916...</td>\n",
       "      <td>/woldlab/loxcyc/home/diane/proj/C1_mouse_limb_...</td>\n",
       "    </tr>\n",
       "  </tbody>\n",
       "</table>\n",
       "</div>"
      ],
      "text/plain": [
       "                                                    replicates  \\\n",
       "experiment                                                       \n",
       "run01_e10.5  [18042_A1, 18042_A2, 18042_A3, 18042_A4, 18042...   \n",
       "run02_e10.5  [17327_A2, 17327_A3, 17327_A4, 17327_A5, 17327...   \n",
       "run03_e10.5  [18087_F1, 18087_F2, 18087_F3, 18087_F4, 18087...   \n",
       "run04_e13.5  [18251_A1, 18251_A2, 18251_A3, 18251_A4, 18251...   \n",
       "run05_e11.0  [18258_A1, 18258_A2, 18258_A3, 18258_A5, 18258...   \n",
       "run06_e11.5  [18263_A2, 18263_A3, 18263_A4, 18263_A5, 18263...   \n",
       "run07_e12.5  [18270_A1, 18270_A2, 18270_A3, 18270_A4, 18270...   \n",
       "run08_e13.5  [18311_A1, 18311_A2, 18311_A4, 18311_A6, 18311...   \n",
       "run10_e11.5  [19906_A1, 19906_A2, 19906_A3, 19906_A4, 19906...   \n",
       "run11_e12.0  [20026_A1, 20026_A2, 20026_A3, 20026_A4, 20026...   \n",
       "run12_e13.0  [20033_A1, 20033_A2, 20033_A3, 20033_A4, 20033...   \n",
       "run13_e14.0  [20039_A1, 20039_A2, 20039_A3, 20039_A4, 20039...   \n",
       "run14_e15.5  [20044_A1, 20044_A2, 20044_A3, 20044_A4, 20044...   \n",
       "run15_e10.5  [19913_H1, 19913_H2, 19913_H3, 19913_H4, 19913...   \n",
       "run16_e11.0  [19914_A1, 19914_A2, 19914_A3, 19914_A4, 19914...   \n",
       "run17_e14.5  [19916_C2, 19916_C3, 19916_C4, 19916_C5, 19916...   \n",
       "\n",
       "                                                  analysis_dir  \n",
       "experiment                                                      \n",
       "run01_e10.5  /woldlab/loxcyc/home/diane/proj/C1_mouse_limb_...  \n",
       "run02_e10.5  /woldlab/loxcyc/home/diane/proj/C1_mouse_limb_...  \n",
       "run03_e10.5  /woldlab/loxcyc/home/diane/proj/C1_mouse_limb_...  \n",
       "run04_e13.5  /woldlab/loxcyc/home/diane/proj/C1_mouse_limb_...  \n",
       "run05_e11.0  /woldlab/loxcyc/home/diane/proj/C1_mouse_limb_...  \n",
       "run06_e11.5  /woldlab/loxcyc/home/diane/proj/C1_mouse_limb_...  \n",
       "run07_e12.5  /woldlab/loxcyc/home/diane/proj/C1_mouse_limb_...  \n",
       "run08_e13.5  /woldlab/loxcyc/home/diane/proj/C1_mouse_limb_...  \n",
       "run10_e11.5  /woldlab/loxcyc/home/diane/proj/C1_mouse_limb_...  \n",
       "run11_e12.0  /woldlab/loxcyc/home/diane/proj/C1_mouse_limb_...  \n",
       "run12_e13.0  /woldlab/loxcyc/home/diane/proj/C1_mouse_limb_...  \n",
       "run13_e14.0  /woldlab/loxcyc/home/diane/proj/C1_mouse_limb_...  \n",
       "run14_e15.5  /woldlab/loxcyc/home/diane/proj/C1_mouse_limb_...  \n",
       "run15_e10.5  /woldlab/loxcyc/home/diane/proj/C1_mouse_limb_...  \n",
       "run16_e11.0  /woldlab/loxcyc/home/diane/proj/C1_mouse_limb_...  \n",
       "run17_e14.5  /woldlab/loxcyc/home/diane/proj/C1_mouse_limb_...  "
      ]
     },
     "execution_count": 10,
     "metadata": {},
     "output_type": "execute_result"
    }
   ],
   "source": [
    "runs"
   ]
  },
  {
   "cell_type": "code",
   "execution_count": 11,
   "metadata": {},
   "outputs": [
    {
     "data": {
      "text/plain": [
       "920"
      ]
     },
     "execution_count": 11,
     "metadata": {},
     "output_type": "execute_result"
    }
   ],
   "source": [
    "sum(runs['replicates'].apply(len))"
   ]
  },
  {
   "cell_type": "code",
   "execution_count": 12,
   "metadata": {},
   "outputs": [],
   "source": [
    "overrides = {\n",
    "    'run01_e10.5': 'ENCSR013YHQ',\n",
    "    'run02_e10.5': 'ENCSR156CIL',\n",
    "}"
   ]
  },
  {
   "cell_type": "code",
   "execution_count": 13,
   "metadata": {},
   "outputs": [
    {
     "name": "stdout",
     "output_type": "stream",
     "text": [
      "python3 -m singleqc.tube_likelihood --sep , -c ~/proj/single-cell-qc/singleqc/ENCSR013YHQ.tsv --combined-single run01_e10.5_gene_FPKM.csv -o run01_e10.5_gene_FPKM_likelihood.tsv\n",
      "python3 -m singleqc.tube_likelihood --sep , -c ~/proj/single-cell-qc/singleqc/ENCSR156CIL.tsv --combined-single run02_e10.5_gene_FPKM.csv -o run02_e10.5_gene_FPKM_likelihood.tsv\n"
     ]
    }
   ],
   "source": [
    "for experiment_name, row in runs.iterrows():\n",
    "    filename = experiment_name + '_gene_FPKM.csv'\n",
    "    spikeins = overrides.get(experiment_name, 'ENCSR535LMC')\n",
    "    template = 'python3 -m singleqc.tube_likelihood --sep , -c ~/proj/single-cell-qc/singleqc/{}.tsv --combined-single {} -o {}'\n",
    "    basename, _ = os.path.splitext(filename)\n",
    "    target = basename + '_likelihood.tsv'\n",
    "    if not os.path.exists(os.path.join(vdir, target)):\n",
    "        print(template.format(spikeins, filename, target))\n"
   ]
  },
  {
   "cell_type": "code",
   "execution_count": 14,
   "metadata": {},
   "outputs": [],
   "source": [
    "def load_psmcs(vdir):\n",
    "    extension = '_gene_FPKM_likelihood.tsv'\n",
    "    filenames = glob(os.path.join(vdir, 'run*' + extension))\n",
    "    order = []\n",
    "    psmc = []\n",
    "    for filename in filenames:\n",
    "        _, basename = os.path.split(filename)        \n",
    "        run_name = basename[:-len(extension)].replace('_', ' ')\n",
    "        order.append(run_name)\n",
    "        data = pandas.read_csv(filename, sep='\\t', index_col=0)\n",
    "        for cell, row in data[['psmc_run']].iterrows():\n",
    "            psmc.append((run_name, cell, row.psmc_run))\n",
    "\n",
    "    psmcs = pandas.DataFrame(psmc, columns=['label', 'cell_id', 'Psmc'])\n",
    "    psmcs.sort_values('label')\n",
    "    return psmcs"
   ]
  },
  {
   "cell_type": "code",
   "execution_count": 15,
   "metadata": {},
   "outputs": [
    {
     "data": {
      "text/html": [
       "<div>\n",
       "<style scoped>\n",
       "    .dataframe tbody tr th:only-of-type {\n",
       "        vertical-align: middle;\n",
       "    }\n",
       "\n",
       "    .dataframe tbody tr th {\n",
       "        vertical-align: top;\n",
       "    }\n",
       "\n",
       "    .dataframe thead th {\n",
       "        text-align: right;\n",
       "    }\n",
       "</style>\n",
       "<table border=\"1\" class=\"dataframe\">\n",
       "  <thead>\n",
       "    <tr style=\"text-align: right;\">\n",
       "      <th></th>\n",
       "      <th>label</th>\n",
       "      <th>cell_id</th>\n",
       "      <th>Psmc</th>\n",
       "    </tr>\n",
       "  </thead>\n",
       "  <tbody>\n",
       "    <tr>\n",
       "      <th>0</th>\n",
       "      <td>run05 e11.0</td>\n",
       "      <td>18262_E2</td>\n",
       "      <td>0.20</td>\n",
       "    </tr>\n",
       "    <tr>\n",
       "      <th>1</th>\n",
       "      <td>run05 e11.0</td>\n",
       "      <td>18261_D2</td>\n",
       "      <td>0.18</td>\n",
       "    </tr>\n",
       "    <tr>\n",
       "      <th>2</th>\n",
       "      <td>run05 e11.0</td>\n",
       "      <td>18260_C7</td>\n",
       "      <td>0.93</td>\n",
       "    </tr>\n",
       "    <tr>\n",
       "      <th>3</th>\n",
       "      <td>run05 e11.0</td>\n",
       "      <td>18258_A5</td>\n",
       "      <td>0.21</td>\n",
       "    </tr>\n",
       "    <tr>\n",
       "      <th>4</th>\n",
       "      <td>run05 e11.0</td>\n",
       "      <td>18261_D4</td>\n",
       "      <td>0.23</td>\n",
       "    </tr>\n",
       "  </tbody>\n",
       "</table>\n",
       "</div>"
      ],
      "text/plain": [
       "         label   cell_id  Psmc\n",
       "0  run05 e11.0  18262_E2  0.20\n",
       "1  run05 e11.0  18261_D2  0.18\n",
       "2  run05 e11.0  18260_C7  0.93\n",
       "3  run05 e11.0  18258_A5  0.21\n",
       "4  run05 e11.0  18261_D4  0.23"
      ]
     },
     "execution_count": 15,
     "metadata": {},
     "output_type": "execute_result"
    }
   ],
   "source": [
    "psmcs = load_psmcs(vdir)\n",
    "psmcs.head()"
   ]
  },
  {
   "cell_type": "code",
   "execution_count": 16,
   "metadata": {},
   "outputs": [
    {
     "data": {
      "text/html": [
       "<div>\n",
       "<style scoped>\n",
       "    .dataframe tbody tr th:only-of-type {\n",
       "        vertical-align: middle;\n",
       "    }\n",
       "\n",
       "    .dataframe tbody tr th {\n",
       "        vertical-align: top;\n",
       "    }\n",
       "\n",
       "    .dataframe thead th {\n",
       "        text-align: right;\n",
       "    }\n",
       "</style>\n",
       "<table border=\"1\" class=\"dataframe\">\n",
       "  <thead>\n",
       "    <tr style=\"text-align: right;\">\n",
       "      <th></th>\n",
       "      <th>N</th>\n",
       "    </tr>\n",
       "  </thead>\n",
       "  <tbody>\n",
       "    <tr>\n",
       "      <th>run05 e11.0</th>\n",
       "      <td>58</td>\n",
       "    </tr>\n",
       "    <tr>\n",
       "      <th>run08 e13.5</th>\n",
       "      <td>64</td>\n",
       "    </tr>\n",
       "    <tr>\n",
       "      <th>run15 e10.5</th>\n",
       "      <td>18</td>\n",
       "    </tr>\n",
       "    <tr>\n",
       "      <th>run17 e14.5</th>\n",
       "      <td>27</td>\n",
       "    </tr>\n",
       "    <tr>\n",
       "      <th>run13 e14.0</th>\n",
       "      <td>53</td>\n",
       "    </tr>\n",
       "    <tr>\n",
       "      <th>run04 e13.5</th>\n",
       "      <td>71</td>\n",
       "    </tr>\n",
       "    <tr>\n",
       "      <th>run10 e11.5</th>\n",
       "      <td>77</td>\n",
       "    </tr>\n",
       "    <tr>\n",
       "      <th>run11 e12.0</th>\n",
       "      <td>77</td>\n",
       "    </tr>\n",
       "    <tr>\n",
       "      <th>run14 e15.5</th>\n",
       "      <td>58</td>\n",
       "    </tr>\n",
       "    <tr>\n",
       "      <th>run06 e11.5</th>\n",
       "      <td>80</td>\n",
       "    </tr>\n",
       "    <tr>\n",
       "      <th>run07 e12.5</th>\n",
       "      <td>76</td>\n",
       "    </tr>\n",
       "    <tr>\n",
       "      <th>run16 e11.0</th>\n",
       "      <td>14</td>\n",
       "    </tr>\n",
       "    <tr>\n",
       "      <th>run12 e13.0</th>\n",
       "      <td>72</td>\n",
       "    </tr>\n",
       "    <tr>\n",
       "      <th>run03 e10.5</th>\n",
       "      <td>32</td>\n",
       "    </tr>\n",
       "  </tbody>\n",
       "</table>\n",
       "</div>"
      ],
      "text/plain": [
       "              N\n",
       "run05 e11.0  58\n",
       "run08 e13.5  64\n",
       "run15 e10.5  18\n",
       "run17 e14.5  27\n",
       "run13 e14.0  53\n",
       "run04 e13.5  71\n",
       "run10 e11.5  77\n",
       "run11 e12.0  77\n",
       "run14 e15.5  58\n",
       "run06 e11.5  80\n",
       "run07 e12.5  76\n",
       "run16 e11.0  14\n",
       "run12 e13.0  72\n",
       "run03 e10.5  32"
      ]
     },
     "execution_count": 16,
     "metadata": {},
     "output_type": "execute_result"
    }
   ],
   "source": [
    "cluster_count = pandas.Series(Counter(psmcs['label'])).to_frame()\n",
    "cluster_count.columns = ['N']\n",
    "cluster_count"
   ]
  },
  {
   "cell_type": "code",
   "execution_count": 17,
   "metadata": {},
   "outputs": [
    {
     "data": {
      "text/plain": [
       "(777, 3)"
      ]
     },
     "execution_count": 17,
     "metadata": {},
     "output_type": "execute_result"
    }
   ],
   "source": [
    "psmcs.shape"
   ]
  },
  {
   "cell_type": "code",
   "execution_count": 18,
   "metadata": {},
   "outputs": [],
   "source": [
    "clusters = load_experiments([os.path.join(vdir, 'experiment_cluster.tsv')])"
   ]
  },
  {
   "cell_type": "code",
   "execution_count": 19,
   "metadata": {},
   "outputs": [
    {
     "data": {
      "text/plain": [
       "Index(['EMP', 'chondrocyte', 'ectoderm', 'endothelial', 'macrophage',\n",
       "       'mesenchyme', 'muscle1', 'muscle2', 'muscle3', 'neural_crest',\n",
       "       'perichondrium'],\n",
       "      dtype='object', name='experiment')"
      ]
     },
     "execution_count": 19,
     "metadata": {},
     "output_type": "execute_result"
    }
   ],
   "source": [
    "clusters.index"
   ]
  },
  {
   "cell_type": "markdown",
   "metadata": {},
   "source": [
    "Need to use abbreviations for the cluster box plot.\n",
    "\n",
    "I should probably be loading it out of MouseSingleCellColors.ods but I'm in a hurry."
   ]
  },
  {
   "cell_type": "code",
   "execution_count": 20,
   "metadata": {},
   "outputs": [],
   "source": [
    "cluster_name_map = {\n",
    "    'EMP': 'EMP', \n",
    "    'chondrocyte': 'chon',\n",
    "    'ectoderm': 'ecto', \n",
    "    'endothelial': 'endo', \n",
    "    'macrophage': 'mac',\n",
    "    'mesenchyme': 'mes', \n",
    "    'muscle1': 'mus1',\n",
    "    'muscle2': 'mus2', \n",
    "    'muscle3': 'mus3', \n",
    "    'neural_crest': 'neur',\n",
    "    'perichondrium': 'pchon',\n",
    "}"
   ]
  },
  {
   "cell_type": "code",
   "execution_count": 21,
   "metadata": {},
   "outputs": [],
   "source": [
    "clusters.index = [cluster_name_map[x] for x in clusters.index]"
   ]
  },
  {
   "cell_type": "code",
   "execution_count": 22,
   "metadata": {},
   "outputs": [],
   "source": [
    "cell_cluster = {}\n",
    "for cluster_name, row in clusters.iterrows():\n",
    "    for replicate in row.replicates:\n",
    "        cell_cluster[replicate] = cluster_name"
   ]
  },
  {
   "cell_type": "code",
   "execution_count": 23,
   "metadata": {},
   "outputs": [],
   "source": [
    "psmcs['cluster_name'] = psmcs['cell_id'].apply(lambda x: cell_cluster[x])"
   ]
  },
  {
   "cell_type": "code",
   "execution_count": 24,
   "metadata": {},
   "outputs": [],
   "source": [
    "psmcs['color'] = psmcs['cluster_name'].apply(lambda x: cluster_color[x])"
   ]
  },
  {
   "cell_type": "code",
   "execution_count": 25,
   "metadata": {},
   "outputs": [
    {
     "data": {
      "text/html": [
       "<div>\n",
       "<style scoped>\n",
       "    .dataframe tbody tr th:only-of-type {\n",
       "        vertical-align: middle;\n",
       "    }\n",
       "\n",
       "    .dataframe tbody tr th {\n",
       "        vertical-align: top;\n",
       "    }\n",
       "\n",
       "    .dataframe thead th {\n",
       "        text-align: right;\n",
       "    }\n",
       "</style>\n",
       "<table border=\"1\" class=\"dataframe\">\n",
       "  <thead>\n",
       "    <tr style=\"text-align: right;\">\n",
       "      <th></th>\n",
       "      <th>Clusters</th>\n",
       "      <th>Psmcs</th>\n",
       "    </tr>\n",
       "  </thead>\n",
       "  <tbody>\n",
       "    <tr>\n",
       "      <th>EMP</th>\n",
       "      <td>5</td>\n",
       "      <td>5</td>\n",
       "    </tr>\n",
       "    <tr>\n",
       "      <th>chon</th>\n",
       "      <td>57</td>\n",
       "      <td>57</td>\n",
       "    </tr>\n",
       "    <tr>\n",
       "      <th>ecto</th>\n",
       "      <td>8</td>\n",
       "      <td>8</td>\n",
       "    </tr>\n",
       "    <tr>\n",
       "      <th>endo</th>\n",
       "      <td>7</td>\n",
       "      <td>6</td>\n",
       "    </tr>\n",
       "    <tr>\n",
       "      <th>mac</th>\n",
       "      <td>10</td>\n",
       "      <td>10</td>\n",
       "    </tr>\n",
       "    <tr>\n",
       "      <th>mes</th>\n",
       "      <td>571</td>\n",
       "      <td>459</td>\n",
       "    </tr>\n",
       "    <tr>\n",
       "      <th>mus1</th>\n",
       "      <td>54</td>\n",
       "      <td>24</td>\n",
       "    </tr>\n",
       "    <tr>\n",
       "      <th>mus2</th>\n",
       "      <td>38</td>\n",
       "      <td>38</td>\n",
       "    </tr>\n",
       "    <tr>\n",
       "      <th>mus3</th>\n",
       "      <td>23</td>\n",
       "      <td>23</td>\n",
       "    </tr>\n",
       "    <tr>\n",
       "      <th>neur</th>\n",
       "      <td>8</td>\n",
       "      <td>8</td>\n",
       "    </tr>\n",
       "    <tr>\n",
       "      <th>pchon</th>\n",
       "      <td>139</td>\n",
       "      <td>139</td>\n",
       "    </tr>\n",
       "  </tbody>\n",
       "</table>\n",
       "</div>"
      ],
      "text/plain": [
       "       Clusters  Psmcs\n",
       "EMP           5      5\n",
       "chon         57     57\n",
       "ecto          8      8\n",
       "endo          7      6\n",
       "mac          10     10\n",
       "mes         571    459\n",
       "mus1         54     24\n",
       "mus2         38     38\n",
       "mus3         23     23\n",
       "neur          8      8\n",
       "pchon       139    139"
      ]
     },
     "execution_count": 25,
     "metadata": {},
     "output_type": "execute_result"
    }
   ],
   "source": [
    "psmc_run_lengths = psmcs[['cluster_name', 'cell_id']].groupby('cluster_name').aggregate(len)\n",
    "psmc_run_lengths.columns = ['Psmcs']\n",
    "run_lengths = clusters['replicates'].apply(len).to_frame()\n",
    "run_lengths.index = [x.replace('_', ' ') for x in run_lengths.index]\n",
    "run_lengths.columns = ['Clusters']\n",
    "run_lengths.merge(psmc_run_lengths, left_index=True, right_index=True, how='outer')"
   ]
  },
  {
   "cell_type": "code",
   "execution_count": 26,
   "metadata": {},
   "outputs": [],
   "source": [
    "def plot_psmc(psmc, x='label', order=None):\n",
    "    if order is None:\n",
    "        order = sorted(psmc[x].unique())\n",
    "\n",
    "    mm2inch = 25.4\n",
    "    fontsize = 7\n",
    "    fontname = 'Arial'\n",
    "    fontkw = {\n",
    "        'fontsize': fontsize,\n",
    "        'fontname': fontname\n",
    "    }\n",
    "    f = pyplot.figure(figsize=(67/mm2inch, 80.549/mm2inch), dpi=150)\n",
    "    ax = f.add_subplot(1, 1, 1)\n",
    "    ax.set_title('C1 cell cluster', fontname=fontname, fontsize=fontsize+2)\n",
    "    boxplot(\n",
    "        x=x, y='Psmc', \n",
    "        #hue='cluster_name',\n",
    "        data=psmc,\n",
    "        order=order,\n",
    "        #color='#c0c0c0',\n",
    "        palette=cluster_color,\n",
    "        linewidth=0.8,\n",
    "        fliersize=0,\n",
    "        #width=5,\n",
    "        ax=ax)\n",
    "    #stripplot(x='label', y='Psmc', color='k', data=psmc,\n",
    "    #          order=order, jitter=True, s=2)\n",
    "    ax.legend().remove()\n",
    "    ax.set_ylim([0, 1])\n",
    "    ax.set_xlabel('')\n",
    "    ax.set_ylabel('Psmc', **fontkw)\n",
    "    for l in ax.xaxis.get_ticklabels():\n",
    "        l.set_rotation(90)\n",
    "        l.set_ha('center')\n",
    "        l.set_fontsize(fontsize)\n",
    "        l.set_fontname(fontname)\n",
    "\n",
    "    for l in ax.yaxis.get_ticklabels():\n",
    "        l.set_fontsize(fontsize)\n",
    "        l.set_fontname(fontname)\n",
    "    return ax"
   ]
  },
  {
   "cell_type": "code",
   "execution_count": 27,
   "metadata": {},
   "outputs": [
    {
     "name": "stderr",
     "output_type": "stream",
     "text": [
      "No handles with labels found to put in legend.\n",
      "findfont: Font family ['Arial'] not found. Falling back to DejaVu Sans.\n",
      "findfont: Font family ['Arial'] not found. Falling back to DejaVu Sans.\n"
     ]
    },
    {
     "data": {
      "image/png": "[encoded data removed]",
      "text/plain": [
       "<Figure size 395.669x475.683 with 1 Axes>"
      ]
     },
     "metadata": {
      "needs_background": "light"
     },
     "output_type": "display_data"
    }
   ],
   "source": [
    "ax = plot_psmc(psmcs, 'cluster_name', cluster_order)"
   ]
  },
  {
   "cell_type": "code",
   "execution_count": 28,
   "metadata": {},
   "outputs": [],
   "source": [
    "ax.figure.savefig('psmc_by_cluster_paper_777cells.svg', bbox_inches=\"tight\", pad_inches=0, transparent=True)\n",
    "ax.figure.savefig('psmc_by_cluster_paper_777cells.png', bbox_inches=\"tight\", pad_inches=0, transparent=True)"
   ]
  },
  {
   "cell_type": "code",
   "execution_count": 29,
   "metadata": {},
   "outputs": [
    {
     "data": {
      "text/html": [
       "<div>\n",
       "<style scoped>\n",
       "    .dataframe tbody tr th:only-of-type {\n",
       "        vertical-align: middle;\n",
       "    }\n",
       "\n",
       "    .dataframe tbody tr th {\n",
       "        vertical-align: top;\n",
       "    }\n",
       "\n",
       "    .dataframe thead th {\n",
       "        text-align: right;\n",
       "    }\n",
       "</style>\n",
       "<table border=\"1\" class=\"dataframe\">\n",
       "  <thead>\n",
       "    <tr style=\"text-align: right;\">\n",
       "      <th></th>\n",
       "      <th>Psmc</th>\n",
       "    </tr>\n",
       "    <tr>\n",
       "      <th>cluster_name</th>\n",
       "      <th></th>\n",
       "    </tr>\n",
       "  </thead>\n",
       "  <tbody>\n",
       "    <tr>\n",
       "      <th>EMP</th>\n",
       "      <td>0.480</td>\n",
       "    </tr>\n",
       "    <tr>\n",
       "      <th>chon</th>\n",
       "      <td>0.590</td>\n",
       "    </tr>\n",
       "    <tr>\n",
       "      <th>ecto</th>\n",
       "      <td>0.465</td>\n",
       "    </tr>\n",
       "    <tr>\n",
       "      <th>endo</th>\n",
       "      <td>0.550</td>\n",
       "    </tr>\n",
       "    <tr>\n",
       "      <th>mac</th>\n",
       "      <td>0.440</td>\n",
       "    </tr>\n",
       "    <tr>\n",
       "      <th>mes</th>\n",
       "      <td>0.530</td>\n",
       "    </tr>\n",
       "    <tr>\n",
       "      <th>mus1</th>\n",
       "      <td>0.505</td>\n",
       "    </tr>\n",
       "    <tr>\n",
       "      <th>mus2</th>\n",
       "      <td>0.515</td>\n",
       "    </tr>\n",
       "    <tr>\n",
       "      <th>mus3</th>\n",
       "      <td>0.470</td>\n",
       "    </tr>\n",
       "    <tr>\n",
       "      <th>neur</th>\n",
       "      <td>0.495</td>\n",
       "    </tr>\n",
       "    <tr>\n",
       "      <th>pchon</th>\n",
       "      <td>0.530</td>\n",
       "    </tr>\n",
       "  </tbody>\n",
       "</table>\n",
       "</div>"
      ],
      "text/plain": [
       "               Psmc\n",
       "cluster_name       \n",
       "EMP           0.480\n",
       "chon          0.590\n",
       "ecto          0.465\n",
       "endo          0.550\n",
       "mac           0.440\n",
       "mes           0.530\n",
       "mus1          0.505\n",
       "mus2          0.515\n",
       "mus3          0.470\n",
       "neur          0.495\n",
       "pchon         0.530"
      ]
     },
     "execution_count": 29,
     "metadata": {},
     "output_type": "execute_result"
    }
   ],
   "source": [
    "psmcs.groupby('cluster_name').aggregate(numpy.median)"
   ]
  },
  {
   "cell_type": "code",
   "execution_count": 30,
   "metadata": {},
   "outputs": [
    {
     "data": {
      "text/plain": [
       "'#00FFFF'"
      ]
     },
     "execution_count": 30,
     "metadata": {},
     "output_type": "execute_result"
    }
   ],
   "source": [
    "cluster_color['chon']"
   ]
  },
  {
   "cell_type": "code",
   "execution_count": null,
   "metadata": {},
   "outputs": [],
   "source": []
  }
 ],
 "metadata": {
  "kernelspec": {
   "display_name": "Python 3",
   "language": "python",
   "name": "python3"
  },
  "language_info": {
   "codemirror_mode": {
    "name": "ipython",
    "version": 3
   },
   "file_extension": ".py",
   "mimetype": "text/x-python",
   "name": "python",
   "nbconvert_exporter": "python",
   "pygments_lexer": "ipython3",
   "version": "3.8.2"
  }
 },
 "nbformat": 4,
 "nbformat_minor": 2
}
