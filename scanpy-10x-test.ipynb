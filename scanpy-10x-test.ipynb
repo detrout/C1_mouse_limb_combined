{
 "cells": [
  {
   "cell_type": "code",
   "execution_count": 1,
   "metadata": {},
   "outputs": [
    {
     "name": "stderr",
     "output_type": "stream",
     "text": [
      "/usr/lib/python3/dist-packages/numba/errors.py:104: UserWarning: Insufficiently recent colorama version found. Numba requires colorama >= 0.3.9\n",
      "  warnings.warn(msg)\n"
     ]
    }
   ],
   "source": [
    "import pandas\n",
    "import scanpy\n",
    "import os\n",
    "import sys\n",
    "import numpy"
   ]
  },
  {
   "cell_type": "code",
   "execution_count": 2,
   "metadata": {},
   "outputs": [],
   "source": [
    "%matplotlib inline"
   ]
  },
  {
   "cell_type": "code",
   "execution_count": 3,
   "metadata": {},
   "outputs": [
    {
     "name": "stdout",
     "output_type": "stream",
     "text": [
      "\u001b[0m\u001b[01;36m190714MouseLimb10Xraw.h5ad\u001b[0m@  \u001b[01;34mmouse\u001b[0m/\r\n"
     ]
    }
   ],
   "source": [
    "ls monocle/"
   ]
  },
  {
   "cell_type": "code",
   "execution_count": 4,
   "metadata": {},
   "outputs": [],
   "source": [
    "ad = scanpy.read_h5ad('monocle/190714MouseLimb10Xraw.h5ad')"
   ]
  },
  {
   "cell_type": "code",
   "execution_count": 5,
   "metadata": {},
   "outputs": [
    {
     "data": {
      "text/plain": [
       "odict_keys(['batch_colors', 'ident_colors'])"
      ]
     },
     "execution_count": 5,
     "metadata": {},
     "output_type": "execute_result"
    }
   ],
   "source": [
    "ad.uns.keys()"
   ]
  },
  {
   "cell_type": "code",
   "execution_count": 6,
   "metadata": {},
   "outputs": [
    {
     "data": {
      "text/plain": [
       "array(['#023fa5', '#7d87b9', '#bec1d4', '#d6bcc0', '#bb7784', '#8e063b',\n",
       "       '#4a6fe3', '#8595e1', '#b5bbe3', '#e6afb9', '#e07b91', '#d33f6a',\n",
       "       '#11c638', '#8dd593', '#c6dec7', '#ead3c6', '#f0b98d', '#ef9708',\n",
       "       '#0fcfc0', '#9cded6', '#d5eae7', '#f3e1eb', '#f6c4e1', '#f79cd4',\n",
       "       '#7f7f7f'], dtype=object)"
      ]
     },
     "execution_count": 6,
     "metadata": {},
     "output_type": "execute_result"
    }
   ],
   "source": [
    "ad.uns['ident_colors']"
   ]
  },
  {
   "cell_type": "code",
   "execution_count": 7,
   "metadata": {},
   "outputs": [
    {
     "data": {
      "text/plain": [
       "Index(['gene_ids-0', 'feature_types-0', 'gene_ids-1', 'feature_types-1',\n",
       "       'gene_ids-2', 'feature_types-2', 'gene_ids-3', 'feature_types-3',\n",
       "       'gene_ids-4', 'feature_types-4', 'gene_ids-5', 'feature_types-5',\n",
       "       'gene_ids-6', 'feature_types-6', 'gene_ids-7', 'feature_types-7',\n",
       "       'gene_ids-8', 'feature_types-8'],\n",
       "      dtype='object')"
      ]
     },
     "execution_count": 7,
     "metadata": {},
     "output_type": "execute_result"
    }
   ],
   "source": [
    "ad.var.keys()"
   ]
  },
  {
   "cell_type": "code",
   "execution_count": 8,
   "metadata": {},
   "outputs": [],
   "source": [
    "gene_names = list(ad.var['gene_ids-0'].index)"
   ]
  },
  {
   "cell_type": "code",
   "execution_count": 9,
   "metadata": {},
   "outputs": [
    {
     "data": {
      "text/plain": [
       "18008"
      ]
     },
     "execution_count": 9,
     "metadata": {},
     "output_type": "execute_result"
    }
   ],
   "source": [
    "gene_names.index('Myod1')"
   ]
  },
  {
   "cell_type": "code",
   "execution_count": 10,
   "metadata": {},
   "outputs": [
    {
     "data": {
      "text/plain": [
       "Index(['batch', 'n_genes', 'n_counts', 'orig_ident', 'percent_mito', 'stage',\n",
       "       'ident', 'doublet_scores', 'bh_pval', 'bh_pval_less_than_0.1',\n",
       "       'CellType'],\n",
       "      dtype='object')"
      ]
     },
     "execution_count": 10,
     "metadata": {},
     "output_type": "execute_result"
    }
   ],
   "source": [
    "ad.obs.keys()"
   ]
  },
  {
   "cell_type": "code",
   "execution_count": 11,
   "metadata": {},
   "outputs": [],
   "source": [
    "col = ad.X[18008]"
   ]
  },
  {
   "cell_type": "code",
   "execution_count": 12,
   "metadata": {},
   "outputs": [],
   "source": [
    "cola = col.toarray()"
   ]
  },
  {
   "cell_type": "code",
   "execution_count": 13,
   "metadata": {},
   "outputs": [
    {
     "data": {
      "text/plain": [
       "array([[ 0.,  0.,  0., ..., 57.,  0.,  0.]], dtype=float32)"
      ]
     },
     "execution_count": 13,
     "metadata": {},
     "output_type": "execute_result"
    }
   ],
   "source": [
    "cola[0:5]"
   ]
  },
  {
   "cell_type": "code",
   "execution_count": 14,
   "metadata": {},
   "outputs": [
    {
     "data": {
      "text/plain": [
       "index\n",
       "limb12_13_0AAACCTGAGATCGATA_1           Chondrocyte\n",
       "limb12_13_0AAACCTGAGATGAGAG_1    Mesenchymal cell 2\n",
       "limb12_13_0AAACCTGAGCAGATCG_1     Epithelial cell 1\n",
       "limb12_13_0AAACCTGAGCGATCCC_1            Fibroblast\n",
       "limb12_13_0AAACCTGAGTGTACCT_1    Perichondrial cell\n",
       "Name: CellType, dtype: category\n",
       "Categories (25, object): [Chondrocyte, Col1a1+ muscle 4, EMP, Early erythrocyte, ..., Perichondrial cell, Smooth muscle cell, Stressed mesenchymal cell, Tenocyte]"
      ]
     },
     "execution_count": 14,
     "metadata": {},
     "output_type": "execute_result"
    }
   ],
   "source": [
    "ad.obs['CellType'].head()"
   ]
  },
  {
   "cell_type": "code",
   "execution_count": 15,
   "metadata": {},
   "outputs": [
    {
     "data": {
      "text/plain": [
       "index\n",
       "limb8_15_0TTTGTCAGTCGAGTTT_1    6\n",
       "limb8_15_0TTTGTCAGTTATTCTC_1    6\n",
       "limb8_15_0TTTGTCAGTTCCGGCA_1    6\n",
       "limb8_15_0TTTGTCATCGTTGCCT_1    6\n",
       "limb8_15_0TTTGTCATCTGTCTCG_1    6\n",
       "Name: batch, dtype: category\n",
       "Categories (9, object): [0, 1, 2, 3, ..., 5, 6, 7, 8]"
      ]
     },
     "execution_count": 15,
     "metadata": {},
     "output_type": "execute_result"
    }
   ],
   "source": [
    "ad.obs['batch'].tail()"
   ]
  },
  {
   "cell_type": "code",
   "execution_count": 16,
   "metadata": {},
   "outputs": [
    {
     "data": {
      "text/plain": [
       "index\n",
       "limb12_13_0AAACCTGAGATCGATA_1    13.0\n",
       "limb12_13_0AAACCTGAGATGAGAG_1    13.0\n",
       "limb12_13_0AAACCTGAGCAGATCG_1    13.0\n",
       "limb12_13_0AAACCTGAGCGATCCC_1    13.0\n",
       "limb12_13_0AAACCTGAGTGTACCT_1    13.0\n",
       "Name: stage, dtype: category\n",
       "Categories (7, object): [10.5, 11.0, 12.0, 13.0, 13.5, 14.0, 15.0]"
      ]
     },
     "execution_count": 16,
     "metadata": {},
     "output_type": "execute_result"
    }
   ],
   "source": [
    "ad.obs['stage'].head()"
   ]
  },
  {
   "cell_type": "code",
   "execution_count": 17,
   "metadata": {},
   "outputs": [
    {
     "data": {
      "text/plain": [
       "index\n",
       "limb8_15_0TTTGTCAGTCGAGTTT_1    15.0\n",
       "limb8_15_0TTTGTCAGTTATTCTC_1    15.0\n",
       "limb8_15_0TTTGTCAGTTCCGGCA_1    15.0\n",
       "limb8_15_0TTTGTCATCGTTGCCT_1    15.0\n",
       "limb8_15_0TTTGTCATCTGTCTCG_1    15.0\n",
       "Name: stage, dtype: category\n",
       "Categories (7, object): [10.5, 11.0, 12.0, 13.0, 13.5, 14.0, 15.0]"
      ]
     },
     "execution_count": 17,
     "metadata": {},
     "output_type": "execute_result"
    }
   ],
   "source": [
    "ad.obs['stage'].tail()"
   ]
  },
  {
   "cell_type": "code",
   "execution_count": 18,
   "metadata": {},
   "outputs": [
    {
     "data": {
      "text/plain": [
       "(90637,)"
      ]
     },
     "execution_count": 18,
     "metadata": {},
     "output_type": "execute_result"
    }
   ],
   "source": [
    "ad.obs['orig_ident'].shape"
   ]
  },
  {
   "cell_type": "code",
   "execution_count": 19,
   "metadata": {},
   "outputs": [
    {
     "data": {
      "text/plain": [
       "(90637,)"
      ]
     },
     "execution_count": 19,
     "metadata": {},
     "output_type": "execute_result"
    }
   ],
   "source": [
    "ad.obs['ident'].shape"
   ]
  },
  {
   "cell_type": "code",
   "execution_count": 20,
   "metadata": {},
   "outputs": [
    {
     "data": {
      "text/plain": [
       "True"
      ]
     },
     "execution_count": 20,
     "metadata": {},
     "output_type": "execute_result"
    }
   ],
   "source": [
    "ad.obs['ident'].shape == ad.obs['orig_ident'].shape"
   ]
  },
  {
   "cell_type": "code",
   "execution_count": 21,
   "metadata": {},
   "outputs": [
    {
     "data": {
      "text/plain": [
       "False"
      ]
     },
     "execution_count": 21,
     "metadata": {},
     "output_type": "execute_result"
    }
   ],
   "source": [
    "numpy.all(ad.obs['orig_ident'].tolist() == ad.obs['ident'].tolist())"
   ]
  },
  {
   "cell_type": "code",
   "execution_count": 22,
   "metadata": {},
   "outputs": [],
   "source": [
    "s = ad.obs['orig_ident']"
   ]
  },
  {
   "cell_type": "code",
   "execution_count": 23,
   "metadata": {},
   "outputs": [
    {
     "data": {
      "text/plain": [
       "{'limb1',\n",
       " 'limb12',\n",
       " 'limb13',\n",
       " 'limb3',\n",
       " 'limb4',\n",
       " 'limb5',\n",
       " 'limb6',\n",
       " 'limb7',\n",
       " 'limb8'}"
      ]
     },
     "execution_count": 23,
     "metadata": {},
     "output_type": "execute_result"
    }
   ],
   "source": [
    "set(ad.obs['orig_ident'])"
   ]
  },
  {
   "cell_type": "code",
   "execution_count": 24,
   "metadata": {},
   "outputs": [
    {
     "data": {
      "text/plain": [
       "{'0',\n",
       " '1',\n",
       " '10',\n",
       " '11',\n",
       " '12',\n",
       " '13',\n",
       " '14',\n",
       " '15',\n",
       " '16',\n",
       " '17',\n",
       " '18',\n",
       " '19',\n",
       " '2',\n",
       " '20',\n",
       " '21',\n",
       " '22',\n",
       " '23',\n",
       " '24',\n",
       " '3',\n",
       " '4',\n",
       " '5',\n",
       " '6',\n",
       " '7',\n",
       " '8',\n",
       " '9'}"
      ]
     },
     "execution_count": 24,
     "metadata": {},
     "output_type": "execute_result"
    }
   ],
   "source": [
    "set(ad.obs['ident'])"
   ]
  },
  {
   "cell_type": "code",
   "execution_count": 29,
   "metadata": {},
   "outputs": [
    {
     "ename": "ValueError",
     "evalue": "could not convert integer scalar",
     "output_type": "error",
     "traceback": [
      "\u001b[0;31m---------------------------------------------------------------------------\u001b[0m",
      "\u001b[0;31mValueError\u001b[0m                                Traceback (most recent call last)",
      "\u001b[0;32m<ipython-input-29-c017e1b27420>\u001b[0m in \u001b[0;36m<module>\u001b[0;34m()\u001b[0m\n\u001b[0;32m----> 1\u001b[0;31m \u001b[0mad\u001b[0m\u001b[0;34m.\u001b[0m\u001b[0mX\u001b[0m\u001b[0;34m[\u001b[0m\u001b[0mad\u001b[0m\u001b[0;34m.\u001b[0m\u001b[0mobs\u001b[0m\u001b[0;34m[\u001b[0m\u001b[0;34m'ident'\u001b[0m\u001b[0;34m]\u001b[0m \u001b[0;34m==\u001b[0m \u001b[0;34m'13'\u001b[0m\u001b[0;34m]\u001b[0m\u001b[0;34m[\u001b[0m\u001b[0mad\u001b[0m\u001b[0;34m.\u001b[0m\u001b[0mvar\u001b[0m\u001b[0;34m[\u001b[0m\u001b[0;34m'gene_ids-0'\u001b[0m\u001b[0;34m]\u001b[0m \u001b[0;34m==\u001b[0m \u001b[0;34m'Myod1'\u001b[0m\u001b[0;34m]\u001b[0m\u001b[0;34m.\u001b[0m\u001b[0mshape\u001b[0m\u001b[0;34m\u001b[0m\u001b[0;34m\u001b[0m\u001b[0m\n\u001b[0m",
      "\u001b[0;32m/usr/lib/python3/dist-packages/scipy/sparse/csr.py\u001b[0m in \u001b[0;36m__getitem__\u001b[0;34m(self, key)\u001b[0m\n\u001b[1;32m    348\u001b[0m         csr_sample_values(self.shape[0], self.shape[1],\n\u001b[1;32m    349\u001b[0m                           \u001b[0mself\u001b[0m\u001b[0;34m.\u001b[0m\u001b[0mindptr\u001b[0m\u001b[0;34m,\u001b[0m \u001b[0mself\u001b[0m\u001b[0;34m.\u001b[0m\u001b[0mindices\u001b[0m\u001b[0;34m,\u001b[0m \u001b[0mself\u001b[0m\u001b[0;34m.\u001b[0m\u001b[0mdata\u001b[0m\u001b[0;34m,\u001b[0m\u001b[0;34m\u001b[0m\u001b[0;34m\u001b[0m\u001b[0m\n\u001b[0;32m--> 350\u001b[0;31m                           num_samples, row.ravel(), col.ravel(), val)\n\u001b[0m\u001b[1;32m    351\u001b[0m         \u001b[0;32mif\u001b[0m \u001b[0mrow\u001b[0m\u001b[0;34m.\u001b[0m\u001b[0mndim\u001b[0m \u001b[0;34m==\u001b[0m \u001b[0;36m1\u001b[0m\u001b[0;34m:\u001b[0m\u001b[0;34m\u001b[0m\u001b[0;34m\u001b[0m\u001b[0m\n\u001b[1;32m    352\u001b[0m             \u001b[0;31m# row and col are 1d\u001b[0m\u001b[0;34m\u001b[0m\u001b[0;34m\u001b[0m\u001b[0;34m\u001b[0m\u001b[0m\n",
      "\u001b[0;31mValueError\u001b[0m: could not convert integer scalar"
     ]
    }
   ],
   "source": [
    "ad.X[ad.obs['ident'] == '13'][ad.var['gene_ids-0'] == 'Myod1'].shape"
   ]
  },
  {
   "cell_type": "code",
   "execution_count": 28,
   "metadata": {},
   "outputs": [
    {
     "data": {
      "text/plain": [
       "(90637, 43346)"
      ]
     },
     "execution_count": 28,
     "metadata": {},
     "output_type": "execute_result"
    }
   ],
   "source": [
    "ad.X.shape"
   ]
  },
  {
   "cell_type": "code",
   "execution_count": 32,
   "metadata": {},
   "outputs": [
    {
     "data": {
      "text/plain": [
       "Index(['limb12_13_0AAACCTGAGATCGATA_1', 'limb12_13_0AAACCTGAGATGAGAG_1',\n",
       "       'limb12_13_0AAACCTGAGCAGATCG_1', 'limb12_13_0AAACCTGAGCGATCCC_1',\n",
       "       'limb12_13_0AAACCTGAGTGTACCT_1', 'limb12_13_0AAACCTGAGTTGTAGA_1',\n",
       "       'limb12_13_0AAACCTGCAAGTTAAG_1', 'limb12_13_0AAACCTGCAATCCGAT_1',\n",
       "       'limb12_13_0AAACCTGCACAAGCCC_1', 'limb12_13_0AAACCTGCACGTAAGG_1',\n",
       "       ...\n",
       "       'limb8_15_0TTTGTCACAGCCTTTC_1', 'limb8_15_0TTTGTCACAGGCTCAC_1',\n",
       "       'limb8_15_0TTTGTCACATATACGC_1', 'limb8_15_0TTTGTCAGTCCAGTAT_1',\n",
       "       'limb8_15_0TTTGTCAGTCGAACAG_1', 'limb8_15_0TTTGTCAGTCGAGTTT_1',\n",
       "       'limb8_15_0TTTGTCAGTTATTCTC_1', 'limb8_15_0TTTGTCAGTTCCGGCA_1',\n",
       "       'limb8_15_0TTTGTCATCGTTGCCT_1', 'limb8_15_0TTTGTCATCTGTCTCG_1'],\n",
       "      dtype='object', name='index', length=90637)"
      ]
     },
     "execution_count": 32,
     "metadata": {},
     "output_type": "execute_result"
    }
   ],
   "source": [
    "ad.obs_names"
   ]
  },
  {
   "cell_type": "code",
   "execution_count": 33,
   "metadata": {},
   "outputs": [
    {
     "data": {
      "text/plain": [
       "Index(['RP23-271O17.1', 'Gm26206', 'Xkr4', 'RP23-317L18.1', 'RP23-317L18.4',\n",
       "       'RP23-317L18.3', 'RP23-115I1.6', 'Gm1992', 'RP23-115I1.5',\n",
       "       'RP23-115I1.2',\n",
       "       ...\n",
       "       'mt-Nd4', 'mt-Th', 'mt-Ts2', 'mt-Tl2', 'mt-Nd5', 'mt-Nd6', 'mt-Te',\n",
       "       'mt-Cytb', 'mt-Tt', 'mt-Tp'],\n",
       "      dtype='object', name='index', length=43346)"
      ]
     },
     "execution_count": 33,
     "metadata": {},
     "output_type": "execute_result"
    }
   ],
   "source": [
    "ad.var_names"
   ]
  },
  {
   "cell_type": "code",
   "execution_count": 34,
   "metadata": {},
   "outputs": [],
   "source": [
    "df = ad.to_df()"
   ]
  },
  {
   "cell_type": "code",
   "execution_count": 38,
   "metadata": {},
   "outputs": [],
   "source": [
    "df['louvain'] = ad.obs['ident']"
   ]
  },
  {
   "cell_type": "code",
   "execution_count": 37,
   "metadata": {},
   "outputs": [
    {
     "data": {
      "text/plain": [
       "(90637,)"
      ]
     },
     "execution_count": 37,
     "metadata": {},
     "output_type": "execute_result"
    }
   ],
   "source": [
    "ad.obs['ident'].shape"
   ]
  },
  {
   "cell_type": "code",
   "execution_count": 44,
   "metadata": {},
   "outputs": [],
   "source": [
    "def get_10x_df():\n",
    "    import scanpy\n",
    "    import os\n",
    "    ad = scanpy.read_h5ad(os.path.expanduser('~diane/proj/C1_mouse_limb_combined/monocle/190714MouseLimb10Xraw.h5ad'))\n",
    "    df = ad.to_df()\n",
    "    df['louvain'] = ad.obs['ident']\n",
    "    return df"
   ]
  },
  {
   "cell_type": "code",
   "execution_count": 45,
   "metadata": {},
   "outputs": [],
   "source": [
    "df = get_10x_df()"
   ]
  },
  {
   "cell_type": "code",
   "execution_count": 48,
   "metadata": {},
   "outputs": [
    {
     "data": {
      "text/plain": [
       "3.0"
      ]
     },
     "execution_count": 48,
     "metadata": {},
     "output_type": "execute_result"
    }
   ],
   "source": [
    "df[df['louvain'] == '7']['Pax3'].median()"
   ]
  },
  {
   "cell_type": "code",
   "execution_count": null,
   "metadata": {},
   "outputs": [],
   "source": []
  }
 ],
 "metadata": {
  "kernelspec": {
   "display_name": "Python 3",
   "language": "python",
   "name": "python3"
  },
  "language_info": {
   "codemirror_mode": {
    "name": "ipython",
    "version": 3
   },
   "file_extension": ".py",
   "mimetype": "text/x-python",
   "name": "python",
   "nbconvert_exporter": "python",
   "pygments_lexer": "ipython3",
   "version": "3.8.2"
  }
 },
 "nbformat": 4,
 "nbformat_minor": 2
}
