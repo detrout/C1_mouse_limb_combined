{
 "cells": [
  {
   "cell_type": "markdown",
   "metadata": {},
   "source": [
    "# Introduction"
   ]
  },
  {
   "cell_type": "markdown",
   "metadata": {},
   "source": [
    "What's faster for checking if we have found a cell barcode we're interested in. My dictionary tree search or a simple compiled regular expression?"
   ]
  },
  {
   "cell_type": "code",
   "execution_count": 15,
   "metadata": {},
   "outputs": [],
   "source": [
    "import os\n",
    "import re\n",
    "from collections import namedtuple\n",
    "import pysam\n",
    "import csv\n",
    "from functools import partial"
   ]
  },
  {
   "cell_type": "code",
   "execution_count": 16,
   "metadata": {},
   "outputs": [],
   "source": [
    "tenx_root = '/woldlab/loxcyc/home/diane/proj/brian-2018-01-10x/'\n",
    "\n",
    "tenx_bam = {\n",
    "    1: os.path.join(tenx_root, 'Wold10x-1-encode-count-cells10000', 'outs', 'possorted_genome_bam.bam'),\n",
    "    3: os.path.join(tenx_root, 'Wold10x-3-encode-count-cells10000', 'outs', 'possorted_genome_bam.bam'),\n",
    "    4: os.path.join(tenx_root, 'Wold10x-4-encode-count-cells10000', 'outs', 'possorted_genome_bam.bam'),\n",
    "    5: os.path.join(tenx_root, 'Wold10x-5-encode-count-cells10000', 'outs', 'possorted_genome_bam.bam'),\n",
    "    6: os.path.join(tenx_root, 'Wold10x-6-encode-count-cells10000', 'outs', 'possorted_genome_bam.bam'),\n",
    "    7: os.path.join(tenx_root, 'Wold10x-7-encode-count-cells10000', 'outs', 'possorted_genome_bam.bam'),\n",
    "    8: os.path.join(tenx_root, 'Wold10x-8-encode-count-cells10000', 'outs', 'possorted_genome_bam.bam'),\n",
    "    9: os.path.join(tenx_root, 'Wold10x-9-encode-count-cells10000', 'outs', 'possorted_genome_bam.bam'),\n",
    "    10: os.path.join(tenx_root, 'Wold10x-10-encode-count-cells10000', 'outs', 'possorted_genome_bam.bam'),\n",
    "    11: os.path.join(tenx_root, 'Wold10x-11-encode-count-cells10000', 'outs', 'possorted_genome_bam.bam'),\n",
    "    12: os.path.join(tenx_root, 'Wold10x-12-encode-count-cells10000', 'outs', 'possorted_genome_bam.bam'),\n",
    "    13: os.path.join(tenx_root, 'Wold10x-13-encode-count-cells10000', 'outs', 'possorted_genome_bam.bam'),\n",
    "}\n",
    "\n",
    "for cluster in tenx_bam:\n",
    "    if not os.path.exists(tenx_bam[cluster]):\n",
    "        print('missing {}'.format(tenx_bam[cluster]))"
   ]
  },
  {
   "cell_type": "code",
   "execution_count": 3,
   "metadata": {},
   "outputs": [],
   "source": [
    "CellBarcode = namedtuple('CellBarcode', ['run', 'stage', 'barcode', 'cluster'])\n",
    "def parse_barcode_csv(filename, limit=None):\n",
    "    with open(filename) as barcodes:\n",
    "        reader = csv.reader(barcodes)\n",
    "        header = next(reader)\n",
    "        for i, row in enumerate(reader):\n",
    "            run = []\n",
    "            stage = []\n",
    "            field0 = row[0]\n",
    "            run_ = field0.find('_') + 1\n",
    "            for c in field0[4:run_-1]:\n",
    "                run.append(c)\n",
    "            # +2 to be one after the trailing 0 or 5\n",
    "            run_2 = field0.find('_', run_) + 2\n",
    "            for c in field0[run_:run_2]:\n",
    "                if c == '_':\n",
    "                    c = '.'\n",
    "                stage.append(c)\n",
    "            run = ''.join(run)\n",
    "            stage = ''.join(stage)\n",
    "\n",
    "            barcode = field0[run_2:-2] + '-' + field0[-1:]\n",
    "            cluster = row[1]\n",
    "            yield CellBarcode(run, stage, barcode, cluster)\n",
    "            if limit is not None and i > limit:\n",
    "                break"
   ]
  },
  {
   "cell_type": "code",
   "execution_count": 4,
   "metadata": {},
   "outputs": [],
   "source": [
    "def build_cluster_recognizer(filename):\n",
    "    clusters = {}\n",
    "\n",
    "    for row in parse_barcode_csv(filename):\n",
    "        run = clusters.setdefault(row.cluster, {})\n",
    "        barcode_tree = run.setdefault(row.run, {})\n",
    "        barcode_node = barcode_tree\n",
    "        for c in row.barcode:\n",
    "            barcode_node = barcode_node.setdefault(c, {})\n",
    "        \n",
    "    return clusters"
   ]
  },
  {
   "cell_type": "code",
   "execution_count": 9,
   "metadata": {},
   "outputs": [],
   "source": [
    "def is_recognized_barcode(barcode_tree, cell_barcode):\n",
    "    barcode_node = barcode_tree\n",
    "    for c in cell_barcode:\n",
    "        try:\n",
    "            barcode_node = barcode_node[c]\n",
    "        except KeyError:\n",
    "            return False\n",
    "    return True"
   ]
  },
  {
   "cell_type": "code",
   "execution_count": 8,
   "metadata": {},
   "outputs": [],
   "source": [
    "clusters = build_cluster_recognizer('../monocle/mouse/barcodes-to-cluster.csv')"
   ]
  },
  {
   "cell_type": "code",
   "execution_count": null,
   "metadata": {},
   "outputs": [],
   "source": [
    "def get_cluster_barcodes(cluster):\n",
    "    results = []\n",
    "    run_re = re.compile('barcodes-10x-cluster-{cluster}-run-(?P<run>[\\d]+)\\.txt'.format(cluster=cluster))\n",
    "    pattern = 'barcodes-10x-cluster-{cluster}-run-*.txt'.format(cluster=cluster)\n",
    "    for filename in glob(pattern):\n",
    "        match = run_re.match(filename)\n",
    "        run = int(match.group('run'))\n",
    "        results.append((run, filename))\n",
    "    return sorted(results)"
   ]
  },
  {
   "cell_type": "code",
   "execution_count": 12,
   "metadata": {},
   "outputs": [],
   "source": [
    "def build_barcode_re(barcode_filename):\n",
    "    barcodes = []\n",
    "    with open(barcode_filename, 'rt') as instream:\n",
    "        for line in instream:\n",
    "            barcode = line.rstrip().split(':')[2]\n",
    "            barcodes.append('(' + barcode + ')')\n",
    "    return re.compile('|'.join(barcodes))\n",
    "\n",
    "barcode_re = build_barcode_re('barcodes-10x-cluster-12-run-1.txt')"
   ]
  },
  {
   "cell_type": "code",
   "execution_count": 13,
   "metadata": {},
   "outputs": [],
   "source": [
    "def is_re_recognized_barcode(barcode_re, cell_barcode):\n",
    "    if barcode_re.match(cell_barcode):\n",
    "        return True\n",
    "    else:\n",
    "        return False"
   ]
  },
  {
   "cell_type": "code",
   "execution_count": 14,
   "metadata": {},
   "outputs": [],
   "source": [
    "def count_matched_barcodes(filename, recognizer):\n",
    "    count = 0\n",
    "    bam = pysam.AlignmentFile(filename, 'rb')\n",
    "    for read in bam:\n",
    "        if read.has_tag('CB'):\n",
    "            cb = read.get_tag('CB')\n",
    "            if recognizer(cb):\n",
    "                count += 1\n",
    "    return count"
   ]
  },
  {
   "cell_type": "code",
   "execution_count": null,
   "metadata": {},
   "outputs": [],
   "source": []
  },
  {
   "cell_type": "code",
   "execution_count": 20,
   "metadata": {},
   "outputs": [
    {
     "name": "stdout",
     "output_type": "stream",
     "text": [
      "1 loop, best of 5: 23min 7s per loop\n"
     ]
    }
   ],
   "source": [
    "%timeit count_matched_barcodes(tenx_bam[1], partial(is_recognized_barcode, clusters['12'][\"1\"]))"
   ]
  },
  {
   "cell_type": "code",
   "execution_count": 21,
   "metadata": {},
   "outputs": [
    {
     "name": "stdout",
     "output_type": "stream",
     "text": [
      "1 loop, best of 5: 43min 6s per loop\n"
     ]
    }
   ],
   "source": [
    "%timeit count_matched_barcodes(tenx_bam[1], partial(is_re_recognized_barcode, barcode_re))"
   ]
  },
  {
   "cell_type": "markdown",
   "metadata": {},
   "source": [
    "Try running with grep, external to the notebook\n",
    "\n",
    "<pre>\n",
    "time cat <(samtools view -H $RUN1/outs/possorted_genome_bam.bam)     \n",
    "<(grep -f barcodes-10x-cluster-12-run-1.txt <(samtools view $RUN1/outs/possorted_genome_bam.bam)) | wc -l\n",
    "8254835\n",
    "\n",
    "real    24m50.883s\n",
    "user    0m10.560s\n",
    "sys     1m10.827s\n",
    "</pre>\n"
   ]
  },
  {
   "cell_type": "code",
   "execution_count": 22,
   "metadata": {},
   "outputs": [
    {
     "name": "stdout",
     "output_type": "stream",
     "text": [
      "The slowest run took 29.86 times longer than the fastest. This could mean that an intermediate result is being cached.\n",
      "1000000 loops, best of 5: 529 ns per loop\n"
     ]
    }
   ],
   "source": [
    "%timeit is_recognized_barcode(clusters['12'][\"1\"], \"TTTGTCAAGCGGATCA-1\")"
   ]
  },
  {
   "cell_type": "code",
   "execution_count": 25,
   "metadata": {},
   "outputs": [
    {
     "name": "stdout",
     "output_type": "stream",
     "text": [
      "The slowest run took 20.97 times longer than the fastest. This could mean that an intermediate result is being cached.\n",
      "1000000 loops, best of 5: 891 ns per loop\n"
     ]
    }
   ],
   "source": [
    "%timeit is_recognized_barcode(clusters['12'][\"1\"], \"AACACGTGTAGAGTGC-1\")"
   ]
  },
  {
   "cell_type": "code",
   "execution_count": 23,
   "metadata": {},
   "outputs": [
    {
     "name": "stdout",
     "output_type": "stream",
     "text": [
      "The slowest run took 4.05 times longer than the fastest. This could mean that an intermediate result is being cached.\n",
      "100000 loops, best of 5: 3.2 µs per loop\n"
     ]
    }
   ],
   "source": [
    "%timeit is_re_recognized_barcode(barcode_re, \"TTTGTCAAGCGGATCA-1\")"
   ]
  },
  {
   "cell_type": "code",
   "execution_count": 24,
   "metadata": {},
   "outputs": [
    {
     "name": "stdout",
     "output_type": "stream",
     "text": [
      "The slowest run took 8.06 times longer than the fastest. This could mean that an intermediate result is being cached.\n",
      "1000000 loops, best of 5: 602 ns per loop\n"
     ]
    }
   ],
   "source": [
    "%timeit is_re_recognized_barcode(barcode_re, \"AACACGTGTAGAGTGC-1\")"
   ]
  },
  {
   "cell_type": "code",
   "execution_count": 26,
   "metadata": {},
   "outputs": [],
   "source": [
    "barcode_0_run_3re = build_barcode_re('barcodes-10x-cluster-0-run-3.txt')"
   ]
  },
  {
   "cell_type": "code",
   "execution_count": 27,
   "metadata": {},
   "outputs": [
    {
     "name": "stdout",
     "output_type": "stream",
     "text": [
      "10 loops, best of 5: 111 ms per loop\n"
     ]
    }
   ],
   "source": [
    "%timeit is_re_recognized_barcode(barcode_0_run_3re, 'TTTGTCATCTGGTGTA-1')\n"
   ]
  },
  {
   "cell_type": "code",
   "execution_count": 29,
   "metadata": {},
   "outputs": [
    {
     "name": "stdout",
     "output_type": "stream",
     "text": [
      "The slowest run took 10.68 times longer than the fastest. This could mean that an intermediate result is being cached.\n",
      "1000000 loops, best of 5: 912 ns per loop\n"
     ]
    }
   ],
   "source": [
    "%timeit is_recognized_barcode(clusters['0'][\"3\"], \"TTTGTCATCTGGTGTA-1\")"
   ]
  },
  {
   "cell_type": "code",
   "execution_count": null,
   "metadata": {},
   "outputs": [],
   "source": []
  }
 ],
 "metadata": {
  "kernelspec": {
   "display_name": "Python 3",
   "language": "python",
   "name": "python3"
  },
  "language_info": {
   "codemirror_mode": {
    "name": "ipython",
    "version": 3
   },
   "file_extension": ".py",
   "mimetype": "text/x-python",
   "name": "python",
   "nbconvert_exporter": "python",
   "pygments_lexer": "ipython3",
   "version": "3.7.4"
  }
 },
 "nbformat": 4,
 "nbformat_minor": 2
}
