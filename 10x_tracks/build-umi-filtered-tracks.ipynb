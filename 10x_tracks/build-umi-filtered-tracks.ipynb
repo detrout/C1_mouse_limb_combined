{
 "cells": [
  {
   "cell_type": "markdown",
   "metadata": {},
   "source": [
    "# Introduction"
   ]
  },
  {
   "cell_type": "markdown",
   "metadata": {},
   "source": [
    "The 10 tracks grouped by cluster I produced are not UMI aware. I need to filter the tracks down to only include one instance of a UMI."
   ]
  },
  {
   "cell_type": "code",
   "execution_count": 1,
   "metadata": {},
   "outputs": [
    {
     "name": "stdout",
     "output_type": "stream",
     "text": [
      "align-star.condor                   \u001b[0m\u001b[01;32mbuild_cluster_4.sh\u001b[0m*\r\n",
      "align-star.condor~                  build_cluster_4.sh~\r\n",
      "barcodes-10x-cluster-0-run-12.txt   build_cluster_7.condor\r\n",
      "barcodes-10x-cluster-0-run-13.txt   build_cluster_7.condor~\r\n",
      "barcodes-10x-cluster-0-run-1.txt    \u001b[01;32mbuild_cluster_7.sh\u001b[0m*\r\n",
      "barcodes-10x-cluster-0-run-3.txt    build_cluster_7.sh~\r\n",
      "barcodes-10x-cluster-0-run-4.txt    build_cluster_filtered_bams.condor\r\n",
      "barcodes-10x-cluster-0-run-5.txt    build_cluster_filtered_bams.condor~\r\n",
      "barcodes-10x-cluster-0-run-6.txt    build-umi-filtered-tracks.ipynb\r\n",
      "barcodes-10x-cluster-0-run-7.txt    \u001b[01;34mc0_mesprox\u001b[0m/\r\n",
      "barcodes-10x-cluster-0-run-8.txt    \u001b[01;34mc0_mesprox_trans\u001b[0m/\r\n",
      "barcodes-10x-cluster-12-run-12.txt  \u001b[01;34mc12_mus4\u001b[0m/\r\n",
      "barcodes-10x-cluster-12-run-13.txt  \u001b[01;34mc12_mus4_trans\u001b[0m/\r\n",
      "barcodes-10x-cluster-12-run-1.txt   \u001b[01;34mc17_mus3\u001b[0m/\r\n",
      "barcodes-10x-cluster-12-run-4.txt   \u001b[01;34mc17_mus3_trans\u001b[0m/\r\n",
      "barcodes-10x-cluster-12-run-5.txt   \u001b[01;34mc2_mesdist\u001b[0m/\r\n",
      "barcodes-10x-cluster-12-run-6.txt   \u001b[01;34mc4_mus2\u001b[0m/\r\n",
      "barcodes-10x-cluster-12-run-8.txt   \u001b[01;34mc4_mus2_trans\u001b[0m/\r\n",
      "barcodes-10x-cluster-17-run-12.txt  \u001b[01;34mc7_mus1\u001b[0m/\r\n",
      "barcodes-10x-cluster-17-run-13.txt  \u001b[01;34mc7_mus1_trans\u001b[0m/\r\n",
      "barcodes-10x-cluster-17-run-1.txt   ENCODE-mm10-blacklist.v2.bed.gz\r\n",
      "barcodes-10x-cluster-17-run-4.txt   genome.txt\r\n",
      "barcodes-10x-cluster-17-run-5.txt   genome.txt~\r\n",
      "barcodes-10x-cluster-17-run-6.txt   hub.txt\r\n",
      "barcodes-10x-cluster-17-run-7.txt   library.tsv\r\n",
      "barcodes-10x-cluster-17-run-8.txt   library.tsv~\r\n",
      "barcodes-10x-cluster-2-run-12.txt   \u001b[01;34mlogs\u001b[0m/\r\n",
      "barcodes-10x-cluster-2-run-13.txt   make-bigwigs-c7.dagman\r\n",
      "barcodes-10x-cluster-2-run-1.txt    make-bigwigs-c7.dagman.condor.sub\r\n",
      "barcodes-10x-cluster-2-run-3.txt    make-bigwigs-c7.dagman.dagman.log\r\n",
      "barcodes-10x-cluster-2-run-4.txt    make-bigwigs-c7.dagman.dagman.out\r\n",
      "barcodes-10x-cluster-2-run-5.txt    make-bigwigs-c7.dagman.lib.err\r\n",
      "barcodes-10x-cluster-2-run-6.txt    make-bigwigs-c7.dagman.lib.out\r\n",
      "barcodes-10x-cluster-2-run-7.txt    make-bigwigs-c7.dagman.metrics\r\n",
      "barcodes-10x-cluster-2-run-8.txt    make-bigwigs-c7.dagman.nodes.log\r\n",
      "barcodes-10x-cluster-4-run-12.txt   make-bigwigs-c7.dagman.rescue001\r\n",
      "barcodes-10x-cluster-4-run-13.txt   make-bigwigs.dagman\r\n",
      "barcodes-10x-cluster-4-run-1.txt    make-bigwigs.dagman~\r\n",
      "barcodes-10x-cluster-4-run-3.txt    make-bigwigs.dagman.condor.sub\r\n",
      "barcodes-10x-cluster-4-run-4.txt    make-bigwigs.dagman.dagman.log\r\n",
      "barcodes-10x-cluster-4-run-5.txt    make-bigwigs.dagman.dagman.out\r\n",
      "barcodes-10x-cluster-4-run-6.txt    make-bigwigs.dagman.lib.err\r\n",
      "barcodes-10x-cluster-4-run-8.txt    make-bigwigs.dagman.lib.out\r\n",
      "barcodes-10x-cluster-7-run-12.txt   make-bigwigs.dagman.metrics\r\n",
      "barcodes-10x-cluster-7-run-13.txt   make-bigwigs.dagman.nodes.log\r\n",
      "barcodes-10x-cluster-7-run-3.txt    make-bigwigs.dagman.rescue001\r\n",
      "barcodes-10x-cluster-7-run-4.txt    \u001b[01;34mmm10\u001b[0m/\r\n",
      "barcodes-10x-cluster-7-run-5.txt    run.dagman\r\n",
      "barcodes-10x-cluster-7-run-6.txt    run.dagman~\r\n",
      "barcodes-10x-cluster-7-run-7.txt    run.dagman.condor.sub\r\n",
      "barcodes-10x-cluster-7-run-8.txt    run.dagman.dagman.log\r\n",
      "\u001b[01;32mbuild_cluster_0.sh\u001b[0m*                 run.dagman.dagman.out\r\n",
      "build_cluster_0.sh~                 run.dagman.lib.err\r\n",
      "\u001b[01;32mbuild_cluster_12.sh\u001b[0m*                run.dagman.lib.out\r\n",
      "build_cluster_12.sh~                run.dagman.metrics\r\n",
      "\u001b[01;32mbuild_cluster_17.sh\u001b[0m*                run.dagman.nodes.log\r\n",
      "build_cluster_17.sh~                run.dagman.rescue001\r\n",
      "\u001b[01;32mbuild_cluster_2.sh\u001b[0m*                 run.dagman.rescue002\r\n",
      "build_cluster_2.sh~                 run.dagman.rescue003\r\n"
     ]
    }
   ],
   "source": [
    "ls"
   ]
  },
  {
   "cell_type": "code",
   "execution_count": 9,
   "metadata": {},
   "outputs": [],
   "source": [
    "import pandas\n",
    "import numpy\n",
    "import pysam\n",
    "import os\n",
    "import re\n",
    "from collections import Counter\n",
    "from glob import glob\n",
    "from matplotlib import pyplot"
   ]
  },
  {
   "cell_type": "code",
   "execution_count": 3,
   "metadata": {},
   "outputs": [],
   "source": [
    "tenx_root = '/woldlab/loxcyc/home/diane/proj/brian-2018-01-10x/'\n",
    "\n",
    "tenx_bam = {\n",
    "    1: os.path.join(tenx_root, 'Wold10x-1-encode-count-cells10000', 'outs', 'possorted_genome_bam.bam'),\n",
    "    3: os.path.join(tenx_root, 'Wold10x-3-encode-count-cells10000', 'outs', 'possorted_genome_bam.bam'),\n",
    "    4: os.path.join(tenx_root, 'Wold10x-4-encode-count-cells10000', 'outs', 'possorted_genome_bam.bam'),\n",
    "    5: os.path.join(tenx_root, 'Wold10x-5-encode-count-cells10000', 'outs', 'possorted_genome_bam.bam'),\n",
    "    6: os.path.join(tenx_root, 'Wold10x-6-encode-count-cells10000', 'outs', 'possorted_genome_bam.bam'),\n",
    "    7: os.path.join(tenx_root, 'Wold10x-7-encode-count-cells10000', 'outs', 'possorted_genome_bam.bam'),\n",
    "    8: os.path.join(tenx_root, 'Wold10x-8-encode-count-cells10000', 'outs', 'possorted_genome_bam.bam'),\n",
    "    9: os.path.join(tenx_root, 'Wold10x-9-encode-count-cells10000', 'outs', 'possorted_genome_bam.bam'),\n",
    "    10: os.path.join(tenx_root, 'Wold10x-10-encode-count-cells10000', 'outs', 'possorted_genome_bam.bam'),\n",
    "    11: os.path.join(tenx_root, 'Wold10x-11-encode-count-cells10000', 'outs', 'possorted_genome_bam.bam'),\n",
    "    12: os.path.join(tenx_root, 'Wold10x-12-encode-count-cells10000', 'outs', 'possorted_genome_bam.bam'),\n",
    "    13: os.path.join(tenx_root, 'Wold10x-13-encode-count-cells10000', 'outs', 'possorted_genome_bam.bam'),\n",
    "}\n",
    "\n",
    "for cluster in tenx_bam:\n",
    "    if not os.path.exists(tenx_bam[cluster]):\n",
    "        print('missing {}'.format(tenx_bam[cluster]))"
   ]
  },
  {
   "cell_type": "code",
   "execution_count": 4,
   "metadata": {},
   "outputs": [
    {
     "data": {
      "text/plain": [
       "[(1, 'barcodes-10x-cluster-12-run-1.txt'),\n",
       " (4, 'barcodes-10x-cluster-12-run-4.txt'),\n",
       " (5, 'barcodes-10x-cluster-12-run-5.txt'),\n",
       " (6, 'barcodes-10x-cluster-12-run-6.txt'),\n",
       " (8, 'barcodes-10x-cluster-12-run-8.txt'),\n",
       " (12, 'barcodes-10x-cluster-12-run-12.txt'),\n",
       " (13, 'barcodes-10x-cluster-12-run-13.txt')]"
      ]
     },
     "execution_count": 4,
     "metadata": {},
     "output_type": "execute_result"
    }
   ],
   "source": [
    "def get_cluster_barcodes(cluster):\n",
    "    results = []\n",
    "    run_re = re.compile('barcodes-10x-cluster-{cluster}-run-(?P<run>[\\d]+)\\.txt'.format(cluster=cluster))\n",
    "    pattern = 'barcodes-10x-cluster-{cluster}-run-*.txt'.format(cluster=cluster)\n",
    "    for filename in glob(pattern):\n",
    "        match = run_re.match(filename)\n",
    "        run = int(match.group('run'))\n",
    "        results.append((run, filename))\n",
    "    return sorted(results)\n",
    "        \n",
    "get_cluster_barcodes(12)"
   ]
  },
  {
   "cell_type": "code",
   "execution_count": 5,
   "metadata": {},
   "outputs": [],
   "source": [
    "def build_barcode_re(barcode_filename):\n",
    "    barcodes = []\n",
    "    with open(barcode_filename, 'rt') as instream:\n",
    "        for line in instream:\n",
    "            barcode = line.rstrip().split(':')[2]\n",
    "            barcodes.append('(' + barcode + ')')\n",
    "    return re.compile('|'.join(barcodes))\n",
    "\n",
    "barcode_re = build_barcode_re('barcodes-10x-cluster-12-run-1.txt')"
   ]
  },
  {
   "cell_type": "code",
   "execution_count": null,
   "metadata": {},
   "outputs": [],
   "source": [
    "umis = {}\n",
    "possorted_bam = pysam.AlignmentFile(tenx_bam[1], 'rb')\n",
    "for i, read in enumerate(possorted_bam):\n",
    "    if not read.is_unmapped:\n",
    "        nh = read.get_tag('NH')\n",
    "        if nh == 1 and read.has_tag('CB'):\n",
    "            assert read.mapq == 255\n",
    "            cb = read.get_tag('CB')\n",
    "            if barcode_re.match(cb) and read.has_tag('UB'):\n",
    "                ub = read.get_tag('UB')\n",
    "                location = (read.reference_name, read.reference_start, read.reference_end)\n",
    "                umis.setdefault((cb,ub), Counter())[location] += 1\n"
   ]
  },
  {
   "cell_type": "code",
   "execution_count": 8,
   "metadata": {},
   "outputs": [
    {
     "data": {
      "text/plain": [
       "2004374"
      ]
     },
     "execution_count": 8,
     "metadata": {},
     "output_type": "execute_result"
    }
   ],
   "source": [
    "len(umis)"
   ]
  },
  {
   "cell_type": "code",
   "execution_count": 12,
   "metadata": {},
   "outputs": [
    {
     "data": {
      "text/plain": [
       "[('CGCCAAGAGACGCACA-1', 'ATGGACACAG'),\n",
       " ('ATCTACTCAATGTTGC-1', 'CGAATGGAGA'),\n",
       " ('ATGTGTGAGATATGGT-1', 'CACACGGAGG'),\n",
       " ('TAGTTGGCAGCTGTGC-1', 'TTTGGCCTAG'),\n",
       " ('TGCCAAAAGCGCTTAT-1', 'CTCAGTCCAG')]"
      ]
     },
     "execution_count": 12,
     "metadata": {},
     "output_type": "execute_result"
    }
   ],
   "source": [
    "list(umis)[:5]"
   ]
  },
  {
   "cell_type": "code",
   "execution_count": 18,
   "metadata": {},
   "outputs": [
    {
     "data": {
      "text/plain": [
       "[1, 1]"
      ]
     },
     "execution_count": 18,
     "metadata": {},
     "output_type": "execute_result"
    }
   ],
   "source": [
    "[umis[('CGCCAAGAGACGCACA-1', 'ATGGACACAG')][x] for x in umis[('CGCCAAGAGACGCACA-1', 'ATGGACACAG')]]"
   ]
  },
  {
   "cell_type": "code",
   "execution_count": 29,
   "metadata": {},
   "outputs": [],
   "source": [
    "xs = []\n",
    "ys = []\n",
    "for i, u in enumerate(umis):\n",
    "    xs.append(len(umis[u]))\n",
    "    ys.append(sum([umis[u][x] for x in umis[u]]))\n"
   ]
  },
  {
   "cell_type": "code",
   "execution_count": 30,
   "metadata": {},
   "outputs": [
    {
     "data": {
      "text/plain": [
       "<matplotlib.collections.PathCollection at 0x7f70f2245450>"
      ]
     },
     "execution_count": 30,
     "metadata": {},
     "output_type": "execute_result"
    },
    {
     "data": {
      "image/png": "[encoded data removed]",
      "text/plain": [
       "<Figure size 432x288 with 1 Axes>"
      ]
     },
     "metadata": {
      "needs_background": "light"
     },
     "output_type": "display_data"
    }
   ],
   "source": [
    "pyplot.scatter(xs, ys)"
   ]
  },
  {
   "cell_type": "code",
   "execution_count": 32,
   "metadata": {},
   "outputs": [],
   "source": [
    "umi_decrease = []\n",
    "for x,y in zip(xs, ys):\n",
    "    umi_decrease.append(y-x)"
   ]
  },
  {
   "cell_type": "code",
   "execution_count": 35,
   "metadata": {},
   "outputs": [
    {
     "data": {
      "text/plain": [
       "(array([1.162183e+06, 4.909140e+05, 2.081950e+05, 8.601300e+04,\n",
       "        0.000000e+00, 3.474500e+04, 1.362400e+04, 5.460000e+03,\n",
       "        2.033000e+03, 0.000000e+00, 7.850000e+02, 2.580000e+02,\n",
       "        9.900000e+01, 4.200000e+01, 0.000000e+00, 1.600000e+01,\n",
       "        4.000000e+00, 1.000000e+00, 1.000000e+00, 1.000000e+00]),\n",
       " array([ 0. ,  0.8,  1.6,  2.4,  3.2,  4. ,  4.8,  5.6,  6.4,  7.2,  8. ,\n",
       "         8.8,  9.6, 10.4, 11.2, 12. , 12.8, 13.6, 14.4, 15.2, 16. ]),\n",
       " <a list of 20 Patch objects>)"
      ]
     },
     "execution_count": 35,
     "metadata": {},
     "output_type": "execute_result"
    },
    {
     "data": {
      "image/png": "[encoded data removed]",
      "text/plain": [
       "<Figure size 432x288 with 1 Axes>"
      ]
     },
     "metadata": {
      "needs_background": "light"
     },
     "output_type": "display_data"
    }
   ],
   "source": [
    "pyplot.hist(umi_decrease, bins=20)"
   ]
  },
  {
   "cell_type": "code",
   "execution_count": 34,
   "metadata": {},
   "outputs": [
    {
     "data": {
      "text/plain": [
       "5955320"
      ]
     },
     "execution_count": 34,
     "metadata": {},
     "output_type": "execute_result"
    }
   ],
   "source": [
    "sum(ys)"
   ]
  },
  {
   "cell_type": "code",
   "execution_count": 36,
   "metadata": {},
   "outputs": [
    {
     "data": {
      "text/plain": [
       "1162183"
      ]
     },
     "execution_count": 36,
     "metadata": {},
     "output_type": "execute_result"
    }
   ],
   "source": [
    "sum([1 for x in umi_decrease if x == 0])"
   ]
  },
  {
   "cell_type": "code",
   "execution_count": 37,
   "metadata": {},
   "outputs": [
    {
     "data": {
      "text/plain": [
       "842191"
      ]
     },
     "execution_count": 37,
     "metadata": {},
     "output_type": "execute_result"
    }
   ],
   "source": [
    "sum([1 for x in umi_decrease if x > 0])"
   ]
  },
  {
   "cell_type": "code",
   "execution_count": 40,
   "metadata": {},
   "outputs": [
    {
     "data": {
      "text/plain": [
       "1429777"
      ]
     },
     "execution_count": 40,
     "metadata": {},
     "output_type": "execute_result"
    }
   ],
   "source": [
    "sum([x for x in umi_decrease if x > 0])"
   ]
  },
  {
   "cell_type": "code",
   "execution_count": 41,
   "metadata": {},
   "outputs": [
    {
     "data": {
      "text/plain": [
       "0.2931518768453392"
      ]
     },
     "execution_count": 41,
     "metadata": {},
     "output_type": "execute_result"
    }
   ],
   "source": [
    "(1429777-842191) /(842191+1162183)"
   ]
  },
  {
   "cell_type": "code",
   "execution_count": 39,
   "metadata": {},
   "outputs": [
    {
     "data": {
      "text/plain": [
       "1048576"
      ]
     },
     "execution_count": 39,
     "metadata": {},
     "output_type": "execute_result"
    }
   ],
   "source": [
    "4 ** 10"
   ]
  },
  {
   "cell_type": "code",
   "execution_count": 47,
   "metadata": {},
   "outputs": [],
   "source": [
    "different_chromosomes = {}\n",
    "\n",
    "for i, u in enumerate(umis):\n",
    "    for loc in umis[u]:\n",
    "        different_chromosomes.setdefault(u, Counter())[loc[0]] += 1\n"
   ]
  },
  {
   "cell_type": "code",
   "execution_count": 46,
   "metadata": {},
   "outputs": [
    {
     "data": {
      "text/plain": [
       "{('CGCCAAGAGACGCACA-1', 'ATGGACACAG'): Counter({'chr10': 1, 'chr3': 1}),\n",
       " ('ATCTACTCAATGTTGC-1', 'CGAATGGAGA'): Counter({'chr10': 1, 'chr2': 1}),\n",
       " ('ATGTGTGAGATATGGT-1', 'CACACGGAGG'): Counter({'chr10': 1, 'chr2': 1}),\n",
       " ('TAGTTGGCAGCTGTGC-1',\n",
       "  'TTTGGCCTAG'): Counter({'chr10': 1, 'chr7': 1, 'chrX': 1}),\n",
       " ('TGCCAAAAGCGCTTAT-1', 'CTCAGTCCAG'): Counter({'chr10': 2}),\n",
       " ('ATCTACTCAATGTTGC-1', 'ACTCAAGGGG'): Counter({'chr10': 3}),\n",
       " ('GATTCAGCAGGTGCCT-1', 'CCGAGGTGGG'): Counter({'chr10': 4}),\n",
       " ('TAGTTGGCAGCTGTGC-1', 'GGGGTGTGGT'): Counter({'chr10': 3}),\n",
       " ('CGGACGTAGCTCCTCT-1', 'GGCGTTCCTT'): Counter({'chr10': 3}),\n",
       " ('CGGACGTAGCTCCTCT-1', 'GGCGTTCCCT'): Counter({'chr10': 1}),\n",
       " ('ATCGAGTGTCTCTTTA-1', 'GTCAATTTGC'): Counter({'chr10': 1}),\n",
       " ('GATCAGTCATCACGTA-1', 'CTGCCAGGAA'): Counter({'chr10': 2}),\n",
       " ('TCTATTGTCCGATATG-1', 'ACTGCAGGAT'): Counter({'chr10': 3}),\n",
       " ('ATCGAGTGTCTCTTTA-1', 'GGCCTATGCG'): Counter({'chr10': 4}),\n",
       " ('TAAGCGTAGACACGAC-1', 'ACCTAACCAT'): Counter({'chr10': 10}),\n",
       " ('GTCCTCAGTCATCGGC-1', 'GTGAATGTAC'): Counter({'chr10': 3}),\n",
       " ('TGCCAAAAGCGCTTAT-1', 'CTCCATTGCA'): Counter({'chr10': 3}),\n",
       " ('TATCAGGCATTTGCCC-1', 'CCCGTCGGAC'): Counter({'chr10': 4}),\n",
       " ('TGCACCTCATGTCGAT-1', 'ACGGAGATAA'): Counter({'chr10': 3}),\n",
       " ('GTCCTCAGTCATCGGC-1', 'CCGGCCTTCG'): Counter({'chr10': 1}),\n",
       " ('ATCGAGTGTCTCTTTA-1', 'TTCCCGAATC'): Counter({'chr10': 5}),\n",
       " ('AACACGTGTAGAGTGC-1', 'CGAGTATATG'): Counter({'chr10': 1}),\n",
       " ('ATCGAGTGTCTCTTTA-1', 'TCGGTGAGAC'): Counter({'chr10': 4}),\n",
       " ('ATCGAGTGTCTCTTTA-1', 'GCCGTCCAGC'): Counter({'chr10': 3}),\n",
       " ('GTCCTCAGTCATCGGC-1', 'GATAAACGGA'): Counter({'chr10': 2}),\n",
       " ('CTAACTTGTTCGGGCT-1', 'ACAGATCGCC'): Counter({'chr10': 1}),\n",
       " ('TCTATTGTCCGATATG-1', 'CGACGTTAGG'): Counter({'chr10': 1}),\n",
       " ('TGCACCTCATGTCGAT-1', 'CAAGGTGAGT'): Counter({'chr10': 4}),\n",
       " ('GTCCTCAGTCATCGGC-1', 'AGTATCCGCG'): Counter({'chr10': 4}),\n",
       " ('CTAACTTGTTCGGGCT-1', 'ATTGCATTTC'): Counter({'chr10': 1}),\n",
       " ('AACACGTGTAGAGTGC-1', 'CTTGAACAGC'): Counter({'chr10': 2}),\n",
       " ('GATCAGTCATCACGTA-1', 'AAGATTGTAT'): Counter({'chr10': 2}),\n",
       " ('TGCACCTCATGTCGAT-1', 'TTGGCCGGCG'): Counter({'chr10': 1}),\n",
       " ('TGCCAAAAGCGCTTAT-1', 'AAATCCTTTT'): Counter({'chr10': 3}),\n",
       " ('CAGCATATCGTAGATC-1', 'AAAAAGGCTG'): Counter({'chr10': 2}),\n",
       " ('TGCCAAAAGCGCTTAT-1', 'CGATTGTGAA'): Counter({'chr10': 3}),\n",
       " ('AGGTCCGCAAGGTGTG-1', 'CGATTTTGAC'): Counter({'chr10': 1}),\n",
       " ('TGCCAAAAGCGCTTAT-1', 'AATGGAACTT'): Counter({'chr10': 1}),\n",
       " ('GGTGAAGGTCAAGCGA-1', 'GTAATGCTAA'): Counter({'chr10': 2}),\n",
       " ('GGCCGATGTCATGCAT-1', 'AGTCTTCACC'): Counter({'chr10': 2}),\n",
       " ('ATCCACCCACACTGCG-1', 'GCCTAGAGCT'): Counter({'chr10': 2}),\n",
       " ('GGGCATCAGCTCCTTC-1', 'TACACACAGG'): Counter({'chr10': 2}),\n",
       " ('CAGCATATCGTAGATC-1', 'CGCCGTCTCC'): Counter({'chr10': 1}),\n",
       " ('TGCACCTCATGTCGAT-1', 'AAGTTGCACG'): Counter({'chr10': 1}),\n",
       " ('CGAGCCACACAGCCCA-1', 'GGCGCACACC'): Counter({'chr10': 2}),\n",
       " ('ATCGAGTGTCTCTTTA-1', 'TACACGTATC'): Counter({'chr10': 1}),\n",
       " ('AGGTCCGCAAGGTGTG-1', 'CCTGGACGTG'): Counter({'chr10': 2, 'chrX': 1}),\n",
       " ('GGGAATGTCTAACGGT-1', 'ACAAATCAGA'): Counter({'chr10': 2}),\n",
       " ('ATCGAGTGTCTCTTTA-1', 'CTGGATACAT'): Counter({'chr10': 2}),\n",
       " ('ATCGAGTGTCTCTTTA-1', 'CGCGCACTGT'): Counter({'chr10': 2}),\n",
       " ('TCTATTGTCCGATATG-1', 'GAGCCAAAGC'): Counter({'chr10': 1}),\n",
       " ('GTTCATTAGTGTTTGC-1', 'ATAGGGCTTA'): Counter({'chr10': 1}),\n",
       " ('GTGCGGTTCCAGTAGT-1', 'GACACCATGA'): Counter({'chr10': 1}),\n",
       " ('CGGGTCAGTGTTGGGA-1', 'TTGCAGATTT'): Counter({'chr10': 1}),\n",
       " ('TCTATTGTCCGATATG-1', 'AGTCTCAGGT'): Counter({'chr10': 2}),\n",
       " ('GTTCATTAGTGTTTGC-1', 'CGAACGAGGG'): Counter({'chr10': 1}),\n",
       " ('TGCCAAAAGCGCTTAT-1', 'AAAATGTAAG'): Counter({'chr10': 4}),\n",
       " ('AACACGTGTAGAGTGC-1', 'CGACCACCCT'): Counter({'chr10': 1}),\n",
       " ('GTCCTCAGTCATCGGC-1', 'ATACACGGTT'): Counter({'chr10': 1, 'chr15': 3}),\n",
       " ('TAAGCGTAGACACGAC-1', 'TTCCGAAATT'): Counter({'chr10': 1}),\n",
       " ('TGCACCTCATGTCGAT-1', 'CCCTATACCC'): Counter({'chr10': 1}),\n",
       " ('TCTATTGTCCGATATG-1', 'GGTGTTCGTA'): Counter({'chr10': 4}),\n",
       " ('TCTATTGTCCGATATG-1', 'TATGGCAAGT'): Counter({'chr10': 3}),\n",
       " ('TGCACCTCATGTCGAT-1', 'TCTCGTAAAG'): Counter({'chr10': 3}),\n",
       " ('TGCCAAAAGCGCTTAT-1', 'AGTCTTAGAC'): Counter({'chr10': 1}),\n",
       " ('CTAATGGAGACAAAGG-1', 'TCCGAATGCT'): Counter({'chr10': 2}),\n",
       " ('CGCCAAGAGACGCACA-1', 'TGATGGAGAA'): Counter({'chr10': 4}),\n",
       " ('GTGCGGTTCCAGTAGT-1', 'ACTCCGCCCA'): Counter({'chr10': 4}),\n",
       " ('ATCGAGTGTCTCTTTA-1', 'ATAGTCTAGA'): Counter({'chr10': 3}),\n",
       " ('ATCGAGTGTCTCTTTA-1', 'TAACTAATTT'): Counter({'chr10': 1}),\n",
       " ('CAGCATATCGTAGATC-1', 'AAATGGCAAT'): Counter({'chr10': 2}),\n",
       " ('ATCGAGTGTCTCTTTA-1', 'TCCGATTCAG'): Counter({'chr10': 3}),\n",
       " ('TGCACCTCATGTCGAT-1', 'GGATAATTTA'): Counter({'chr10': 4}),\n",
       " ('CTGCTGTAGATCGGGT-1', 'TTTAACTGGT'): Counter({'chr10': 2}),\n",
       " ('AGGTCCGCAAGGTGTG-1', 'AAGGGGCCCG'): Counter({'chr10': 1}),\n",
       " ('ATCCACCCACACTGCG-1', 'GTATGCACGG'): Counter({'chr10': 1}),\n",
       " ('TAAGCGTAGACACGAC-1', 'GAGAAATGAA'): Counter({'chr10': 2}),\n",
       " ('TCTATTGTCCGATATG-1', 'TGGGTTGCCA'): Counter({'chr10': 3}),\n",
       " ('ATTCTACCACATGGGA-1', 'CACAGAGTGG'): Counter({'chr10': 2, 'chr2': 1}),\n",
       " ('GTCCTCAGTCATCGGC-1', 'ACCATTTGGA'): Counter({'chr10': 1}),\n",
       " ('CGCCAAGAGACGCACA-1', 'CTACCTATGA'): Counter({'chr10': 1}),\n",
       " ('CTGCTGTAGATCGGGT-1', 'ATTTCTCGCT'): Counter({'chr10': 1}),\n",
       " ('ATCGAGTGTCTCTTTA-1', 'GAATGTCAAC'): Counter({'chr10': 1}),\n",
       " ('GATGAGGCACATCCAA-1', 'AGCGCCTTCT'): Counter({'chr10': 2}),\n",
       " ('CGAGCCACACAGCCCA-1', 'CGGTCCGGAA'): Counter({'chr10': 1}),\n",
       " ('ATCGAGTGTCTCTTTA-1', 'TCCCAGATCT'): Counter({'chr10': 4}),\n",
       " ('CGCCAAGAGACGCACA-1', 'GCAATTGGGT'): Counter({'chr10': 3}),\n",
       " ('CGAGCCACACAGCCCA-1', 'CTCAACCCGC'): Counter({'chr10': 1}),\n",
       " ('AGGTCCGCAAGGTGTG-1', 'CTGGGATGCG'): Counter({'chr10': 1}),\n",
       " ('CGGACGTAGCTCCTCT-1', 'TAGTCACTGC'): Counter({'chr10': 1}),\n",
       " ('GGCCGATGTCATGCAT-1', 'AACTCAATAG'): Counter({'chr10': 3}),\n",
       " ('GTCCTCAGTCATCGGC-1', 'TTAATGGCTC'): Counter({'chr10': 1}),\n",
       " ('GGGAATGTCTAACGGT-1', 'GTGGCACCAA'): Counter({'chr10': 3}),\n",
       " ('TCTATTGTCCGATATG-1', 'AACCCCCGCG'): Counter({'chr10': 1}),\n",
       " ('GCGCAGTCAGCGTTCG-1', 'TGGGGAGGGT'): Counter({'chr10': 4}),\n",
       " ('GCGCAGTCAGCGTTCG-1', 'TGGGGAGGGC'): Counter({'chr10': 1}),\n",
       " ('GGGAATGTCTAACGGT-1', 'AAACGTGCGT'): Counter({'chr10': 1}),\n",
       " ('TTAGGCAGTAACGCGA-1', 'AGGCATTGCA'): Counter({'chr10': 1}),\n",
       " ('GCGCAGTCAGCGTTCG-1', 'TACTGTAATA'): Counter({'chr10': 3}),\n",
       " ('CGAGCCACACAGCCCA-1', 'CGCCCCTGGT'): Counter({'chr10': 1}),\n",
       " ('GCGCAGTCAGCGTTCG-1', 'TAGTGACTAG'): Counter({'chr10': 2}),\n",
       " ('TTAGGCAGTAACGCGA-1', 'TGAAACTAAC'): Counter({'chr10': 4})}"
      ]
     },
     "execution_count": 46,
     "metadata": {},
     "output_type": "execute_result"
    }
   ],
   "source": [
    "different_chromosomes"
   ]
  },
  {
   "cell_type": "code",
   "execution_count": 52,
   "metadata": {},
   "outputs": [
    {
     "data": {
      "text/plain": [
       "Counter({2: 113608, 3: 6450, 1: 1883961, 4: 337, 5: 18})"
      ]
     },
     "execution_count": 52,
     "metadata": {},
     "output_type": "execute_result"
    }
   ],
   "source": [
    "Counter(([ len(different_chromosomes[u]) for u in different_chromosomes]))"
   ]
  },
  {
   "cell_type": "code",
   "execution_count": null,
   "metadata": {},
   "outputs": [],
   "source": []
  },
  {
   "cell_type": "code",
   "execution_count": 53,
   "metadata": {},
   "outputs": [
    {
     "data": {
      "text/plain": [
       "120413"
      ]
     },
     "execution_count": 53,
     "metadata": {},
     "output_type": "execute_result"
    }
   ],
   "source": [
    "113608+6450+337+18"
   ]
  },
  {
   "cell_type": "code",
   "execution_count": 54,
   "metadata": {},
   "outputs": [
    {
     "data": {
      "text/plain": [
       "0.06007511572191617"
      ]
     },
     "execution_count": 54,
     "metadata": {},
     "output_type": "execute_result"
    }
   ],
   "source": [
    "120413/(120413+1883961)"
   ]
  },
  {
   "cell_type": "code",
   "execution_count": 55,
   "metadata": {},
   "outputs": [
    {
     "data": {
      "text/plain": [
       "[('GGTGAAGGTCAAGCGA-1', 'AGGAAGCGGG'),\n",
       " ('AGGTCCGCAAGGTGTG-1', 'ACAAAGCGGG'),\n",
       " ('ATCGAGTGTCTCTTTA-1', 'CTTACAGGAG'),\n",
       " ('ATCGAGTGTCTCTTTA-1', 'GTTTCAATCG'),\n",
       " ('ATCGAGTGTCTCTTTA-1', 'GCCTACGAGC'),\n",
       " ('ATGTGTGAGATATGGT-1', 'ACGCCTGAGG'),\n",
       " ('AGGTCCGCAAGGTGTG-1', 'GGTGGGTGGG'),\n",
       " ('ATCGAGTGTCTCTTTA-1', 'GCCCCAGGGA'),\n",
       " ('AGGTCCGCAAGGTGTG-1', 'TGGTACTAGT'),\n",
       " ('AGGTCCGCAAGGTGTG-1', 'ACCGGTGGGA'),\n",
       " ('GTCCTCAGTCATCGGC-1', 'ACACATTAGG'),\n",
       " ('ATCGAGTGTCTCTTTA-1', 'ACAAACGGCA'),\n",
       " ('CGAGCCACACAGCCCA-1', 'ACAATTCCCG'),\n",
       " ('GGTGAAGGTCAAGCGA-1', 'AAGGGAGGAG'),\n",
       " ('GTGCGGTTCCAGTAGT-1', 'GTCATGTCAT'),\n",
       " ('GGTGAAGGTCAAGCGA-1', 'AAGAATCTGG'),\n",
       " ('AACACGTGTAGAGTGC-1', 'ATAGAATAAG'),\n",
       " ('AGGTCCGCAAGGTGTG-1', 'AGGGTTTACA')]"
      ]
     },
     "execution_count": 55,
     "metadata": {},
     "output_type": "execute_result"
    }
   ],
   "source": [
    "[u for u in different_chromosomes if len(different_chromosomes[u]) == 5]"
   ]
  },
  {
   "cell_type": "code",
   "execution_count": 56,
   "metadata": {},
   "outputs": [
    {
     "data": {
      "text/plain": [
       "Counter({('chr2', 73565854, 73566005): 1,\n",
       "         ('chr2', 73565878, 73566029): 1,\n",
       "         ('chr2', 73565880, 73566031): 1,\n",
       "         ('chr3', 94884323, 94884681): 1,\n",
       "         ('chr4', 150248541, 150248692): 3,\n",
       "         ('chr7', 34202343, 34202494): 1,\n",
       "         ('chr8', 70508427, 70509345): 1})"
      ]
     },
     "execution_count": 56,
     "metadata": {},
     "output_type": "execute_result"
    }
   ],
   "source": [
    "umis[('AGGTCCGCAAGGTGTG-1', 'AGGGTTTACA')]"
   ]
  },
  {
   "cell_type": "code",
   "execution_count": 67,
   "metadata": {},
   "outputs": [
    {
     "data": {
      "text/plain": [
       "Counter({('chr17', 33952101, 33952444): 1,\n",
       "         ('chr17', 33952101, 33952443): 1,\n",
       "         ('chr17', 33952110, 33952453): 1,\n",
       "         ('chr17', 33952242, 33952483): 2,\n",
       "         ('chr17', 33952258, 33952499): 1,\n",
       "         ('chr3', 86138034, 86138557): 1,\n",
       "         ('chr5', 13605941, 13606092): 1,\n",
       "         ('chr5', 13605990, 13606139): 1,\n",
       "         ('chr5', 13605996, 13606147): 1,\n",
       "         ('chr5', 13606005, 13606155): 1,\n",
       "         ('chr7', 88530371, 88530511): 1,\n",
       "         ('chr8', 107262721, 107262868): 1})"
      ]
     },
     "execution_count": 67,
     "metadata": {},
     "output_type": "execute_result"
    }
   ],
   "source": [
    "umis[('GGTGAAGGTCAAGCGA-1', 'AAGAATCTGG')]"
   ]
  },
  {
   "cell_type": "code",
   "execution_count": 59,
   "metadata": {},
   "outputs": [],
   "source": [
    "different_counts = Counter(([ len(different_chromosomes[u]) for u in different_chromosomes]))\n"
   ]
  },
  {
   "cell_type": "code",
   "execution_count": 66,
   "metadata": {},
   "outputs": [
    {
     "data": {
      "text/plain": [
       "<BarContainer object of 5 artists>"
      ]
     },
     "execution_count": 66,
     "metadata": {},
     "output_type": "execute_result"
    },
    {
     "data": {
      "image/png": "[encoded data removed]",
      "text/plain": [
       "<Figure size 432x288 with 1 Axes>"
      ]
     },
     "metadata": {
      "needs_background": "light"
     },
     "output_type": "display_data"
    }
   ],
   "source": [
    "f = pyplot.figure()\n",
    "a = f.add_subplot(1,1,1)\n",
    "a.bar(range(1,6), [different_counts[x] for x in range(1,6)])"
   ]
  },
  {
   "cell_type": "code",
   "execution_count": 70,
   "metadata": {},
   "outputs": [
    {
     "data": {
      "text/plain": [
       "'E00497:95:H3JGYCCXY:8:1122:12144:9941\\t4\\t*\\t0\\t0\\t*\\t*\\t0\\t0\\tTCTAACTGTCCAGTCTCCACCCCTTAGTGGGGTTCATCCAAGGCCTCGTTGTGGGGCTTGGGCTTCTCTCTGTGCGTTCTTAGTTCCTGGTGGCAGCTCTTCTCAGTTTCCTCAGGTATGCGGTGGCCCTGTTCCCGCTAGTCTGTTTTGG\\t-7-F<JJ-F<<<A-FF<F<FJJA7F-<J-<---AFJ-F<F<FA7FF--AFF--<777-7A7---A<AF-<F<A7--7-7F-------7-7-A<--77--A-7F<J<777-FF7A)F-A--A-7A7)-7)A))--7))--))7-----7-<-\\tNH:i:0\\tHI:i:0\\tAS:i:98\\tnM:i:10\\tuT:A:1\\txf:i:0\\tli:i:0\\tCR:Z:TTTGTCATCTTTAGTC\\tCY:Z:-A-<F7F-A-AA<AJF\\tCB:Z:TTTGTCATCTTTAGTC-1\\tUR:Z:TTTTTGTGCG\\tUY:Z:FAJJJJJJFA\\tUB:Z:TTTTTGTGCG\\tRG:Z:Wold10x-1-count-cells10000:0:1:H3JGYCCXY:8'"
      ]
     },
     "execution_count": 70,
     "metadata": {},
     "output_type": "execute_result"
    }
   ],
   "source": [
    "read.to_string()"
   ]
  },
  {
   "cell_type": "code",
   "execution_count": 78,
   "metadata": {},
   "outputs": [
    {
     "data": {
      "text/plain": [
       "odict_keys(['HD', 'SQ', 'RG', 'PG', 'CO'])"
      ]
     },
     "execution_count": 78,
     "metadata": {},
     "output_type": "execute_result"
    }
   ],
   "source": [
    "possorted_bam.header.keys()"
   ]
  },
  {
   "cell_type": "code",
   "execution_count": 82,
   "metadata": {},
   "outputs": [
    {
     "data": {
      "text/plain": [
       "['user command line: STAR --genomeDir /central/groups/woldlab/genomes//encode-mm10-M4-male-3.0.1/star --outSAMmultNmax -1 --runThreadN 4 --readNameSeparator space --outSAMunmapped Within KeepPairs --outSAMtype SAM --outStd SAM --outSAMorder PairedKeepInputOrder --outSAMattrRGline ID:Wold10x-1-count-cells10000:0:1:H3JGYCCXY:8 SM:Wold10x-1-count-cells10000 LB:0.1 PU:Wold10x-1-count-cells10000:0:1:H3JGYCCXY:8 PL:ILLUMINA --readFilesIn /dev/fd/63',\n",
       " '10x_bam_to_fastq:I1(BC:QT)',\n",
       " '10x_bam_to_fastq:R1(CR:CY,UR:UY)',\n",
       " '10x_bam_to_fastq:R2(SEQ:QUAL)',\n",
       " 'library_info:{\"library_id\":\"0\",\"library_type\":\"Gene Expression\",\"gem_group\":1}',\n",
       " 'user command line: STAR --genomeDir /central/groups/woldlab/genomes//encode-mm10-M4-male-3.0.1/star --outSAMmultNmax -1 --runThreadN 4 --readNameSeparator space --outSAMunmapped Within KeepPairs --outSAMtype SAM --outStd SAM --outSAMorder PairedKeepInputOrder --outSAMattrRGline ID:Wold10x-1-count-cells10000:0:1:H3JGYCCXY:8 SM:Wold10x-1-count-cells10000 LB:0.1 PU:Wold10x-1-count-cells10000:0:1:H3JGYCCXY:8 PL:ILLUMINA --readFilesIn /dev/fd/63',\n",
       " '10x_bam_to_fastq:I1(BC:QT)',\n",
       " '10x_bam_to_fastq:R1(CR:CY,UR:UY)',\n",
       " '10x_bam_to_fastq:R2(SEQ:QUAL)',\n",
       " 'library_info:{\"library_id\":\"0\",\"library_type\":\"Gene Expression\",\"gem_group\":1}',\n",
       " 'user command line: STAR --genomeDir /central/groups/woldlab/genomes//encode-mm10-M4-male-3.0.1/star --outSAMmultNmax -1 --runThreadN 4 --readNameSeparator space --outSAMunmapped Within KeepPairs --outSAMtype SAM --outStd SAM --outSAMorder PairedKeepInputOrder --outSAMattrRGline ID:Wold10x-1-count-cells10000:0:1:H3JGYCCXY:8 SM:Wold10x-1-count-cells10000 LB:0.1 PU:Wold10x-1-count-cells10000:0:1:H3JGYCCXY:8 PL:ILLUMINA --readFilesIn /dev/fd/63',\n",
       " '10x_bam_to_fastq:I1(BC:QT)',\n",
       " '10x_bam_to_fastq:R1(CR:CY,UR:UY)',\n",
       " '10x_bam_to_fastq:R2(SEQ:QUAL)',\n",
       " 'library_info:{\"library_id\":\"0\",\"library_type\":\"Gene Expression\",\"gem_group\":1}',\n",
       " 'user command line: STAR --genomeDir /central/groups/woldlab/genomes//encode-mm10-M4-male-3.0.1/star --outSAMmultNmax -1 --runThreadN 4 --readNameSeparator space --outSAMunmapped Within KeepPairs --outSAMtype SAM --outStd SAM --outSAMorder PairedKeepInputOrder --outSAMattrRGline ID:Wold10x-1-count-cells10000:0:1:H3JGYCCXY:8 SM:Wold10x-1-count-cells10000 LB:0.1 PU:Wold10x-1-count-cells10000:0:1:H3JGYCCXY:8 PL:ILLUMINA --readFilesIn /dev/fd/63',\n",
       " '10x_bam_to_fastq:I1(BC:QT)',\n",
       " '10x_bam_to_fastq:R1(CR:CY,UR:UY)',\n",
       " '10x_bam_to_fastq:R2(SEQ:QUAL)',\n",
       " 'library_info:{\"library_id\":\"0\",\"library_type\":\"Gene Expression\",\"gem_group\":1}',\n",
       " 'user command line: STAR --genomeDir /central/groups/woldlab/genomes//encode-mm10-M4-male-3.0.1/star --outSAMmultNmax -1 --runThreadN 4 --readNameSeparator space --outSAMunmapped Within KeepPairs --outSAMtype SAM --outStd SAM --outSAMorder PairedKeepInputOrder --outSAMattrRGline ID:Wold10x-1-count-cells10000:0:1:H3JGYCCXY:8 SM:Wold10x-1-count-cells10000 LB:0.1 PU:Wold10x-1-count-cells10000:0:1:H3JGYCCXY:8 PL:ILLUMINA --readFilesIn /dev/fd/63',\n",
       " '10x_bam_to_fastq:I1(BC:QT)',\n",
       " '10x_bam_to_fastq:R1(CR:CY,UR:UY)',\n",
       " '10x_bam_to_fastq:R2(SEQ:QUAL)',\n",
       " 'library_info:{\"library_id\":\"0\",\"library_type\":\"Gene Expression\",\"gem_group\":1}',\n",
       " 'user command line: STAR --genomeDir /central/groups/woldlab/genomes//encode-mm10-M4-male-3.0.1/star --outSAMmultNmax -1 --runThreadN 4 --readNameSeparator space --outSAMunmapped Within KeepPairs --outSAMtype SAM --outStd SAM --outSAMorder PairedKeepInputOrder --outSAMattrRGline ID:Wold10x-1-count-cells10000:0:1:H3JGYCCXY:8 SM:Wold10x-1-count-cells10000 LB:0.1 PU:Wold10x-1-count-cells10000:0:1:H3JGYCCXY:8 PL:ILLUMINA --readFilesIn /dev/fd/63',\n",
       " '10x_bam_to_fastq:I1(BC:QT)',\n",
       " '10x_bam_to_fastq:R1(CR:CY,UR:UY)',\n",
       " '10x_bam_to_fastq:R2(SEQ:QUAL)',\n",
       " 'library_info:{\"library_id\":\"0\",\"library_type\":\"Gene Expression\",\"gem_group\":1}',\n",
       " 'user command line: STAR --genomeDir /central/groups/woldlab/genomes//encode-mm10-M4-male-3.0.1/star --outSAMmultNmax -1 --runThreadN 4 --readNameSeparator space --outSAMunmapped Within KeepPairs --outSAMtype SAM --outStd SAM --outSAMorder PairedKeepInputOrder --outSAMattrRGline ID:Wold10x-1-count-cells10000:0:1:H3JGYCCXY:8 SM:Wold10x-1-count-cells10000 LB:0.1 PU:Wold10x-1-count-cells10000:0:1:H3JGYCCXY:8 PL:ILLUMINA --readFilesIn /dev/fd/63',\n",
       " '10x_bam_to_fastq:I1(BC:QT)',\n",
       " '10x_bam_to_fastq:R1(CR:CY,UR:UY)',\n",
       " '10x_bam_to_fastq:R2(SEQ:QUAL)',\n",
       " 'library_info:{\"library_id\":\"0\",\"library_type\":\"Gene Expression\",\"gem_group\":1}',\n",
       " 'user command line: STAR --genomeDir /central/groups/woldlab/genomes//encode-mm10-M4-male-3.0.1/star --outSAMmultNmax -1 --runThreadN 4 --readNameSeparator space --outSAMunmapped Within KeepPairs --outSAMtype SAM --outStd SAM --outSAMorder PairedKeepInputOrder --outSAMattrRGline ID:Wold10x-1-count-cells10000:0:1:H3JGYCCXY:8 SM:Wold10x-1-count-cells10000 LB:0.1 PU:Wold10x-1-count-cells10000:0:1:H3JGYCCXY:8 PL:ILLUMINA --readFilesIn /dev/fd/63',\n",
       " '10x_bam_to_fastq:I1(BC:QT)',\n",
       " '10x_bam_to_fastq:R1(CR:CY,UR:UY)',\n",
       " '10x_bam_to_fastq:R2(SEQ:QUAL)',\n",
       " 'library_info:{\"library_id\":\"0\",\"library_type\":\"Gene Expression\",\"gem_group\":1}',\n",
       " 'user command line: STAR --genomeDir /central/groups/woldlab/genomes//encode-mm10-M4-male-3.0.1/star --outSAMmultNmax -1 --runThreadN 4 --readNameSeparator space --outSAMunmapped Within KeepPairs --outSAMtype SAM --outStd SAM --outSAMorder PairedKeepInputOrder --outSAMattrRGline ID:Wold10x-1-count-cells10000:0:1:H3JGYCCXY:8 SM:Wold10x-1-count-cells10000 LB:0.1 PU:Wold10x-1-count-cells10000:0:1:H3JGYCCXY:8 PL:ILLUMINA --readFilesIn /dev/fd/63',\n",
       " '10x_bam_to_fastq:I1(BC:QT)',\n",
       " '10x_bam_to_fastq:R1(CR:CY,UR:UY)',\n",
       " '10x_bam_to_fastq:R2(SEQ:QUAL)',\n",
       " 'library_info:{\"library_id\":\"0\",\"library_type\":\"Gene Expression\",\"gem_group\":1}',\n",
       " 'user command line: STAR --genomeDir /central/groups/woldlab/genomes//encode-mm10-M4-male-3.0.1/star --outSAMmultNmax -1 --runThreadN 4 --readNameSeparator space --outSAMunmapped Within KeepPairs --outSAMtype SAM --outStd SAM --outSAMorder PairedKeepInputOrder --outSAMattrRGline ID:Wold10x-1-count-cells10000:0:1:H3JGYCCXY:8 SM:Wold10x-1-count-cells10000 LB:0.1 PU:Wold10x-1-count-cells10000:0:1:H3JGYCCXY:8 PL:ILLUMINA --readFilesIn /dev/fd/63',\n",
       " '10x_bam_to_fastq:I1(BC:QT)',\n",
       " '10x_bam_to_fastq:R1(CR:CY,UR:UY)',\n",
       " '10x_bam_to_fastq:R2(SEQ:QUAL)',\n",
       " 'library_info:{\"library_id\":\"0\",\"library_type\":\"Gene Expression\",\"gem_group\":1}',\n",
       " 'user command line: STAR --genomeDir /central/groups/woldlab/genomes//encode-mm10-M4-male-3.0.1/star --outSAMmultNmax -1 --runThreadN 4 --readNameSeparator space --outSAMunmapped Within KeepPairs --outSAMtype SAM --outStd SAM --outSAMorder PairedKeepInputOrder --outSAMattrRGline ID:Wold10x-1-count-cells10000:0:1:H3JGYCCXY:8 SM:Wold10x-1-count-cells10000 LB:0.1 PU:Wold10x-1-count-cells10000:0:1:H3JGYCCXY:8 PL:ILLUMINA --readFilesIn /dev/fd/63',\n",
       " '10x_bam_to_fastq:I1(BC:QT)',\n",
       " '10x_bam_to_fastq:R1(CR:CY,UR:UY)',\n",
       " '10x_bam_to_fastq:R2(SEQ:QUAL)',\n",
       " 'library_info:{\"library_id\":\"0\",\"library_type\":\"Gene Expression\",\"gem_group\":1}',\n",
       " 'user command line: STAR --genomeDir /central/groups/woldlab/genomes//encode-mm10-M4-male-3.0.1/star --outSAMmultNmax -1 --runThreadN 4 --readNameSeparator space --outSAMunmapped Within KeepPairs --outSAMtype SAM --outStd SAM --outSAMorder PairedKeepInputOrder --outSAMattrRGline ID:Wold10x-1-count-cells10000:0:1:H3JGYCCXY:8 SM:Wold10x-1-count-cells10000 LB:0.1 PU:Wold10x-1-count-cells10000:0:1:H3JGYCCXY:8 PL:ILLUMINA --readFilesIn /dev/fd/63',\n",
       " '10x_bam_to_fastq:I1(BC:QT)',\n",
       " '10x_bam_to_fastq:R1(CR:CY,UR:UY)',\n",
       " '10x_bam_to_fastq:R2(SEQ:QUAL)',\n",
       " 'library_info:{\"library_id\":\"0\",\"library_type\":\"Gene Expression\",\"gem_group\":1}',\n",
       " 'user command line: STAR --genomeDir /central/groups/woldlab/genomes//encode-mm10-M4-male-3.0.1/star --outSAMmultNmax -1 --runThreadN 4 --readNameSeparator space --outSAMunmapped Within KeepPairs --outSAMtype SAM --outStd SAM --outSAMorder PairedKeepInputOrder --outSAMattrRGline ID:Wold10x-1-count-cells10000:0:1:H3JGYCCXY:8 SM:Wold10x-1-count-cells10000 LB:0.1 PU:Wold10x-1-count-cells10000:0:1:H3JGYCCXY:8 PL:ILLUMINA --readFilesIn /dev/fd/63',\n",
       " '10x_bam_to_fastq:I1(BC:QT)',\n",
       " '10x_bam_to_fastq:R1(CR:CY,UR:UY)',\n",
       " '10x_bam_to_fastq:R2(SEQ:QUAL)',\n",
       " 'library_info:{\"library_id\":\"0\",\"library_type\":\"Gene Expression\",\"gem_group\":1}',\n",
       " 'user command line: STAR --genomeDir /central/groups/woldlab/genomes//encode-mm10-M4-male-3.0.1/star --outSAMmultNmax -1 --runThreadN 4 --readNameSeparator space --outSAMunmapped Within KeepPairs --outSAMtype SAM --outStd SAM --outSAMorder PairedKeepInputOrder --outSAMattrRGline ID:Wold10x-1-count-cells10000:0:1:H3JGYCCXY:8 SM:Wold10x-1-count-cells10000 LB:0.1 PU:Wold10x-1-count-cells10000:0:1:H3JGYCCXY:8 PL:ILLUMINA --readFilesIn /dev/fd/63',\n",
       " '10x_bam_to_fastq:I1(BC:QT)',\n",
       " '10x_bam_to_fastq:R1(CR:CY,UR:UY)',\n",
       " '10x_bam_to_fastq:R2(SEQ:QUAL)',\n",
       " 'library_info:{\"library_id\":\"0\",\"library_type\":\"Gene Expression\",\"gem_group\":1}',\n",
       " 'user command line: STAR --genomeDir /central/groups/woldlab/genomes//encode-mm10-M4-male-3.0.1/star --outSAMmultNmax -1 --runThreadN 4 --readNameSeparator space --outSAMunmapped Within KeepPairs --outSAMtype SAM --outStd SAM --outSAMorder PairedKeepInputOrder --outSAMattrRGline ID:Wold10x-1-count-cells10000:0:1:H3JGYCCXY:8 SM:Wold10x-1-count-cells10000 LB:0.1 PU:Wold10x-1-count-cells10000:0:1:H3JGYCCXY:8 PL:ILLUMINA --readFilesIn /dev/fd/63',\n",
       " '10x_bam_to_fastq:I1(BC:QT)',\n",
       " '10x_bam_to_fastq:R1(CR:CY,UR:UY)',\n",
       " '10x_bam_to_fastq:R2(SEQ:QUAL)',\n",
       " 'library_info:{\"library_id\":\"0\",\"library_type\":\"Gene Expression\",\"gem_group\":1}',\n",
       " 'user command line: STAR --genomeDir /central/groups/woldlab/genomes//encode-mm10-M4-male-3.0.1/star --outSAMmultNmax -1 --runThreadN 4 --readNameSeparator space --outSAMunmapped Within KeepPairs --outSAMtype SAM --outStd SAM --outSAMorder PairedKeepInputOrder --outSAMattrRGline ID:Wold10x-1-count-cells10000:0:1:H3JGYCCXY:8 SM:Wold10x-1-count-cells10000 LB:0.1 PU:Wold10x-1-count-cells10000:0:1:H3JGYCCXY:8 PL:ILLUMINA --readFilesIn /dev/fd/63',\n",
       " '10x_bam_to_fastq:I1(BC:QT)',\n",
       " '10x_bam_to_fastq:R1(CR:CY,UR:UY)',\n",
       " '10x_bam_to_fastq:R2(SEQ:QUAL)',\n",
       " 'library_info:{\"library_id\":\"0\",\"library_type\":\"Gene Expression\",\"gem_group\":1}',\n",
       " 'user command line: STAR --genomeDir /central/groups/woldlab/genomes//encode-mm10-M4-male-3.0.1/star --outSAMmultNmax -1 --runThreadN 4 --readNameSeparator space --outSAMunmapped Within KeepPairs --outSAMtype SAM --outStd SAM --outSAMorder PairedKeepInputOrder --outSAMattrRGline ID:Wold10x-1-count-cells10000:0:1:H3JGYCCXY:8 SM:Wold10x-1-count-cells10000 LB:0.1 PU:Wold10x-1-count-cells10000:0:1:H3JGYCCXY:8 PL:ILLUMINA --readFilesIn /dev/fd/63',\n",
       " '10x_bam_to_fastq:I1(BC:QT)',\n",
       " '10x_bam_to_fastq:R1(CR:CY,UR:UY)',\n",
       " '10x_bam_to_fastq:R2(SEQ:QUAL)',\n",
       " 'library_info:{\"library_id\":\"0\",\"library_type\":\"Gene Expression\",\"gem_group\":1}',\n",
       " 'user command line: STAR --genomeDir /central/groups/woldlab/genomes//encode-mm10-M4-male-3.0.1/star --outSAMmultNmax -1 --runThreadN 4 --readNameSeparator space --outSAMunmapped Within KeepPairs --outSAMtype SAM --outStd SAM --outSAMorder PairedKeepInputOrder --outSAMattrRGline ID:Wold10x-1-count-cells10000:0:1:H3JGYCCXY:8 SM:Wold10x-1-count-cells10000 LB:0.1 PU:Wold10x-1-count-cells10000:0:1:H3JGYCCXY:8 PL:ILLUMINA --readFilesIn /dev/fd/63',\n",
       " '10x_bam_to_fastq:I1(BC:QT)',\n",
       " '10x_bam_to_fastq:R1(CR:CY,UR:UY)',\n",
       " '10x_bam_to_fastq:R2(SEQ:QUAL)',\n",
       " 'library_info:{\"library_id\":\"0\",\"library_type\":\"Gene Expression\",\"gem_group\":1}',\n",
       " 'user command line: STAR --genomeDir /central/groups/woldlab/genomes//encode-mm10-M4-male-3.0.1/star --outSAMmultNmax -1 --runThreadN 4 --readNameSeparator space --outSAMunmapped Within KeepPairs --outSAMtype SAM --outStd SAM --outSAMorder PairedKeepInputOrder --outSAMattrRGline ID:Wold10x-1-count-cells10000:0:1:H3JGYCCXY:8 SM:Wold10x-1-count-cells10000 LB:0.1 PU:Wold10x-1-count-cells10000:0:1:H3JGYCCXY:8 PL:ILLUMINA --readFilesIn /dev/fd/63',\n",
       " '10x_bam_to_fastq:I1(BC:QT)',\n",
       " '10x_bam_to_fastq:R1(CR:CY,UR:UY)',\n",
       " '10x_bam_to_fastq:R2(SEQ:QUAL)',\n",
       " 'library_info:{\"library_id\":\"0\",\"library_type\":\"Gene Expression\",\"gem_group\":1}',\n",
       " 'user command line: STAR --genomeDir /central/groups/woldlab/genomes//encode-mm10-M4-male-3.0.1/star --outSAMmultNmax -1 --runThreadN 4 --readNameSeparator space --outSAMunmapped Within KeepPairs --outSAMtype SAM --outStd SAM --outSAMorder PairedKeepInputOrder --outSAMattrRGline ID:Wold10x-1-count-cells10000:0:1:H3JGYCCXY:8 SM:Wold10x-1-count-cells10000 LB:0.1 PU:Wold10x-1-count-cells10000:0:1:H3JGYCCXY:8 PL:ILLUMINA --readFilesIn /dev/fd/63',\n",
       " '10x_bam_to_fastq:I1(BC:QT)',\n",
       " '10x_bam_to_fastq:R1(CR:CY,UR:UY)',\n",
       " '10x_bam_to_fastq:R2(SEQ:QUAL)',\n",
       " 'library_info:{\"library_id\":\"0\",\"library_type\":\"Gene Expression\",\"gem_group\":1}',\n",
       " 'user command line: STAR --genomeDir /central/groups/woldlab/genomes//encode-mm10-M4-male-3.0.1/star --outSAMmultNmax -1 --runThreadN 4 --readNameSeparator space --outSAMunmapped Within KeepPairs --outSAMtype SAM --outStd SAM --outSAMorder PairedKeepInputOrder --outSAMattrRGline ID:Wold10x-1-count-cells10000:0:1:H3JGYCCXY:8 SM:Wold10x-1-count-cells10000 LB:0.1 PU:Wold10x-1-count-cells10000:0:1:H3JGYCCXY:8 PL:ILLUMINA --readFilesIn /dev/fd/63',\n",
       " '10x_bam_to_fastq:I1(BC:QT)',\n",
       " '10x_bam_to_fastq:R1(CR:CY,UR:UY)',\n",
       " '10x_bam_to_fastq:R2(SEQ:QUAL)',\n",
       " 'library_info:{\"library_id\":\"0\",\"library_type\":\"Gene Expression\",\"gem_group\":1}',\n",
       " 'user command line: STAR --genomeDir /central/groups/woldlab/genomes//encode-mm10-M4-male-3.0.1/star --outSAMmultNmax -1 --runThreadN 4 --readNameSeparator space --outSAMunmapped Within KeepPairs --outSAMtype SAM --outStd SAM --outSAMorder PairedKeepInputOrder --outSAMattrRGline ID:Wold10x-1-count-cells10000:0:1:H3JGYCCXY:8 SM:Wold10x-1-count-cells10000 LB:0.1 PU:Wold10x-1-count-cells10000:0:1:H3JGYCCXY:8 PL:ILLUMINA --readFilesIn /dev/fd/63',\n",
       " '10x_bam_to_fastq:I1(BC:QT)',\n",
       " '10x_bam_to_fastq:R1(CR:CY,UR:UY)',\n",
       " '10x_bam_to_fastq:R2(SEQ:QUAL)',\n",
       " 'library_info:{\"library_id\":\"0\",\"library_type\":\"Gene Expression\",\"gem_group\":1}',\n",
       " 'user command line: STAR --genomeDir /central/groups/woldlab/genomes//encode-mm10-M4-male-3.0.1/star --outSAMmultNmax -1 --runThreadN 4 --readNameSeparator space --outSAMunmapped Within KeepPairs --outSAMtype SAM --outStd SAM --outSAMorder PairedKeepInputOrder --outSAMattrRGline ID:Wold10x-1-count-cells10000:0:1:H3JGYCCXY:8 SM:Wold10x-1-count-cells10000 LB:0.1 PU:Wold10x-1-count-cells10000:0:1:H3JGYCCXY:8 PL:ILLUMINA --readFilesIn /dev/fd/63',\n",
       " '10x_bam_to_fastq:I1(BC:QT)',\n",
       " '10x_bam_to_fastq:R1(CR:CY,UR:UY)',\n",
       " '10x_bam_to_fastq:R2(SEQ:QUAL)',\n",
       " 'library_info:{\"library_id\":\"0\",\"library_type\":\"Gene Expression\",\"gem_group\":1}',\n",
       " 'user command line: STAR --genomeDir /central/groups/woldlab/genomes//encode-mm10-M4-male-3.0.1/star --outSAMmultNmax -1 --runThreadN 4 --readNameSeparator space --outSAMunmapped Within KeepPairs --outSAMtype SAM --outStd SAM --outSAMorder PairedKeepInputOrder --outSAMattrRGline ID:Wold10x-1-count-cells10000:0:1:H3JGYCCXY:8 SM:Wold10x-1-count-cells10000 LB:0.1 PU:Wold10x-1-count-cells10000:0:1:H3JGYCCXY:8 PL:ILLUMINA --readFilesIn /dev/fd/63',\n",
       " '10x_bam_to_fastq:I1(BC:QT)',\n",
       " '10x_bam_to_fastq:R1(CR:CY,UR:UY)',\n",
       " '10x_bam_to_fastq:R2(SEQ:QUAL)',\n",
       " 'library_info:{\"library_id\":\"0\",\"library_type\":\"Gene Expression\",\"gem_group\":1}',\n",
       " 'user command line: STAR --genomeDir /central/groups/woldlab/genomes//encode-mm10-M4-male-3.0.1/star --outSAMmultNmax -1 --runThreadN 4 --readNameSeparator space --outSAMunmapped Within KeepPairs --outSAMtype SAM --outStd SAM --outSAMorder PairedKeepInputOrder --outSAMattrRGline ID:Wold10x-1-count-cells10000:0:1:H3JGYCCXY:8 SM:Wold10x-1-count-cells10000 LB:0.1 PU:Wold10x-1-count-cells10000:0:1:H3JGYCCXY:8 PL:ILLUMINA --readFilesIn /dev/fd/63',\n",
       " '10x_bam_to_fastq:I1(BC:QT)',\n",
       " '10x_bam_to_fastq:R1(CR:CY,UR:UY)',\n",
       " '10x_bam_to_fastq:R2(SEQ:QUAL)',\n",
       " 'library_info:{\"library_id\":\"0\",\"library_type\":\"Gene Expression\",\"gem_group\":1}',\n",
       " 'user command line: STAR --genomeDir /central/groups/woldlab/genomes//encode-mm10-M4-male-3.0.1/star --outSAMmultNmax -1 --runThreadN 4 --readNameSeparator space --outSAMunmapped Within KeepPairs --outSAMtype SAM --outStd SAM --outSAMorder PairedKeepInputOrder --outSAMattrRGline ID:Wold10x-1-count-cells10000:0:1:H3JGYCCXY:8 SM:Wold10x-1-count-cells10000 LB:0.1 PU:Wold10x-1-count-cells10000:0:1:H3JGYCCXY:8 PL:ILLUMINA --readFilesIn /dev/fd/63',\n",
       " '10x_bam_to_fastq:I1(BC:QT)',\n",
       " '10x_bam_to_fastq:R1(CR:CY,UR:UY)',\n",
       " '10x_bam_to_fastq:R2(SEQ:QUAL)',\n",
       " 'library_info:{\"library_id\":\"0\",\"library_type\":\"Gene Expression\",\"gem_group\":1}',\n",
       " 'user command line: STAR --genomeDir /central/groups/woldlab/genomes//encode-mm10-M4-male-3.0.1/star --outSAMmultNmax -1 --runThreadN 4 --readNameSeparator space --outSAMunmapped Within KeepPairs --outSAMtype SAM --outStd SAM --outSAMorder PairedKeepInputOrder --outSAMattrRGline ID:Wold10x-1-count-cells10000:0:1:H3JGYCCXY:8 SM:Wold10x-1-count-cells10000 LB:0.1 PU:Wold10x-1-count-cells10000:0:1:H3JGYCCXY:8 PL:ILLUMINA --readFilesIn /dev/fd/63',\n",
       " '10x_bam_to_fastq:I1(BC:QT)',\n",
       " '10x_bam_to_fastq:R1(CR:CY,UR:UY)',\n",
       " '10x_bam_to_fastq:R2(SEQ:QUAL)',\n",
       " 'library_info:{\"library_id\":\"0\",\"library_type\":\"Gene Expression\",\"gem_group\":1}',\n",
       " 'user command line: STAR --genomeDir /central/groups/woldlab/genomes//encode-mm10-M4-male-3.0.1/star --outSAMmultNmax -1 --runThreadN 4 --readNameSeparator space --outSAMunmapped Within KeepPairs --outSAMtype SAM --outStd SAM --outSAMorder PairedKeepInputOrder --outSAMattrRGline ID:Wold10x-1-count-cells10000:0:1:H3JGYCCXY:8 SM:Wold10x-1-count-cells10000 LB:0.1 PU:Wold10x-1-count-cells10000:0:1:H3JGYCCXY:8 PL:ILLUMINA --readFilesIn /dev/fd/63',\n",
       " '10x_bam_to_fastq:I1(BC:QT)',\n",
       " '10x_bam_to_fastq:R1(CR:CY,UR:UY)',\n",
       " '10x_bam_to_fastq:R2(SEQ:QUAL)',\n",
       " 'library_info:{\"library_id\":\"0\",\"library_type\":\"Gene Expression\",\"gem_group\":1}',\n",
       " 'user command line: STAR --genomeDir /central/groups/woldlab/genomes//encode-mm10-M4-male-3.0.1/star --outSAMmultNmax -1 --runThreadN 4 --readNameSeparator space --outSAMunmapped Within KeepPairs --outSAMtype SAM --outStd SAM --outSAMorder PairedKeepInputOrder --outSAMattrRGline ID:Wold10x-1-count-cells10000:0:1:H3JGYCCXY:8 SM:Wold10x-1-count-cells10000 LB:0.1 PU:Wold10x-1-count-cells10000:0:1:H3JGYCCXY:8 PL:ILLUMINA --readFilesIn /dev/fd/63',\n",
       " '10x_bam_to_fastq:I1(BC:QT)',\n",
       " '10x_bam_to_fastq:R1(CR:CY,UR:UY)',\n",
       " '10x_bam_to_fastq:R2(SEQ:QUAL)',\n",
       " 'library_info:{\"library_id\":\"0\",\"library_type\":\"Gene Expression\",\"gem_group\":1}',\n",
       " 'user command line: STAR --genomeDir /central/groups/woldlab/genomes//encode-mm10-M4-male-3.0.1/star --outSAMmultNmax -1 --runThreadN 4 --readNameSeparator space --outSAMunmapped Within KeepPairs --outSAMtype SAM --outStd SAM --outSAMorder PairedKeepInputOrder --outSAMattrRGline ID:Wold10x-1-count-cells10000:0:1:H3JGYCCXY:8 SM:Wold10x-1-count-cells10000 LB:0.1 PU:Wold10x-1-count-cells10000:0:1:H3JGYCCXY:8 PL:ILLUMINA --readFilesIn /dev/fd/63',\n",
       " '10x_bam_to_fastq:I1(BC:QT)',\n",
       " '10x_bam_to_fastq:R1(CR:CY,UR:UY)',\n",
       " '10x_bam_to_fastq:R2(SEQ:QUAL)',\n",
       " 'library_info:{\"library_id\":\"0\",\"library_type\":\"Gene Expression\",\"gem_group\":1}',\n",
       " 'user command line: STAR --genomeDir /central/groups/woldlab/genomes//encode-mm10-M4-male-3.0.1/star --outSAMmultNmax -1 --runThreadN 4 --readNameSeparator space --outSAMunmapped Within KeepPairs --outSAMtype SAM --outStd SAM --outSAMorder PairedKeepInputOrder --outSAMattrRGline ID:Wold10x-1-count-cells10000:0:1:H3JGYCCXY:8 SM:Wold10x-1-count-cells10000 LB:0.1 PU:Wold10x-1-count-cells10000:0:1:H3JGYCCXY:8 PL:ILLUMINA --readFilesIn /dev/fd/63',\n",
       " '10x_bam_to_fastq:I1(BC:QT)',\n",
       " '10x_bam_to_fastq:R1(CR:CY,UR:UY)',\n",
       " '10x_bam_to_fastq:R2(SEQ:QUAL)',\n",
       " 'library_info:{\"library_id\":\"0\",\"library_type\":\"Gene Expression\",\"gem_group\":1}',\n",
       " 'user command line: STAR --genomeDir /central/groups/woldlab/genomes//encode-mm10-M4-male-3.0.1/star --outSAMmultNmax -1 --runThreadN 4 --readNameSeparator space --outSAMunmapped Within KeepPairs --outSAMtype SAM --outStd SAM --outSAMorder PairedKeepInputOrder --outSAMattrRGline ID:Wold10x-1-count-cells10000:0:1:H3JGYCCXY:8 SM:Wold10x-1-count-cells10000 LB:0.1 PU:Wold10x-1-count-cells10000:0:1:H3JGYCCXY:8 PL:ILLUMINA --readFilesIn /dev/fd/63',\n",
       " '10x_bam_to_fastq:I1(BC:QT)',\n",
       " '10x_bam_to_fastq:R1(CR:CY,UR:UY)',\n",
       " '10x_bam_to_fastq:R2(SEQ:QUAL)',\n",
       " 'library_info:{\"library_id\":\"0\",\"library_type\":\"Gene Expression\",\"gem_group\":1}',\n",
       " 'user command line: STAR --genomeDir /central/groups/woldlab/genomes//encode-mm10-M4-male-3.0.1/star --outSAMmultNmax -1 --runThreadN 4 --readNameSeparator space --outSAMunmapped Within KeepPairs --outSAMtype SAM --outStd SAM --outSAMorder PairedKeepInputOrder --outSAMattrRGline ID:Wold10x-1-count-cells10000:0:1:H3JGYCCXY:8 SM:Wold10x-1-count-cells10000 LB:0.1 PU:Wold10x-1-count-cells10000:0:1:H3JGYCCXY:8 PL:ILLUMINA --readFilesIn /dev/fd/63',\n",
       " '10x_bam_to_fastq:I1(BC:QT)',\n",
       " '10x_bam_to_fastq:R1(CR:CY,UR:UY)',\n",
       " '10x_bam_to_fastq:R2(SEQ:QUAL)',\n",
       " 'library_info:{\"library_id\":\"0\",\"library_type\":\"Gene Expression\",\"gem_group\":1}',\n",
       " 'user command line: STAR --genomeDir /central/groups/woldlab/genomes//encode-mm10-M4-male-3.0.1/star --outSAMmultNmax -1 --runThreadN 4 --readNameSeparator space --outSAMunmapped Within KeepPairs --outSAMtype SAM --outStd SAM --outSAMorder PairedKeepInputOrder --outSAMattrRGline ID:Wold10x-1-count-cells10000:0:1:H3JGYCCXY:8 SM:Wold10x-1-count-cells10000 LB:0.1 PU:Wold10x-1-count-cells10000:0:1:H3JGYCCXY:8 PL:ILLUMINA --readFilesIn /dev/fd/63',\n",
       " '10x_bam_to_fastq:I1(BC:QT)',\n",
       " '10x_bam_to_fastq:R1(CR:CY,UR:UY)',\n",
       " '10x_bam_to_fastq:R2(SEQ:QUAL)',\n",
       " 'library_info:{\"library_id\":\"0\",\"library_type\":\"Gene Expression\",\"gem_group\":1}',\n",
       " 'user command line: STAR --genomeDir /central/groups/woldlab/genomes//encode-mm10-M4-male-3.0.1/star --outSAMmultNmax -1 --runThreadN 4 --readNameSeparator space --outSAMunmapped Within KeepPairs --outSAMtype SAM --outStd SAM --outSAMorder PairedKeepInputOrder --outSAMattrRGline ID:Wold10x-1-count-cells10000:0:1:H3JGYCCXY:8 SM:Wold10x-1-count-cells10000 LB:0.1 PU:Wold10x-1-count-cells10000:0:1:H3JGYCCXY:8 PL:ILLUMINA --readFilesIn /dev/fd/63',\n",
       " '10x_bam_to_fastq:I1(BC:QT)',\n",
       " '10x_bam_to_fastq:R1(CR:CY,UR:UY)',\n",
       " '10x_bam_to_fastq:R2(SEQ:QUAL)',\n",
       " 'library_info:{\"library_id\":\"0\",\"library_type\":\"Gene Expression\",\"gem_group\":1}',\n",
       " 'user command line: STAR --genomeDir /central/groups/woldlab/genomes//encode-mm10-M4-male-3.0.1/star --outSAMmultNmax -1 --runThreadN 4 --readNameSeparator space --outSAMunmapped Within KeepPairs --outSAMtype SAM --outStd SAM --outSAMorder PairedKeepInputOrder --outSAMattrRGline ID:Wold10x-1-count-cells10000:0:1:H3JGYCCXY:8 SM:Wold10x-1-count-cells10000 LB:0.1 PU:Wold10x-1-count-cells10000:0:1:H3JGYCCXY:8 PL:ILLUMINA --readFilesIn /dev/fd/63',\n",
       " '10x_bam_to_fastq:I1(BC:QT)',\n",
       " '10x_bam_to_fastq:R1(CR:CY,UR:UY)',\n",
       " '10x_bam_to_fastq:R2(SEQ:QUAL)',\n",
       " 'library_info:{\"library_id\":\"0\",\"library_type\":\"Gene Expression\",\"gem_group\":1}',\n",
       " 'user command line: STAR --genomeDir /central/groups/woldlab/genomes//encode-mm10-M4-male-3.0.1/star --outSAMmultNmax -1 --runThreadN 4 --readNameSeparator space --outSAMunmapped Within KeepPairs --outSAMtype SAM --outStd SAM --outSAMorder PairedKeepInputOrder --outSAMattrRGline ID:Wold10x-1-count-cells10000:0:1:H3JGYCCXY:8 SM:Wold10x-1-count-cells10000 LB:0.1 PU:Wold10x-1-count-cells10000:0:1:H3JGYCCXY:8 PL:ILLUMINA --readFilesIn /dev/fd/63',\n",
       " '10x_bam_to_fastq:I1(BC:QT)',\n",
       " '10x_bam_to_fastq:R1(CR:CY,UR:UY)',\n",
       " '10x_bam_to_fastq:R2(SEQ:QUAL)',\n",
       " 'library_info:{\"library_id\":\"0\",\"library_type\":\"Gene Expression\",\"gem_group\":1}',\n",
       " 'user command line: STAR --genomeDir /central/groups/woldlab/genomes//encode-mm10-M4-male-3.0.1/star --outSAMmultNmax -1 --runThreadN 4 --readNameSeparator space --outSAMunmapped Within KeepPairs --outSAMtype SAM --outStd SAM --outSAMorder PairedKeepInputOrder --outSAMattrRGline ID:Wold10x-1-count-cells10000:0:1:H3JGYCCXY:8 SM:Wold10x-1-count-cells10000 LB:0.1 PU:Wold10x-1-count-cells10000:0:1:H3JGYCCXY:8 PL:ILLUMINA --readFilesIn /dev/fd/63',\n",
       " '10x_bam_to_fastq:I1(BC:QT)',\n",
       " '10x_bam_to_fastq:R1(CR:CY,UR:UY)',\n",
       " '10x_bam_to_fastq:R2(SEQ:QUAL)',\n",
       " 'library_info:{\"library_id\":\"0\",\"library_type\":\"Gene Expression\",\"gem_group\":1}',\n",
       " 'user command line: STAR --genomeDir /central/groups/woldlab/genomes//encode-mm10-M4-male-3.0.1/star --outSAMmultNmax -1 --runThreadN 4 --readNameSeparator space --outSAMunmapped Within KeepPairs --outSAMtype SAM --outStd SAM --outSAMorder PairedKeepInputOrder --outSAMattrRGline ID:Wold10x-1-count-cells10000:0:1:H3JGYCCXY:8 SM:Wold10x-1-count-cells10000 LB:0.1 PU:Wold10x-1-count-cells10000:0:1:H3JGYCCXY:8 PL:ILLUMINA --readFilesIn /dev/fd/63',\n",
       " '10x_bam_to_fastq:I1(BC:QT)',\n",
       " '10x_bam_to_fastq:R1(CR:CY,UR:UY)',\n",
       " '10x_bam_to_fastq:R2(SEQ:QUAL)',\n",
       " 'library_info:{\"library_id\":\"0\",\"library_type\":\"Gene Expression\",\"gem_group\":1}',\n",
       " 'user command line: STAR --genomeDir /central/groups/woldlab/genomes//encode-mm10-M4-male-3.0.1/star --outSAMmultNmax -1 --runThreadN 4 --readNameSeparator space --outSAMunmapped Within KeepPairs --outSAMtype SAM --outStd SAM --outSAMorder PairedKeepInputOrder --outSAMattrRGline ID:Wold10x-1-count-cells10000:0:1:H3JGYCCXY:8 SM:Wold10x-1-count-cells10000 LB:0.1 PU:Wold10x-1-count-cells10000:0:1:H3JGYCCXY:8 PL:ILLUMINA --readFilesIn /dev/fd/63',\n",
       " '10x_bam_to_fastq:I1(BC:QT)',\n",
       " '10x_bam_to_fastq:R1(CR:CY,UR:UY)',\n",
       " '10x_bam_to_fastq:R2(SEQ:QUAL)',\n",
       " 'library_info:{\"library_id\":\"0\",\"library_type\":\"Gene Expression\",\"gem_group\":1}',\n",
       " 'user command line: STAR --genomeDir /central/groups/woldlab/genomes//encode-mm10-M4-male-3.0.1/star --outSAMmultNmax -1 --runThreadN 4 --readNameSeparator space --outSAMunmapped Within KeepPairs --outSAMtype SAM --outStd SAM --outSAMorder PairedKeepInputOrder --outSAMattrRGline ID:Wold10x-1-count-cells10000:0:1:H3JGYCCXY:8 SM:Wold10x-1-count-cells10000 LB:0.1 PU:Wold10x-1-count-cells10000:0:1:H3JGYCCXY:8 PL:ILLUMINA --readFilesIn /dev/fd/63',\n",
       " '10x_bam_to_fastq:I1(BC:QT)',\n",
       " '10x_bam_to_fastq:R1(CR:CY,UR:UY)',\n",
       " '10x_bam_to_fastq:R2(SEQ:QUAL)',\n",
       " 'library_info:{\"library_id\":\"0\",\"library_type\":\"Gene Expression\",\"gem_group\":1}',\n",
       " 'user command line: STAR --genomeDir /central/groups/woldlab/genomes//encode-mm10-M4-male-3.0.1/star --outSAMmultNmax -1 --runThreadN 4 --readNameSeparator space --outSAMunmapped Within KeepPairs --outSAMtype SAM --outStd SAM --outSAMorder PairedKeepInputOrder --outSAMattrRGline ID:Wold10x-1-count-cells10000:0:1:H3JGYCCXY:8 SM:Wold10x-1-count-cells10000 LB:0.1 PU:Wold10x-1-count-cells10000:0:1:H3JGYCCXY:8 PL:ILLUMINA --readFilesIn /dev/fd/63',\n",
       " '10x_bam_to_fastq:I1(BC:QT)',\n",
       " '10x_bam_to_fastq:R1(CR:CY,UR:UY)',\n",
       " '10x_bam_to_fastq:R2(SEQ:QUAL)',\n",
       " 'library_info:{\"library_id\":\"0\",\"library_type\":\"Gene Expression\",\"gem_group\":1}',\n",
       " 'user command line: STAR --genomeDir /central/groups/woldlab/genomes//encode-mm10-M4-male-3.0.1/star --outSAMmultNmax -1 --runThreadN 4 --readNameSeparator space --outSAMunmapped Within KeepPairs --outSAMtype SAM --outStd SAM --outSAMorder PairedKeepInputOrder --outSAMattrRGline ID:Wold10x-1-count-cells10000:0:1:H3JGYCCXY:8 SM:Wold10x-1-count-cells10000 LB:0.1 PU:Wold10x-1-count-cells10000:0:1:H3JGYCCXY:8 PL:ILLUMINA --readFilesIn /dev/fd/63',\n",
       " '10x_bam_to_fastq:I1(BC:QT)',\n",
       " '10x_bam_to_fastq:R1(CR:CY,UR:UY)',\n",
       " '10x_bam_to_fastq:R2(SEQ:QUAL)',\n",
       " 'library_info:{\"library_id\":\"0\",\"library_type\":\"Gene Expression\",\"gem_group\":1}',\n",
       " 'user command line: STAR --genomeDir /central/groups/woldlab/genomes//encode-mm10-M4-male-3.0.1/star --outSAMmultNmax -1 --runThreadN 4 --readNameSeparator space --outSAMunmapped Within KeepPairs --outSAMtype SAM --outStd SAM --outSAMorder PairedKeepInputOrder --outSAMattrRGline ID:Wold10x-1-count-cells10000:0:1:H3JGYCCXY:8 SM:Wold10x-1-count-cells10000 LB:0.1 PU:Wold10x-1-count-cells10000:0:1:H3JGYCCXY:8 PL:ILLUMINA --readFilesIn /dev/fd/63',\n",
       " '10x_bam_to_fastq:I1(BC:QT)',\n",
       " '10x_bam_to_fastq:R1(CR:CY,UR:UY)',\n",
       " '10x_bam_to_fastq:R2(SEQ:QUAL)',\n",
       " 'library_info:{\"library_id\":\"0\",\"library_type\":\"Gene Expression\",\"gem_group\":1}',\n",
       " 'user command line: STAR --genomeDir /central/groups/woldlab/genomes//encode-mm10-M4-male-3.0.1/star --outSAMmultNmax -1 --runThreadN 4 --readNameSeparator space --outSAMunmapped Within KeepPairs --outSAMtype SAM --outStd SAM --outSAMorder PairedKeepInputOrder --outSAMattrRGline ID:Wold10x-1-count-cells10000:0:1:H3JGYCCXY:8 SM:Wold10x-1-count-cells10000 LB:0.1 PU:Wold10x-1-count-cells10000:0:1:H3JGYCCXY:8 PL:ILLUMINA --readFilesIn /dev/fd/63',\n",
       " '10x_bam_to_fastq:I1(BC:QT)',\n",
       " '10x_bam_to_fastq:R1(CR:CY,UR:UY)',\n",
       " '10x_bam_to_fastq:R2(SEQ:QUAL)',\n",
       " 'library_info:{\"library_id\":\"0\",\"library_type\":\"Gene Expression\",\"gem_group\":1}',\n",
       " 'user command line: STAR --genomeDir /central/groups/woldlab/genomes//encode-mm10-M4-male-3.0.1/star --outSAMmultNmax -1 --runThreadN 4 --readNameSeparator space --outSAMunmapped Within KeepPairs --outSAMtype SAM --outStd SAM --outSAMorder PairedKeepInputOrder --outSAMattrRGline ID:Wold10x-1-count-cells10000:0:1:H3JGYCCXY:8 SM:Wold10x-1-count-cells10000 LB:0.1 PU:Wold10x-1-count-cells10000:0:1:H3JGYCCXY:8 PL:ILLUMINA --readFilesIn /dev/fd/63',\n",
       " '10x_bam_to_fastq:I1(BC:QT)',\n",
       " '10x_bam_to_fastq:R1(CR:CY,UR:UY)',\n",
       " '10x_bam_to_fastq:R2(SEQ:QUAL)',\n",
       " 'library_info:{\"library_id\":\"0\",\"library_type\":\"Gene Expression\",\"gem_group\":1}',\n",
       " 'user command line: STAR --genomeDir /central/groups/woldlab/genomes//encode-mm10-M4-male-3.0.1/star --outSAMmultNmax -1 --runThreadN 4 --readNameSeparator space --outSAMunmapped Within KeepPairs --outSAMtype SAM --outStd SAM --outSAMorder PairedKeepInputOrder --outSAMattrRGline ID:Wold10x-1-count-cells10000:0:1:H3JGYCCXY:8 SM:Wold10x-1-count-cells10000 LB:0.1 PU:Wold10x-1-count-cells10000:0:1:H3JGYCCXY:8 PL:ILLUMINA --readFilesIn /dev/fd/63',\n",
       " '10x_bam_to_fastq:I1(BC:QT)',\n",
       " '10x_bam_to_fastq:R1(CR:CY,UR:UY)',\n",
       " '10x_bam_to_fastq:R2(SEQ:QUAL)',\n",
       " 'library_info:{\"library_id\":\"0\",\"library_type\":\"Gene Expression\",\"gem_group\":1}',\n",
       " 'user command line: STAR --genomeDir /central/groups/woldlab/genomes//encode-mm10-M4-male-3.0.1/star --outSAMmultNmax -1 --runThreadN 4 --readNameSeparator space --outSAMunmapped Within KeepPairs --outSAMtype SAM --outStd SAM --outSAMorder PairedKeepInputOrder --outSAMattrRGline ID:Wold10x-1-count-cells10000:0:1:H3JGYCCXY:8 SM:Wold10x-1-count-cells10000 LB:0.1 PU:Wold10x-1-count-cells10000:0:1:H3JGYCCXY:8 PL:ILLUMINA --readFilesIn /dev/fd/63',\n",
       " '10x_bam_to_fastq:I1(BC:QT)',\n",
       " '10x_bam_to_fastq:R1(CR:CY,UR:UY)',\n",
       " '10x_bam_to_fastq:R2(SEQ:QUAL)',\n",
       " 'library_info:{\"library_id\":\"0\",\"library_type\":\"Gene Expression\",\"gem_group\":1}',\n",
       " 'user command line: STAR --genomeDir /central/groups/woldlab/genomes//encode-mm10-M4-male-3.0.1/star --outSAMmultNmax -1 --runThreadN 4 --readNameSeparator space --outSAMunmapped Within KeepPairs --outSAMtype SAM --outStd SAM --outSAMorder PairedKeepInputOrder --outSAMattrRGline ID:Wold10x-1-count-cells10000:0:1:H3JGYCCXY:8 SM:Wold10x-1-count-cells10000 LB:0.1 PU:Wold10x-1-count-cells10000:0:1:H3JGYCCXY:8 PL:ILLUMINA --readFilesIn /dev/fd/63',\n",
       " '10x_bam_to_fastq:I1(BC:QT)',\n",
       " '10x_bam_to_fastq:R1(CR:CY,UR:UY)',\n",
       " '10x_bam_to_fastq:R2(SEQ:QUAL)',\n",
       " 'library_info:{\"library_id\":\"0\",\"library_type\":\"Gene Expression\",\"gem_group\":1}',\n",
       " 'user command line: STAR --genomeDir /central/groups/woldlab/genomes//encode-mm10-M4-male-3.0.1/star --outSAMmultNmax -1 --runThreadN 4 --readNameSeparator space --outSAMunmapped Within KeepPairs --outSAMtype SAM --outStd SAM --outSAMorder PairedKeepInputOrder --outSAMattrRGline ID:Wold10x-1-count-cells10000:0:1:H3JGYCCXY:8 SM:Wold10x-1-count-cells10000 LB:0.1 PU:Wold10x-1-count-cells10000:0:1:H3JGYCCXY:8 PL:ILLUMINA --readFilesIn /dev/fd/63',\n",
       " '10x_bam_to_fastq:I1(BC:QT)',\n",
       " '10x_bam_to_fastq:R1(CR:CY,UR:UY)',\n",
       " '10x_bam_to_fastq:R2(SEQ:QUAL)',\n",
       " 'library_info:{\"library_id\":\"0\",\"library_type\":\"Gene Expression\",\"gem_group\":1}',\n",
       " 'user command line: STAR --genomeDir /central/groups/woldlab/genomes//encode-mm10-M4-male-3.0.1/star --outSAMmultNmax -1 --runThreadN 4 --readNameSeparator space --outSAMunmapped Within KeepPairs --outSAMtype SAM --outStd SAM --outSAMorder PairedKeepInputOrder --outSAMattrRGline ID:Wold10x-1-count-cells10000:0:1:H3JGYCCXY:8 SM:Wold10x-1-count-cells10000 LB:0.1 PU:Wold10x-1-count-cells10000:0:1:H3JGYCCXY:8 PL:ILLUMINA --readFilesIn /dev/fd/63',\n",
       " '10x_bam_to_fastq:I1(BC:QT)',\n",
       " '10x_bam_to_fastq:R1(CR:CY,UR:UY)',\n",
       " '10x_bam_to_fastq:R2(SEQ:QUAL)',\n",
       " 'library_info:{\"library_id\":\"0\",\"library_type\":\"Gene Expression\",\"gem_group\":1}',\n",
       " 'user command line: STAR --genomeDir /central/groups/woldlab/genomes//encode-mm10-M4-male-3.0.1/star --outSAMmultNmax -1 --runThreadN 4 --readNameSeparator space --outSAMunmapped Within KeepPairs --outSAMtype SAM --outStd SAM --outSAMorder PairedKeepInputOrder --outSAMattrRGline ID:Wold10x-1-count-cells10000:0:1:H3JGYCCXY:8 SM:Wold10x-1-count-cells10000 LB:0.1 PU:Wold10x-1-count-cells10000:0:1:H3JGYCCXY:8 PL:ILLUMINA --readFilesIn /dev/fd/63',\n",
       " '10x_bam_to_fastq:I1(BC:QT)',\n",
       " '10x_bam_to_fastq:R1(CR:CY,UR:UY)',\n",
       " '10x_bam_to_fastq:R2(SEQ:QUAL)',\n",
       " 'library_info:{\"library_id\":\"0\",\"library_type\":\"Gene Expression\",\"gem_group\":1}',\n",
       " 'user command line: STAR --genomeDir /central/groups/woldlab/genomes//encode-mm10-M4-male-3.0.1/star --outSAMmultNmax -1 --runThreadN 4 --readNameSeparator space --outSAMunmapped Within KeepPairs --outSAMtype SAM --outStd SAM --outSAMorder PairedKeepInputOrder --outSAMattrRGline ID:Wold10x-1-count-cells10000:0:1:H3JGYCCXY:8 SM:Wold10x-1-count-cells10000 LB:0.1 PU:Wold10x-1-count-cells10000:0:1:H3JGYCCXY:8 PL:ILLUMINA --readFilesIn /dev/fd/63',\n",
       " '10x_bam_to_fastq:I1(BC:QT)',\n",
       " '10x_bam_to_fastq:R1(CR:CY,UR:UY)',\n",
       " '10x_bam_to_fastq:R2(SEQ:QUAL)',\n",
       " 'library_info:{\"library_id\":\"0\",\"library_type\":\"Gene Expression\",\"gem_group\":1}',\n",
       " 'user command line: STAR --genomeDir /central/groups/woldlab/genomes//encode-mm10-M4-male-3.0.1/star --outSAMmultNmax -1 --runThreadN 4 --readNameSeparator space --outSAMunmapped Within KeepPairs --outSAMtype SAM --outStd SAM --outSAMorder PairedKeepInputOrder --outSAMattrRGline ID:Wold10x-1-count-cells10000:0:1:H3JGYCCXY:8 SM:Wold10x-1-count-cells10000 LB:0.1 PU:Wold10x-1-count-cells10000:0:1:H3JGYCCXY:8 PL:ILLUMINA --readFilesIn /dev/fd/63',\n",
       " '10x_bam_to_fastq:I1(BC:QT)',\n",
       " '10x_bam_to_fastq:R1(CR:CY,UR:UY)',\n",
       " '10x_bam_to_fastq:R2(SEQ:QUAL)',\n",
       " 'library_info:{\"library_id\":\"0\",\"library_type\":\"Gene Expression\",\"gem_group\":1}',\n",
       " 'user command line: STAR --genomeDir /central/groups/woldlab/genomes//encode-mm10-M4-male-3.0.1/star --outSAMmultNmax -1 --runThreadN 4 --readNameSeparator space --outSAMunmapped Within KeepPairs --outSAMtype SAM --outStd SAM --outSAMorder PairedKeepInputOrder --outSAMattrRGline ID:Wold10x-1-count-cells10000:0:1:H3JGYCCXY:8 SM:Wold10x-1-count-cells10000 LB:0.1 PU:Wold10x-1-count-cells10000:0:1:H3JGYCCXY:8 PL:ILLUMINA --readFilesIn /dev/fd/63',\n",
       " '10x_bam_to_fastq:I1(BC:QT)',\n",
       " '10x_bam_to_fastq:R1(CR:CY,UR:UY)',\n",
       " '10x_bam_to_fastq:R2(SEQ:QUAL)',\n",
       " 'library_info:{\"library_id\":\"0\",\"library_type\":\"Gene Expression\",\"gem_group\":1}',\n",
       " 'user command line: STAR --genomeDir /central/groups/woldlab/genomes//encode-mm10-M4-male-3.0.1/star --outSAMmultNmax -1 --runThreadN 4 --readNameSeparator space --outSAMunmapped Within KeepPairs --outSAMtype SAM --outStd SAM --outSAMorder PairedKeepInputOrder --outSAMattrRGline ID:Wold10x-1-count-cells10000:0:1:H3JGYCCXY:8 SM:Wold10x-1-count-cells10000 LB:0.1 PU:Wold10x-1-count-cells10000:0:1:H3JGYCCXY:8 PL:ILLUMINA --readFilesIn /dev/fd/63',\n",
       " '10x_bam_to_fastq:I1(BC:QT)',\n",
       " '10x_bam_to_fastq:R1(CR:CY,UR:UY)',\n",
       " '10x_bam_to_fastq:R2(SEQ:QUAL)',\n",
       " 'library_info:{\"library_id\":\"0\",\"library_type\":\"Gene Expression\",\"gem_group\":1}',\n",
       " 'user command line: STAR --genomeDir /central/groups/woldlab/genomes//encode-mm10-M4-male-3.0.1/star --outSAMmultNmax -1 --runThreadN 4 --readNameSeparator space --outSAMunmapped Within KeepPairs --outSAMtype SAM --outStd SAM --outSAMorder PairedKeepInputOrder --outSAMattrRGline ID:Wold10x-1-count-cells10000:0:1:H3JGYCCXY:8 SM:Wold10x-1-count-cells10000 LB:0.1 PU:Wold10x-1-count-cells10000:0:1:H3JGYCCXY:8 PL:ILLUMINA --readFilesIn /dev/fd/63',\n",
       " '10x_bam_to_fastq:I1(BC:QT)',\n",
       " '10x_bam_to_fastq:R1(CR:CY,UR:UY)',\n",
       " '10x_bam_to_fastq:R2(SEQ:QUAL)',\n",
       " 'library_info:{\"library_id\":\"0\",\"library_type\":\"Gene Expression\",\"gem_group\":1}',\n",
       " 'user command line: STAR --genomeDir /central/groups/woldlab/genomes//encode-mm10-M4-male-3.0.1/star --outSAMmultNmax -1 --runThreadN 4 --readNameSeparator space --outSAMunmapped Within KeepPairs --outSAMtype SAM --outStd SAM --outSAMorder PairedKeepInputOrder --outSAMattrRGline ID:Wold10x-1-count-cells10000:0:1:H3JGYCCXY:8 SM:Wold10x-1-count-cells10000 LB:0.1 PU:Wold10x-1-count-cells10000:0:1:H3JGYCCXY:8 PL:ILLUMINA --readFilesIn /dev/fd/63',\n",
       " '10x_bam_to_fastq:I1(BC:QT)',\n",
       " '10x_bam_to_fastq:R1(CR:CY,UR:UY)',\n",
       " '10x_bam_to_fastq:R2(SEQ:QUAL)',\n",
       " 'library_info:{\"library_id\":\"0\",\"library_type\":\"Gene Expression\",\"gem_group\":1}',\n",
       " 'user command line: STAR --genomeDir /central/groups/woldlab/genomes//encode-mm10-M4-male-3.0.1/star --outSAMmultNmax -1 --runThreadN 4 --readNameSeparator space --outSAMunmapped Within KeepPairs --outSAMtype SAM --outStd SAM --outSAMorder PairedKeepInputOrder --outSAMattrRGline ID:Wold10x-1-count-cells10000:0:1:H3JGYCCXY:8 SM:Wold10x-1-count-cells10000 LB:0.1 PU:Wold10x-1-count-cells10000:0:1:H3JGYCCXY:8 PL:ILLUMINA --readFilesIn /dev/fd/63',\n",
       " '10x_bam_to_fastq:I1(BC:QT)',\n",
       " '10x_bam_to_fastq:R1(CR:CY,UR:UY)',\n",
       " '10x_bam_to_fastq:R2(SEQ:QUAL)',\n",
       " 'library_info:{\"library_id\":\"0\",\"library_type\":\"Gene Expression\",\"gem_group\":1}',\n",
       " 'user command line: STAR --genomeDir /central/groups/woldlab/genomes//encode-mm10-M4-male-3.0.1/star --outSAMmultNmax -1 --runThreadN 4 --readNameSeparator space --outSAMunmapped Within KeepPairs --outSAMtype SAM --outStd SAM --outSAMorder PairedKeepInputOrder --outSAMattrRGline ID:Wold10x-1-count-cells10000:0:1:H3JGYCCXY:8 SM:Wold10x-1-count-cells10000 LB:0.1 PU:Wold10x-1-count-cells10000:0:1:H3JGYCCXY:8 PL:ILLUMINA --readFilesIn /dev/fd/63',\n",
       " '10x_bam_to_fastq:I1(BC:QT)',\n",
       " '10x_bam_to_fastq:R1(CR:CY,UR:UY)',\n",
       " '10x_bam_to_fastq:R2(SEQ:QUAL)',\n",
       " 'library_info:{\"library_id\":\"0\",\"library_type\":\"Gene Expression\",\"gem_group\":1}',\n",
       " 'user command line: STAR --genomeDir /central/groups/woldlab/genomes//encode-mm10-M4-male-3.0.1/star --outSAMmultNmax -1 --runThreadN 4 --readNameSeparator space --outSAMunmapped Within KeepPairs --outSAMtype SAM --outStd SAM --outSAMorder PairedKeepInputOrder --outSAMattrRGline ID:Wold10x-1-count-cells10000:0:1:H3JGYCCXY:8 SM:Wold10x-1-count-cells10000 LB:0.1 PU:Wold10x-1-count-cells10000:0:1:H3JGYCCXY:8 PL:ILLUMINA --readFilesIn /dev/fd/63',\n",
       " '10x_bam_to_fastq:I1(BC:QT)',\n",
       " '10x_bam_to_fastq:R1(CR:CY,UR:UY)',\n",
       " '10x_bam_to_fastq:R2(SEQ:QUAL)',\n",
       " 'library_info:{\"library_id\":\"0\",\"library_type\":\"Gene Expression\",\"gem_group\":1}',\n",
       " 'user command line: STAR --genomeDir /central/groups/woldlab/genomes//encode-mm10-M4-male-3.0.1/star --outSAMmultNmax -1 --runThreadN 4 --readNameSeparator space --outSAMunmapped Within KeepPairs --outSAMtype SAM --outStd SAM --outSAMorder PairedKeepInputOrder --outSAMattrRGline ID:Wold10x-1-count-cells10000:0:1:H3JGYCCXY:8 SM:Wold10x-1-count-cells10000 LB:0.1 PU:Wold10x-1-count-cells10000:0:1:H3JGYCCXY:8 PL:ILLUMINA --readFilesIn /dev/fd/63',\n",
       " '10x_bam_to_fastq:I1(BC:QT)',\n",
       " '10x_bam_to_fastq:R1(CR:CY,UR:UY)',\n",
       " '10x_bam_to_fastq:R2(SEQ:QUAL)',\n",
       " 'library_info:{\"library_id\":\"0\",\"library_type\":\"Gene Expression\",\"gem_group\":1}',\n",
       " 'user command line: STAR --genomeDir /central/groups/woldlab/genomes//encode-mm10-M4-male-3.0.1/star --outSAMmultNmax -1 --runThreadN 4 --readNameSeparator space --outSAMunmapped Within KeepPairs --outSAMtype SAM --outStd SAM --outSAMorder PairedKeepInputOrder --outSAMattrRGline ID:Wold10x-1-count-cells10000:0:1:H3JGYCCXY:8 SM:Wold10x-1-count-cells10000 LB:0.1 PU:Wold10x-1-count-cells10000:0:1:H3JGYCCXY:8 PL:ILLUMINA --readFilesIn /dev/fd/63',\n",
       " '10x_bam_to_fastq:I1(BC:QT)',\n",
       " '10x_bam_to_fastq:R1(CR:CY,UR:UY)',\n",
       " '10x_bam_to_fastq:R2(SEQ:QUAL)',\n",
       " 'library_info:{\"library_id\":\"0\",\"library_type\":\"Gene Expression\",\"gem_group\":1}',\n",
       " 'user command line: STAR --genomeDir /central/groups/woldlab/genomes//encode-mm10-M4-male-3.0.1/star --outSAMmultNmax -1 --runThreadN 4 --readNameSeparator space --outSAMunmapped Within KeepPairs --outSAMtype SAM --outStd SAM --outSAMorder PairedKeepInputOrder --outSAMattrRGline ID:Wold10x-1-count-cells10000:0:1:H3JGYCCXY:8 SM:Wold10x-1-count-cells10000 LB:0.1 PU:Wold10x-1-count-cells10000:0:1:H3JGYCCXY:8 PL:ILLUMINA --readFilesIn /dev/fd/63',\n",
       " '10x_bam_to_fastq:I1(BC:QT)',\n",
       " '10x_bam_to_fastq:R1(CR:CY,UR:UY)',\n",
       " '10x_bam_to_fastq:R2(SEQ:QUAL)',\n",
       " 'library_info:{\"library_id\":\"0\",\"library_type\":\"Gene Expression\",\"gem_group\":1}',\n",
       " 'user command line: STAR --genomeDir /central/groups/woldlab/genomes//encode-mm10-M4-male-3.0.1/star --outSAMmultNmax -1 --runThreadN 4 --readNameSeparator space --outSAMunmapped Within KeepPairs --outSAMtype SAM --outStd SAM --outSAMorder PairedKeepInputOrder --outSAMattrRGline ID:Wold10x-1-count-cells10000:0:1:H3JGYCCXY:8 SM:Wold10x-1-count-cells10000 LB:0.1 PU:Wold10x-1-count-cells10000:0:1:H3JGYCCXY:8 PL:ILLUMINA --readFilesIn /dev/fd/63',\n",
       " '10x_bam_to_fastq:I1(BC:QT)',\n",
       " '10x_bam_to_fastq:R1(CR:CY,UR:UY)',\n",
       " '10x_bam_to_fastq:R2(SEQ:QUAL)',\n",
       " 'library_info:{\"library_id\":\"0\",\"library_type\":\"Gene Expression\",\"gem_group\":1}',\n",
       " 'user command line: STAR --genomeDir /central/groups/woldlab/genomes//encode-mm10-M4-male-3.0.1/star --outSAMmultNmax -1 --runThreadN 4 --readNameSeparator space --outSAMunmapped Within KeepPairs --outSAMtype SAM --outStd SAM --outSAMorder PairedKeepInputOrder --outSAMattrRGline ID:Wold10x-1-count-cells10000:0:1:H3JGYCCXY:8 SM:Wold10x-1-count-cells10000 LB:0.1 PU:Wold10x-1-count-cells10000:0:1:H3JGYCCXY:8 PL:ILLUMINA --readFilesIn /dev/fd/63',\n",
       " '10x_bam_to_fastq:I1(BC:QT)',\n",
       " '10x_bam_to_fastq:R1(CR:CY,UR:UY)',\n",
       " '10x_bam_to_fastq:R2(SEQ:QUAL)',\n",
       " 'library_info:{\"library_id\":\"0\",\"library_type\":\"Gene Expression\",\"gem_group\":1}',\n",
       " 'user command line: STAR --genomeDir /central/groups/woldlab/genomes//encode-mm10-M4-male-3.0.1/star --outSAMmultNmax -1 --runThreadN 4 --readNameSeparator space --outSAMunmapped Within KeepPairs --outSAMtype SAM --outStd SAM --outSAMorder PairedKeepInputOrder --outSAMattrRGline ID:Wold10x-1-count-cells10000:0:1:H3JGYCCXY:8 SM:Wold10x-1-count-cells10000 LB:0.1 PU:Wold10x-1-count-cells10000:0:1:H3JGYCCXY:8 PL:ILLUMINA --readFilesIn /dev/fd/63',\n",
       " '10x_bam_to_fastq:I1(BC:QT)',\n",
       " '10x_bam_to_fastq:R1(CR:CY,UR:UY)',\n",
       " '10x_bam_to_fastq:R2(SEQ:QUAL)',\n",
       " 'library_info:{\"library_id\":\"0\",\"library_type\":\"Gene Expression\",\"gem_group\":1}',\n",
       " 'user command line: STAR --genomeDir /central/groups/woldlab/genomes//encode-mm10-M4-male-3.0.1/star --outSAMmultNmax -1 --runThreadN 4 --readNameSeparator space --outSAMunmapped Within KeepPairs --outSAMtype SAM --outStd SAM --outSAMorder PairedKeepInputOrder --outSAMattrRGline ID:Wold10x-1-count-cells10000:0:1:H3JGYCCXY:8 SM:Wold10x-1-count-cells10000 LB:0.1 PU:Wold10x-1-count-cells10000:0:1:H3JGYCCXY:8 PL:ILLUMINA --readFilesIn /dev/fd/63',\n",
       " '10x_bam_to_fastq:I1(BC:QT)',\n",
       " '10x_bam_to_fastq:R1(CR:CY,UR:UY)',\n",
       " '10x_bam_to_fastq:R2(SEQ:QUAL)',\n",
       " 'library_info:{\"library_id\":\"0\",\"library_type\":\"Gene Expression\",\"gem_group\":1}',\n",
       " 'user command line: STAR --genomeDir /central/groups/woldlab/genomes//encode-mm10-M4-male-3.0.1/star --outSAMmultNmax -1 --runThreadN 4 --readNameSeparator space --outSAMunmapped Within KeepPairs --outSAMtype SAM --outStd SAM --outSAMorder PairedKeepInputOrder --outSAMattrRGline ID:Wold10x-1-count-cells10000:0:1:H3JGYCCXY:8 SM:Wold10x-1-count-cells10000 LB:0.1 PU:Wold10x-1-count-cells10000:0:1:H3JGYCCXY:8 PL:ILLUMINA --readFilesIn /dev/fd/63',\n",
       " '10x_bam_to_fastq:I1(BC:QT)',\n",
       " '10x_bam_to_fastq:R1(CR:CY,UR:UY)',\n",
       " '10x_bam_to_fastq:R2(SEQ:QUAL)',\n",
       " 'library_info:{\"library_id\":\"0\",\"library_type\":\"Gene Expression\",\"gem_group\":1}',\n",
       " 'user command line: STAR --genomeDir /central/groups/woldlab/genomes//encode-mm10-M4-male-3.0.1/star --outSAMmultNmax -1 --runThreadN 4 --readNameSeparator space --outSAMunmapped Within KeepPairs --outSAMtype SAM --outStd SAM --outSAMorder PairedKeepInputOrder --outSAMattrRGline ID:Wold10x-1-count-cells10000:0:1:H3JGYCCXY:8 SM:Wold10x-1-count-cells10000 LB:0.1 PU:Wold10x-1-count-cells10000:0:1:H3JGYCCXY:8 PL:ILLUMINA --readFilesIn /dev/fd/63',\n",
       " '10x_bam_to_fastq:I1(BC:QT)',\n",
       " '10x_bam_to_fastq:R1(CR:CY,UR:UY)',\n",
       " '10x_bam_to_fastq:R2(SEQ:QUAL)',\n",
       " 'library_info:{\"library_id\":\"0\",\"library_type\":\"Gene Expression\",\"gem_group\":1}',\n",
       " 'user command line: STAR --genomeDir /central/groups/woldlab/genomes//encode-mm10-M4-male-3.0.1/star --outSAMmultNmax -1 --runThreadN 4 --readNameSeparator space --outSAMunmapped Within KeepPairs --outSAMtype SAM --outStd SAM --outSAMorder PairedKeepInputOrder --outSAMattrRGline ID:Wold10x-1-count-cells10000:0:1:H3JGYCCXY:8 SM:Wold10x-1-count-cells10000 LB:0.1 PU:Wold10x-1-count-cells10000:0:1:H3JGYCCXY:8 PL:ILLUMINA --readFilesIn /dev/fd/63',\n",
       " '10x_bam_to_fastq:I1(BC:QT)',\n",
       " '10x_bam_to_fastq:R1(CR:CY,UR:UY)',\n",
       " '10x_bam_to_fastq:R2(SEQ:QUAL)',\n",
       " 'library_info:{\"library_id\":\"0\",\"library_type\":\"Gene Expression\",\"gem_group\":1}',\n",
       " 'user command line: STAR --genomeDir /central/groups/woldlab/genomes//encode-mm10-M4-male-3.0.1/star --outSAMmultNmax -1 --runThreadN 4 --readNameSeparator space --outSAMunmapped Within KeepPairs --outSAMtype SAM --outStd SAM --outSAMorder PairedKeepInputOrder --outSAMattrRGline ID:Wold10x-1-count-cells10000:0:1:H3JGYCCXY:8 SM:Wold10x-1-count-cells10000 LB:0.1 PU:Wold10x-1-count-cells10000:0:1:H3JGYCCXY:8 PL:ILLUMINA --readFilesIn /dev/fd/63',\n",
       " '10x_bam_to_fastq:I1(BC:QT)',\n",
       " '10x_bam_to_fastq:R1(CR:CY,UR:UY)',\n",
       " '10x_bam_to_fastq:R2(SEQ:QUAL)',\n",
       " 'library_info:{\"library_id\":\"0\",\"library_type\":\"Gene Expression\",\"gem_group\":1}',\n",
       " 'user command line: STAR --genomeDir /central/groups/woldlab/genomes//encode-mm10-M4-male-3.0.1/star --outSAMmultNmax -1 --runThreadN 4 --readNameSeparator space --outSAMunmapped Within KeepPairs --outSAMtype SAM --outStd SAM --outSAMorder PairedKeepInputOrder --outSAMattrRGline ID:Wold10x-1-count-cells10000:0:1:H3JGYCCXY:8 SM:Wold10x-1-count-cells10000 LB:0.1 PU:Wold10x-1-count-cells10000:0:1:H3JGYCCXY:8 PL:ILLUMINA --readFilesIn /dev/fd/63',\n",
       " '10x_bam_to_fastq:I1(BC:QT)',\n",
       " '10x_bam_to_fastq:R1(CR:CY,UR:UY)',\n",
       " '10x_bam_to_fastq:R2(SEQ:QUAL)',\n",
       " 'library_info:{\"library_id\":\"0\",\"library_type\":\"Gene Expression\",\"gem_group\":1}',\n",
       " 'user command line: STAR --genomeDir /central/groups/woldlab/genomes//encode-mm10-M4-male-3.0.1/star --outSAMmultNmax -1 --runThreadN 4 --readNameSeparator space --outSAMunmapped Within KeepPairs --outSAMtype SAM --outStd SAM --outSAMorder PairedKeepInputOrder --outSAMattrRGline ID:Wold10x-1-count-cells10000:0:1:H3JGYCCXY:8 SM:Wold10x-1-count-cells10000 LB:0.1 PU:Wold10x-1-count-cells10000:0:1:H3JGYCCXY:8 PL:ILLUMINA --readFilesIn /dev/fd/63',\n",
       " '10x_bam_to_fastq:I1(BC:QT)',\n",
       " '10x_bam_to_fastq:R1(CR:CY,UR:UY)',\n",
       " '10x_bam_to_fastq:R2(SEQ:QUAL)',\n",
       " 'library_info:{\"library_id\":\"0\",\"library_type\":\"Gene Expression\",\"gem_group\":1}',\n",
       " 'user command line: STAR --genomeDir /central/groups/woldlab/genomes//encode-mm10-M4-male-3.0.1/star --outSAMmultNmax -1 --runThreadN 4 --readNameSeparator space --outSAMunmapped Within KeepPairs --outSAMtype SAM --outStd SAM --outSAMorder PairedKeepInputOrder --outSAMattrRGline ID:Wold10x-1-count-cells10000:0:1:H3JGYCCXY:8 SM:Wold10x-1-count-cells10000 LB:0.1 PU:Wold10x-1-count-cells10000:0:1:H3JGYCCXY:8 PL:ILLUMINA --readFilesIn /dev/fd/63',\n",
       " '10x_bam_to_fastq:I1(BC:QT)',\n",
       " '10x_bam_to_fastq:R1(CR:CY,UR:UY)',\n",
       " '10x_bam_to_fastq:R2(SEQ:QUAL)',\n",
       " 'library_info:{\"library_id\":\"0\",\"library_type\":\"Gene Expression\",\"gem_group\":1}',\n",
       " 'user command line: STAR --genomeDir /central/groups/woldlab/genomes//encode-mm10-M4-male-3.0.1/star --outSAMmultNmax -1 --runThreadN 4 --readNameSeparator space --outSAMunmapped Within KeepPairs --outSAMtype SAM --outStd SAM --outSAMorder PairedKeepInputOrder --outSAMattrRGline ID:Wold10x-1-count-cells10000:0:1:H3JGYCCXY:8 SM:Wold10x-1-count-cells10000 LB:0.1 PU:Wold10x-1-count-cells10000:0:1:H3JGYCCXY:8 PL:ILLUMINA --readFilesIn /dev/fd/63',\n",
       " '10x_bam_to_fastq:I1(BC:QT)',\n",
       " '10x_bam_to_fastq:R1(CR:CY,UR:UY)',\n",
       " '10x_bam_to_fastq:R2(SEQ:QUAL)',\n",
       " 'library_info:{\"library_id\":\"0\",\"library_type\":\"Gene Expression\",\"gem_group\":1}',\n",
       " 'user command line: STAR --genomeDir /central/groups/woldlab/genomes//encode-mm10-M4-male-3.0.1/star --outSAMmultNmax -1 --runThreadN 4 --readNameSeparator space --outSAMunmapped Within KeepPairs --outSAMtype SAM --outStd SAM --outSAMorder PairedKeepInputOrder --outSAMattrRGline ID:Wold10x-1-count-cells10000:0:1:H3JGYCCXY:8 SM:Wold10x-1-count-cells10000 LB:0.1 PU:Wold10x-1-count-cells10000:0:1:H3JGYCCXY:8 PL:ILLUMINA --readFilesIn /dev/fd/63',\n",
       " '10x_bam_to_fastq:I1(BC:QT)',\n",
       " '10x_bam_to_fastq:R1(CR:CY,UR:UY)',\n",
       " '10x_bam_to_fastq:R2(SEQ:QUAL)',\n",
       " 'library_info:{\"library_id\":\"0\",\"library_type\":\"Gene Expression\",\"gem_group\":1}',\n",
       " 'user command line: STAR --genomeDir /central/groups/woldlab/genomes//encode-mm10-M4-male-3.0.1/star --outSAMmultNmax -1 --runThreadN 4 --readNameSeparator space --outSAMunmapped Within KeepPairs --outSAMtype SAM --outStd SAM --outSAMorder PairedKeepInputOrder --outSAMattrRGline ID:Wold10x-1-count-cells10000:0:1:H3JGYCCXY:8 SM:Wold10x-1-count-cells10000 LB:0.1 PU:Wold10x-1-count-cells10000:0:1:H3JGYCCXY:8 PL:ILLUMINA --readFilesIn /dev/fd/63',\n",
       " '10x_bam_to_fastq:I1(BC:QT)',\n",
       " '10x_bam_to_fastq:R1(CR:CY,UR:UY)',\n",
       " '10x_bam_to_fastq:R2(SEQ:QUAL)',\n",
       " 'library_info:{\"library_id\":\"0\",\"library_type\":\"Gene Expression\",\"gem_group\":1}',\n",
       " 'user command line: STAR --genomeDir /central/groups/woldlab/genomes//encode-mm10-M4-male-3.0.1/star --outSAMmultNmax -1 --runThreadN 4 --readNameSeparator space --outSAMunmapped Within KeepPairs --outSAMtype SAM --outStd SAM --outSAMorder PairedKeepInputOrder --outSAMattrRGline ID:Wold10x-1-count-cells10000:0:1:H3JGYCCXY:8 SM:Wold10x-1-count-cells10000 LB:0.1 PU:Wold10x-1-count-cells10000:0:1:H3JGYCCXY:8 PL:ILLUMINA --readFilesIn /dev/fd/63',\n",
       " '10x_bam_to_fastq:I1(BC:QT)',\n",
       " '10x_bam_to_fastq:R1(CR:CY,UR:UY)',\n",
       " '10x_bam_to_fastq:R2(SEQ:QUAL)',\n",
       " 'library_info:{\"library_id\":\"0\",\"library_type\":\"Gene Expression\",\"gem_group\":1}',\n",
       " 'user command line: STAR --genomeDir /central/groups/woldlab/genomes//encode-mm10-M4-male-3.0.1/star --outSAMmultNmax -1 --runThreadN 4 --readNameSeparator space --outSAMunmapped Within KeepPairs --outSAMtype SAM --outStd SAM --outSAMorder PairedKeepInputOrder --outSAMattrRGline ID:Wold10x-1-count-cells10000:0:1:H3JGYCCXY:8 SM:Wold10x-1-count-cells10000 LB:0.1 PU:Wold10x-1-count-cells10000:0:1:H3JGYCCXY:8 PL:ILLUMINA --readFilesIn /dev/fd/63',\n",
       " '10x_bam_to_fastq:I1(BC:QT)',\n",
       " '10x_bam_to_fastq:R1(CR:CY,UR:UY)',\n",
       " '10x_bam_to_fastq:R2(SEQ:QUAL)',\n",
       " 'library_info:{\"library_id\":\"0\",\"library_type\":\"Gene Expression\",\"gem_group\":1}',\n",
       " 'user command line: STAR --genomeDir /central/groups/woldlab/genomes//encode-mm10-M4-male-3.0.1/star --outSAMmultNmax -1 --runThreadN 4 --readNameSeparator space --outSAMunmapped Within KeepPairs --outSAMtype SAM --outStd SAM --outSAMorder PairedKeepInputOrder --outSAMattrRGline ID:Wold10x-1-count-cells10000:0:1:H3JGYCCXY:8 SM:Wold10x-1-count-cells10000 LB:0.1 PU:Wold10x-1-count-cells10000:0:1:H3JGYCCXY:8 PL:ILLUMINA --readFilesIn /dev/fd/63',\n",
       " '10x_bam_to_fastq:I1(BC:QT)',\n",
       " '10x_bam_to_fastq:R1(CR:CY,UR:UY)',\n",
       " '10x_bam_to_fastq:R2(SEQ:QUAL)',\n",
       " 'library_info:{\"library_id\":\"0\",\"library_type\":\"Gene Expression\",\"gem_group\":1}',\n",
       " 'user command line: STAR --genomeDir /central/groups/woldlab/genomes//encode-mm10-M4-male-3.0.1/star --outSAMmultNmax -1 --runThreadN 4 --readNameSeparator space --outSAMunmapped Within KeepPairs --outSAMtype SAM --outStd SAM --outSAMorder PairedKeepInputOrder --outSAMattrRGline ID:Wold10x-1-count-cells10000:0:1:H3JGYCCXY:8 SM:Wold10x-1-count-cells10000 LB:0.1 PU:Wold10x-1-count-cells10000:0:1:H3JGYCCXY:8 PL:ILLUMINA --readFilesIn /dev/fd/63',\n",
       " '10x_bam_to_fastq:I1(BC:QT)',\n",
       " '10x_bam_to_fastq:R1(CR:CY,UR:UY)',\n",
       " '10x_bam_to_fastq:R2(SEQ:QUAL)',\n",
       " 'library_info:{\"library_id\":\"0\",\"library_type\":\"Gene Expression\",\"gem_group\":1}',\n",
       " 'user command line: STAR --genomeDir /central/groups/woldlab/genomes//encode-mm10-M4-male-3.0.1/star --outSAMmultNmax -1 --runThreadN 4 --readNameSeparator space --outSAMunmapped Within KeepPairs --outSAMtype SAM --outStd SAM --outSAMorder PairedKeepInputOrder --outSAMattrRGline ID:Wold10x-1-count-cells10000:0:1:H3JGYCCXY:8 SM:Wold10x-1-count-cells10000 LB:0.1 PU:Wold10x-1-count-cells10000:0:1:H3JGYCCXY:8 PL:ILLUMINA --readFilesIn /dev/fd/63',\n",
       " '10x_bam_to_fastq:I1(BC:QT)',\n",
       " '10x_bam_to_fastq:R1(CR:CY,UR:UY)',\n",
       " '10x_bam_to_fastq:R2(SEQ:QUAL)',\n",
       " 'library_info:{\"library_id\":\"0\",\"library_type\":\"Gene Expression\",\"gem_group\":1}',\n",
       " 'user command line: STAR --genomeDir /central/groups/woldlab/genomes//encode-mm10-M4-male-3.0.1/star --outSAMmultNmax -1 --runThreadN 4 --readNameSeparator space --outSAMunmapped Within KeepPairs --outSAMtype SAM --outStd SAM --outSAMorder PairedKeepInputOrder --outSAMattrRGline ID:Wold10x-1-count-cells10000:0:1:H3JGYCCXY:8 SM:Wold10x-1-count-cells10000 LB:0.1 PU:Wold10x-1-count-cells10000:0:1:H3JGYCCXY:8 PL:ILLUMINA --readFilesIn /dev/fd/63',\n",
       " '10x_bam_to_fastq:I1(BC:QT)',\n",
       " '10x_bam_to_fastq:R1(CR:CY,UR:UY)',\n",
       " '10x_bam_to_fastq:R2(SEQ:QUAL)',\n",
       " 'library_info:{\"library_id\":\"0\",\"library_type\":\"Gene Expression\",\"gem_group\":1}',\n",
       " 'user command line: STAR --genomeDir /central/groups/woldlab/genomes//encode-mm10-M4-male-3.0.1/star --outSAMmultNmax -1 --runThreadN 4 --readNameSeparator space --outSAMunmapped Within KeepPairs --outSAMtype SAM --outStd SAM --outSAMorder PairedKeepInputOrder --outSAMattrRGline ID:Wold10x-1-count-cells10000:0:1:H3JGYCCXY:8 SM:Wold10x-1-count-cells10000 LB:0.1 PU:Wold10x-1-count-cells10000:0:1:H3JGYCCXY:8 PL:ILLUMINA --readFilesIn /dev/fd/63',\n",
       " '10x_bam_to_fastq:I1(BC:QT)',\n",
       " '10x_bam_to_fastq:R1(CR:CY,UR:UY)',\n",
       " '10x_bam_to_fastq:R2(SEQ:QUAL)',\n",
       " 'library_info:{\"library_id\":\"0\",\"library_type\":\"Gene Expression\",\"gem_group\":1}',\n",
       " 'user command line: STAR --genomeDir /central/groups/woldlab/genomes//encode-mm10-M4-male-3.0.1/star --outSAMmultNmax -1 --runThreadN 4 --readNameSeparator space --outSAMunmapped Within KeepPairs --outSAMtype SAM --outStd SAM --outSAMorder PairedKeepInputOrder --outSAMattrRGline ID:Wold10x-1-count-cells10000:0:1:H3JGYCCXY:8 SM:Wold10x-1-count-cells10000 LB:0.1 PU:Wold10x-1-count-cells10000:0:1:H3JGYCCXY:8 PL:ILLUMINA --readFilesIn /dev/fd/63',\n",
       " '10x_bam_to_fastq:I1(BC:QT)',\n",
       " '10x_bam_to_fastq:R1(CR:CY,UR:UY)',\n",
       " '10x_bam_to_fastq:R2(SEQ:QUAL)',\n",
       " 'library_info:{\"library_id\":\"0\",\"library_type\":\"Gene Expression\",\"gem_group\":1}',\n",
       " 'user command line: STAR --genomeDir /central/groups/woldlab/genomes//encode-mm10-M4-male-3.0.1/star --outSAMmultNmax -1 --runThreadN 4 --readNameSeparator space --outSAMunmapped Within KeepPairs --outSAMtype SAM --outStd SAM --outSAMorder PairedKeepInputOrder --outSAMattrRGline ID:Wold10x-1-count-cells10000:0:1:H3JGYCCXY:8 SM:Wold10x-1-count-cells10000 LB:0.1 PU:Wold10x-1-count-cells10000:0:1:H3JGYCCXY:8 PL:ILLUMINA --readFilesIn /dev/fd/63',\n",
       " '10x_bam_to_fastq:I1(BC:QT)',\n",
       " '10x_bam_to_fastq:R1(CR:CY,UR:UY)',\n",
       " '10x_bam_to_fastq:R2(SEQ:QUAL)',\n",
       " 'library_info:{\"library_id\":\"0\",\"library_type\":\"Gene Expression\",\"gem_group\":1}',\n",
       " 'user command line: STAR --genomeDir /central/groups/woldlab/genomes//encode-mm10-M4-male-3.0.1/star --outSAMmultNmax -1 --runThreadN 4 --readNameSeparator space --outSAMunmapped Within KeepPairs --outSAMtype SAM --outStd SAM --outSAMorder PairedKeepInputOrder --outSAMattrRGline ID:Wold10x-1-count-cells10000:0:1:H3JGYCCXY:8 SM:Wold10x-1-count-cells10000 LB:0.1 PU:Wold10x-1-count-cells10000:0:1:H3JGYCCXY:8 PL:ILLUMINA --readFilesIn /dev/fd/63',\n",
       " '10x_bam_to_fastq:I1(BC:QT)',\n",
       " '10x_bam_to_fastq:R1(CR:CY,UR:UY)',\n",
       " '10x_bam_to_fastq:R2(SEQ:QUAL)',\n",
       " 'library_info:{\"library_id\":\"0\",\"library_type\":\"Gene Expression\",\"gem_group\":1}',\n",
       " 'user command line: STAR --genomeDir /central/groups/woldlab/genomes//encode-mm10-M4-male-3.0.1/star --outSAMmultNmax -1 --runThreadN 4 --readNameSeparator space --outSAMunmapped Within KeepPairs --outSAMtype SAM --outStd SAM --outSAMorder PairedKeepInputOrder --outSAMattrRGline ID:Wold10x-1-count-cells10000:0:1:H3JGYCCXY:8 SM:Wold10x-1-count-cells10000 LB:0.1 PU:Wold10x-1-count-cells10000:0:1:H3JGYCCXY:8 PL:ILLUMINA --readFilesIn /dev/fd/63',\n",
       " '10x_bam_to_fastq:I1(BC:QT)',\n",
       " '10x_bam_to_fastq:R1(CR:CY,UR:UY)',\n",
       " '10x_bam_to_fastq:R2(SEQ:QUAL)',\n",
       " 'library_info:{\"library_id\":\"0\",\"library_type\":\"Gene Expression\",\"gem_group\":1}',\n",
       " 'user command line: STAR --genomeDir /central/groups/woldlab/genomes//encode-mm10-M4-male-3.0.1/star --outSAMmultNmax -1 --runThreadN 4 --readNameSeparator space --outSAMunmapped Within KeepPairs --outSAMtype SAM --outStd SAM --outSAMorder PairedKeepInputOrder --outSAMattrRGline ID:Wold10x-1-count-cells10000:0:1:H3JGYCCXY:8 SM:Wold10x-1-count-cells10000 LB:0.1 PU:Wold10x-1-count-cells10000:0:1:H3JGYCCXY:8 PL:ILLUMINA --readFilesIn /dev/fd/63',\n",
       " '10x_bam_to_fastq:I1(BC:QT)',\n",
       " '10x_bam_to_fastq:R1(CR:CY,UR:UY)',\n",
       " '10x_bam_to_fastq:R2(SEQ:QUAL)',\n",
       " 'library_info:{\"library_id\":\"0\",\"library_type\":\"Gene Expression\",\"gem_group\":1}',\n",
       " 'user command line: STAR --genomeDir /central/groups/woldlab/genomes//encode-mm10-M4-male-3.0.1/star --outSAMmultNmax -1 --runThreadN 4 --readNameSeparator space --outSAMunmapped Within KeepPairs --outSAMtype SAM --outStd SAM --outSAMorder PairedKeepInputOrder --outSAMattrRGline ID:Wold10x-1-count-cells10000:0:1:H3JGYCCXY:8 SM:Wold10x-1-count-cells10000 LB:0.1 PU:Wold10x-1-count-cells10000:0:1:H3JGYCCXY:8 PL:ILLUMINA --readFilesIn /dev/fd/63',\n",
       " '10x_bam_to_fastq:I1(BC:QT)',\n",
       " '10x_bam_to_fastq:R1(CR:CY,UR:UY)',\n",
       " '10x_bam_to_fastq:R2(SEQ:QUAL)',\n",
       " 'library_info:{\"library_id\":\"0\",\"library_type\":\"Gene Expression\",\"gem_group\":1}',\n",
       " 'user command line: STAR --genomeDir /central/groups/woldlab/genomes//encode-mm10-M4-male-3.0.1/star --outSAMmultNmax -1 --runThreadN 4 --readNameSeparator space --outSAMunmapped Within KeepPairs --outSAMtype SAM --outStd SAM --outSAMorder PairedKeepInputOrder --outSAMattrRGline ID:Wold10x-1-count-cells10000:0:1:H3JGYCCXY:8 SM:Wold10x-1-count-cells10000 LB:0.1 PU:Wold10x-1-count-cells10000:0:1:H3JGYCCXY:8 PL:ILLUMINA --readFilesIn /dev/fd/63',\n",
       " '10x_bam_to_fastq:I1(BC:QT)',\n",
       " '10x_bam_to_fastq:R1(CR:CY,UR:UY)',\n",
       " '10x_bam_to_fastq:R2(SEQ:QUAL)',\n",
       " 'library_info:{\"library_id\":\"0\",\"library_type\":\"Gene Expression\",\"gem_group\":1}',\n",
       " 'user command line: STAR --genomeDir /central/groups/woldlab/genomes//encode-mm10-M4-male-3.0.1/star --outSAMmultNmax -1 --runThreadN 4 --readNameSeparator space --outSAMunmapped Within KeepPairs --outSAMtype SAM --outStd SAM --outSAMorder PairedKeepInputOrder --outSAMattrRGline ID:Wold10x-1-count-cells10000:0:1:H3JGYCCXY:8 SM:Wold10x-1-count-cells10000 LB:0.1 PU:Wold10x-1-count-cells10000:0:1:H3JGYCCXY:8 PL:ILLUMINA --readFilesIn /dev/fd/63',\n",
       " '10x_bam_to_fastq:I1(BC:QT)',\n",
       " '10x_bam_to_fastq:R1(CR:CY,UR:UY)',\n",
       " '10x_bam_to_fastq:R2(SEQ:QUAL)',\n",
       " 'library_info:{\"library_id\":\"0\",\"library_type\":\"Gene Expression\",\"gem_group\":1}',\n",
       " 'user command line: STAR --genomeDir /central/groups/woldlab/genomes//encode-mm10-M4-male-3.0.1/star --outSAMmultNmax -1 --runThreadN 4 --readNameSeparator space --outSAMunmapped Within KeepPairs --outSAMtype SAM --outStd SAM --outSAMorder PairedKeepInputOrder --outSAMattrRGline ID:Wold10x-1-count-cells10000:0:1:H3JGYCCXY:8 SM:Wold10x-1-count-cells10000 LB:0.1 PU:Wold10x-1-count-cells10000:0:1:H3JGYCCXY:8 PL:ILLUMINA --readFilesIn /dev/fd/63',\n",
       " '10x_bam_to_fastq:I1(BC:QT)',\n",
       " '10x_bam_to_fastq:R1(CR:CY,UR:UY)',\n",
       " '10x_bam_to_fastq:R2(SEQ:QUAL)',\n",
       " 'library_info:{\"library_id\":\"0\",\"library_type\":\"Gene Expression\",\"gem_group\":1}',\n",
       " 'user command line: STAR --genomeDir /central/groups/woldlab/genomes//encode-mm10-M4-male-3.0.1/star --outSAMmultNmax -1 --runThreadN 4 --readNameSeparator space --outSAMunmapped Within KeepPairs --outSAMtype SAM --outStd SAM --outSAMorder PairedKeepInputOrder --outSAMattrRGline ID:Wold10x-1-count-cells10000:0:1:H3JGYCCXY:8 SM:Wold10x-1-count-cells10000 LB:0.1 PU:Wold10x-1-count-cells10000:0:1:H3JGYCCXY:8 PL:ILLUMINA --readFilesIn /dev/fd/63',\n",
       " '10x_bam_to_fastq:I1(BC:QT)',\n",
       " '10x_bam_to_fastq:R1(CR:CY,UR:UY)',\n",
       " '10x_bam_to_fastq:R2(SEQ:QUAL)',\n",
       " 'library_info:{\"library_id\":\"0\",\"library_type\":\"Gene Expression\",\"gem_group\":1}',\n",
       " 'user command line: STAR --genomeDir /central/groups/woldlab/genomes//encode-mm10-M4-male-3.0.1/star --outSAMmultNmax -1 --runThreadN 4 --readNameSeparator space --outSAMunmapped Within KeepPairs --outSAMtype SAM --outStd SAM --outSAMorder PairedKeepInputOrder --outSAMattrRGline ID:Wold10x-1-count-cells10000:0:1:H3JGYCCXY:8 SM:Wold10x-1-count-cells10000 LB:0.1 PU:Wold10x-1-count-cells10000:0:1:H3JGYCCXY:8 PL:ILLUMINA --readFilesIn /dev/fd/63',\n",
       " '10x_bam_to_fastq:I1(BC:QT)',\n",
       " '10x_bam_to_fastq:R1(CR:CY,UR:UY)',\n",
       " '10x_bam_to_fastq:R2(SEQ:QUAL)',\n",
       " 'library_info:{\"library_id\":\"0\",\"library_type\":\"Gene Expression\",\"gem_group\":1}',\n",
       " 'user command line: STAR --genomeDir /central/groups/woldlab/genomes//encode-mm10-M4-male-3.0.1/star --outSAMmultNmax -1 --runThreadN 4 --readNameSeparator space --outSAMunmapped Within KeepPairs --outSAMtype SAM --outStd SAM --outSAMorder PairedKeepInputOrder --outSAMattrRGline ID:Wold10x-1-count-cells10000:0:1:H3JGYCCXY:8 SM:Wold10x-1-count-cells10000 LB:0.1 PU:Wold10x-1-count-cells10000:0:1:H3JGYCCXY:8 PL:ILLUMINA --readFilesIn /dev/fd/63',\n",
       " '10x_bam_to_fastq:I1(BC:QT)',\n",
       " '10x_bam_to_fastq:R1(CR:CY,UR:UY)',\n",
       " '10x_bam_to_fastq:R2(SEQ:QUAL)',\n",
       " 'library_info:{\"library_id\":\"0\",\"library_type\":\"Gene Expression\",\"gem_group\":1}',\n",
       " 'user command line: STAR --genomeDir /central/groups/woldlab/genomes//encode-mm10-M4-male-3.0.1/star --outSAMmultNmax -1 --runThreadN 4 --readNameSeparator space --outSAMunmapped Within KeepPairs --outSAMtype SAM --outStd SAM --outSAMorder PairedKeepInputOrder --outSAMattrRGline ID:Wold10x-1-count-cells10000:0:1:H3JGYCCXY:8 SM:Wold10x-1-count-cells10000 LB:0.1 PU:Wold10x-1-count-cells10000:0:1:H3JGYCCXY:8 PL:ILLUMINA --readFilesIn /dev/fd/63',\n",
       " '10x_bam_to_fastq:I1(BC:QT)',\n",
       " '10x_bam_to_fastq:R1(CR:CY,UR:UY)',\n",
       " '10x_bam_to_fastq:R2(SEQ:QUAL)',\n",
       " 'library_info:{\"library_id\":\"0\",\"library_type\":\"Gene Expression\",\"gem_group\":1}',\n",
       " 'user command line: STAR --genomeDir /central/groups/woldlab/genomes//encode-mm10-M4-male-3.0.1/star --outSAMmultNmax -1 --runThreadN 4 --readNameSeparator space --outSAMunmapped Within KeepPairs --outSAMtype SAM --outStd SAM --outSAMorder PairedKeepInputOrder --outSAMattrRGline ID:Wold10x-1-count-cells10000:0:1:H3JGYCCXY:8 SM:Wold10x-1-count-cells10000 LB:0.1 PU:Wold10x-1-count-cells10000:0:1:H3JGYCCXY:8 PL:ILLUMINA --readFilesIn /dev/fd/63',\n",
       " '10x_bam_to_fastq:I1(BC:QT)',\n",
       " '10x_bam_to_fastq:R1(CR:CY,UR:UY)',\n",
       " '10x_bam_to_fastq:R2(SEQ:QUAL)',\n",
       " 'library_info:{\"library_id\":\"0\",\"library_type\":\"Gene Expression\",\"gem_group\":1}',\n",
       " 'user command line: STAR --genomeDir /central/groups/woldlab/genomes//encode-mm10-M4-male-3.0.1/star --outSAMmultNmax -1 --runThreadN 4 --readNameSeparator space --outSAMunmapped Within KeepPairs --outSAMtype SAM --outStd SAM --outSAMorder PairedKeepInputOrder --outSAMattrRGline ID:Wold10x-1-count-cells10000:0:1:H3JGYCCXY:8 SM:Wold10x-1-count-cells10000 LB:0.1 PU:Wold10x-1-count-cells10000:0:1:H3JGYCCXY:8 PL:ILLUMINA --readFilesIn /dev/fd/63',\n",
       " '10x_bam_to_fastq:I1(BC:QT)',\n",
       " '10x_bam_to_fastq:R1(CR:CY,UR:UY)',\n",
       " '10x_bam_to_fastq:R2(SEQ:QUAL)',\n",
       " 'library_info:{\"library_id\":\"0\",\"library_type\":\"Gene Expression\",\"gem_group\":1}',\n",
       " 'user command line: STAR --genomeDir /central/groups/woldlab/genomes//encode-mm10-M4-male-3.0.1/star --outSAMmultNmax -1 --runThreadN 4 --readNameSeparator space --outSAMunmapped Within KeepPairs --outSAMtype SAM --outStd SAM --outSAMorder PairedKeepInputOrder --outSAMattrRGline ID:Wold10x-1-count-cells10000:0:1:H3JGYCCXY:8 SM:Wold10x-1-count-cells10000 LB:0.1 PU:Wold10x-1-count-cells10000:0:1:H3JGYCCXY:8 PL:ILLUMINA --readFilesIn /dev/fd/63',\n",
       " '10x_bam_to_fastq:I1(BC:QT)',\n",
       " '10x_bam_to_fastq:R1(CR:CY,UR:UY)',\n",
       " '10x_bam_to_fastq:R2(SEQ:QUAL)',\n",
       " 'library_info:{\"library_id\":\"0\",\"library_type\":\"Gene Expression\",\"gem_group\":1}',\n",
       " 'user command line: STAR --genomeDir /central/groups/woldlab/genomes//encode-mm10-M4-male-3.0.1/star --outSAMmultNmax -1 --runThreadN 4 --readNameSeparator space --outSAMunmapped Within KeepPairs --outSAMtype SAM --outStd SAM --outSAMorder PairedKeepInputOrder --outSAMattrRGline ID:Wold10x-1-count-cells10000:0:1:H3JGYCCXY:8 SM:Wold10x-1-count-cells10000 LB:0.1 PU:Wold10x-1-count-cells10000:0:1:H3JGYCCXY:8 PL:ILLUMINA --readFilesIn /dev/fd/63',\n",
       " '10x_bam_to_fastq:I1(BC:QT)',\n",
       " '10x_bam_to_fastq:R1(CR:CY,UR:UY)',\n",
       " '10x_bam_to_fastq:R2(SEQ:QUAL)',\n",
       " 'library_info:{\"library_id\":\"0\",\"library_type\":\"Gene Expression\",\"gem_group\":1}',\n",
       " 'user command line: STAR --genomeDir /central/groups/woldlab/genomes//encode-mm10-M4-male-3.0.1/star --outSAMmultNmax -1 --runThreadN 4 --readNameSeparator space --outSAMunmapped Within KeepPairs --outSAMtype SAM --outStd SAM --outSAMorder PairedKeepInputOrder --outSAMattrRGline ID:Wold10x-1-count-cells10000:0:1:H3JGYCCXY:8 SM:Wold10x-1-count-cells10000 LB:0.1 PU:Wold10x-1-count-cells10000:0:1:H3JGYCCXY:8 PL:ILLUMINA --readFilesIn /dev/fd/63',\n",
       " '10x_bam_to_fastq:I1(BC:QT)',\n",
       " '10x_bam_to_fastq:R1(CR:CY,UR:UY)',\n",
       " '10x_bam_to_fastq:R2(SEQ:QUAL)',\n",
       " 'library_info:{\"library_id\":\"0\",\"library_type\":\"Gene Expression\",\"gem_group\":1}',\n",
       " 'user command line: STAR --genomeDir /central/groups/woldlab/genomes//encode-mm10-M4-male-3.0.1/star --outSAMmultNmax -1 --runThreadN 4 --readNameSeparator space --outSAMunmapped Within KeepPairs --outSAMtype SAM --outStd SAM --outSAMorder PairedKeepInputOrder --outSAMattrRGline ID:Wold10x-1-count-cells10000:0:1:H3JGYCCXY:8 SM:Wold10x-1-count-cells10000 LB:0.1 PU:Wold10x-1-count-cells10000:0:1:H3JGYCCXY:8 PL:ILLUMINA --readFilesIn /dev/fd/63',\n",
       " '10x_bam_to_fastq:I1(BC:QT)',\n",
       " '10x_bam_to_fastq:R1(CR:CY,UR:UY)',\n",
       " '10x_bam_to_fastq:R2(SEQ:QUAL)',\n",
       " 'library_info:{\"library_id\":\"0\",\"library_type\":\"Gene Expression\",\"gem_group\":1}',\n",
       " 'user command line: STAR --genomeDir /central/groups/woldlab/genomes//encode-mm10-M4-male-3.0.1/star --outSAMmultNmax -1 --runThreadN 4 --readNameSeparator space --outSAMunmapped Within KeepPairs --outSAMtype SAM --outStd SAM --outSAMorder PairedKeepInputOrder --outSAMattrRGline ID:Wold10x-1-count-cells10000:0:1:H3JGYCCXY:8 SM:Wold10x-1-count-cells10000 LB:0.1 PU:Wold10x-1-count-cells10000:0:1:H3JGYCCXY:8 PL:ILLUMINA --readFilesIn /dev/fd/63',\n",
       " '10x_bam_to_fastq:I1(BC:QT)',\n",
       " '10x_bam_to_fastq:R1(CR:CY,UR:UY)',\n",
       " '10x_bam_to_fastq:R2(SEQ:QUAL)',\n",
       " 'library_info:{\"library_id\":\"0\",\"library_type\":\"Gene Expression\",\"gem_group\":1}',\n",
       " 'user command line: STAR --genomeDir /central/groups/woldlab/genomes//encode-mm10-M4-male-3.0.1/star --outSAMmultNmax -1 --runThreadN 4 --readNameSeparator space --outSAMunmapped Within KeepPairs --outSAMtype SAM --outStd SAM --outSAMorder PairedKeepInputOrder --outSAMattrRGline ID:Wold10x-1-count-cells10000:0:1:H3JGYCCXY:8 SM:Wold10x-1-count-cells10000 LB:0.1 PU:Wold10x-1-count-cells10000:0:1:H3JGYCCXY:8 PL:ILLUMINA --readFilesIn /dev/fd/63',\n",
       " '10x_bam_to_fastq:I1(BC:QT)',\n",
       " '10x_bam_to_fastq:R1(CR:CY,UR:UY)',\n",
       " '10x_bam_to_fastq:R2(SEQ:QUAL)',\n",
       " 'library_info:{\"library_id\":\"0\",\"library_type\":\"Gene Expression\",\"gem_group\":1}',\n",
       " 'user command line: STAR --genomeDir /central/groups/woldlab/genomes//encode-mm10-M4-male-3.0.1/star --outSAMmultNmax -1 --runThreadN 4 --readNameSeparator space --outSAMunmapped Within KeepPairs --outSAMtype SAM --outStd SAM --outSAMorder PairedKeepInputOrder --outSAMattrRGline ID:Wold10x-1-count-cells10000:0:1:H3JGYCCXY:8 SM:Wold10x-1-count-cells10000 LB:0.1 PU:Wold10x-1-count-cells10000:0:1:H3JGYCCXY:8 PL:ILLUMINA --readFilesIn /dev/fd/63',\n",
       " '10x_bam_to_fastq:I1(BC:QT)',\n",
       " '10x_bam_to_fastq:R1(CR:CY,UR:UY)',\n",
       " '10x_bam_to_fastq:R2(SEQ:QUAL)',\n",
       " 'library_info:{\"library_id\":\"0\",\"library_type\":\"Gene Expression\",\"gem_group\":1}',\n",
       " 'user command line: STAR --genomeDir /central/groups/woldlab/genomes//encode-mm10-M4-male-3.0.1/star --outSAMmultNmax -1 --runThreadN 4 --readNameSeparator space --outSAMunmapped Within KeepPairs --outSAMtype SAM --outStd SAM --outSAMorder PairedKeepInputOrder --outSAMattrRGline ID:Wold10x-1-count-cells10000:0:1:H3JGYCCXY:8 SM:Wold10x-1-count-cells10000 LB:0.1 PU:Wold10x-1-count-cells10000:0:1:H3JGYCCXY:8 PL:ILLUMINA --readFilesIn /dev/fd/63',\n",
       " '10x_bam_to_fastq:I1(BC:QT)',\n",
       " '10x_bam_to_fastq:R1(CR:CY,UR:UY)',\n",
       " '10x_bam_to_fastq:R2(SEQ:QUAL)',\n",
       " 'library_info:{\"library_id\":\"0\",\"library_type\":\"Gene Expression\",\"gem_group\":1}',\n",
       " 'user command line: STAR --genomeDir /central/groups/woldlab/genomes//encode-mm10-M4-male-3.0.1/star --outSAMmultNmax -1 --runThreadN 4 --readNameSeparator space --outSAMunmapped Within KeepPairs --outSAMtype SAM --outStd SAM --outSAMorder PairedKeepInputOrder --outSAMattrRGline ID:Wold10x-1-count-cells10000:0:1:H3JGYCCXY:8 SM:Wold10x-1-count-cells10000 LB:0.1 PU:Wold10x-1-count-cells10000:0:1:H3JGYCCXY:8 PL:ILLUMINA --readFilesIn /dev/fd/63',\n",
       " '10x_bam_to_fastq:I1(BC:QT)',\n",
       " '10x_bam_to_fastq:R1(CR:CY,UR:UY)',\n",
       " '10x_bam_to_fastq:R2(SEQ:QUAL)',\n",
       " 'library_info:{\"library_id\":\"0\",\"library_type\":\"Gene Expression\",\"gem_group\":1}',\n",
       " 'user command line: STAR --genomeDir /central/groups/woldlab/genomes//encode-mm10-M4-male-3.0.1/star --outSAMmultNmax -1 --runThreadN 4 --readNameSeparator space --outSAMunmapped Within KeepPairs --outSAMtype SAM --outStd SAM --outSAMorder PairedKeepInputOrder --outSAMattrRGline ID:Wold10x-1-count-cells10000:0:1:H3JGYCCXY:8 SM:Wold10x-1-count-cells10000 LB:0.1 PU:Wold10x-1-count-cells10000:0:1:H3JGYCCXY:8 PL:ILLUMINA --readFilesIn /dev/fd/63',\n",
       " '10x_bam_to_fastq:I1(BC:QT)',\n",
       " '10x_bam_to_fastq:R1(CR:CY,UR:UY)',\n",
       " '10x_bam_to_fastq:R2(SEQ:QUAL)',\n",
       " 'library_info:{\"library_id\":\"0\",\"library_type\":\"Gene Expression\",\"gem_group\":1}',\n",
       " 'user command line: STAR --genomeDir /central/groups/woldlab/genomes//encode-mm10-M4-male-3.0.1/star --outSAMmultNmax -1 --runThreadN 4 --readNameSeparator space --outSAMunmapped Within KeepPairs --outSAMtype SAM --outStd SAM --outSAMorder PairedKeepInputOrder --outSAMattrRGline ID:Wold10x-1-count-cells10000:0:1:H3JGYCCXY:8 SM:Wold10x-1-count-cells10000 LB:0.1 PU:Wold10x-1-count-cells10000:0:1:H3JGYCCXY:8 PL:ILLUMINA --readFilesIn /dev/fd/63',\n",
       " '10x_bam_to_fastq:I1(BC:QT)',\n",
       " '10x_bam_to_fastq:R1(CR:CY,UR:UY)',\n",
       " '10x_bam_to_fastq:R2(SEQ:QUAL)',\n",
       " 'library_info:{\"library_id\":\"0\",\"library_type\":\"Gene Expression\",\"gem_group\":1}',\n",
       " 'user command line: STAR --genomeDir /central/groups/woldlab/genomes//encode-mm10-M4-male-3.0.1/star --outSAMmultNmax -1 --runThreadN 4 --readNameSeparator space --outSAMunmapped Within KeepPairs --outSAMtype SAM --outStd SAM --outSAMorder PairedKeepInputOrder --outSAMattrRGline ID:Wold10x-1-count-cells10000:0:1:H3JGYCCXY:8 SM:Wold10x-1-count-cells10000 LB:0.1 PU:Wold10x-1-count-cells10000:0:1:H3JGYCCXY:8 PL:ILLUMINA --readFilesIn /dev/fd/63',\n",
       " '10x_bam_to_fastq:I1(BC:QT)',\n",
       " '10x_bam_to_fastq:R1(CR:CY,UR:UY)',\n",
       " '10x_bam_to_fastq:R2(SEQ:QUAL)',\n",
       " 'library_info:{\"library_id\":\"0\",\"library_type\":\"Gene Expression\",\"gem_group\":1}',\n",
       " 'user command line: STAR --genomeDir /central/groups/woldlab/genomes//encode-mm10-M4-male-3.0.1/star --outSAMmultNmax -1 --runThreadN 4 --readNameSeparator space --outSAMunmapped Within KeepPairs --outSAMtype SAM --outStd SAM --outSAMorder PairedKeepInputOrder --outSAMattrRGline ID:Wold10x-1-count-cells10000:0:1:H3JGYCCXY:8 SM:Wold10x-1-count-cells10000 LB:0.1 PU:Wold10x-1-count-cells10000:0:1:H3JGYCCXY:8 PL:ILLUMINA --readFilesIn /dev/fd/63',\n",
       " '10x_bam_to_fastq:I1(BC:QT)',\n",
       " '10x_bam_to_fastq:R1(CR:CY,UR:UY)',\n",
       " '10x_bam_to_fastq:R2(SEQ:QUAL)',\n",
       " 'library_info:{\"library_id\":\"0\",\"library_type\":\"Gene Expression\",\"gem_group\":1}',\n",
       " 'user command line: STAR --genomeDir /central/groups/woldlab/genomes//encode-mm10-M4-male-3.0.1/star --outSAMmultNmax -1 --runThreadN 4 --readNameSeparator space --outSAMunmapped Within KeepPairs --outSAMtype SAM --outStd SAM --outSAMorder PairedKeepInputOrder --outSAMattrRGline ID:Wold10x-1-count-cells10000:0:1:H3JGYCCXY:8 SM:Wold10x-1-count-cells10000 LB:0.1 PU:Wold10x-1-count-cells10000:0:1:H3JGYCCXY:8 PL:ILLUMINA --readFilesIn /dev/fd/63',\n",
       " '10x_bam_to_fastq:I1(BC:QT)',\n",
       " '10x_bam_to_fastq:R1(CR:CY,UR:UY)',\n",
       " '10x_bam_to_fastq:R2(SEQ:QUAL)',\n",
       " 'library_info:{\"library_id\":\"0\",\"library_type\":\"Gene Expression\",\"gem_group\":1}',\n",
       " 'user command line: STAR --genomeDir /central/groups/woldlab/genomes//encode-mm10-M4-male-3.0.1/star --outSAMmultNmax -1 --runThreadN 4 --readNameSeparator space --outSAMunmapped Within KeepPairs --outSAMtype SAM --outStd SAM --outSAMorder PairedKeepInputOrder --outSAMattrRGline ID:Wold10x-1-count-cells10000:0:1:H3JGYCCXY:8 SM:Wold10x-1-count-cells10000 LB:0.1 PU:Wold10x-1-count-cells10000:0:1:H3JGYCCXY:8 PL:ILLUMINA --readFilesIn /dev/fd/63',\n",
       " '10x_bam_to_fastq:I1(BC:QT)',\n",
       " '10x_bam_to_fastq:R1(CR:CY,UR:UY)',\n",
       " '10x_bam_to_fastq:R2(SEQ:QUAL)',\n",
       " 'library_info:{\"library_id\":\"0\",\"library_type\":\"Gene Expression\",\"gem_group\":1}',\n",
       " 'user command line: STAR --genomeDir /central/groups/woldlab/genomes//encode-mm10-M4-male-3.0.1/star --outSAMmultNmax -1 --runThreadN 4 --readNameSeparator space --outSAMunmapped Within KeepPairs --outSAMtype SAM --outStd SAM --outSAMorder PairedKeepInputOrder --outSAMattrRGline ID:Wold10x-1-count-cells10000:0:1:H3JGYCCXY:8 SM:Wold10x-1-count-cells10000 LB:0.1 PU:Wold10x-1-count-cells10000:0:1:H3JGYCCXY:8 PL:ILLUMINA --readFilesIn /dev/fd/63',\n",
       " '10x_bam_to_fastq:I1(BC:QT)',\n",
       " '10x_bam_to_fastq:R1(CR:CY,UR:UY)',\n",
       " '10x_bam_to_fastq:R2(SEQ:QUAL)',\n",
       " 'library_info:{\"library_id\":\"0\",\"library_type\":\"Gene Expression\",\"gem_group\":1}',\n",
       " 'user command line: STAR --genomeDir /central/groups/woldlab/genomes//encode-mm10-M4-male-3.0.1/star --outSAMmultNmax -1 --runThreadN 4 --readNameSeparator space --outSAMunmapped Within KeepPairs --outSAMtype SAM --outStd SAM --outSAMorder PairedKeepInputOrder --outSAMattrRGline ID:Wold10x-1-count-cells10000:0:1:H3JGYCCXY:8 SM:Wold10x-1-count-cells10000 LB:0.1 PU:Wold10x-1-count-cells10000:0:1:H3JGYCCXY:8 PL:ILLUMINA --readFilesIn /dev/fd/63',\n",
       " '10x_bam_to_fastq:I1(BC:QT)',\n",
       " '10x_bam_to_fastq:R1(CR:CY,UR:UY)',\n",
       " '10x_bam_to_fastq:R2(SEQ:QUAL)',\n",
       " 'library_info:{\"library_id\":\"0\",\"library_type\":\"Gene Expression\",\"gem_group\":1}',\n",
       " 'user command line: STAR --genomeDir /central/groups/woldlab/genomes//encode-mm10-M4-male-3.0.1/star --outSAMmultNmax -1 --runThreadN 4 --readNameSeparator space --outSAMunmapped Within KeepPairs --outSAMtype SAM --outStd SAM --outSAMorder PairedKeepInputOrder --outSAMattrRGline ID:Wold10x-1-count-cells10000:0:1:H3JGYCCXY:8 SM:Wold10x-1-count-cells10000 LB:0.1 PU:Wold10x-1-count-cells10000:0:1:H3JGYCCXY:8 PL:ILLUMINA --readFilesIn /dev/fd/63',\n",
       " '10x_bam_to_fastq:I1(BC:QT)',\n",
       " '10x_bam_to_fastq:R1(CR:CY,UR:UY)',\n",
       " '10x_bam_to_fastq:R2(SEQ:QUAL)',\n",
       " 'library_info:{\"library_id\":\"0\",\"library_type\":\"Gene Expression\",\"gem_group\":1}',\n",
       " 'user command line: STAR --genomeDir /central/groups/woldlab/genomes//encode-mm10-M4-male-3.0.1/star --outSAMmultNmax -1 --runThreadN 4 --readNameSeparator space --outSAMunmapped Within KeepPairs --outSAMtype SAM --outStd SAM --outSAMorder PairedKeepInputOrder --outSAMattrRGline ID:Wold10x-1-count-cells10000:0:1:H3JGYCCXY:8 SM:Wold10x-1-count-cells10000 LB:0.1 PU:Wold10x-1-count-cells10000:0:1:H3JGYCCXY:8 PL:ILLUMINA --readFilesIn /dev/fd/63',\n",
       " '10x_bam_to_fastq:I1(BC:QT)',\n",
       " '10x_bam_to_fastq:R1(CR:CY,UR:UY)',\n",
       " '10x_bam_to_fastq:R2(SEQ:QUAL)',\n",
       " 'library_info:{\"library_id\":\"0\",\"library_type\":\"Gene Expression\",\"gem_group\":1}',\n",
       " 'user command line: STAR --genomeDir /central/groups/woldlab/genomes//encode-mm10-M4-male-3.0.1/star --outSAMmultNmax -1 --runThreadN 4 --readNameSeparator space --outSAMunmapped Within KeepPairs --outSAMtype SAM --outStd SAM --outSAMorder PairedKeepInputOrder --outSAMattrRGline ID:Wold10x-1-count-cells10000:0:1:H3JGYCCXY:8 SM:Wold10x-1-count-cells10000 LB:0.1 PU:Wold10x-1-count-cells10000:0:1:H3JGYCCXY:8 PL:ILLUMINA --readFilesIn /dev/fd/63',\n",
       " '10x_bam_to_fastq:I1(BC:QT)',\n",
       " '10x_bam_to_fastq:R1(CR:CY,UR:UY)',\n",
       " '10x_bam_to_fastq:R2(SEQ:QUAL)',\n",
       " 'library_info:{\"library_id\":\"0\",\"library_type\":\"Gene Expression\",\"gem_group\":1}',\n",
       " 'user command line: STAR --genomeDir /central/groups/woldlab/genomes//encode-mm10-M4-male-3.0.1/star --outSAMmultNmax -1 --runThreadN 4 --readNameSeparator space --outSAMunmapped Within KeepPairs --outSAMtype SAM --outStd SAM --outSAMorder PairedKeepInputOrder --outSAMattrRGline ID:Wold10x-1-count-cells10000:0:1:H3JGYCCXY:8 SM:Wold10x-1-count-cells10000 LB:0.1 PU:Wold10x-1-count-cells10000:0:1:H3JGYCCXY:8 PL:ILLUMINA --readFilesIn /dev/fd/63',\n",
       " '10x_bam_to_fastq:I1(BC:QT)',\n",
       " '10x_bam_to_fastq:R1(CR:CY,UR:UY)',\n",
       " '10x_bam_to_fastq:R2(SEQ:QUAL)',\n",
       " 'library_info:{\"library_id\":\"0\",\"library_type\":\"Gene Expression\",\"gem_group\":1}',\n",
       " 'user command line: STAR --genomeDir /central/groups/woldlab/genomes//encode-mm10-M4-male-3.0.1/star --outSAMmultNmax -1 --runThreadN 4 --readNameSeparator space --outSAMunmapped Within KeepPairs --outSAMtype SAM --outStd SAM --outSAMorder PairedKeepInputOrder --outSAMattrRGline ID:Wold10x-1-count-cells10000:0:1:H3JGYCCXY:8 SM:Wold10x-1-count-cells10000 LB:0.1 PU:Wold10x-1-count-cells10000:0:1:H3JGYCCXY:8 PL:ILLUMINA --readFilesIn /dev/fd/63',\n",
       " '10x_bam_to_fastq:I1(BC:QT)',\n",
       " '10x_bam_to_fastq:R1(CR:CY,UR:UY)',\n",
       " '10x_bam_to_fastq:R2(SEQ:QUAL)',\n",
       " 'library_info:{\"library_id\":\"0\",\"library_type\":\"Gene Expression\",\"gem_group\":1}',\n",
       " 'user command line: STAR --genomeDir /central/groups/woldlab/genomes//encode-mm10-M4-male-3.0.1/star --outSAMmultNmax -1 --runThreadN 4 --readNameSeparator space --outSAMunmapped Within KeepPairs --outSAMtype SAM --outStd SAM --outSAMorder PairedKeepInputOrder --outSAMattrRGline ID:Wold10x-1-count-cells10000:0:1:H3JGYCCXY:8 SM:Wold10x-1-count-cells10000 LB:0.1 PU:Wold10x-1-count-cells10000:0:1:H3JGYCCXY:8 PL:ILLUMINA --readFilesIn /dev/fd/63',\n",
       " '10x_bam_to_fastq:I1(BC:QT)',\n",
       " '10x_bam_to_fastq:R1(CR:CY,UR:UY)',\n",
       " '10x_bam_to_fastq:R2(SEQ:QUAL)',\n",
       " 'library_info:{\"library_id\":\"0\",\"library_type\":\"Gene Expression\",\"gem_group\":1}',\n",
       " 'user command line: STAR --genomeDir /central/groups/woldlab/genomes//encode-mm10-M4-male-3.0.1/star --outSAMmultNmax -1 --runThreadN 4 --readNameSeparator space --outSAMunmapped Within KeepPairs --outSAMtype SAM --outStd SAM --outSAMorder PairedKeepInputOrder --outSAMattrRGline ID:Wold10x-1-count-cells10000:0:1:H3JGYCCXY:8 SM:Wold10x-1-count-cells10000 LB:0.1 PU:Wold10x-1-count-cells10000:0:1:H3JGYCCXY:8 PL:ILLUMINA --readFilesIn /dev/fd/63',\n",
       " '10x_bam_to_fastq:I1(BC:QT)',\n",
       " '10x_bam_to_fastq:R1(CR:CY,UR:UY)',\n",
       " '10x_bam_to_fastq:R2(SEQ:QUAL)',\n",
       " 'library_info:{\"library_id\":\"0\",\"library_type\":\"Gene Expression\",\"gem_group\":1}',\n",
       " 'user command line: STAR --genomeDir /central/groups/woldlab/genomes//encode-mm10-M4-male-3.0.1/star --outSAMmultNmax -1 --runThreadN 4 --readNameSeparator space --outSAMunmapped Within KeepPairs --outSAMtype SAM --outStd SAM --outSAMorder PairedKeepInputOrder --outSAMattrRGline ID:Wold10x-1-count-cells10000:0:1:H3JGYCCXY:8 SM:Wold10x-1-count-cells10000 LB:0.1 PU:Wold10x-1-count-cells10000:0:1:H3JGYCCXY:8 PL:ILLUMINA --readFilesIn /dev/fd/63',\n",
       " '10x_bam_to_fastq:I1(BC:QT)',\n",
       " '10x_bam_to_fastq:R1(CR:CY,UR:UY)',\n",
       " '10x_bam_to_fastq:R2(SEQ:QUAL)',\n",
       " 'library_info:{\"library_id\":\"0\",\"library_type\":\"Gene Expression\",\"gem_group\":1}',\n",
       " 'user command line: STAR --genomeDir /central/groups/woldlab/genomes//encode-mm10-M4-male-3.0.1/star --outSAMmultNmax -1 --runThreadN 4 --readNameSeparator space --outSAMunmapped Within KeepPairs --outSAMtype SAM --outStd SAM --outSAMorder PairedKeepInputOrder --outSAMattrRGline ID:Wold10x-1-count-cells10000:0:1:H3JGYCCXY:8 SM:Wold10x-1-count-cells10000 LB:0.1 PU:Wold10x-1-count-cells10000:0:1:H3JGYCCXY:8 PL:ILLUMINA --readFilesIn /dev/fd/63',\n",
       " '10x_bam_to_fastq:I1(BC:QT)',\n",
       " '10x_bam_to_fastq:R1(CR:CY,UR:UY)',\n",
       " '10x_bam_to_fastq:R2(SEQ:QUAL)',\n",
       " 'library_info:{\"library_id\":\"0\",\"library_type\":\"Gene Expression\",\"gem_group\":1}']"
      ]
     },
     "execution_count": 82,
     "metadata": {},
     "output_type": "execute_result"
    }
   ],
   "source": [
    "possorted_bam.header.get('CO')"
   ]
  },
  {
   "cell_type": "code",
   "execution_count": 86,
   "metadata": {},
   "outputs": [
    {
     "name": "stdout",
     "output_type": "stream",
     "text": [
      "465261597\n"
     ]
    }
   ],
   "source": [
    "total = 0\n",
    "for stat in possorted_bam.get_index_statistics():\n",
    "    total += stat.total\n",
    "print(total)"
   ]
  },
  {
   "cell_type": "code",
   "execution_count": 88,
   "metadata": {},
   "outputs": [
    {
     "data": {
      "text/plain": [
       "17214679089"
      ]
     },
     "execution_count": 88,
     "metadata": {},
     "output_type": "execute_result"
    }
   ],
   "source": [
    "465261597 * (len(cb) + len(ub) + len('chr10') + 4)"
   ]
  },
  {
   "cell_type": "code",
   "execution_count": 101,
   "metadata": {},
   "outputs": [],
   "source": [
    "def plot_mapqs(filename):\n",
    "    bam = pysam.AlignmentFile(filename, 'rb')\n",
    "    mapq = Counter()\n",
    "    for read in bam:\n",
    "        mapq[read.mapq] += 1\n",
    "    f = pyplot.figure(figsize=(8,6))\n",
    "    a = f.add_subplot(1,1,1)\n",
    "    a.bar(mapq.keys(), mapq.values())\n",
    "    return mapq"
   ]
  },
  {
   "cell_type": "code",
   "execution_count": 102,
   "metadata": {},
   "outputs": [
    {
     "data": {
      "text/plain": [
       "Counter({0: 3855479, 1: 1317434, 255: 22627532, 3: 2480886})"
      ]
     },
     "execution_count": 102,
     "metadata": {},
     "output_type": "execute_result"
    },
    {
     "data": {
      "image/png": "[encoded data removed]",
      "text/plain": [
       "<Figure size 576x432 with 1 Axes>"
      ]
     },
     "metadata": {
      "needs_background": "light"
     },
     "output_type": "display_data"
    }
   ],
   "source": [
    "plot_mapqs('c12_mus4_cb_ub_chr_start/c12_mus4_cb_ub_chr_start-mm10-M4-male_genome.bam')"
   ]
  },
  {
   "cell_type": "code",
   "execution_count": 104,
   "metadata": {},
   "outputs": [
    {
     "data": {
      "text/plain": [
       "Counter({255: 29873564, 0: 5212898, 3: 3273528, 1: 1717915})"
      ]
     },
     "execution_count": 104,
     "metadata": {},
     "output_type": "execute_result"
    },
    {
     "data": {
      "image/png": "[encoded data removed]",
      "text/plain": [
       "<Figure size 576x432 with 1 Axes>"
      ]
     },
     "metadata": {
      "needs_background": "light"
     },
     "output_type": "display_data"
    }
   ],
   "source": [
    "plot_mapqs('c12_mus4/c12-mus4-mm10-M4-male_genome.bam')"
   ]
  },
  {
   "cell_type": "code",
   "execution_count": null,
   "metadata": {},
   "outputs": [],
   "source": []
  }
 ],
 "metadata": {
  "kernelspec": {
   "display_name": "Python 3",
   "language": "python",
   "name": "python3"
  },
  "language_info": {
   "codemirror_mode": {
    "name": "ipython",
    "version": 3
   },
   "file_extension": ".py",
   "mimetype": "text/x-python",
   "name": "python",
   "nbconvert_exporter": "python",
   "pygments_lexer": "ipython3",
   "version": "3.7.4"
  }
 },
 "nbformat": 4,
 "nbformat_minor": 2
}
