{
 "cells": [
  {
   "cell_type": "markdown",
   "metadata": {},
   "source": [
    "# Introduction"
   ]
  },
  {
   "cell_type": "markdown",
   "metadata": {},
   "source": [
    "Brian would like to see just the splices for some subsets.\n",
    "\n",
    "How do I figure that out?"
   ]
  },
  {
   "cell_type": "code",
   "execution_count": 19,
   "metadata": {},
   "outputs": [],
   "source": [
    "import os\n",
    "import pandas\n",
    "from pysam import AlignmentFile\n",
    "from collections import Counter"
   ]
  },
  {
   "cell_type": "code",
   "execution_count": 2,
   "metadata": {},
   "outputs": [],
   "source": [
    "analysis_dir='/woldlab/castor/home/sau/flowcells/H7CNTBCX2/19915_B9'\n",
    "bam_file = os.path.join(analysis_dir, '19915_B9-mm10-M4-male_genome.bam')\n",
    "sj_file = os.path.join(analysis_dir, 'SJ.out.tab')"
   ]
  },
  {
   "cell_type": "code",
   "execution_count": 3,
   "metadata": {},
   "outputs": [],
   "source": [
    "sj = pandas.read_csv(\n",
    "    sj_file, sep='\\t', header=None, index_col=None,\n",
    "    names=['chr', 'start', 'stop', 'strand', 'intron', 'annotated', 'unique', 'multi', 'max_overhang']\n",
    ")"
   ]
  },
  {
   "cell_type": "code",
   "execution_count": 4,
   "metadata": {},
   "outputs": [
    {
     "data": {
      "text/html": [
       "<div>\n",
       "<style scoped>\n",
       "    .dataframe tbody tr th:only-of-type {\n",
       "        vertical-align: middle;\n",
       "    }\n",
       "\n",
       "    .dataframe tbody tr th {\n",
       "        vertical-align: top;\n",
       "    }\n",
       "\n",
       "    .dataframe thead th {\n",
       "        text-align: right;\n",
       "    }\n",
       "</style>\n",
       "<table border=\"1\" class=\"dataframe\">\n",
       "  <thead>\n",
       "    <tr style=\"text-align: right;\">\n",
       "      <th></th>\n",
       "      <th>chr</th>\n",
       "      <th>start</th>\n",
       "      <th>stop</th>\n",
       "      <th>strand</th>\n",
       "      <th>intron</th>\n",
       "      <th>annotated</th>\n",
       "      <th>unique</th>\n",
       "      <th>multi</th>\n",
       "      <th>max_overhang</th>\n",
       "    </tr>\n",
       "  </thead>\n",
       "  <tbody>\n",
       "    <tr>\n",
       "      <th>0</th>\n",
       "      <td>chr10</td>\n",
       "      <td>3366970</td>\n",
       "      <td>3423493</td>\n",
       "      <td>1</td>\n",
       "      <td>1</td>\n",
       "      <td>1</td>\n",
       "      <td>1</td>\n",
       "      <td>0</td>\n",
       "      <td>13</td>\n",
       "    </tr>\n",
       "    <tr>\n",
       "      <th>1</th>\n",
       "      <td>chr10</td>\n",
       "      <td>4403991</td>\n",
       "      <td>4407804</td>\n",
       "      <td>2</td>\n",
       "      <td>2</td>\n",
       "      <td>1</td>\n",
       "      <td>1</td>\n",
       "      <td>2</td>\n",
       "      <td>25</td>\n",
       "    </tr>\n",
       "    <tr>\n",
       "      <th>2</th>\n",
       "      <td>chr10</td>\n",
       "      <td>4407926</td>\n",
       "      <td>4410712</td>\n",
       "      <td>2</td>\n",
       "      <td>2</td>\n",
       "      <td>1</td>\n",
       "      <td>0</td>\n",
       "      <td>2</td>\n",
       "      <td>14</td>\n",
       "    </tr>\n",
       "    <tr>\n",
       "      <th>3</th>\n",
       "      <td>chr10</td>\n",
       "      <td>4410790</td>\n",
       "      <td>4411666</td>\n",
       "      <td>2</td>\n",
       "      <td>2</td>\n",
       "      <td>1</td>\n",
       "      <td>0</td>\n",
       "      <td>6</td>\n",
       "      <td>18</td>\n",
       "    </tr>\n",
       "    <tr>\n",
       "      <th>4</th>\n",
       "      <td>chr10</td>\n",
       "      <td>4411732</td>\n",
       "      <td>4413308</td>\n",
       "      <td>2</td>\n",
       "      <td>2</td>\n",
       "      <td>1</td>\n",
       "      <td>2</td>\n",
       "      <td>1</td>\n",
       "      <td>13</td>\n",
       "    </tr>\n",
       "  </tbody>\n",
       "</table>\n",
       "</div>"
      ],
      "text/plain": [
       "     chr    start     stop  strand  intron  annotated  unique  multi  \\\n",
       "0  chr10  3366970  3423493       1       1          1       1      0   \n",
       "1  chr10  4403991  4407804       2       2          1       1      2   \n",
       "2  chr10  4407926  4410712       2       2          1       0      2   \n",
       "3  chr10  4410790  4411666       2       2          1       0      6   \n",
       "4  chr10  4411732  4413308       2       2          1       2      1   \n",
       "\n",
       "   max_overhang  \n",
       "0            13  \n",
       "1            25  \n",
       "2            14  \n",
       "3            18  \n",
       "4            13  "
      ]
     },
     "execution_count": 4,
     "metadata": {},
     "output_type": "execute_result"
    }
   ],
   "source": [
    "sj.head()"
   ]
  },
  {
   "cell_type": "code",
   "execution_count": 12,
   "metadata": {},
   "outputs": [
    {
     "data": {
      "text/plain": [
       "(31837, 9)"
      ]
     },
     "execution_count": 12,
     "metadata": {},
     "output_type": "execute_result"
    }
   ],
   "source": [
    "sj.shape"
   ]
  },
  {
   "cell_type": "code",
   "execution_count": 11,
   "metadata": {},
   "outputs": [
    {
     "data": {
      "text/plain": [
       "(1055, 9)"
      ]
     },
     "execution_count": 11,
     "metadata": {},
     "output_type": "execute_result"
    }
   ],
   "source": [
    "sj[sj['annotated'] == 0].shape"
   ]
  },
  {
   "cell_type": "markdown",
   "metadata": {},
   "source": [
    "intron  motif:  0:  non-canonical;  1:  GT/AG,  2:  CT/AC,  3:  GC/AG,  4:  CT/GC,  5:AT/AC, 6:  GT/AT"
   ]
  },
  {
   "cell_type": "code",
   "execution_count": 16,
   "metadata": {},
   "outputs": [
    {
     "data": {
      "text/plain": [
       "(16006, 9)"
      ]
     },
     "execution_count": 16,
     "metadata": {},
     "output_type": "execute_result"
    }
   ],
   "source": [
    "sj[sj['intron'] > 1].shape"
   ]
  },
  {
   "cell_type": "code",
   "execution_count": 5,
   "metadata": {},
   "outputs": [],
   "source": [
    "reads = AlignmentFile(bam_file, 'rb')"
   ]
  },
  {
   "cell_type": "code",
   "execution_count": 7,
   "metadata": {},
   "outputs": [
    {
     "name": "stdout",
     "output_type": "stream",
     "text": [
      "HISEQ:768:H7CNTBCX2:2:1202:2308:89307\t0\t0\t3366956\t255\t13M56524N37M\t-1\t-1\t50\tGTACGGCTGCGAGGAAGAAGAAATGCCAGATGTAGAAATTGACATTGATG\tarray('B', [35, 35, 34, 35, 35, 40, 39, 39, 40, 40, 40, 40, 40, 40, 39, 40, 40, 40, 40, 40, 40, 40, 40, 40, 40, 40, 40, 39, 40, 39, 40, 39, 40, 40, 40, 40, 40, 40, 40, 40, 40, 39, 40, 39, 39, 40, 39, 39, 39, 39])\t[('NH', 1), ('HI', 1), ('AS', 47), ('NM', 0), ('MD', '50')]\n"
     ]
    }
   ],
   "source": [
    "for r in reads.fetch('chr10', 3366970, 3423493):\n",
    "    print(r)"
   ]
  },
  {
   "cell_type": "code",
   "execution_count": 62,
   "metadata": {},
   "outputs": [],
   "source": [
    "def count_splices(read):\n",
    "    splices = 0\n",
    "    for c in read.cigar:\n",
    "        if c[0] == 3:\n",
    "            splices += 1\n",
    "    return splices\n",
    "    \n",
    "def is_spliced(read):\n",
    "    for c in read.cigar:\n",
    "        if c[0] == 3:\n",
    "            return True\n",
    "    return False"
   ]
  },
  {
   "cell_type": "code",
   "execution_count": 61,
   "metadata": {},
   "outputs": [
    {
     "name": "stdout",
     "output_type": "stream",
     "text": [
      "10 2 1 0\n",
      "11 2 1 0\n",
      "14 1 2 0\n",
      "28 5 7 0\n",
      "34 12 0 2\n",
      "34 0\n"
     ]
    }
   ],
   "source": [
    "limit = 5\n",
    "for i, junction in sj.iterrows():\n",
    "    uniq = 0\n",
    "    seen_starts = set()\n",
    "    for r in reads.fetch(junction.chr, junction.start, junction.stop):\n",
    "        if r.get_tag('NH') == 1 and is_splice(r) and r.pos not in seen_starts:\n",
    "            uniq += 1\n",
    "        seen_starts.add(r.pos)\n",
    "    if uniq != junction['unique']:\n",
    "        print(i, uniq, junction['unique'], junction['multi'])\n",
    "        limit -= 1\n",
    "    if limit <= 0:\n",
    "        break\n",
    "print(i, limit)"
   ]
  },
  {
   "cell_type": "code",
   "execution_count": 47,
   "metadata": {},
   "outputs": [
    {
     "data": {
      "text/plain": [
       "5"
      ]
     },
     "execution_count": 47,
     "metadata": {},
     "output_type": "execute_result"
    }
   ],
   "source": [
    "uniq"
   ]
  },
  {
   "cell_type": "code",
   "execution_count": 57,
   "metadata": {},
   "outputs": [
    {
     "name": "stdout",
     "output_type": "stream",
     "text": [
      "HISEQ:768:H7CNTBCX2:2:2115:19363:9456\t16\t0\t7649120\t255\t35M13919N15M\t-1\t-1\t50\tTTCAAATACTTTATCTGTCTTGATGATTCCATTCTTGCGGAGGTTGTGGA\tarray('B', [40, 40, 39, 39, 39, 39, 39, 40, 40, 40, 40, 39, 39, 36, 40, 39, 37, 39, 39, 40, 39, 39, 40, 39, 38, 39, 39, 39, 36, 40, 39, 39, 39, 39, 35, 39, 38, 40, 40, 40, 40, 39, 40, 40, 40, 35, 33, 35, 27, 15])\t[('NH', 1), ('HI', 1), ('AS', 48), ('NM', 0), ('MD', '50')]\n",
      "HISEQ:768:H7CNTBCX2:1:2112:7989:53812\t16\t0\t7649128\t255\t1S27M13919N22M\t-1\t-1\t49\tTCTTTATCTGTCTTGATGATTCCATTCTTGCGGAGGTTGTGGATTAGCTC\tarray('B', [16, 40, 40, 40, 40, 40, 40, 40, 40, 40, 40, 40, 40, 40, 40, 40, 40, 40, 40, 40, 40, 40, 40, 40, 40, 40, 40, 40, 40, 40, 40, 40, 40, 40, 40, 40, 40, 40, 40, 40, 40, 40, 40, 40, 40, 35, 35, 35, 32, 35])\t[('NH', 1), ('HI', 1), ('AS', 47), ('NM', 0), ('MD', '49')]\n",
      "HISEQ:768:H7CNTBCX2:1:2110:3684:54492\t0\t0\t7667635\t255\t46M320N4M\t-1\t-1\t50\tCCTGCAGACCACAGAGACCTTTGCCACGGGCTCTTGGGACAATGAGGAAA\tarray('B', [35, 35, 35, 35, 35, 40, 40, 40, 40, 40, 40, 40, 40, 40, 40, 40, 40, 40, 40, 40, 40, 40, 40, 40, 40, 40, 40, 40, 40, 40, 40, 40, 40, 40, 40, 40, 40, 40, 40, 40, 40, 40, 40, 40, 40, 40, 40, 40, 40, 40])\t[('NH', 1), ('HI', 1), ('AS', 49), ('NM', 0), ('MD', '50')]\n",
      "HISEQ:768:H7CNTBCX2:1:2209:4095:60746\t0\t0\t7667645\t255\t36M320N14M\t-1\t-1\t50\tACAGAGACCTTTGCCACGGGCTCTTGGGACAATGAGGAAAATTGCGTTTC\tarray('B', [35, 35, 35, 35, 35, 40, 40, 40, 40, 40, 40, 40, 40, 40, 40, 40, 40, 40, 40, 40, 40, 40, 39, 40, 40, 40, 40, 40, 39, 40, 39, 40, 40, 39, 40, 40, 40, 40, 40, 40, 40, 40, 40, 39, 40, 40, 39, 39, 39, 40])\t[('NH', 1), ('HI', 1), ('AS', 49), ('NM', 0), ('MD', '50')]\n",
      "HISEQ:768:H7CNTBCX2:1:2114:6441:44619\t512\t0\t7668076\t255\t48M1428N2M\t-1\t-1\t50\tCAGTTACTGTGCGATATTAGACATCATGGGGATGTCATGGATTTACAGTT\tarray('B', [15, 15, 27, 35, 35, 39, 39, 39, 39, 39, 40, 39, 39, 40, 39, 39, 40, 39, 39, 40, 37, 36, 39, 39, 40, 40, 40, 39, 37, 39, 39, 40, 39, 39, 39, 39, 39, 34, 39, 39, 39, 39, 40, 40, 40, 40, 40, 40, 35, 38])\t[('NH', 1), ('HI', 1), ('AS', 48), ('NM', 0), ('MD', '50')]\n",
      "HISEQ:768:H7CNTBCX2:2:2211:17288:80967\t0\t0\t7668084\t255\t40M1428N10M\t-1\t-1\t50\tGTGCGATATTAGACATCATGGGGATGTCATGGATTTACAGTTTTTTGACC\tarray('B', [35, 35, 35, 35, 35, 40, 40, 40, 40, 40, 40, 40, 40, 40, 40, 40, 40, 40, 40, 40, 40, 40, 40, 40, 40, 40, 39, 40, 40, 40, 40, 40, 39, 40, 40, 40, 40, 40, 40, 40, 37, 39, 40, 40, 40, 40, 40, 40, 40, 40])\t[('NH', 1), ('HI', 1), ('AS', 48), ('NM', 0), ('MD', '50')]\n",
      "HISEQ:768:H7CNTBCX2:1:2105:12125:55826\t0\t0\t7668100\t255\t24M1428N26M\t-1\t-1\t50\tCATGGGGATGTCATGGATTTACAGTTTTTTGACCAGGAAAGAATTGTAGC\tarray('B', [35, 35, 35, 32, 35, 40, 40, 15, 34, 31, 34, 35, 16, 34, 34, 38, 16, 34, 38, 39, 37, 39, 37, 37, 27, 37, 39, 40, 40, 40, 30, 31, 34, 39, 36, 36, 39, 36, 39, 40, 34, 38, 39, 34, 39, 36, 38, 36, 36, 38])\t[('NH', 1), ('HI', 1), ('AS', 48), ('NM', 0), ('MD', '50')]\n",
      "HISEQ:768:H7CNTBCX2:1:2206:14679:85914\t0\t0\t7671096\t255\t23M2465N27M\t-1\t-1\t50\tCAAGGAGGCTGTCAGAACTATAGATAATGCAGACAGCAGTACACTCCATG\tarray('B', [35, 35, 35, 35, 35, 40, 40, 40, 40, 40, 40, 40, 40, 40, 40, 40, 40, 40, 40, 40, 40, 40, 40, 40, 40, 40, 40, 40, 40, 40, 40, 40, 40, 40, 40, 40, 40, 40, 40, 40, 40, 40, 40, 40, 40, 40, 40, 40, 40, 40])\t[('NH', 1), ('HI', 1), ('AS', 48), ('NM', 0), ('MD', '50')]\n",
      "HISEQ:768:H7CNTBCX2:2:2112:19970:82467\t0\t0\t7673704\t255\t16M1285N34M\t-1\t-1\t50\tGTCAGATACTATCACTGACTGGTGACCGAGTGCCACTCCACTGTGTTGAC\tarray('B', [35, 35, 35, 35, 35, 40, 40, 40, 40, 40, 40, 40, 40, 40, 40, 40, 40, 39, 40, 40, 40, 40, 40, 40, 40, 40, 40, 40, 40, 40, 40, 40, 40, 40, 40, 40, 40, 40, 40, 40, 40, 40, 40, 40, 40, 40, 40, 40, 40, 40])\t[('NH', 1), ('HI', 1), ('AS', 48), ('NM', 0), ('MD', '50')]\n",
      "HISEQ:768:H7CNTBCX2:2:2113:15172:8735\t0\t0\t7673711\t255\t1S9M1285N40M\t-1\t-1\t49\tGACTATCACTGACTGGTGACCGAGTGCCACTCCACTGTGTTGACAGACAT\tarray('B', [27, 15, 27, 27, 35, 39, 40, 40, 40, 40, 40, 40, 40, 40, 40, 40, 40, 40, 40, 40, 40, 40, 40, 40, 40, 40, 38, 40, 40, 40, 40, 40, 40, 40, 40, 40, 40, 36, 39, 40, 40, 40, 40, 40, 40, 40, 40, 40, 40, 40])\t[('NH', 1), ('HI', 1), ('AS', 47), ('NM', 0), ('MD', '49')]\n",
      "HISEQ:768:H7CNTBCX2:1:2214:20430:65823\t16\t0\t7673714\t255\t6M1285N44M\t-1\t-1\t50\tATCACTGACTGGTGACCGAGTGCCACTCCACTGTGTTGACAGACATCCAG\tarray('B', [40, 40, 40, 40, 40, 40, 40, 40, 40, 40, 40, 40, 40, 40, 40, 40, 40, 40, 40, 40, 40, 40, 40, 40, 40, 40, 40, 40, 40, 40, 40, 40, 40, 40, 40, 40, 40, 40, 40, 40, 40, 40, 40, 40, 40, 35, 35, 35, 35, 31])\t[('NH', 1), ('HI', 1), ('AS', 48), ('NM', 0), ('MD', '50')]\n",
      "HISEQ:768:H7CNTBCX2:2:1209:7227:47286\t16\t0\t7676321\t255\t41M2205N9M\t-1\t-1\t50\tCTCCACAGATGCACCTGAAAAGTCTTCTCTCTTTCACCAAGGAGGAAGAA\tarray('B', [40, 39, 36, 40, 40, 40, 40, 40, 40, 40, 40, 39, 40, 39, 40, 40, 40, 40, 40, 40, 40, 40, 40, 40, 40, 40, 40, 39, 40, 40, 40, 40, 40, 40, 40, 40, 40, 40, 40, 40, 40, 40, 40, 40, 40, 35, 35, 35, 35, 35])\t[('NH', 1), ('HI', 1), ('AS', 48), ('NM', 0), ('MD', '50')]\n"
     ]
    }
   ],
   "source": [
    "for row in [x for x in reads.fetch(junction.chr, junction.start, junction.stop) if is_splice(x)]:\n",
    "    if row.get_tag('NH') == 1:\n",
    "        print(row)\n"
   ]
  },
  {
   "cell_type": "code",
   "execution_count": 44,
   "metadata": {},
   "outputs": [
    {
     "data": {
      "text/plain": [
       "[(0, 30), (3, 7255), (0, 20)]"
      ]
     },
     "execution_count": 44,
     "metadata": {},
     "output_type": "execute_result"
    }
   ],
   "source": [
    "row.cigar"
   ]
  },
  {
   "cell_type": "code",
   "execution_count": 49,
   "metadata": {},
   "outputs": [
    {
     "data": {
      "text/plain": [
       "[('NH', 1), ('HI', 1), ('AS', 49), ('NM', 0), ('MD', '50')]"
      ]
     },
     "execution_count": 49,
     "metadata": {},
     "output_type": "execute_result"
    }
   ],
   "source": [
    "row.get_tags()"
   ]
  },
  {
   "cell_type": "code",
   "execution_count": null,
   "metadata": {},
   "outputs": [],
   "source": [
    "def find_spliced_reads(reads):\n",
    "    for r in reads:\n",
    "        if is_spliced(r):\n",
    "            yield r\n",
    "            "
   ]
  },
  {
   "cell_type": "code",
   "execution_count": 63,
   "metadata": {},
   "outputs": [
    {
     "data": {
      "text/plain": [
       "<pysam.libcalignmentfile.AlignmentHeader at 0x7f3f7c48ecc0>"
      ]
     },
     "execution_count": 63,
     "metadata": {},
     "output_type": "execute_result"
    }
   ],
   "source": [
    "reads.header"
   ]
  },
  {
   "cell_type": "code",
   "execution_count": null,
   "metadata": {},
   "outputs": [],
   "source": []
  }
 ],
 "metadata": {
  "kernelspec": {
   "display_name": "Python 3",
   "language": "python",
   "name": "python3"
  },
  "language_info": {
   "codemirror_mode": {
    "name": "ipython",
    "version": 3
   },
   "file_extension": ".py",
   "mimetype": "text/x-python",
   "name": "python",
   "nbconvert_exporter": "python",
   "pygments_lexer": "ipython3",
   "version": "3.7.3rc1"
  }
 },
 "nbformat": 4,
 "nbformat_minor": 2
}
