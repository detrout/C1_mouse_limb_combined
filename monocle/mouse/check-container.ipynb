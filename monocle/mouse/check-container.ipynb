{
 "cells": [
  {
   "cell_type": "code",
   "execution_count": 1,
   "metadata": {},
   "outputs": [
    {
     "name": "stdout",
     "output_type": "stream",
     "text": [
      "Desired=Unknown/Install/Remove/Purge/Hold\r\n",
      "| Status=Not/Inst/Conf-files/Unpacked/halF-conf/Half-inst/trig-aWait/Trig-pend\r\n",
      "|/ Err?=(none)/Reinst-required (Status,Err: uppercase=bad)\r\n",
      "||/ Name              Version      Architecture Description\r\n",
      "+++-=================-============-============-===============================================================\r\n",
      "ii  python3-terminado 0.8.2-2      all          Terminals served to term.js using Tornado websockets (Python 3)\r\n"
     ]
    }
   ],
   "source": [
    "!dpkg -l python3-terminado"
   ]
  },
  {
   "cell_type": "code",
   "execution_count": 2,
   "metadata": {},
   "outputs": [
    {
     "name": "stdout",
     "output_type": "stream",
     "text": [
      "Desired=Unknown/Install/Remove/Purge/Hold\r\n",
      "| Status=Not/Inst/Conf-files/Unpacked/halF-conf/Half-inst/trig-aWait/Trig-pend\r\n",
      "|/ Err?=(none)/Reinst-required (Status,Err: uppercase=bad)\r\n",
      "||/ Name           Version      Architecture Description\r\n",
      "+++-==============-============-============-======================================\r\n",
      "ii  libjs-term.js  0.0.7-1      all          full xterm clone written in javascript\r\n"
     ]
    }
   ],
   "source": [
    "!dpkg -l libjs-term.js"
   ]
  },
  {
   "cell_type": "code",
   "execution_count": 4,
   "metadata": {},
   "outputs": [
    {
     "name": "stdout",
     "output_type": "stream",
     "text": [
      "Desired=Unknown/Install/Remove/Purge/Hold\r\n",
      "| Status=Not/Inst/Conf-files/Unpacked/halF-conf/Half-inst/trig-aWait/Trig-pend\r\n",
      "|/ Err?=(none)/Reinst-required (Status,Err: uppercase=bad)\r\n",
      "||/ Name             Version      Architecture Description\r\n",
      "+++-================-============-============-=======================================\r\n",
      "ii  python3-notebook 5.7.8-1      all          Jupyter interactive notebook (Python 3)\r\n"
     ]
    }
   ],
   "source": [
    "!dpkg -l python3-notebook"
   ]
  },
  {
   "cell_type": "code",
   "execution_count": 5,
   "metadata": {},
   "outputs": [
    {
     "name": "stdout",
     "output_type": "stream",
     "text": [
      "\u001b[1mdpkg-query:\u001b[0m no packages found matching libjs-xterm\r\n"
     ]
    }
   ],
   "source": [
    "!dpkg -l libjs-xterm"
   ]
  },
  {
   "cell_type": "code",
   "execution_count": 6,
   "metadata": {},
   "outputs": [
    {
     "name": "stdout",
     "output_type": "stream",
     "text": [
      "Desired=Unknown/Install/Remove/Purge/Hold\r\n",
      "| Status=Not/Inst/Conf-files/Unpacked/halF-conf/Half-inst/trig-aWait/Trig-pend\r\n",
      "|/ Err?=(none)/Reinst-required (Status,Err: uppercase=bad)\r\n",
      "||/ Name           Version      Architecture Description\r\n",
      "+++-==============-============-============-=================================\r\n",
      "ii  r-cran-seurat  3.1.0-1      amd64        Tools for Single Cell Genomics\r\n"
     ]
    }
   ],
   "source": [
    "!dpkg -l r-cran-seurat"
   ]
  },
  {
   "cell_type": "code",
   "execution_count": 7,
   "metadata": {},
   "outputs": [
    {
     "name": "stdout",
     "output_type": "stream",
     "text": [
      "/.\r\n",
      "/usr\r\n",
      "/usr/lib\r\n",
      "/usr/lib/R\r\n",
      "/usr/lib/R/site-library\r\n",
      "/usr/lib/R/site-library/Seurat\r\n",
      "/usr/lib/R/site-library/Seurat/CITATION\r\n",
      "/usr/lib/R/site-library/Seurat/DESCRIPTION\r\n",
      "/usr/lib/R/site-library/Seurat/INDEX\r\n",
      "/usr/lib/R/site-library/Seurat/Meta\r\n",
      "/usr/lib/R/site-library/Seurat/Meta/Rd.rds\r\n",
      "/usr/lib/R/site-library/Seurat/Meta/data.rds\r\n",
      "/usr/lib/R/site-library/Seurat/Meta/features.rds\r\n",
      "/usr/lib/R/site-library/Seurat/Meta/hsearch.rds\r\n",
      "/usr/lib/R/site-library/Seurat/Meta/links.rds\r\n",
      "/usr/lib/R/site-library/Seurat/Meta/nsInfo.rds\r\n",
      "/usr/lib/R/site-library/Seurat/Meta/package.rds\r\n",
      "/usr/lib/R/site-library/Seurat/NAMESPACE\r\n",
      "/usr/lib/R/site-library/Seurat/NEWS.md\r\n",
      "/usr/lib/R/site-library/Seurat/R\r\n",
      "/usr/lib/R/site-library/Seurat/R/Seurat\r\n",
      "/usr/lib/R/site-library/Seurat/R/Seurat.rdb\r\n",
      "/usr/lib/R/site-library/Seurat/R/Seurat.rdx\r\n",
      "/usr/lib/R/site-library/Seurat/data\r\n",
      "/usr/lib/R/site-library/Seurat/data/Rdata.rdb\r\n",
      "/usr/lib/R/site-library/Seurat/data/Rdata.rds\r\n",
      "/usr/lib/R/site-library/Seurat/data/Rdata.rdx\r\n",
      "/usr/lib/R/site-library/Seurat/extdata\r\n",
      "/usr/lib/R/site-library/Seurat/extdata/pbmc_raw.txt\r\n",
      "/usr/lib/R/site-library/Seurat/help\r\n",
      "/usr/lib/R/site-library/Seurat/help/AnIndex\r\n",
      "/usr/lib/R/site-library/Seurat/help/Seurat.rdb\r\n",
      "/usr/lib/R/site-library/Seurat/help/Seurat.rdx\r\n",
      "/usr/lib/R/site-library/Seurat/help/aliases.rds\r\n",
      "/usr/lib/R/site-library/Seurat/help/paths.rds\r\n",
      "/usr/lib/R/site-library/Seurat/html\r\n",
      "/usr/lib/R/site-library/Seurat/html/00Index.html\r\n",
      "/usr/lib/R/site-library/Seurat/html/R.css\r\n",
      "/usr/lib/R/site-library/Seurat/libs\r\n",
      "/usr/lib/R/site-library/Seurat/libs/Seurat.so\r\n",
      "/usr/share\r\n",
      "/usr/share/doc\r\n",
      "/usr/share/doc/r-cran-seurat\r\n",
      "/usr/share/doc/r-cran-seurat/changelog.Debian.gz\r\n",
      "/usr/share/doc/r-cran-seurat/copyright\r\n"
     ]
    }
   ],
   "source": [
    "!dpkg --listfiles r-cran-seurat"
   ]
  },
  {
   "cell_type": "code",
   "execution_count": null,
   "metadata": {},
   "outputs": [],
   "source": []
  }
 ],
 "metadata": {
  "kernelspec": {
   "display_name": "Python 3",
   "language": "python",
   "name": "python3"
  },
  "language_info": {
   "codemirror_mode": {
    "name": "ipython",
    "version": 3
   },
   "file_extension": ".py",
   "mimetype": "text/x-python",
   "name": "python",
   "nbconvert_exporter": "python",
   "pygments_lexer": "ipython3",
   "version": "3.7.4"
  }
 },
 "nbformat": 4,
 "nbformat_minor": 2
}
