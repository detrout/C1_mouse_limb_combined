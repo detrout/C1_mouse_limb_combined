{
 "cells": [
  {
   "cell_type": "markdown",
   "metadata": {},
   "source": [
    "Investigating to see if I have futures installed correctly"
   ]
  },
  {
   "cell_type": "code",
   "execution_count": 1,
   "metadata": {},
   "outputs": [],
   "source": [
    "library(future)"
   ]
  },
  {
   "cell_type": "code",
   "execution_count": 2,
   "metadata": {},
   "outputs": [
    {
     "data": {
      "text/html": [
       "<strong>system:</strong> 24"
      ],
      "text/latex": [
       "\\textbf{system:} 24"
      ],
      "text/markdown": [
       "**system:** 24"
      ],
      "text/plain": [
       "system \n",
       "    24 "
      ]
     },
     "metadata": {},
     "output_type": "display_data"
    }
   ],
   "source": [
    "availableCores()"
   ]
  },
  {
   "cell_type": "code",
   "execution_count": 3,
   "metadata": {},
   "outputs": [
    {
     "data": {
      "text/html": [
       "<ol class=list-inline>\n",
       "\t<li>'localhost'</li>\n",
       "\t<li>'localhost'</li>\n",
       "\t<li>'localhost'</li>\n",
       "\t<li>'localhost'</li>\n",
       "\t<li>'localhost'</li>\n",
       "\t<li>'localhost'</li>\n",
       "\t<li>'localhost'</li>\n",
       "\t<li>'localhost'</li>\n",
       "\t<li>'localhost'</li>\n",
       "\t<li>'localhost'</li>\n",
       "\t<li>'localhost'</li>\n",
       "\t<li>'localhost'</li>\n",
       "\t<li>'localhost'</li>\n",
       "\t<li>'localhost'</li>\n",
       "\t<li>'localhost'</li>\n",
       "\t<li>'localhost'</li>\n",
       "\t<li>'localhost'</li>\n",
       "\t<li>'localhost'</li>\n",
       "\t<li>'localhost'</li>\n",
       "\t<li>'localhost'</li>\n",
       "\t<li>'localhost'</li>\n",
       "\t<li>'localhost'</li>\n",
       "\t<li>'localhost'</li>\n",
       "\t<li>'localhost'</li>\n",
       "</ol>\n"
      ],
      "text/latex": [
       "\\begin{enumerate*}\n",
       "\\item 'localhost'\n",
       "\\item 'localhost'\n",
       "\\item 'localhost'\n",
       "\\item 'localhost'\n",
       "\\item 'localhost'\n",
       "\\item 'localhost'\n",
       "\\item 'localhost'\n",
       "\\item 'localhost'\n",
       "\\item 'localhost'\n",
       "\\item 'localhost'\n",
       "\\item 'localhost'\n",
       "\\item 'localhost'\n",
       "\\item 'localhost'\n",
       "\\item 'localhost'\n",
       "\\item 'localhost'\n",
       "\\item 'localhost'\n",
       "\\item 'localhost'\n",
       "\\item 'localhost'\n",
       "\\item 'localhost'\n",
       "\\item 'localhost'\n",
       "\\item 'localhost'\n",
       "\\item 'localhost'\n",
       "\\item 'localhost'\n",
       "\\item 'localhost'\n",
       "\\end{enumerate*}\n"
      ],
      "text/markdown": [
       "1. 'localhost'\n",
       "2. 'localhost'\n",
       "3. 'localhost'\n",
       "4. 'localhost'\n",
       "5. 'localhost'\n",
       "6. 'localhost'\n",
       "7. 'localhost'\n",
       "8. 'localhost'\n",
       "9. 'localhost'\n",
       "10. 'localhost'\n",
       "11. 'localhost'\n",
       "12. 'localhost'\n",
       "13. 'localhost'\n",
       "14. 'localhost'\n",
       "15. 'localhost'\n",
       "16. 'localhost'\n",
       "17. 'localhost'\n",
       "18. 'localhost'\n",
       "19. 'localhost'\n",
       "20. 'localhost'\n",
       "21. 'localhost'\n",
       "22. 'localhost'\n",
       "23. 'localhost'\n",
       "24. 'localhost'\n",
       "\n",
       "\n"
      ],
      "text/plain": [
       " [1] \"localhost\" \"localhost\" \"localhost\" \"localhost\" \"localhost\" \"localhost\"\n",
       " [7] \"localhost\" \"localhost\" \"localhost\" \"localhost\" \"localhost\" \"localhost\"\n",
       "[13] \"localhost\" \"localhost\" \"localhost\" \"localhost\" \"localhost\" \"localhost\"\n",
       "[19] \"localhost\" \"localhost\" \"localhost\" \"localhost\" \"localhost\" \"localhost\""
      ]
     },
     "metadata": {},
     "output_type": "display_data"
    }
   ],
   "source": [
    "availableWorkers()"
   ]
  },
  {
   "cell_type": "code",
   "execution_count": 5,
   "metadata": {},
   "outputs": [
    {
     "data": {
      "text/html": [
       "TRUE"
      ],
      "text/latex": [
       "TRUE"
      ],
      "text/markdown": [
       "TRUE"
      ],
      "text/plain": [
       "[1] TRUE"
      ]
     },
     "metadata": {},
     "output_type": "display_data"
    }
   ],
   "source": [
    "supportsMulticore()"
   ]
  },
  {
   "cell_type": "code",
   "execution_count": 6,
   "metadata": {},
   "outputs": [
    {
     "name": "stdout",
     "output_type": "stream",
     "text": [
      "123"
     ]
    }
   ],
   "source": [
    "for(ii in 1:3) { cat(ii)}"
   ]
  },
  {
   "cell_type": "code",
   "execution_count": null,
   "metadata": {},
   "outputs": [],
   "source": []
  }
 ],
 "metadata": {
  "kernelspec": {
   "display_name": "R",
   "language": "R",
   "name": "ir"
  },
  "language_info": {
   "codemirror_mode": "r",
   "file_extension": ".r",
   "mimetype": "text/x-r-source",
   "name": "R",
   "pygments_lexer": "r",
   "version": "3.6.1"
  }
 },
 "nbformat": 4,
 "nbformat_minor": 2
}
