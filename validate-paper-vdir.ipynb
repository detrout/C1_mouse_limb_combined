{
 "cells": [
  {
   "cell_type": "markdown",
   "metadata": {},
   "source": [
    "# Introduction"
   ]
  },
  {
   "cell_type": "markdown",
   "metadata": {},
   "source": [
    "I want to make sure that the paper_analysis_vdir contains exactly the set of cells as used for the paper."
   ]
  },
  {
   "cell_type": "code",
   "execution_count": 1,
   "metadata": {},
   "outputs": [],
   "source": [
    "import numpy\n",
    "import pandas\n",
    "import sys\n",
    "import os\n",
    "from woldrnaseq.models import load_experiments"
   ]
  },
  {
   "cell_type": "code",
   "execution_count": 2,
   "metadata": {},
   "outputs": [],
   "source": [
    "PANDASODF = os.path.expanduser('~diane/src/pandasodf')\n",
    "if PANDASODF not in sys.path:\n",
    "    sys.path.append(PANDASODF)\n",
    "from pandasodf import ODFReader"
   ]
  },
  {
   "cell_type": "code",
   "execution_count": 3,
   "metadata": {},
   "outputs": [
    {
     "data": {
      "text/plain": [
       "(920, 2)"
      ]
     },
     "execution_count": 3,
     "metadata": {},
     "output_type": "execute_result"
    }
   ],
   "source": [
    "book = ODFReader('C1_single_cells_library_number_cell_type_annotation_Jan13_2019.ods')\n",
    "clusters = book.parse('Sheet1')\n",
    "clusters = clusters[['cell_ID', 'cell type cluster 920']]\n",
    "clusters.shape"
   ]
  },
  {
   "cell_type": "code",
   "execution_count": 4,
   "metadata": {},
   "outputs": [],
   "source": [
    "cells = []\n",
    "root = 'paper_analysis_vdir'\n",
    "for name in os.listdir(root):\n",
    "    pathname = os.path.join(root, name)\n",
    "    if os.path.isdir(pathname):\n",
    "        cells.append(name.replace('_mm10', ''))\n",
    "        "
   ]
  },
  {
   "cell_type": "code",
   "execution_count": 5,
   "metadata": {},
   "outputs": [
    {
     "name": "stdout",
     "output_type": "stream",
     "text": [
      "1042\n"
     ]
    }
   ],
   "source": [
    "print(len(cells))"
   ]
  },
  {
   "cell_type": "code",
   "execution_count": 6,
   "metadata": {},
   "outputs": [
    {
     "data": {
      "text/plain": [
       "set()"
      ]
     },
     "execution_count": 6,
     "metadata": {},
     "output_type": "execute_result"
    }
   ],
   "source": [
    "missing = set(clusters['cell_ID']).difference(cells)\n",
    "missing"
   ]
  },
  {
   "cell_type": "code",
   "execution_count": 7,
   "metadata": {},
   "outputs": [
    {
     "data": {
      "text/plain": [
       "['17327_A1',\n",
       " '17327_A6',\n",
       " '17328_B10',\n",
       " '17328_B2',\n",
       " '17328_B3',\n",
       " '17328_B7',\n",
       " '17328_B9',\n",
       " '17329_C11',\n",
       " '17329_C12',\n",
       " '17329_C3',\n",
       " '17330_D10',\n",
       " '17330_D11',\n",
       " '17330_D6',\n",
       " '17330_D7',\n",
       " '17331_E10',\n",
       " '17331_E11',\n",
       " '17331_E12',\n",
       " '17331_E4',\n",
       " '17331_E5',\n",
       " '17332_F10',\n",
       " '17332_F11',\n",
       " '17332_F12',\n",
       " '17332_F4',\n",
       " '17332_F5',\n",
       " '17333_G10',\n",
       " '17333_G11',\n",
       " '17333_G12',\n",
       " '17333_G4',\n",
       " '17333_G5',\n",
       " '17333_G7',\n",
       " '17333_G8',\n",
       " '17334_H10',\n",
       " '17334_H11',\n",
       " '17334_H12',\n",
       " '17334_H2',\n",
       " '17334_H4',\n",
       " '17334_H5',\n",
       " '17334_H6',\n",
       " '17334_H8',\n",
       " '17334_H9',\n",
       " '18042_A10',\n",
       " '18045_D3',\n",
       " '18045_D9',\n",
       " '18046_E11',\n",
       " '18046_E12',\n",
       " '18046_E4',\n",
       " '18046_E5',\n",
       " '18048_G9',\n",
       " '18049_H12',\n",
       " '18087_F6',\n",
       " '18087_F8',\n",
       " '18088_G4',\n",
       " '18089_H12',\n",
       " '18251_A9',\n",
       " '18252_B6',\n",
       " '18252_B7',\n",
       " '18253_C2',\n",
       " '18254_D6',\n",
       " '18255_E9',\n",
       " '18256_F10',\n",
       " '18256_F12',\n",
       " '18257_G1',\n",
       " '18257_G10',\n",
       " '18257_G9',\n",
       " '18258_A4',\n",
       " '18262_E4',\n",
       " '18263_A1',\n",
       " '18267_E9',\n",
       " '18269_G12',\n",
       " '18269_G6',\n",
       " '18273_D10',\n",
       " '18273_D7',\n",
       " '18275_F10',\n",
       " '18275_F8',\n",
       " '18276_G10',\n",
       " '18276_G11',\n",
       " '18276_G12',\n",
       " '18276_G8',\n",
       " '18311_A10',\n",
       " '18311_A11',\n",
       " '18311_A3',\n",
       " '18311_A5',\n",
       " '18312_B3',\n",
       " '18312_B7',\n",
       " '18313_C9',\n",
       " '18314_D1',\n",
       " '18314_D5',\n",
       " '18315_E1',\n",
       " '18315_E11',\n",
       " '18315_E3',\n",
       " '18315_E5',\n",
       " '18315_E7',\n",
       " '18315_E8',\n",
       " '18315_E9',\n",
       " '18316_F12',\n",
       " '18316_F4',\n",
       " '19912_G5',\n",
       " '19915_B5',\n",
       " '19916_C1',\n",
       " '19917_D8',\n",
       " '20044_A7',\n",
       " '20044_A8',\n",
       " '20045_B7',\n",
       " '20045_B8',\n",
       " '20046_C7',\n",
       " '20046_C8',\n",
       " '20047_D7',\n",
       " '20047_D8',\n",
       " '20048_E7',\n",
       " '20048_E8',\n",
       " '20090_C1',\n",
       " '20090_C10',\n",
       " '20090_C11',\n",
       " '20090_C12',\n",
       " '20090_C2',\n",
       " '20090_C3',\n",
       " '20090_C4',\n",
       " '20090_C5',\n",
       " '20090_C6',\n",
       " '20090_C7',\n",
       " '20090_C8',\n",
       " '20090_C9']"
      ]
     },
     "execution_count": 7,
     "metadata": {},
     "output_type": "execute_result"
    }
   ],
   "source": [
    "additional = sorted(set(cells).difference(clusters['cell_ID']))\n",
    "additional"
   ]
  },
  {
   "cell_type": "code",
   "execution_count": 9,
   "metadata": {},
   "outputs": [],
   "source": [
    "coverage = load_experiments(['single-cell-single-model-min-1000-protein/cluster-experiment.tsv'])"
   ]
  },
  {
   "cell_type": "code",
   "execution_count": 12,
   "metadata": {},
   "outputs": [
    {
     "name": "stdout",
     "output_type": "stream",
     "text": [
      "920\n"
     ]
    }
   ],
   "source": [
    "coverage_cells = []\n",
    "for c in coverage['replicates']:\n",
    "    coverage_cells.extend(c)\n",
    "print(len(coverage_cells))"
   ]
  },
  {
   "cell_type": "code",
   "execution_count": 13,
   "metadata": {},
   "outputs": [
    {
     "data": {
      "text/plain": [
       "set()"
      ]
     },
     "execution_count": 13,
     "metadata": {},
     "output_type": "execute_result"
    }
   ],
   "source": [
    "set(clusters['cell_ID']).difference(coverage_cells)"
   ]
  },
  {
   "cell_type": "code",
   "execution_count": 14,
   "metadata": {},
   "outputs": [
    {
     "data": {
      "text/plain": [
       "[]"
      ]
     },
     "execution_count": 14,
     "metadata": {},
     "output_type": "execute_result"
    }
   ],
   "source": [
    "sorted(set(coverage_cells).difference(clusters['cell_ID']))"
   ]
  },
  {
   "cell_type": "code",
   "execution_count": null,
   "metadata": {},
   "outputs": [],
   "source": []
  }
 ],
 "metadata": {
  "kernelspec": {
   "display_name": "Python 3",
   "language": "python",
   "name": "python3"
  },
  "language_info": {
   "codemirror_mode": {
    "name": "ipython",
    "version": 3
   },
   "file_extension": ".py",
   "mimetype": "text/x-python",
   "name": "python",
   "nbconvert_exporter": "python",
   "pygments_lexer": "ipython3",
   "version": "3.7.3"
  }
 },
 "nbformat": 4,
 "nbformat_minor": 2
}
