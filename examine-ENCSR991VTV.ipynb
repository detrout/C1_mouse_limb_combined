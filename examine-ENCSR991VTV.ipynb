{
 "cells": [
  {
   "cell_type": "markdown",
   "metadata": {},
   "source": [
    "# Introduction"
   ]
  },
  {
   "cell_type": "markdown",
   "metadata": {},
   "source": [
    "Idan noticed there's a bunch of files still connected to this older experiment and he doesn't know why.\n",
    "\n",
    "Looks like it was because I had replaced some of the 100bp fastqs with 50bps"
   ]
  },
  {
   "cell_type": "code",
   "execution_count": 1,
   "metadata": {},
   "outputs": [],
   "source": [
    "import pandas\n",
    "import os\n",
    "import sys"
   ]
  },
  {
   "cell_type": "code",
   "execution_count": 2,
   "metadata": {},
   "outputs": [],
   "source": [
    "HTSW=os.path.expanduser('~/proj/htsworkflow')\n",
    "if HTSW not in sys.path:\n",
    "    sys.path.append(HTSW)\n",
    "    \n",
    "from htsworkflow.submission import encoded"
   ]
  },
  {
   "cell_type": "code",
   "execution_count": 4,
   "metadata": {},
   "outputs": [],
   "source": [
    "server = encoded.ENCODED('www.encodeproject.org')\n",
    "server.load_netrc()"
   ]
  },
  {
   "cell_type": "code",
   "execution_count": 5,
   "metadata": {},
   "outputs": [],
   "source": [
    "exp = server.get_json('ENCSR991VTV')"
   ]
  },
  {
   "cell_type": "code",
   "execution_count": 6,
   "metadata": {},
   "outputs": [
    {
     "data": {
      "text/plain": [
       "62"
      ]
     },
     "execution_count": 6,
     "metadata": {},
     "output_type": "execute_result"
    }
   ],
   "source": [
    "len(exp['files'])"
   ]
  },
  {
   "cell_type": "code",
   "execution_count": 9,
   "metadata": {},
   "outputs": [
    {
     "name": "stdout",
     "output_type": "stream",
     "text": [
      "ENCFF983DXI 18087_F2/18087_F2_CGTACTAG-ACTGCATA_L001_R1_001.fastq.gz 100\n",
      "ENCFF290VMJ 18087_F4/18087_F4_TCCTGAGC-ACTGCATA_L001_R1_001.fastq.gz 100\n",
      "ENCFF745STS 18087_F7/18087_F7_CTCTCTAC-ACTGCATA_L001_R1_001.fastq.gz 100\n",
      "ENCFF611DMR 18088_G1/18088_G1_TAAGGCGA-AAGGAGTA_L001_R1_001.fastq.gz 100\n",
      "ENCFF120RLU 18087_F3/18087_F3_AGGCAGAA-ACTGCATA_L001_R1_001.fastq.gz 100\n",
      "ENCFF786UYI 18087_F11/18087_F11_AAGAGGCA-ACTGCATA_L002_R1_001.fastq.gz 100\n",
      "ENCFF297JVR 18088_G10/18088_G10_CGAGGCTG-AAGGAGTA_L001_R1_001.fastq.gz 100\n",
      "ENCFF724GKX 18089_H2/18089_H2_CGTACTAG-CTAAGCCT_L002_R1_001.fastq.gz 100\n",
      "ENCFF035MEV 18089_H6/18089_H6_TAGGCATG-CTAAGCCT_L002_R1_001.fastq.gz 100\n",
      "ENCFF754ITW 18089_H8/18089_H8_CAGAGAGG-CTAAGCCT_L002_R1_001.fastq.gz 100\n",
      "ENCFF914VBU 18087_F1/18087_F1_TAAGGCGA-ACTGCATA_L001_R1_001.fastq.gz 100\n",
      "ENCFF125CNL 18087_F3/18087_F3_AGGCAGAA-ACTGCATA_L002_R1_001.fastq.gz 100\n",
      "ENCFF395HNK 18087_F7/18087_F7_CTCTCTAC-ACTGCATA_L002_R1_001.fastq.gz 100\n",
      "ENCFF341TCR 18087_F10/18087_F10_CGAGGCTG-ACTGCATA_L001_R1_001.fastq.gz 100\n",
      "ENCFF207VNX 18088_G2/18088_G2_CGTACTAG-AAGGAGTA_L001_R1_001.fastq.gz 100\n",
      "ENCFF391BDY 18088_G3/18088_G3_AGGCAGAA-AAGGAGTA_L002_R1_001.fastq.gz 100\n",
      "ENCFF585VKP 18088_G5/18088_G5_GGACTCCT-AAGGAGTA_L002_R1_001.fastq.gz 100\n",
      "ENCFF517QYP 18088_G12/18088_G12_GTAGAGGA-AAGGAGTA_L001_R1_001.fastq.gz 100\n",
      "ENCFF744FRG 18089_H1/18089_H1_TAAGGCGA-CTAAGCCT_L002_R1_001.fastq.gz 100\n",
      "ENCFF890QGG 18089_H2/18089_H2_CGTACTAG-CTAAGCCT_L001_R1_001.fastq.gz 100\n",
      "ENCFF067FCC 18089_H4/18089_H4_TCCTGAGC-CTAAGCCT_L002_R1_001.fastq.gz 100\n",
      "ENCFF298EFI 18089_H9/18089_H9_GCTACGCT-CTAAGCCT_L002_R1_001.fastq.gz 100\n",
      "ENCFF615YHB 18087_F2/18087_F2_CGTACTAG-ACTGCATA_L002_R1_001.fastq.gz 100\n",
      "ENCFF703JIA 18087_F11/18087_F11_AAGAGGCA-ACTGCATA_L001_R1_001.fastq.gz 100\n",
      "ENCFF785HDH 18087_F12/18087_F12_GTAGAGGA-ACTGCATA_L001_R1_001.fastq.gz 100\n",
      "ENCFF630SIX 18087_F12/18087_F12_GTAGAGGA-ACTGCATA_L002_R1_001.fastq.gz 100\n",
      "ENCFF378VXE 18088_G3/18088_G3_AGGCAGAA-AAGGAGTA_L001_R1_001.fastq.gz 100\n",
      "ENCFF039CTZ 18088_G5/18088_G5_GGACTCCT-AAGGAGTA_L001_R1_001.fastq.gz 100\n",
      "ENCFF822ASA 18088_G7/18088_G7_CTCTCTAC-AAGGAGTA_L001_R1_001.fastq.gz 100\n",
      "ENCFF421CSI 18088_G8/18088_G8_CAGAGAGG-AAGGAGTA_L001_R1_001.fastq.gz 100\n",
      "ENCFF046GAP 18089_H1/18089_H1_TAAGGCGA-CTAAGCCT_L001_R1_001.fastq.gz 100\n",
      "ENCFF961IDI 18087_F1/18087_F1_TAAGGCGA-ACTGCATA_L002_R1_001.fastq.gz 100\n",
      "ENCFF054UNX 18087_F4/18087_F4_TCCTGAGC-ACTGCATA_L002_R1_001.fastq.gz 100\n",
      "ENCFF504GKO 18087_F5/18087_F5_GGACTCCT-ACTGCATA_L001_R1_001.fastq.gz 100\n",
      "ENCFF365OOZ 18088_G2/18088_G2_CGTACTAG-AAGGAGTA_L002_R1_001.fastq.gz 100\n",
      "ENCFF335IBQ 18088_G8/18088_G8_CAGAGAGG-AAGGAGTA_L002_R1_001.fastq.gz 100\n",
      "ENCFF468NLL 18088_G9/18088_G9_GCTACGCT-AAGGAGTA_L001_R1_001.fastq.gz 100\n",
      "ENCFF121LEF 18088_G10/18088_G10_CGAGGCTG-AAGGAGTA_L002_R1_001.fastq.gz 100\n",
      "ENCFF459JSD 18088_G11/18088_G11_AAGAGGCA-AAGGAGTA_L002_R1_001.fastq.gz 100\n",
      "ENCFF628ZLG 18089_H6/18089_H6_TAGGCATG-CTAAGCCT_L001_R1_001.fastq.gz 100\n",
      "ENCFF950LTW 18087_F5/18087_F5_GGACTCCT-ACTGCATA_L002_R1_001.fastq.gz 100\n",
      "ENCFF305XHT 18087_F10/18087_F10_CGAGGCTG-ACTGCATA_L002_R1_001.fastq.gz 100\n",
      "ENCFF392WQV 18088_G6/18088_G6_TAGGCATG-AAGGAGTA_L002_R1_001.fastq.gz 100\n",
      "ENCFF608AQD 18088_G7/18088_G7_CTCTCTAC-AAGGAGTA_L002_R1_001.fastq.gz 100\n",
      "ENCFF392UJC 18088_G9/18088_G9_GCTACGCT-AAGGAGTA_L002_R1_001.fastq.gz 100\n",
      "ENCFF535IYP 18089_H3/18089_H3_AGGCAGAA-CTAAGCCT_L001_R1_001.fastq.gz 100\n",
      "ENCFF021JJF 18089_H5/18089_H5_GGACTCCT-CTAAGCCT_L002_R1_001.fastq.gz 100\n",
      "ENCFF225TXW 18089_H5/18089_H5_GGACTCCT-CTAAGCCT_L001_R1_001.fastq.gz 100\n",
      "ENCFF193JPR 18089_H7/18089_H7_CTCTCTAC-CTAAGCCT_L001_R1_001.fastq.gz 100\n",
      "ENCFF590SFE 18089_H11/18089_H11_AAGAGGCA-CTAAGCCT_L002_R1_001.fastq.gz 100\n",
      "ENCFF668BBS 18089_H11/18089_H11_AAGAGGCA-CTAAGCCT_L001_R1_001.fastq.gz 100\n",
      "ENCFF120LLN 18088_G1/18088_G1_TAAGGCGA-AAGGAGTA_L002_R1_001.fastq.gz 100\n",
      "ENCFF611MHH 18088_G6/18088_G6_TAGGCATG-AAGGAGTA_L001_R1_001.fastq.gz 100\n",
      "ENCFF832OTC 18088_G11/18088_G11_AAGAGGCA-AAGGAGTA_L001_R1_001.fastq.gz 100\n",
      "ENCFF655JZK 18088_G12/18088_G12_GTAGAGGA-AAGGAGTA_L002_R1_001.fastq.gz 100\n",
      "ENCFF698TLX 18089_H7/18089_H7_CTCTCTAC-CTAAGCCT_L002_R1_001.fastq.gz 100\n",
      "ENCFF110QYM 18089_H9/18089_H9_GCTACGCT-CTAAGCCT_L001_R1_001.fastq.gz 100\n",
      "ENCFF271DDJ 18089_H3/18089_H3_AGGCAGAA-CTAAGCCT_L002_R1_001.fastq.gz 100\n",
      "ENCFF452XXO 18089_H4/18089_H4_TCCTGAGC-CTAAGCCT_L001_R1_001.fastq.gz 100\n",
      "ENCFF660JAI 18089_H8/18089_H8_CAGAGAGG-CTAAGCCT_L001_R1_001.fastq.gz 100\n",
      "ENCFF848OWH 18089_H10/18089_H10_CGAGGCTG-CTAAGCCT_L001_R1_001.fastq.gz 100\n",
      "ENCFF669KKF 18089_H10/18089_H10_CGAGGCTG-CTAAGCCT_L002_R1_001.fastq.gz 100\n"
     ]
    }
   ],
   "source": [
    "for f in exp['files']:\n",
    "    print(f['accession'], f['submitted_file_name'], f['read_length'])"
   ]
  },
  {
   "cell_type": "code",
   "execution_count": null,
   "metadata": {},
   "outputs": [],
   "source": []
  }
 ],
 "metadata": {
  "kernelspec": {
   "display_name": "Python 3",
   "language": "python",
   "name": "python3"
  },
  "language_info": {
   "codemirror_mode": {
    "name": "ipython",
    "version": 3
   },
   "file_extension": ".py",
   "mimetype": "text/x-python",
   "name": "python",
   "nbconvert_exporter": "python",
   "pygments_lexer": "ipython3",
   "version": "3.7.4"
  }
 },
 "nbformat": 4,
 "nbformat_minor": 2
}
