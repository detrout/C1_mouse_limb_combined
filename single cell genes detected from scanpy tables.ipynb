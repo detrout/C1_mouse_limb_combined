{
 "cells": [
  {
   "cell_type": "markdown",
   "metadata": {},
   "source": [
    "# Introduction"
   ]
  },
  {
   "cell_type": "markdown",
   "metadata": {},
   "source": [
    "To make extended figure 1 more closely match the tables that Peng used I should use his matricies."
   ]
  },
  {
   "cell_type": "code",
   "execution_count": 1,
   "metadata": {},
   "outputs": [],
   "source": [
    "import scanpy as scanpy\n",
    "import numpy\n",
    "import pandas\n",
    "import seaborn\n",
    "import os\n",
    "import sys\n",
    "from matplotlib import pyplot"
   ]
  },
  {
   "cell_type": "code",
   "execution_count": 2,
   "metadata": {},
   "outputs": [],
   "source": [
    "LONG_RNA_SEQ_DIR = os.path.expanduser('~diane/proj/long-rna-seq-condor')\n",
    "if LONG_RNA_SEQ_DIR not in sys.path:\n",
    "    sys.path.append(LONG_RNA_SEQ_DIR)"
   ]
  },
  {
   "cell_type": "code",
   "execution_count": 3,
   "metadata": {},
   "outputs": [],
   "source": [
    "from woldrnaseq.models import load_gtf_cache\n",
    "from woldrnaseq.gtfcache import protein_coding_gene_ids"
   ]
  },
  {
   "cell_type": "code",
   "execution_count": 4,
   "metadata": {},
   "outputs": [],
   "source": [
    "%matplotlib inline"
   ]
  },
  {
   "cell_type": "code",
   "execution_count": 5,
   "metadata": {},
   "outputs": [],
   "source": [
    "annotation = load_gtf_cache(os.path.expanduser('~diane/proj/genome/mm10-M4-male/mm10-M4-male.h5'))\n",
    "protein_coding = protein_coding_gene_ids(annotation)"
   ]
  },
  {
   "cell_type": "code",
   "execution_count": 6,
   "metadata": {},
   "outputs": [
    {
     "name": "stdout",
     "output_type": "stream",
     "text": [
      "\u001b[0m\u001b[01;36m190714MouseLimb10Xraw.h5ad\u001b[0m@  200120_C1.h5ad  cellbrowser_cluster.png\r\n",
      "200120_10x.h5ad              200315_C1.h5ad  \u001b[01;34mmouse\u001b[0m/\r\n"
     ]
    }
   ],
   "source": [
    "ls monocle"
   ]
  },
  {
   "cell_type": "code",
   "execution_count": 7,
   "metadata": {},
   "outputs": [],
   "source": [
    "colors = {\n",
    "    '10x': '#377eb8',\n",
    "    'C1': '#f3b125',\n",
    "}\n",
    "xlim = (0, 10000)"
   ]
  },
  {
   "cell_type": "markdown",
   "metadata": {},
   "source": [
    "# Load approved 10x cell list"
   ]
  },
  {
   "cell_type": "code",
   "execution_count": 45,
   "metadata": {},
   "outputs": [
    {
     "name": "stdout",
     "output_type": "stream",
     "text": [
      "(90637, 1)\n"
     ]
    },
    {
     "data": {
      "text/html": [
       "<div>\n",
       "<style scoped>\n",
       "    .dataframe tbody tr th:only-of-type {\n",
       "        vertical-align: middle;\n",
       "    }\n",
       "\n",
       "    .dataframe tbody tr th {\n",
       "        vertical-align: top;\n",
       "    }\n",
       "\n",
       "    .dataframe thead th {\n",
       "        text-align: right;\n",
       "    }\n",
       "</style>\n",
       "<table border=\"1\" class=\"dataframe\">\n",
       "  <thead>\n",
       "    <tr style=\"text-align: right;\">\n",
       "      <th></th>\n",
       "      <th>orig.ident</th>\n",
       "    </tr>\n",
       "  </thead>\n",
       "  <tbody>\n",
       "    <tr>\n",
       "      <th>limb12_13_0AAACCTGAGATCGATA_1</th>\n",
       "      <td>3</td>\n",
       "    </tr>\n",
       "    <tr>\n",
       "      <th>limb12_13_0AAACCTGAGATGAGAG_1</th>\n",
       "      <td>2</td>\n",
       "    </tr>\n",
       "    <tr>\n",
       "      <th>limb12_13_0AAACCTGAGCAGATCG_1</th>\n",
       "      <td>5</td>\n",
       "    </tr>\n",
       "    <tr>\n",
       "      <th>limb12_13_0AAACCTGAGCGATCCC_1</th>\n",
       "      <td>6</td>\n",
       "    </tr>\n",
       "    <tr>\n",
       "      <th>limb12_13_0AAACCTGAGTGTACCT_1</th>\n",
       "      <td>1</td>\n",
       "    </tr>\n",
       "  </tbody>\n",
       "</table>\n",
       "</div>"
      ],
      "text/plain": [
       "                               orig.ident\n",
       "limb12_13_0AAACCTGAGATCGATA_1           3\n",
       "limb12_13_0AAACCTGAGATGAGAG_1           2\n",
       "limb12_13_0AAACCTGAGCAGATCG_1           5\n",
       "limb12_13_0AAACCTGAGCGATCCC_1           6\n",
       "limb12_13_0AAACCTGAGTGTACCT_1           1"
      ]
     },
     "execution_count": 45,
     "metadata": {},
     "output_type": "execute_result"
    }
   ],
   "source": [
    "barcodes = pandas.read_csv('monocle/mouse/barcodes-to-cluster.csv', header=0, index_col=0)\n",
    "print(barcodes.shape)\n",
    "barcodes.head()"
   ]
  },
  {
   "cell_type": "markdown",
   "metadata": {},
   "source": [
    "# 10x scanpy data"
   ]
  },
  {
   "cell_type": "code",
   "execution_count": 8,
   "metadata": {},
   "outputs": [],
   "source": [
    "tenx_scanpy_data = scanpy.read(os.path.expanduser('monocle/200120_10x.h5ad'))"
   ]
  },
  {
   "cell_type": "markdown",
   "metadata": {},
   "source": [
    "## figure out format of Peng's barcode strings"
   ]
  },
  {
   "cell_type": "code",
   "execution_count": 42,
   "metadata": {},
   "outputs": [],
   "source": [
    "x = 'limb12_13_0AAACCTGAGATCGATA_1'"
   ]
  },
  {
   "cell_type": "code",
   "execution_count": 43,
   "metadata": {},
   "outputs": [
    {
     "data": {
      "text/plain": [
       "9"
      ]
     },
     "execution_count": 43,
     "metadata": {},
     "output_type": "execute_result"
    }
   ],
   "source": [
    "x.find(\"_\", 7)"
   ]
  },
  {
   "cell_type": "code",
   "execution_count": 41,
   "metadata": {},
   "outputs": [
    {
     "data": {
      "text/plain": [
       "{'limb12_13_0',\n",
       " 'limb13_14_0',\n",
       " 'limb1_13_5',\n",
       " 'limb3_11_0',\n",
       " 'limb4_12_0',\n",
       " 'limb5_13_0',\n",
       " 'limb6_15_0',\n",
       " 'limb7_10_5',\n",
       " 'limb8_15_0'}"
      ]
     },
     "execution_count": 41,
     "metadata": {},
     "output_type": "execute_result"
    }
   ],
   "source": [
    "set([x[:x.find('_', 7)+2] for x in tenx_scanpy_data.obs_names])"
   ]
  },
  {
   "cell_type": "markdown",
   "metadata": {},
   "source": [
    "## Back to analyzing 10x data"
   ]
  },
  {
   "cell_type": "code",
   "execution_count": 9,
   "metadata": {},
   "outputs": [
    {
     "data": {
      "text/plain": [
       "(90637, 43346)"
      ]
     },
     "execution_count": 9,
     "metadata": {},
     "output_type": "execute_result"
    }
   ],
   "source": [
    "tenx_scanpy_data.shape"
   ]
  },
  {
   "cell_type": "code",
   "execution_count": 10,
   "metadata": {},
   "outputs": [
    {
     "data": {
      "text/plain": [
       "(90637,)"
      ]
     },
     "execution_count": 10,
     "metadata": {},
     "output_type": "execute_result"
    }
   ],
   "source": [
    "tenx_scanpy_expression = numpy.sum(tenx_scanpy_data.X >= 1, axis=1)\n",
    "tenx_scanpy_expression.shape"
   ]
  },
  {
   "cell_type": "code",
   "execution_count": 11,
   "metadata": {},
   "outputs": [
    {
     "data": {
      "image/png": "[encoded data removed]",
      "text/plain": [
       "<Figure size 360x360 with 1 Axes>"
      ]
     },
     "metadata": {
      "needs_background": "light"
     },
     "output_type": "display_data"
    }
   ],
   "source": [
    "f = pyplot.figure(figsize=(5,5))\n",
    "ax = f.add_subplot(1,1,1)\n",
    "_ = ax.hist(tenx_scanpy_expression, bins=100, color=colors['10x'], range=xlim)\n",
    "_ = ax.set_ylim(0, 5000)"
   ]
  },
  {
   "cell_type": "markdown",
   "metadata": {},
   "source": [
    "# C1 Scanpy Data"
   ]
  },
  {
   "cell_type": "code",
   "execution_count": 12,
   "metadata": {},
   "outputs": [
    {
     "data": {
      "text/plain": [
       "(920, 28983)"
      ]
     },
     "execution_count": 12,
     "metadata": {},
     "output_type": "execute_result"
    }
   ],
   "source": [
    "c1_scanpy_data = scanpy.read(os.path.expanduser('monocle/200315_C1.h5ad'))\n",
    "c1_scanpy_data.shape"
   ]
  },
  {
   "cell_type": "code",
   "execution_count": 13,
   "metadata": {},
   "outputs": [
    {
     "data": {
      "text/plain": [
       "(920,)"
      ]
     },
     "execution_count": 13,
     "metadata": {},
     "output_type": "execute_result"
    }
   ],
   "source": [
    "c1_scanpy_expression = numpy.sum(c1_scanpy_data.X >= 1, axis=1)\n",
    "c1_scanpy_expression.shape"
   ]
  },
  {
   "cell_type": "code",
   "execution_count": 14,
   "metadata": {},
   "outputs": [
    {
     "data": {
      "image/png": "[encoded data removed]",
      "text/plain": [
       "<Figure size 360x360 with 1 Axes>"
      ]
     },
     "metadata": {
      "needs_background": "light"
     },
     "output_type": "display_data"
    }
   ],
   "source": [
    "f = pyplot.figure(figsize=(5,5))\n",
    "ax = f.add_subplot(1,1,1)\n",
    "_ = ax.hist(c1_scanpy_expression, bins=100, color=colors['C1'], range=xlim)\n",
    "#_ = ax.set_ylim(0, 50)"
   ]
  },
  {
   "cell_type": "markdown",
   "metadata": {},
   "source": [
    "# C1 matrix"
   ]
  },
  {
   "cell_type": "code",
   "execution_count": 15,
   "metadata": {},
   "outputs": [],
   "source": [
    "clusters = pandas.read_excel(\n",
    "    os.path.expanduser('~diane/proj/C1_mouse_limb_combined/C1_single_cells_library_number_cell_type_annotation_Jan13_2019.ods'),\n",
    "    'Sheet1',\n",
    "    engine='odf',\n",
    ")\n",
    "clusters = clusters[['cell_ID', 'cell type cluster 920']]"
   ]
  },
  {
   "cell_type": "code",
   "execution_count": 16,
   "metadata": {},
   "outputs": [],
   "source": [
    "genes_asof17 = pandas.read_csv(\n",
    "    os.path.expanduser('~diane/proj/C1_mouse_limb_combined/C1_mouse_combined_asof_run17.tsv'),\n",
    "    dtype={0: str},\n",
    "    index_col=0,\n",
    "    sep='\\t')"
   ]
  },
  {
   "cell_type": "code",
   "execution_count": 17,
   "metadata": {},
   "outputs": [
    {
     "data": {
      "text/plain": [
       "(22032, 920)"
      ]
     },
     "execution_count": 17,
     "metadata": {},
     "output_type": "execute_result"
    }
   ],
   "source": [
    "c1_matrix = genes_asof17.loc[protein_coding][clusters.cell_ID]\n",
    "c1_matrix.shape"
   ]
  },
  {
   "cell_type": "code",
   "execution_count": 18,
   "metadata": {},
   "outputs": [
    {
     "data": {
      "text/plain": [
       "(920,)"
      ]
     },
     "execution_count": 18,
     "metadata": {},
     "output_type": "execute_result"
    }
   ],
   "source": [
    "c1_matrix_expression = c1_matrix[c1_matrix >= 1].count()\n",
    "c1_matrix_expression.shape"
   ]
  },
  {
   "cell_type": "code",
   "execution_count": 19,
   "metadata": {},
   "outputs": [
    {
     "data": {
      "image/png": "[encoded data removed]",
      "text/plain": [
       "<Figure size 360x360 with 1 Axes>"
      ]
     },
     "metadata": {
      "needs_background": "light"
     },
     "output_type": "display_data"
    }
   ],
   "source": [
    "f = pyplot.figure(figsize=(5,5))\n",
    "ax = f.add_subplot(1,1,1)\n",
    "_ = ax.hist(c1_matrix_expression, bins=100, color=colors['C1'], range=xlim)\n",
    "#_ = ax.set_ylim(0, 50)"
   ]
  },
  {
   "cell_type": "markdown",
   "metadata": {},
   "source": [
    "# Compare gene filters"
   ]
  },
  {
   "cell_type": "markdown",
   "metadata": {},
   "source": [
    "whats different between my and pengs annotation?"
   ]
  },
  {
   "cell_type": "code",
   "execution_count": 26,
   "metadata": {},
   "outputs": [
    {
     "data": {
      "text/plain": [
       "Index(['RP23-271O17.1', 'Gm26206', 'Xkr4', 'RP23-317L18.1', 'RP23-317L18.4',\n",
       "       'RP23-317L18.3', 'RP23-115I1.6', 'Gm1992', 'RP23-115I1.5',\n",
       "       'RP23-115I1.2',\n",
       "       ...\n",
       "       'mt-Nd4', 'mt-Th', 'mt-Ts2', 'mt-Tl2', 'mt-Nd5', 'mt-Nd6', 'mt-Te',\n",
       "       'mt-Cytb', 'mt-Tt', 'mt-Tp'],\n",
       "      dtype='object', name='index', length=43346)"
      ]
     },
     "execution_count": 26,
     "metadata": {},
     "output_type": "execute_result"
    }
   ],
   "source": [
    "tenx_scanpy_data.var_names"
   ]
  },
  {
   "cell_type": "markdown",
   "metadata": {},
   "source": [
    "# Make combined matrix"
   ]
  },
  {
   "cell_type": "code",
   "execution_count": 22,
   "metadata": {},
   "outputs": [
    {
     "data": {
      "text/plain": [
       "(91557, 2)"
      ]
     },
     "execution_count": 22,
     "metadata": {},
     "output_type": "execute_result"
    }
   ],
   "source": [
    "combined = pandas.concat([\n",
    "    pandas.DataFrame({\n",
    "        'experiment type': ['10x'] * tenx_scanpy_expression.shape[0],\n",
    "        'counts': tenx_scanpy_expression\n",
    "    }),\n",
    "    pandas.DataFrame({\n",
    "        'experiment type': ['C1'] * c1_scanpy_expression.shape[0],\n",
    "        'counts': c1_scanpy_expression\n",
    "    }),\n",
    "])\n",
    "combined.shape"
   ]
  },
  {
   "cell_type": "code",
   "execution_count": 23,
   "metadata": {},
   "outputs": [
    {
     "data": {
      "text/html": [
       "<div>\n",
       "<style scoped>\n",
       "    .dataframe tbody tr th:only-of-type {\n",
       "        vertical-align: middle;\n",
       "    }\n",
       "\n",
       "    .dataframe tbody tr th {\n",
       "        vertical-align: top;\n",
       "    }\n",
       "\n",
       "    .dataframe thead th {\n",
       "        text-align: right;\n",
       "    }\n",
       "</style>\n",
       "<table border=\"1\" class=\"dataframe\">\n",
       "  <thead>\n",
       "    <tr style=\"text-align: right;\">\n",
       "      <th></th>\n",
       "      <th>experiment type</th>\n",
       "      <th>counts</th>\n",
       "    </tr>\n",
       "  </thead>\n",
       "  <tbody>\n",
       "    <tr>\n",
       "      <th>0</th>\n",
       "      <td>10x</td>\n",
       "      <td>3406</td>\n",
       "    </tr>\n",
       "    <tr>\n",
       "      <th>1</th>\n",
       "      <td>10x</td>\n",
       "      <td>2322</td>\n",
       "    </tr>\n",
       "    <tr>\n",
       "      <th>2</th>\n",
       "      <td>10x</td>\n",
       "      <td>2166</td>\n",
       "    </tr>\n",
       "    <tr>\n",
       "      <th>3</th>\n",
       "      <td>10x</td>\n",
       "      <td>3777</td>\n",
       "    </tr>\n",
       "    <tr>\n",
       "      <th>4</th>\n",
       "      <td>10x</td>\n",
       "      <td>2519</td>\n",
       "    </tr>\n",
       "    <tr>\n",
       "      <th>...</th>\n",
       "      <td>...</td>\n",
       "      <td>...</td>\n",
       "    </tr>\n",
       "    <tr>\n",
       "      <th>915</th>\n",
       "      <td>C1</td>\n",
       "      <td>4762</td>\n",
       "    </tr>\n",
       "    <tr>\n",
       "      <th>916</th>\n",
       "      <td>C1</td>\n",
       "      <td>5043</td>\n",
       "    </tr>\n",
       "    <tr>\n",
       "      <th>917</th>\n",
       "      <td>C1</td>\n",
       "      <td>4583</td>\n",
       "    </tr>\n",
       "    <tr>\n",
       "      <th>918</th>\n",
       "      <td>C1</td>\n",
       "      <td>4857</td>\n",
       "    </tr>\n",
       "    <tr>\n",
       "      <th>919</th>\n",
       "      <td>C1</td>\n",
       "      <td>4766</td>\n",
       "    </tr>\n",
       "  </tbody>\n",
       "</table>\n",
       "<p>91557 rows × 2 columns</p>\n",
       "</div>"
      ],
      "text/plain": [
       "    experiment type  counts\n",
       "0               10x    3406\n",
       "1               10x    2322\n",
       "2               10x    2166\n",
       "3               10x    3777\n",
       "4               10x    2519\n",
       "..              ...     ...\n",
       "915              C1    4762\n",
       "916              C1    5043\n",
       "917              C1    4583\n",
       "918              C1    4857\n",
       "919              C1    4766\n",
       "\n",
       "[91557 rows x 2 columns]"
      ]
     },
     "execution_count": 23,
     "metadata": {},
     "output_type": "execute_result"
    }
   ],
   "source": [
    "combined"
   ]
  },
  {
   "cell_type": "code",
   "execution_count": 24,
   "metadata": {},
   "outputs": [
    {
     "data": {
      "image/png": "[encoded data removed]",
      "text/plain": [
       "<Figure size 432x288 with 1 Axes>"
      ]
     },
     "metadata": {
      "needs_background": "light"
     },
     "output_type": "display_data"
    }
   ],
   "source": [
    "f = pyplot.figure()\n",
    "ax = f.add_subplot(1,1,1)\n",
    "_ = seaborn.boxplot(x='experiment type', y='counts',\n",
    "                    data=combined,\n",
    "                    order=['C1', '10x'],\n",
    "                    palette=colors,\n",
    "                    color='black',\n",
    "                    ax=ax\n",
    ")"
   ]
  },
  {
   "cell_type": "code",
   "execution_count": null,
   "metadata": {},
   "outputs": [],
   "source": [
    "combined.head()"
   ]
  },
  {
   "cell_type": "code",
   "execution_count": null,
   "metadata": {},
   "outputs": [],
   "source": [
    "combined.to_csv('genes_detected_technology_scanpy.csv')"
   ]
  }
 ],
 "metadata": {
  "kernelspec": {
   "display_name": "Python 3",
   "language": "python",
   "name": "python3"
  },
  "language_info": {
   "codemirror_mode": {
    "name": "ipython",
    "version": 3
   },
   "file_extension": ".py",
   "mimetype": "text/x-python",
   "name": "python",
   "nbconvert_exporter": "python",
   "pygments_lexer": "ipython3",
   "version": "3.8.2"
  }
 },
 "nbformat": 4,
 "nbformat_minor": 4
}
