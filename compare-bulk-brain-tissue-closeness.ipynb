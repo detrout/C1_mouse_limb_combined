{
 "cells": [
  {
   "cell_type": "markdown",
   "metadata": {},
   "source": [
    "# Introduction"
   ]
  },
  {
   "cell_type": "markdown",
   "metadata": {},
   "source": [
    "So just how close are peng's files to what's at the DCC?"
   ]
  },
  {
   "cell_type": "code",
   "execution_count": 86,
   "metadata": {},
   "outputs": [],
   "source": [
    "import pandas\n",
    "import os\n",
    "import sys\n",
    "import numpy\n",
    "import random\n",
    "import itertools"
   ]
  },
  {
   "cell_type": "code",
   "execution_count": 48,
   "metadata": {},
   "outputs": [],
   "source": [
    "HTSW = os.path.expanduser('~/proj/htsworkflow')\n",
    "if HTSW not in sys.path:\n",
    "    sys.path.append(HTSW)\n",
    "from htsworkflow.submission.encoded import ENCODED"
   ]
  },
  {
   "cell_type": "code",
   "execution_count": 50,
   "metadata": {},
   "outputs": [],
   "source": [
    "server = ENCODED('test.encodedcc.org')\n",
    "server.load_netrc()"
   ]
  },
  {
   "cell_type": "code",
   "execution_count": 63,
   "metadata": {},
   "outputs": [],
   "source": [
    "def sum_square_error(left, right):\n",
    "    return sum((left-right)**2)"
   ]
  },
  {
   "cell_type": "code",
   "execution_count": 2,
   "metadata": {},
   "outputs": [],
   "source": [
    "peng_root = '/woldlab/loxcyc/home/phe/160922BrianWilliamsRNAseq/161204FourthRun'\n",
    "\n",
    "peng_fb_1 = os.path.join(peng_root, 'FB_1_E14_5-mm10-M4-male_anno_rsem.genes.results')\n",
    "peng_fb_2 = os.path.join(peng_root, 'FB_2_E14_5-mm10-M4-male_anno_rsem.genes.results')\n",
    "peng_hb_1 = os.path.join(peng_root, 'HB_1_E14_5-mm10-M4-male_anno_rsem.genes.results')\n",
    "peng_hb_2 = os.path.join(peng_root, 'HB_2_E14_5-mm10-M4-male_anno_rsem.genes.results')\n",
    "peng_mb_1 = os.path.join(peng_root, 'MB_1_E14_5-mm10-M4-male_anno_rsem.genes.results')\n",
    "peng_mb_2 = os.path.join(peng_root, 'MB_2_E14_5-mm10-M4-male_anno_rsem.genes.results')\n"
   ]
  },
  {
   "cell_type": "code",
   "execution_count": 3,
   "metadata": {},
   "outputs": [],
   "source": [
    "diane_root = os.path.expanduser('~/proj/mouse-epigenome2/embryonic/14.5/gene quantifications/')\n",
    "\n",
    "diane_fb_1 = os.path.join(\n",
    "    diane_root,\n",
    "    'PolyA RNA-Seq from oligo-dT primed Total RNA on embryonic 14.5 day mouse forebrain',\n",
    "    'ENCFF192XRT.tsv'\n",
    ")\n",
    "diane_fb_2 = os.path.join(\n",
    "    diane_root,\n",
    "    'PolyA RNA-Seq from oligo-dT primed Total RNA on embryonic 14.5 day mouse forebrain',\n",
    "    'ENCFF809YXL.tsv'\n",
    ")"
   ]
  },
  {
   "cell_type": "code",
   "execution_count": 4,
   "metadata": {},
   "outputs": [],
   "source": [
    "\n",
    "right = pandas.read_csv(peng_fb_2, sep='\\t', index_col=0)"
   ]
  },
  {
   "cell_type": "code",
   "execution_count": 5,
   "metadata": {},
   "outputs": [],
   "source": [
    "def compare_sample(left):\n",
    "    for i, a in enumerate([peng_fb_1, peng_fb_2, peng_hb_1, peng_hb_1, peng_hb_2, peng_mb_1, peng_mb_2]):\n",
    "        right = pandas.read_csv(a, sep='\\t', index_col=0)\n",
    "        print(\"{} {:,}\".format(i, sum((left['FPKM'] - right['FPKM'])**2)))\n",
    "                      "
   ]
  },
  {
   "cell_type": "code",
   "execution_count": 6,
   "metadata": {},
   "outputs": [
    {
     "name": "stdout",
     "output_type": "stream",
     "text": [
      "0 636,557,812.9531969\n",
      "1 888,505,758.4678006\n",
      "2 761,518,345.3222989\n",
      "3 761,518,345.3222989\n",
      "4 645,692,432.7442954\n",
      "5 501,613,763.44019777\n",
      "6 541,595,789.0818961\n"
     ]
    }
   ],
   "source": [
    "left = pandas.read_csv(diane_fb_1, sep='\\t', index_col=0)\n",
    "compare_sample(left)"
   ]
  },
  {
   "cell_type": "code",
   "execution_count": 7,
   "metadata": {},
   "outputs": [
    {
     "name": "stdout",
     "output_type": "stream",
     "text": [
      "0 658,954,288.2110978\n",
      "1 936,760,783.8657001\n",
      "2 772,159,240.7116046\n",
      "3 772,159,240.7116046\n",
      "4 667,102,963.4612011\n",
      "5 548,433,195.5440974\n",
      "6 580,169,910.4707956\n"
     ]
    }
   ],
   "source": [
    "left = pandas.read_csv(diane_fb_2, sep='\\t', index_col=0)\n",
    "compare_sample(left)"
   ]
  },
  {
   "cell_type": "code",
   "execution_count": 8,
   "metadata": {},
   "outputs": [
    {
     "data": {
      "text/plain": [
       "((69690, 14), (69690, 14))"
      ]
     },
     "execution_count": 8,
     "metadata": {},
     "output_type": "execute_result"
    }
   ],
   "source": [
    "left.shape, right.shape"
   ]
  },
  {
   "cell_type": "code",
   "execution_count": 9,
   "metadata": {},
   "outputs": [
    {
     "data": {
      "text/plain": [
       "Index(['transcript_id(s)', 'length', 'effective_length', 'expected_count',\n",
       "       'TPM', 'FPKM', 'posterior_mean_count',\n",
       "       'posterior_standard_deviation_of_count', 'pme_TPM', 'pme_FPKM',\n",
       "       'TPM_ci_lower_bound', 'TPM_ci_upper_bound', 'FPKM_ci_lower_bound',\n",
       "       'FPKM_ci_upper_bound'],\n",
       "      dtype='object')"
      ]
     },
     "execution_count": 9,
     "metadata": {},
     "output_type": "execute_result"
    }
   ],
   "source": [
    "left.columns"
   ]
  },
  {
   "cell_type": "code",
   "execution_count": 10,
   "metadata": {},
   "outputs": [
    {
     "data": {
      "text/plain": [
       "Index(['transcript_id(s)', 'length', 'effective_length', 'expected_count',\n",
       "       'TPM', 'FPKM', 'posterior_mean_count',\n",
       "       'posterior_standard_deviation_of_count', 'pme_TPM', 'pme_FPKM',\n",
       "       'TPM_ci_lower_bound', 'TPM_ci_upper_bound', 'FPKM_ci_lower_bound',\n",
       "       'FPKM_ci_upper_bound'],\n",
       "      dtype='object')"
      ]
     },
     "execution_count": 10,
     "metadata": {},
     "output_type": "execute_result"
    }
   ],
   "source": [
    "right.columns"
   ]
  },
  {
   "cell_type": "code",
   "execution_count": 11,
   "metadata": {},
   "outputs": [
    {
     "name": "stdout",
     "output_type": "stream",
     "text": [
      "0 660,011,014.3739983\n",
      "1 930,975,251.8072013\n",
      "2 773,682,343.4713042\n",
      "3 773,682,343.4713042\n",
      "4 668,581,583.054301\n",
      "5 549,170,055.5835979\n",
      "6 580,970,197.4494964\n"
     ]
    }
   ],
   "source": [
    "left = pandas.read_csv(os.path.expanduser('~/proj/mouse-epigenome2/ENCFF745ZJF.tsv'), sep='\\t', index_col=0)\n",
    "\n",
    "compare_sample(left.drop('gSpikein_phiX174'))"
   ]
  },
  {
   "cell_type": "code",
   "execution_count": 65,
   "metadata": {},
   "outputs": [
    {
     "data": {
      "text/plain": [
       "55999303.45219869"
      ]
     },
     "execution_count": 65,
     "metadata": {},
     "output_type": "execute_result"
    }
   ],
   "source": [
    "left = pandas.read_csv(os.path.expanduser('~/proj/mouse-epigenome2/ENCFF745ZJF.tsv'), sep='\\t', index_col=0)\n",
    "right = pandas.read_csv(diane_fb_1, sep='\\t', index_col=0)\n",
    "sum_square_error(left['FPKM'].drop('gSpikein_phiX174'), right['FPKM'])"
   ]
  },
  {
   "cell_type": "code",
   "execution_count": 13,
   "metadata": {},
   "outputs": [
    {
     "data": {
      "text/plain": [
       "0.0"
      ]
     },
     "execution_count": 13,
     "metadata": {},
     "output_type": "execute_result"
    }
   ],
   "source": [
    "sum((left['FPKM']-left['FPKM'])**2)"
   ]
  },
  {
   "cell_type": "markdown",
   "metadata": {},
   "source": [
    "# Load bulk metadata"
   ]
  },
  {
   "cell_type": "code",
   "execution_count": 17,
   "metadata": {},
   "outputs": [],
   "source": [
    "metadata = pandas.read_csv('bulk_peng/RSEMcounttime.txt', sep='\\t', header=None, usecols=[0,1], names=['header', 'name'])\n",
    "metadata.set_index('header', inplace=True)\n",
    "metadata.head()\n",
    "stage = []\n",
    "tissue = []\n",
    "experiment = []\n",
    "file = []\n",
    "for header, row in metadata.iterrows():\n",
    "    fields = row['name'].split('_')\n",
    "    stage.append(' '.join(fields[0:2]))\n",
    "    tissue.append(' '.join(fields[2:-4]))\n",
    "    experiment.append(fields[-4])\n",
    "    file.append(fields[-1][:-4])\n",
    "metadata['stage'] = stage\n",
    "metadata['tissue'] = tissue\n",
    "metadata['experiment'] = experiment\n",
    "metadata['file'] = file"
   ]
  },
  {
   "cell_type": "markdown",
   "metadata": {},
   "source": [
    "# Spot check bulk matrix"
   ]
  },
  {
   "cell_type": "code",
   "execution_count": 41,
   "metadata": {},
   "outputs": [],
   "source": [
    "def load_gene_table(filename):\n",
    "    return pandas.read_csv(\n",
    "        filename, \n",
    "        sep=' ', \n",
    "        header=None,\n",
    "        dtype={0: str, 1: str},\n",
    "        index_col=0)"
   ]
  },
  {
   "cell_type": "code",
   "execution_count": 42,
   "metadata": {},
   "outputs": [
    {
     "name": "stdout",
     "output_type": "stream",
     "text": [
      "bulk_peng/RSEMTPMtime.gene (69690, 157)\n",
      "bulk_peng/RSEMFPKMtime.gene (69690, 157)\n",
      "bulk_peng/RSEMcounttime.gene (69690, 157)\n"
     ]
    }
   ],
   "source": [
    "for filename in ['bulk_peng/RSEMTPMtime.gene','bulk_peng/RSEMFPKMtime.gene','bulk_peng/RSEMcounttime.gene']:\n",
    "    matrix = load_gene_table(filename)\n",
    "    print(filename, matrix.shape)"
   ]
  },
  {
   "cell_type": "code",
   "execution_count": 31,
   "metadata": {},
   "outputs": [],
   "source": [
    "headers = list(pandas.read_csv('bulk_peng/header.gene', sep='\\t', header=None).values[0])\n",
    "bulk_headers = ['gene_name'] + headers\n",
    "file_headers = ['gene_name'] + [metadata.loc[x, 'file'] for x in headers]"
   ]
  },
  {
   "cell_type": "code",
   "execution_count": 80,
   "metadata": {},
   "outputs": [],
   "source": [
    "bulk_matrix = load_gene_table('bulk_peng/RSEMTPMtime.gene')"
   ]
  },
  {
   "cell_type": "code",
   "execution_count": 44,
   "metadata": {},
   "outputs": [
    {
     "data": {
      "text/plain": [
       "(157, 157, (69690, 157))"
      ]
     },
     "execution_count": 44,
     "metadata": {},
     "output_type": "execute_result"
    }
   ],
   "source": [
    "len(bulk_headers), len(file_headers), bulk_matrix.shape"
   ]
  },
  {
   "cell_type": "code",
   "execution_count": 78,
   "metadata": {},
   "outputs": [],
   "source": [
    "bulk_files = [('bulk_peng/RSEMTPMtime.gene', 'TPM'),\n",
    "              ('bulk_peng/RSEMFPKMtime.gene', 'FPKM'),\n",
    "              ('bulk_peng/RSEMcounttime.gene', 'expected_count')]"
   ]
  },
  {
   "cell_type": "code",
   "execution_count": 79,
   "metadata": {},
   "outputs": [
    {
     "name": "stdout",
     "output_type": "stream",
     "text": [
      "TPM bulk_peng/RSEMTPMtime.gene ENCFF226ILJ 0.0\n",
      "TPM bulk_peng/RSEMTPMtime.gene ENCFF298WHK 0.0\n",
      "TPM bulk_peng/RSEMTPMtime.gene ENCFF319WZT 0.0\n",
      "TPM bulk_peng/RSEMTPMtime.gene ENCFF485CJB 0.0\n",
      "TPM bulk_peng/RSEMTPMtime.gene ENCFF049EIV 0.0\n",
      "TPM bulk_peng/RSEMTPMtime.gene ENCFF861GUP 0.0\n",
      "TPM bulk_peng/RSEMTPMtime.gene ENCFF210MWH 0.0\n",
      "TPM bulk_peng/RSEMTPMtime.gene ENCFF336VTP 0.0\n",
      "TPM bulk_peng/RSEMTPMtime.gene ENCFF413OJO 0.0\n",
      "TPM bulk_peng/RSEMTPMtime.gene ENCFF824DCQ 0.0\n",
      "FPKM bulk_peng/RSEMFPKMtime.gene ENCFF795XBQ 0.0\n",
      "FPKM bulk_peng/RSEMFPKMtime.gene ENCFF052THP 0.0\n",
      "FPKM bulk_peng/RSEMFPKMtime.gene ENCFF184ZAV 0.0\n",
      "FPKM bulk_peng/RSEMFPKMtime.gene ENCFF971KZC 0.0\n",
      "FPKM bulk_peng/RSEMFPKMtime.gene ENCFF672DDJ 0.0\n",
      "FPKM bulk_peng/RSEMFPKMtime.gene ENCFF196WAD 0.0\n",
      "FPKM bulk_peng/RSEMFPKMtime.gene ENCFF049EIV 0.0\n",
      "FPKM bulk_peng/RSEMFPKMtime.gene ENCFF127FPD 0.0\n",
      "FPKM bulk_peng/RSEMFPKMtime.gene ENCFF155GNG 0.0\n",
      "FPKM bulk_peng/RSEMFPKMtime.gene ENCFF114YCL 0.0\n",
      "expected_count bulk_peng/RSEMcounttime.gene ENCFF219PVC 0.0\n",
      "expected_count bulk_peng/RSEMcounttime.gene ENCFF127FPD 0.0\n",
      "expected_count bulk_peng/RSEMcounttime.gene ENCFF516EUX 0.0\n",
      "expected_count bulk_peng/RSEMcounttime.gene ENCFF242GMD 0.0\n",
      "expected_count bulk_peng/RSEMcounttime.gene ENCFF871WCS 0.0\n",
      "expected_count bulk_peng/RSEMcounttime.gene ENCFF369TLJ 0.0\n",
      "expected_count bulk_peng/RSEMcounttime.gene ENCFF677BPV 0.0\n",
      "expected_count bulk_peng/RSEMcounttime.gene ENCFF658LQM 0.0\n",
      "expected_count bulk_peng/RSEMcounttime.gene ENCFF052VJO 0.0\n",
      "expected_count bulk_peng/RSEMcounttime.gene ENCFF590FAC 0.0\n"
     ]
    }
   ],
   "source": [
    "for filename, column_name in bulk_files:\n",
    "    bulk_matrix = load_gene_table(filename)\n",
    "    bulk_matrix.columns = file_headers\n",
    "\n",
    "    columns = [x for x in bulk_matrix.columns if x.startswith('EN')]\n",
    "    numpy.random.shuffle(columns)\n",
    "    for accession in columns[:10]:\n",
    "        obj = server.get_json(accession)\n",
    "        tsv = pandas.read_csv(\n",
    "            server.prepare_url(\n",
    "                obj['href']), sep='\\t', index_col=0, header=0)\n",
    "        error = sum_square_error(\n",
    "            bulk_matrix[accession], \n",
    "            tsv[column_name].drop(('gSpikein_phiX174')))\n",
    "        print(column_name, filename, accession, error)"
   ]
  },
  {
   "cell_type": "code",
   "execution_count": 113,
   "metadata": {},
   "outputs": [],
   "source": [
    "def compare_two_replicates(matrix, accession_left, accession_right, column_name):\n",
    "    obj = server.get_json(accession_left)\n",
    "    tsv = pandas.read_csv(\n",
    "        server.prepare_url(\n",
    "            obj['href']), sep='\\t', index_col=0, header=0)\n",
    "    error = sum_square_error(\n",
    "        bulk_matrix[accession_right], \n",
    "        tsv[column_name].drop(('gSpikein_phiX174')))\n",
    "    print(\"{:4} {} {} {:16,.2f}\".format(column_name, accession_left, accession_right, error))"
   ]
  },
  {
   "cell_type": "code",
   "execution_count": 95,
   "metadata": {},
   "outputs": [],
   "source": [
    "column_name='TPM'\n",
    "bulk_matrix = load_gene_table('bulk_peng/RSEMTPMtime.gene')\n",
    "bulk_matrix.columns = file_headers"
   ]
  },
  {
   "cell_type": "code",
   "execution_count": 114,
   "metadata": {},
   "outputs": [
    {
     "name": "stdout",
     "output_type": "stream",
     "text": [
      "TPM  ENCFF465YOS ENCFF516EUX 2,938,193,339.96\n",
      "TPM  ENCFF385MJV ENCFF923YGS   523,615,065.64\n",
      "TPM  ENCFF672DDJ ENCFF929KWG    26,456,043.48\n",
      "TPM  ENCFF262TXH ENCFF772UWT    13,582,761.33\n",
      "TPM  ENCFF129XUH ENCFF146HIO    14,347,523.32\n",
      "TPM  ENCFF132NQU ENCFF867TKM   308,410,077.18\n"
     ]
    }
   ],
   "source": [
    "paired = zip([file_headers[i] for i in range(1, len(file_headers), 2)],\n",
    "             [file_headers[i] for i in range(2, len(file_headers), 2)])\n",
    "\n",
    "for i, (accession_left, accession_right) in enumerate(paired):\n",
    "    if i > 5:\n",
    "        break\n",
    "    compare_two_replicates(bulk_matrix, accession_left, accession_right, column_name)"
   ]
  },
  {
   "cell_type": "code",
   "execution_count": 117,
   "metadata": {},
   "outputs": [
    {
     "name": "stdout",
     "output_type": "stream",
     "text": [
      "TPM  ENCFF972NMO ENCFF875HIA 6,672,213,305.68\n",
      "TPM  ENCFF867TKM ENCFF967SJG   790,448,134.81\n",
      "TPM  ENCFF413OJO ENCFF390KQM   626,745,221.91\n",
      "TPM  ENCFF706XGJ ENCFF918QNL   930,030,469.16\n",
      "TPM  ENCFF870YWY ENCFF684GSP   621,790,466.35\n"
     ]
    }
   ],
   "source": [
    "for i in range(5):\n",
    "    accession_left = random.choice(file_headers[1:])\n",
    "    accession_right = random.choice(file_headers[1:])\n",
    "    compare_two_replicates(bulk_matrix, accession_left, accession_right, column_name)"
   ]
  },
  {
   "cell_type": "code",
   "execution_count": 123,
   "metadata": {},
   "outputs": [
    {
     "data": {
      "text/plain": [
       "['stomach_e15.5_2', 'liver_p0_2']"
      ]
     },
     "execution_count": 123,
     "metadata": {},
     "output_type": "execute_result"
    }
   ],
   "source": [
    "[bulk_headers[file_headers.index(x)] for x in ['ENCFF972NMO', 'ENCFF875HIA']]"
   ]
  },
  {
   "cell_type": "code",
   "execution_count": 124,
   "metadata": {},
   "outputs": [
    {
     "data": {
      "text/plain": [
       "['bladder_p0_1', 'bladder_p0_2']"
      ]
     },
     "execution_count": 124,
     "metadata": {},
     "output_type": "execute_result"
    }
   ],
   "source": [
    "[bulk_headers[file_headers.index(x)] for x in ['ENCFF385MJV', 'ENCFF923YGS']]"
   ]
  },
  {
   "cell_type": "code",
   "execution_count": 125,
   "metadata": {},
   "outputs": [
    {
     "data": {
      "text/plain": [
       "['stomach_e15.5_2', 'liver_p0_2']"
      ]
     },
     "execution_count": 125,
     "metadata": {},
     "output_type": "execute_result"
    }
   ],
   "source": [
    "[bulk_headers[file_headers.index(x)] for x in ['ENCFF972NMO', 'ENCFF875HIA']]"
   ]
  },
  {
   "cell_type": "code",
   "execution_count": null,
   "metadata": {},
   "outputs": [],
   "source": []
  }
 ],
 "metadata": {
  "kernelspec": {
   "display_name": "Python 3",
   "language": "python",
   "name": "python3"
  },
  "language_info": {
   "codemirror_mode": {
    "name": "ipython",
    "version": 3
   },
   "file_extension": ".py",
   "mimetype": "text/x-python",
   "name": "python",
   "nbconvert_exporter": "python",
   "pygments_lexer": "ipython3",
   "version": "3.7.4"
  }
 },
 "nbformat": 4,
 "nbformat_minor": 2
}
