{
 "cells": [
  {
   "cell_type": "code",
   "execution_count": 1,
   "metadata": {},
   "outputs": [],
   "source": [
    "import pandas\n",
    "import os\n",
    "from c1extra import read_remote_sheet"
   ]
  },
  {
   "cell_type": "code",
   "execution_count": 2,
   "metadata": {},
   "outputs": [],
   "source": [
    "cells_of_interest=[x.split() for x in \"\"\"18270_A3\tcyan\n",
    "18275_F12\tcyan\n",
    "18275_F9\tcyan\n",
    "18274_E5\tcyan\n",
    "18253_C4\tcyan\n",
    "18257_G3\tcyan\n",
    "20035_C8\tcyan\n",
    "18251_A6\tcyan\n",
    "18256_F3\tcyan\n",
    "18254_D9\tcyan\n",
    "18313_C2\tcyan\n",
    "18251_A7\tcyan\n",
    "18271_B4\tcyan\n",
    "18254_D3\tcyan\n",
    "18251_A10\tcyan\n",
    "18251_A1\tcyan\n",
    "18251_A12\tcyan\n",
    "20040_B4\tcyan\n",
    "20043_E3\tcyan\n",
    "18251_A2\tcyan\n",
    "18272_C5\tcyan\n",
    "18272_C10\tcyan\n",
    "18272_C7\tcyan\n",
    "18271_B9\tcyan\n",
    "20038_F12\tcyan\n",
    "20029_D4\tcyan\n",
    "18272_C11\tcyan\n",
    "18256_F11\tcyan\n",
    "20039_A9\tcyan\n",
    "18271_B6\tcyan\n",
    "18253_C8\tcyan\n",
    "18270_A10\tcyan\n",
    "18270_A12\tcyan\n",
    "20046_C5\tcyan\n",
    "20035_C4\tcyan\n",
    "18271_B5\tcyan\n",
    "20033_A3\tcyan\n",
    "20036_D3\tcyan\n",
    "18275_F7\tcyan\n",
    "18264_B4\tcyan\n",
    "18264_B6\tcyan\n",
    "20029_D6\tcyan\n",
    "20030_E1\tcyan\n",
    "18316_F1\tcyan\n",
    "18256_F8\tcyan\n",
    "20042_D5\tcyan\n",
    "20036_D4\tcyan\n",
    "20043_E5\tcyan\n",
    "20038_F2\tcyan\n",
    "20035_C9\tcyan\n",
    "18274_E9\tcyan\n",
    "18271_B10\tcyan\n",
    "18273_D11\tcyan\n",
    "18256_F1\tcyan\n",
    "18252_B10\tcyan\n",
    "20028_C12\tcyan\n",
    "20028_C2\tcyan\n",
    "20034_B3\torange\n",
    "19916_C5\torange\n",
    "18254_D10\torange\n",
    "18088_G8\torange\n",
    "20032_G2\torange\n",
    "19912_G10\tyellow\n",
    "18313_C11\tyellow\n",
    "18312_B12\tyellow\n",
    "20046_C4\tyellow\n",
    "18252_B3\tyellow\n",
    "18316_F2\tyellow\n",
    "18255_E12\tyellow\n",
    "20043_E4\tyellow\n",
    "18255_E3\tyellow\n",
    "18312_B2\tyellow\"\"\".split('\\n')]\n",
    "cells_of_interest = pandas.Series(\n",
    "    [x[1] for x in cells_of_interest],\n",
    "    index=[x[0] for x in cells_of_interest])"
   ]
  },
  {
   "cell_type": "code",
   "execution_count": 3,
   "metadata": {},
   "outputs": [],
   "source": [
    "def is_cell_present(cells_of_interest, path):\n",
    "    for cell in cells_of_interest.index:\n",
    "        if cell in path:\n",
    "            return True\n",
    "    return False"
   ]
  },
  {
   "cell_type": "code",
   "execution_count": 4,
   "metadata": {},
   "outputs": [],
   "source": [
    "with open('merge_bw_all.sh') as instream:\n",
    "    cell_ids = set()\n",
    "    uniq_bw = {}\n",
    "    all_bw = {}\n",
    "    for line in instream:\n",
    "        args = line.rstrip().split(' ')[3:]\n",
    "        cluster = args[0]\n",
    "        for pathname in args[1:]:\n",
    "            path, name = os.path.split(pathname)\n",
    "            cell_id = name[:name.find('mm10')-1]\n",
    "            if cell_id in cells_of_interest:\n",
    "                cell_ids.add(cell_id)\n",
    "                if name.endswith('_all.bw'):\n",
    "                    all_bw.setdefault(cluster, []).append(pathname)\n",
    "                elif name.endswith('_uniq.bw'):\n",
    "                    uniq_bw.setdefault(cluster, []).append(pathname)\n",
    "                else:\n",
    "                    print(pathname)\n",
    "                \n"
   ]
  },
  {
   "cell_type": "code",
   "execution_count": 5,
   "metadata": {},
   "outputs": [
    {
     "data": {
      "text/plain": [
       "72"
      ]
     },
     "execution_count": 5,
     "metadata": {},
     "output_type": "execute_result"
    }
   ],
   "source": [
    "sum([len(uniq_bw[k]) for k in uniq_bw])"
   ]
  },
  {
   "cell_type": "code",
   "execution_count": 6,
   "metadata": {},
   "outputs": [
    {
     "data": {
      "text/plain": [
       "set()"
      ]
     },
     "execution_count": 6,
     "metadata": {},
     "output_type": "execute_result"
    }
   ],
   "source": [
    "set(cells_of_interest.index).difference(cell_ids)"
   ]
  },
  {
   "cell_type": "code",
   "execution_count": 7,
   "metadata": {},
   "outputs": [
    {
     "data": {
      "text/plain": [
       "set()"
      ]
     },
     "execution_count": 7,
     "metadata": {},
     "output_type": "execute_result"
    }
   ],
   "source": [
    "cell_ids.difference(cells_of_interest.index)"
   ]
  },
  {
   "cell_type": "code",
   "execution_count": 8,
   "metadata": {},
   "outputs": [
    {
     "data": {
      "text/plain": [
       "72"
      ]
     },
     "execution_count": 8,
     "metadata": {},
     "output_type": "execute_result"
    }
   ],
   "source": [
    "len(set(cell_ids))"
   ]
  },
  {
   "cell_type": "code",
   "execution_count": 9,
   "metadata": {},
   "outputs": [],
   "source": [
    "assert len(set(cell_ids)) == sum([len(uniq_bw[k]) for k in uniq_bw])"
   ]
  },
  {
   "cell_type": "code",
   "execution_count": 10,
   "metadata": {},
   "outputs": [],
   "source": [
    "target = 'brian_subset_chondro-EMP-macro'"
   ]
  },
  {
   "cell_type": "code",
   "execution_count": 11,
   "metadata": {},
   "outputs": [],
   "source": [
    "if not os.path.exists(target):\n",
    "    os.mkdir(target)\n",
    "genome_dir = os.path.join(target, 'mm10')\n",
    "if not os.path.exists(genome_dir):\n",
    "    os.mkdir(genome_dir)"
   ]
  },
  {
   "cell_type": "code",
   "execution_count": 12,
   "metadata": {},
   "outputs": [],
   "source": [
    "with open('merge_bw_{target}.sh'.format(target=target), 'wt') as outstream:\n",
    "    for group in [uniq_bw, all_bw]:\n",
    "        for cluster_name in group:\n",
    "            args = ['python3', '../merge_bw.py', '-o', cluster_name]\n",
    "            args.extend(group[cluster_name])\n",
    "            outstream.write(' '.join(args))\n",
    "            outstream.write(os.linesep)"
   ]
  },
  {
   "cell_type": "code",
   "execution_count": 13,
   "metadata": {},
   "outputs": [
    {
     "data": {
      "text/plain": [
       "'/woldlab/loxcyc/home/diane/proj/C1_mouse_limb_combined'"
      ]
     },
     "execution_count": 13,
     "metadata": {},
     "output_type": "execute_result"
    }
   ],
   "source": [
    "os.getcwd()"
   ]
  },
  {
   "cell_type": "code",
   "execution_count": 14,
   "metadata": {},
   "outputs": [
    {
     "data": {
      "text/plain": [
       "'brian_subset_chondro-EMP-macro/brian_subset_chondro-EMP-macro.hub.txt'"
      ]
     },
     "execution_count": 14,
     "metadata": {},
     "output_type": "execute_result"
    }
   ],
   "source": [
    "os.path.join(target, target+'.hub.txt')"
   ]
  },
  {
   "cell_type": "code",
   "execution_count": 15,
   "metadata": {},
   "outputs": [],
   "source": [
    "hub=\"\"\"hub hub\n",
    "shortLabel {target}\n",
    "longLabel {target}\n",
    "genomesFile {target}.genomes.txt\n",
    "email diane@caltech.edu\n",
    "\"\"\".format(target=target)\n",
    "\n",
    "with open(os.path.join(target, target+'.hub.txt'), 'wt') as outstream:\n",
    "    outstream.write(hub)"
   ]
  },
  {
   "cell_type": "code",
   "execution_count": 16,
   "metadata": {},
   "outputs": [],
   "source": [
    "genome=\"\"\"genome mm10\n",
    "trackDb mm10/trackDb-{target}.txt\n",
    "\"\"\".format(target=target)\n",
    "\n",
    "with open(os.path.join(target, target+'.genomes.txt'), 'wt') as outstream:\n",
    "    outstream.write(genome)"
   ]
  },
  {
   "cell_type": "code",
   "execution_count": 17,
   "metadata": {},
   "outputs": [],
   "source": [
    "sheet = read_remote_sheet(\n",
    "    \"https://woldlab.caltech.edu/nextcloud/index.php/s/XNJQRJbWeXDyf78/download\",\n",
    "    'genes_by_cluster')\n"
   ]
  },
  {
   "cell_type": "code",
   "execution_count": 18,
   "metadata": {},
   "outputs": [
    {
     "data": {
      "text/html": [
       "<div>\n",
       "<style scoped>\n",
       "    .dataframe tbody tr th:only-of-type {\n",
       "        vertical-align: middle;\n",
       "    }\n",
       "\n",
       "    .dataframe tbody tr th {\n",
       "        vertical-align: top;\n",
       "    }\n",
       "\n",
       "    .dataframe thead th {\n",
       "        text-align: right;\n",
       "    }\n",
       "</style>\n",
       "<table border=\"1\" class=\"dataframe\">\n",
       "  <thead>\n",
       "    <tr style=\"text-align: right;\">\n",
       "      <th></th>\n",
       "      <th>unified_label</th>\n",
       "      <th>abbreviations</th>\n",
       "      <th>c1_abbreviations</th>\n",
       "      <th>abbr. length</th>\n",
       "      <th>order</th>\n",
       "      <th>color</th>\n",
       "      <th>c1_class</th>\n",
       "      <th>c1_label</th>\n",
       "      <th>10x_class</th>\n",
       "      <th>10x_label</th>\n",
       "      <th>Red</th>\n",
       "      <th>Green</th>\n",
       "      <th>Blue</th>\n",
       "    </tr>\n",
       "  </thead>\n",
       "  <tbody>\n",
       "    <tr>\n",
       "      <th>7</th>\n",
       "      <td>Chondrocyte</td>\n",
       "      <td>chon</td>\n",
       "      <td>chon</td>\n",
       "      <td>4.0</td>\n",
       "      <td>8</td>\n",
       "      <td>#00FFFF</td>\n",
       "      <td>cyan</td>\n",
       "      <td>chondrocyte</td>\n",
       "      <td>3</td>\n",
       "      <td>chondrocyte</td>\n",
       "      <td>0</td>\n",
       "      <td>255</td>\n",
       "      <td>255</td>\n",
       "    </tr>\n",
       "  </tbody>\n",
       "</table>\n",
       "</div>"
      ],
      "text/plain": [
       "  unified_label abbreviations c1_abbreviations  abbr. length  order    color  \\\n",
       "7   Chondrocyte          chon             chon           4.0      8  #00FFFF   \n",
       "\n",
       "  c1_class     c1_label  10x_class    10x_label  Red  Green  Blue  \n",
       "7     cyan  chondrocyte          3  chondrocyte    0    255   255  "
      ]
     },
     "execution_count": 18,
     "metadata": {},
     "output_type": "execute_result"
    }
   ],
   "source": [
    "sheet[sheet['c1_class'] == 'cyan']"
   ]
  },
  {
   "cell_type": "code",
   "execution_count": 19,
   "metadata": {},
   "outputs": [],
   "source": [
    "trackDb = [\"\"\"track composite\n",
    "shortLabel bigwigs\n",
    "longLabel bigwigs\n",
    "type bigWig\n",
    "visibility full\n",
    "dimensions dimX=multiread\n",
    "sortOrder multiread\n",
    "subGroup1 view Views signal=signal\n",
    "subGroup2 multiread multiread all=all_reads uniq=unique_only\n",
    "compositeTrack on\n",
    "\n",
    "    track signal\n",
    "    shortLabel signal\n",
    "    longLabel signal\n",
    "    type bigWig\n",
    "    visibility full\n",
    "    parent composite on\n",
    "    view signal\n",
    "\"\"\"]\n",
    "\n",
    "track_template = \"\"\"\n",
    "            track {cluster}{type}\n",
    "            bigDataUrl http://woldlab.caltech.edu/~diane/C1_mouse_limb_combined/{target}/{cluster}-mm10-M4-male_{type}.bw\n",
    "            shortLabel {name}{type}\n",
    "            longLabel {name} {type}\n",
    "            type bigWig\n",
    "            visibility full\n",
    "            color {color}\n",
    "            subGroups multiread={type} view=signal\n",
    "            parent signal on\"\"\"\n",
    "\n",
    "cluster_color = {\n",
    "    'cyan': '82,207,206',\n",
    "    'orange': '251,200,60',\n",
    "    'yellow': '254,216,93',#'251,232,112'\n",
    "}\n",
    "for track_type in ['uniq', 'all']:\n",
    "    for cluster in cells_of_interest.unique():\n",
    "        selected = sheet[sheet['c1_class'] == cluster]\n",
    "        row = selected.loc[selected.first_valid_index()]\n",
    "        track_row = track_template.format(\n",
    "            target=target,\n",
    "            cluster=cluster,\n",
    "            type=track_type,\n",
    "            name=row.unified_label,\n",
    "            color=cluster_color[cluster]\n",
    "        )\n",
    "        trackDb.append(track_row)\n",
    "        \n",
    "with open(os.path.join(target, 'mm10', 'trackDb-' + target +'.txt'), 'wt') as outstream:\n",
    "    outstream.write('\\n'.join(trackDb))"
   ]
  },
  {
   "cell_type": "code",
   "execution_count": 20,
   "metadata": {},
   "outputs": [
    {
     "name": "stdout",
     "output_type": "stream",
     "text": [
      "hubCheck http://woldlab.caltech.edu/~diane/C1_mouse_limb_combined/brian_subset_chondro-EMP-macro/brian_subset_chondro-EMP-macro.hub.txt\n"
     ]
    }
   ],
   "source": [
    "url=\"http://woldlab.caltech.edu/~diane/C1_mouse_limb_combined/{target}/{target}.hub.txt\".format(target=target)\n",
    "cmd=\"hubCheck \" + url\n",
    "print(cmd)"
   ]
  },
  {
   "cell_type": "code",
   "execution_count": 21,
   "metadata": {},
   "outputs": [
    {
     "name": "stdout",
     "output_type": "stream",
     "text": [
      "http://genome.ucsc.edu/cgi-bin/hgTracks?db=mm10&hubUrl=http://woldlab.caltech.edu/~diane/C1_mouse_limb_combined/brian_subset_chondro-EMP-macro/brian_subset_chondro-EMP-macro.hub.txt\n"
     ]
    }
   ],
   "source": [
    "print(\"http://genome.ucsc.edu/cgi-bin/hgTracks?db=mm10&hubUrl=\" + url)\n"
   ]
  },
  {
   "cell_type": "code",
   "execution_count": 22,
   "metadata": {},
   "outputs": [],
   "source": [
    "import matplotlib.colors\n",
    "import numpy"
   ]
  },
  {
   "cell_type": "code",
   "execution_count": 23,
   "metadata": {},
   "outputs": [
    {
     "data": {
      "text/plain": [
       "array([254., 216.,  93.])"
      ]
     },
     "execution_count": 23,
     "metadata": {},
     "output_type": "execute_result"
    }
   ],
   "source": [
    "numpy.asarray(matplotlib.colors.hex2color('#FED85D')) * 255"
   ]
  },
  {
   "cell_type": "code",
   "execution_count": null,
   "metadata": {},
   "outputs": [],
   "source": []
  }
 ],
 "metadata": {
  "kernelspec": {
   "display_name": "Python 3",
   "language": "python",
   "name": "python3"
  },
  "language_info": {
   "codemirror_mode": {
    "name": "ipython",
    "version": 3
   },
   "file_extension": ".py",
   "mimetype": "text/x-python",
   "name": "python",
   "nbconvert_exporter": "python",
   "pygments_lexer": "ipython3",
   "version": "3.7.3"
  }
 },
 "nbformat": 4,
 "nbformat_minor": 2
}
