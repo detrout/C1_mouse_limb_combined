{
 "cells": [
  {
   "cell_type": "code",
   "execution_count": 1,
   "metadata": {},
   "outputs": [],
   "source": [
    "import pandas\n",
    "import os"
   ]
  },
  {
   "cell_type": "code",
   "execution_count": 2,
   "metadata": {},
   "outputs": [],
   "source": [
    "cells_of_interest=[x.split() for x in \"\"\"18317_G10\tDarkRed\n",
    "20040_B1\tDarkRed\n",
    "20044_A10\tDarkRed\n",
    "20042_D4\tDarkRed\n",
    "18255_E8\tDarkRed\n",
    "18254_D2\tDarkRed\n",
    "18252_B12\tDarkRed\n",
    "20042_D2\tDarkRed\n",
    "18314_D6\tDarkRed\n",
    "18313_C10\tDarkRed\n",
    "20047_D6\tDarkRed\n",
    "19917_D1\tDarkRed\n",
    "18312_B4\tDarkRed\n",
    "18315_E6\tDarkRed\n",
    "18255_E7\tDarkRed\n",
    "18316_F6\tDarkRed\n",
    "20036_D11\tDarkRed\n",
    "19915_B9\tDarkRed\n",
    "20040_B6\tDarkRed\n",
    "20038_F1\tDarkRed\n",
    "20034_B6\tDarkRed\n",
    "18263_A2\tDarkRed\n",
    "18252_B8\tDarkRed\n",
    "18255_E4\tred\n",
    "18256_F2\tred\n",
    "18255_E5\tred\n",
    "18252_B11\tred\n",
    "20048_E11\tred\n",
    "18311_A9\tred\n",
    "18255_E11\tred\n",
    "20044_A12\tred\n",
    "18251_A5\tred\n",
    "20039_A1\tred\n",
    "20040_B12\tred\n",
    "20044_A5\tred\n",
    "18312_B11\tred\n",
    "18317_G2\tred\n",
    "20049_F3\tred\n",
    "20048_E12\tred\n",
    "18252_B1\tred\n",
    "18311_A6\tred\n",
    "20043_E2\tred\n",
    "18315_E10\tred\n",
    "18275_F6\tred\n",
    "18316_F11\tred\n",
    "20026_A5\tred\n",
    "20026_A6\tred\n",
    "18270_A4\tred\n",
    "18316_F7\tred\n",
    "18312_B6\tred\n",
    "18274_E7\tred\n",
    "18254_D12\tred\n",
    "18251_A3\tred\n",
    "20040_B2\tred\n",
    "20041_C1\tred\n",
    "18312_B8\tred\n",
    "18257_G6\tred\n",
    "18271_B2\tred\n",
    "18274_E3\tred\n",
    "18255_E2\tred\n",
    "18270_A11\tred\n",
    "20031_F8\tgreen\n",
    "20026_A12\tgreen\n",
    "17327_A4\tgreen\n",
    "17327_A12\tgreen\n",
    "19909_D11\tgreen\n",
    "18048_G2\tgreen\n",
    "18048_G8\tgreen\n",
    "18044_C6\tgreen\n",
    "19907_B3\tgreen\n",
    "18042_A7\tgreen\n",
    "18043_B2\tgreen\n",
    "18044_C9\tgreen\n",
    "17329_C5\tgreen\n",
    "18046_E8\tgreen\n",
    "17329_C10\tgreen\n",
    "18267_E6\tgreen\n",
    "17332_F7\tgreen\n",
    "17333_G6\tgreen\n",
    "18260_C8\tgreen\n",
    "18046_E3\tgreen\n",
    "18088_G2\tgreen\n",
    "18042_A4\tgreen\n",
    "18049_H11\tgreen\n",
    "18044_C5\tgreen\n",
    "19914_A12\tgreen\n",
    "18048_G4\tgreen\n",
    "18267_E11\tgreen\n",
    "18264_B10\tgreen\n",
    "18262_E11\tgreen\n",
    "18262_E6\tgreen\n",
    "20031_F9\tgreen\n",
    "19917_D7\tgreen\n",
    "17332_F9\tgreen\n",
    "18264_B9\tgreen\n",
    "18265_C6\tgreen\n",
    "18268_F6\tgreen\n",
    "20032_G5\tgreen\n",
    "20029_D10\tgreen\n",
    "17331_E1\tgreen\n",
    "20038_F11\tgreen\n",
    "18262_E2\tgreen\n",
    "17333_G2\tgreen\n",
    "17334_H3\tgreen\n",
    "17330_D3\tgreen\n",
    "17328_B1\tgreen\n",
    "17329_C9\tgreen\n",
    "18258_A7\tgreen\n",
    "17327_A2\tgreen\n",
    "17329_C1\tgreen\n",
    "17328_B5\tgreen\n",
    "17329_C8\tgreen\n",
    "17328_B8\tgreen\n",
    "20026_A9\tgreen\n",
    "20026_A8\tgreen\"\"\".split('\\n')]\n",
    "cells_of_interest = [x[0] for x in cells_of_interest]"
   ]
  },
  {
   "cell_type": "code",
   "execution_count": 3,
   "metadata": {},
   "outputs": [],
   "source": [
    "def is_cell_present(cells_of_interest, path):\n",
    "    for cell in cells_of_interest:\n",
    "        if cell in path:\n",
    "            return True\n",
    "    return False"
   ]
  },
  {
   "cell_type": "code",
   "execution_count": 4,
   "metadata": {},
   "outputs": [],
   "source": [
    "with open('merge_bw_all.sh') as instream:\n",
    "    cell_ids = set()\n",
    "    uniq_bw = {}\n",
    "    all_bw = {}\n",
    "    for line in instream:\n",
    "        args = line.rstrip().split(' ')[3:]\n",
    "        cluster = args[0]\n",
    "        for pathname in args[1:]:\n",
    "            path, name = os.path.split(pathname)\n",
    "            cell_id = name[:name.find('mm10')-1]\n",
    "            if cell_id in cells_of_interest:\n",
    "                cell_ids.add(cell_id)\n",
    "                if name.endswith('_all.bw'):\n",
    "                    all_bw.setdefault(cluster, []).append(pathname)\n",
    "                elif name.endswith('_uniq.bw'):\n",
    "                    uniq_bw.setdefault(cluster, []).append(pathname)\n",
    "                else:\n",
    "                    print(pathname)\n",
    "                \n"
   ]
  },
  {
   "cell_type": "code",
   "execution_count": 5,
   "metadata": {},
   "outputs": [
    {
     "data": {
      "text/plain": [
       "115"
      ]
     },
     "execution_count": 5,
     "metadata": {},
     "output_type": "execute_result"
    }
   ],
   "source": [
    "sum([len(uniq_bw[k]) for k in uniq_bw])"
   ]
  },
  {
   "cell_type": "code",
   "execution_count": 6,
   "metadata": {},
   "outputs": [
    {
     "data": {
      "text/plain": [
       "set()"
      ]
     },
     "execution_count": 6,
     "metadata": {},
     "output_type": "execute_result"
    }
   ],
   "source": [
    "set(cells_of_interest).difference(cell_ids)"
   ]
  },
  {
   "cell_type": "code",
   "execution_count": 7,
   "metadata": {},
   "outputs": [
    {
     "data": {
      "text/plain": [
       "set()"
      ]
     },
     "execution_count": 7,
     "metadata": {},
     "output_type": "execute_result"
    }
   ],
   "source": [
    "cell_ids.difference(cells_of_interest)"
   ]
  },
  {
   "cell_type": "code",
   "execution_count": 8,
   "metadata": {},
   "outputs": [
    {
     "data": {
      "text/plain": [
       "115"
      ]
     },
     "execution_count": 8,
     "metadata": {},
     "output_type": "execute_result"
    }
   ],
   "source": [
    "len(set(cell_ids))"
   ]
  },
  {
   "cell_type": "code",
   "execution_count": 9,
   "metadata": {},
   "outputs": [],
   "source": [
    "target = 'brian_subset_201905282223'"
   ]
  },
  {
   "cell_type": "code",
   "execution_count": 10,
   "metadata": {},
   "outputs": [],
   "source": [
    "with open('merge_bw_{target}.sh'.format(target=target), 'wt') as outstream:\n",
    "    for group in [uniq_bw, all_bw]:\n",
    "        for cluster_name in group:\n",
    "            args = ['python3', '../merge_bw.py', '-o', cluster_name]\n",
    "            args.extend(group[cluster_name])\n",
    "            outstream.write(' '.join(args))\n",
    "            outstream.write(os.linesep)"
   ]
  },
  {
   "cell_type": "code",
   "execution_count": 11,
   "metadata": {},
   "outputs": [
    {
     "data": {
      "text/plain": [
       "'/woldlab/loxcyc/home/diane/proj/C1_mouse_limb_combined'"
      ]
     },
     "execution_count": 11,
     "metadata": {},
     "output_type": "execute_result"
    }
   ],
   "source": [
    "os.getcwd()"
   ]
  },
  {
   "cell_type": "code",
   "execution_count": 12,
   "metadata": {},
   "outputs": [
    {
     "data": {
      "text/plain": [
       "'brian_subset_201905282223/brian_subset_201905282223.hub.txt'"
      ]
     },
     "execution_count": 12,
     "metadata": {},
     "output_type": "execute_result"
    }
   ],
   "source": [
    "os.path.join(target, target+'.hub.txt')"
   ]
  },
  {
   "cell_type": "code",
   "execution_count": 13,
   "metadata": {},
   "outputs": [],
   "source": [
    "hub=\"\"\"hub hub\n",
    "shortLabel {target}\n",
    "longLabel {target}\n",
    "genomesFile {target}.genomes.txt\n",
    "email diane@caltech.edu\n",
    "\"\"\".format(target=target)\n",
    "\n",
    "with open(os.path.join(target, target+'.hub.txt'), 'wt') as outstream:\n",
    "    outstream.write(hub)"
   ]
  },
  {
   "cell_type": "code",
   "execution_count": 14,
   "metadata": {},
   "outputs": [],
   "source": [
    "genome=\"\"\"genome mm10\n",
    "trackDb mm10/trackDb-{target}.txt\n",
    "\"\"\".format(target=target)\n",
    "\n",
    "with open(os.path.join(target, target+'.genomes.txt'), 'wt') as outstream:\n",
    "    outstream.write(genome)"
   ]
  },
  {
   "cell_type": "code",
   "execution_count": 15,
   "metadata": {},
   "outputs": [],
   "source": [
    "trackDb = \"\"\"track composite\n",
    "shortLabel bigwigs\n",
    "longLabel bigwigs\n",
    "type bigWig\n",
    "visibility full\n",
    "dimensions dimX=multiread\n",
    "sortOrder multiread\n",
    "subGroup1 view Views signal=signal\n",
    "subGroup2 multiread multiread all=all_reads uniq=unique_only\n",
    "compositeTrack on\n",
    "\n",
    "    track signal\n",
    "    shortLabel signal\n",
    "    longLabel signal\n",
    "    type bigWig\n",
    "    visibility full\n",
    "    parent composite on\n",
    "    view signal\n",
    "\n",
    "            track greenall\n",
    "            bigDataUrl http://woldlab.caltech.edu/~diane/C1_mouse_limb_combined/{target}/green-mm10-M4-male_all.bw\n",
    "            shortLabel greenall\n",
    "            longLabel Muscle 1 all\n",
    "            type bigWig\n",
    "            visibility full\n",
    "            color 0,255,0\n",
    "            subGroups multiread=all view=signal\n",
    "            parent signal on\n",
    "    \n",
    "            track greenuniq\n",
    "            bigDataUrl http://woldlab.caltech.edu/~diane/C1_mouse_limb_combined/{target}/green-mm10-M4-male_uniq.bw\n",
    "            shortLabel greenuniq\n",
    "            longLabel Muscle 1 uniq\n",
    "            type bigWig\n",
    "            visibility full\n",
    "            color 0,255,0\n",
    "            subGroups multiread=uniq view=signal\n",
    "            parent signal on\n",
    "\n",
    "            track redall\n",
    "            bigDataUrl http://woldlab.caltech.edu/~diane/C1_mouse_limb_combined/{target}/red-mm10-M4-male_all.bw\n",
    "            shortLabel redall\n",
    "            longLabel Muscle 2 all\n",
    "            type bigWig\n",
    "            visibility full\n",
    "            color 255,51,51\n",
    "            subGroups multiread=all view=signal\n",
    "            parent signal on\n",
    "    \n",
    "            track reduniq\n",
    "            bigDataUrl http://woldlab.caltech.edu/~diane/C1_mouse_limb_combined/{target}/red-mm10-M4-male_uniq.bw\n",
    "            shortLabel reduniq\n",
    "            longLabel Muscle 2 uniq\n",
    "            type bigWig\n",
    "            visibility full\n",
    "            color 255,51,51\n",
    "            subGroups multiread=uniq view=signal\n",
    "            parent signal on\n",
    "    \n",
    "\n",
    "            track DarkRedall\n",
    "            bigDataUrl http://woldlab.caltech.edu/~diane/C1_mouse_limb_combined/{target}/DarkRed-mm10-M4-male_all.bw\n",
    "            shortLabel DarkRedall\n",
    "            longLabel Muscle 3 all\n",
    "            type bigWig\n",
    "            visibility full\n",
    "            color 191,0,0\n",
    "            subGroups multiread=all view=signal\n",
    "            parent signal on\n",
    "    \n",
    "            track DarkReduniq\n",
    "            bigDataUrl http://woldlab.caltech.edu/~diane/C1_mouse_limb_combined/{target}/DarkRed-mm10-M4-male_uniq.bw\n",
    "            shortLabel DarkReduniq\n",
    "            longLabel Muscle 3 uniq\n",
    "            type bigWig\n",
    "            visibility full\n",
    "            color 191,0,0\n",
    "            subGroups multiread=uniq view=signal\n",
    "            parent signal on\n",
    "\"\"\".format(target=target)\n",
    "\n",
    "with open(os.path.join(target, 'mm10', 'trackDb-' + target +'.txt'), 'wt') as outstream:\n",
    "    outstream.write(trackDb)"
   ]
  },
  {
   "cell_type": "code",
   "execution_count": 16,
   "metadata": {},
   "outputs": [
    {
     "name": "stdout",
     "output_type": "stream",
     "text": [
      "hubCheck http://woldlab.caltech.edu/~diane/C1_mouse_limb_combined/brian_subset_201905282223/brian_subset_201905282223.hub.txt\n"
     ]
    }
   ],
   "source": [
    "cmd=\"hubCheck http://woldlab.caltech.edu/~diane/C1_mouse_limb_combined/{target}/{target}.hub.txt\".format(target=target)\n",
    "print(cmd)"
   ]
  }
 ],
 "metadata": {
  "kernelspec": {
   "display_name": "Python 3",
   "language": "python",
   "name": "python3"
  },
  "language_info": {
   "codemirror_mode": {
    "name": "ipython",
    "version": 3
   },
   "file_extension": ".py",
   "mimetype": "text/x-python",
   "name": "python",
   "nbconvert_exporter": "python",
   "pygments_lexer": "ipython3",
   "version": "3.7.3rc1"
  }
 },
 "nbformat": 4,
 "nbformat_minor": 2
}
