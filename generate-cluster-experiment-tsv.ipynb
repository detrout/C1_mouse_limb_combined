{
 "cells": [
  {
   "cell_type": "code",
   "execution_count": 1,
   "metadata": {},
   "outputs": [],
   "source": [
    "import find_bigwigs\n",
    "import pandas"
   ]
  },
  {
   "cell_type": "code",
   "execution_count": 2,
   "metadata": {},
   "outputs": [],
   "source": [
    "clusters = pandas.DataFrame(find_bigwigs.read_peng_20180710_cluster_memberships())"
   ]
  },
  {
   "cell_type": "code",
   "execution_count": 3,
   "metadata": {},
   "outputs": [
    {
     "name": "stdout",
     "output_type": "stream",
     "text": [
      "Muscle 3 23 23\n",
      "Muscle 2 38 38\n",
      "Muscle 1 54 54\n",
      "Mesenchyme2 + Unknown 462 462\n",
      "Mesenchyme1 109 109\n",
      "Chondrocyte 57 57\n",
      "EMP 5 5\n",
      "Macrophage 10 10\n",
      "Endothelial 7 7\n",
      "Perichondrium 139 139\n",
      "Epithelial 8 8\n",
      "Neural Crest 8 8\n",
      "920\n"
     ]
    }
   ],
   "source": [
    "total = 0\n",
    "experiments = []\n",
    "for cluster_name in clusters['cluster_name'].unique():\n",
    "    subset = clusters[clusters['cluster_name'] == cluster_name]\n",
    "    total += subset.shape[0]\n",
    "    replicates = list([x.replace('_mm10', '').replace('_clean', '') for x in subset['cell_id']])\n",
    "    experiments.append((cluster_name, ','.join([ str(x) for x in replicates])))\n",
    "    print(cluster_name, subset.shape[0], len(replicates))\n",
    "print(total)\n",
    "    "
   ]
  },
  {
   "cell_type": "code",
   "execution_count": 5,
   "metadata": {},
   "outputs": [],
   "source": [
    "df = pandas.DataFrame(experiments, columns=['experiment', 'replicates'])"
   ]
  },
  {
   "cell_type": "code",
   "execution_count": 7,
   "metadata": {},
   "outputs": [],
   "source": [
    "df.to_csv('920cells_experiment_by_cluster.tsv', index=False, sep='\\t')"
   ]
  },
  {
   "cell_type": "code",
   "execution_count": 10,
   "metadata": {},
   "outputs": [],
   "source": [
    "replicates = ','.join([x.replace('_mm10', '').replace('_clean', '') for x in clusters['cell_id']])\n",
    "df_all = pandas.DataFrame([['all_920cells', replicates]], columns=['experiment', 'replicates'])\n",
    "df_all.to_csv('920cells_experiment_all.tsv', index=False, sep='\\t')"
   ]
  },
  {
   "cell_type": "code",
   "execution_count": null,
   "metadata": {},
   "outputs": [],
   "source": []
  }
 ],
 "metadata": {
  "kernelspec": {
   "display_name": "Python 3",
   "language": "python",
   "name": "python3"
  },
  "language_info": {
   "codemirror_mode": {
    "name": "ipython",
    "version": 3
   },
   "file_extension": ".py",
   "mimetype": "text/x-python",
   "name": "python",
   "nbconvert_exporter": "python",
   "pygments_lexer": "ipython3",
   "version": "3.7.3rc1"
  }
 },
 "nbformat": 4,
 "nbformat_minor": 2
}
