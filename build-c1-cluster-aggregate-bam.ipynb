{
 "cells": [
  {
   "cell_type": "markdown",
   "metadata": {},
   "source": [
    "# Introduction"
   ]
  },
  {
   "cell_type": "markdown",
   "metadata": {},
   "source": [
    "To make cluster based C1 tracks that are normalized similarly to the 10x tracks I need\n",
    "to make merged bam files."
   ]
  },
  {
   "cell_type": "code",
   "execution_count": 16,
   "metadata": {},
   "outputs": [],
   "source": [
    "from woldrnaseq.models import load_library_tables, load_experiments, find_library_bam_file\n",
    "from subprocess import Popen, PIPE\n",
    "import pysam"
   ]
  },
  {
   "cell_type": "code",
   "execution_count": 2,
   "metadata": {},
   "outputs": [],
   "source": [
    "from woldrnaseq.make_trackhub import make_bam_track_name\n"
   ]
  },
  {
   "cell_type": "code",
   "execution_count": 3,
   "metadata": {},
   "outputs": [
    {
     "name": "stdout",
     "output_type": "stream",
     "text": [
      " paper_analysis_vdir/experiment_cluster_mesenchyme.tsv\r\n",
      " paper_analysis_vdir/experiment_cluster_other.tsv\r\n",
      " paper_analysis_vdir/experiment_cluster_perichondrium.tsv\r\n",
      " paper_analysis_vdir/experiment_cluster_subsampled.tsv\r\n",
      " paper_analysis_vdir/experiment_cluster.tsv\r\n",
      " paper_analysis_vdir/experiment_run.tsv\r\n",
      " paper_analysis_vdir/experiment_short_run_name.tsv\r\n",
      " paper_analysis_vdir/experiment_time.tsv\r\n",
      "'paper_analysis_vdir/high psmc_gene_FPKM_likelihood.tsv'\r\n",
      " paper_analysis_vdir/library_vdir.tsv\r\n",
      " paper_analysis_vdir/run03_e10.5_gene_FPKM_likelihood.tsv\r\n",
      " paper_analysis_vdir/run04_e13.5_gene_FPKM_likelihood.tsv\r\n",
      " paper_analysis_vdir/run05_e11.0_gene_FPKM_likelihood.tsv\r\n",
      " paper_analysis_vdir/run06_e11.5_gene_FPKM_likelihood.tsv\r\n",
      " paper_analysis_vdir/run07_e12.5_gene_FPKM_likelihood.tsv\r\n",
      " paper_analysis_vdir/run08_e13.5_gene_FPKM_likelihood.tsv\r\n",
      " paper_analysis_vdir/run10_e11.5_gene_FPKM_likelihood.tsv\r\n",
      " paper_analysis_vdir/run11_e12.0_gene_FPKM_likelihood.tsv\r\n",
      " paper_analysis_vdir/run12_e13.0_gene_FPKM_likelihood.tsv\r\n",
      " paper_analysis_vdir/run13_e14.0_gene_FPKM_likelihood.tsv\r\n",
      " paper_analysis_vdir/run14_e15.5_gene_FPKM_likelihood.tsv\r\n",
      " paper_analysis_vdir/run15_e10.5_gene_FPKM_likelihood.tsv\r\n",
      " paper_analysis_vdir/run16_e11.0_gene_FPKM_likelihood.tsv\r\n",
      " paper_analysis_vdir/run17_e14.5_gene_FPKM_likelihood.tsv\r\n"
     ]
    }
   ],
   "source": [
    "ls paper_analysis_vdir/*.tsv"
   ]
  },
  {
   "cell_type": "code",
   "execution_count": 4,
   "metadata": {},
   "outputs": [],
   "source": [
    "libraries = load_library_tables(['paper_analysis_vdir/library_vdir.tsv'])"
   ]
  },
  {
   "cell_type": "code",
   "execution_count": 5,
   "metadata": {},
   "outputs": [],
   "source": [
    "experiments = load_experiments(['paper_analysis_vdir/experiment_cluster.tsv'])"
   ]
  },
  {
   "cell_type": "code",
   "execution_count": 6,
   "metadata": {},
   "outputs": [
    {
     "data": {
      "text/html": [
       "<div>\n",
       "<style scoped>\n",
       "    .dataframe tbody tr th:only-of-type {\n",
       "        vertical-align: middle;\n",
       "    }\n",
       "\n",
       "    .dataframe tbody tr th {\n",
       "        vertical-align: top;\n",
       "    }\n",
       "\n",
       "    .dataframe thead th {\n",
       "        text-align: right;\n",
       "    }\n",
       "</style>\n",
       "<table border=\"1\" class=\"dataframe\">\n",
       "  <thead>\n",
       "    <tr style=\"text-align: right;\">\n",
       "      <th></th>\n",
       "      <th>analysis_dir</th>\n",
       "      <th>genome</th>\n",
       "      <th>annotation</th>\n",
       "      <th>sex</th>\n",
       "      <th>read_1</th>\n",
       "      <th>reference_prefix</th>\n",
       "      <th>analysis_name</th>\n",
       "    </tr>\n",
       "    <tr>\n",
       "      <th>library id</th>\n",
       "      <th></th>\n",
       "      <th></th>\n",
       "      <th></th>\n",
       "      <th></th>\n",
       "      <th></th>\n",
       "      <th></th>\n",
       "      <th></th>\n",
       "    </tr>\n",
       "  </thead>\n",
       "  <tbody>\n",
       "    <tr>\n",
       "      <th>17327_A10</th>\n",
       "      <td>/woldlab/loxcyc/home/diane/proj/C1_mouse_limb_...</td>\n",
       "      <td>mm10</td>\n",
       "      <td>M4</td>\n",
       "      <td>male</td>\n",
       "      <td>17327_A10/17327_A10_*.fastq.gz</td>\n",
       "      <td>-</td>\n",
       "      <td>17327_A10</td>\n",
       "    </tr>\n",
       "    <tr>\n",
       "      <th>17327_A11</th>\n",
       "      <td>/woldlab/loxcyc/home/diane/proj/C1_mouse_limb_...</td>\n",
       "      <td>mm10</td>\n",
       "      <td>M4</td>\n",
       "      <td>male</td>\n",
       "      <td>17327_A11/17327_A11_*.fastq.gz</td>\n",
       "      <td>-</td>\n",
       "      <td>17327_A11</td>\n",
       "    </tr>\n",
       "    <tr>\n",
       "      <th>17327_A12</th>\n",
       "      <td>/woldlab/loxcyc/home/diane/proj/C1_mouse_limb_...</td>\n",
       "      <td>mm10</td>\n",
       "      <td>M4</td>\n",
       "      <td>male</td>\n",
       "      <td>17327_A12/17327_A12_*.fastq.gz</td>\n",
       "      <td>-</td>\n",
       "      <td>17327_A12</td>\n",
       "    </tr>\n",
       "    <tr>\n",
       "      <th>17327_A2</th>\n",
       "      <td>/woldlab/loxcyc/home/diane/proj/C1_mouse_limb_...</td>\n",
       "      <td>mm10</td>\n",
       "      <td>M4</td>\n",
       "      <td>male</td>\n",
       "      <td>17327_A2/17327_A2_*.fastq.gz</td>\n",
       "      <td>-</td>\n",
       "      <td>17327_A2</td>\n",
       "    </tr>\n",
       "    <tr>\n",
       "      <th>17327_A3</th>\n",
       "      <td>/woldlab/loxcyc/home/diane/proj/C1_mouse_limb_...</td>\n",
       "      <td>mm10</td>\n",
       "      <td>M4</td>\n",
       "      <td>male</td>\n",
       "      <td>17327_A3/17327_A3_*.fastq.gz</td>\n",
       "      <td>-</td>\n",
       "      <td>17327_A3</td>\n",
       "    </tr>\n",
       "  </tbody>\n",
       "</table>\n",
       "</div>"
      ],
      "text/plain": [
       "                                                 analysis_dir genome  \\\n",
       "library id                                                             \n",
       "17327_A10   /woldlab/loxcyc/home/diane/proj/C1_mouse_limb_...   mm10   \n",
       "17327_A11   /woldlab/loxcyc/home/diane/proj/C1_mouse_limb_...   mm10   \n",
       "17327_A12   /woldlab/loxcyc/home/diane/proj/C1_mouse_limb_...   mm10   \n",
       "17327_A2    /woldlab/loxcyc/home/diane/proj/C1_mouse_limb_...   mm10   \n",
       "17327_A3    /woldlab/loxcyc/home/diane/proj/C1_mouse_limb_...   mm10   \n",
       "\n",
       "           annotation   sex                          read_1 reference_prefix  \\\n",
       "library id                                                                     \n",
       "17327_A10          M4  male  17327_A10/17327_A10_*.fastq.gz                -   \n",
       "17327_A11          M4  male  17327_A11/17327_A11_*.fastq.gz                -   \n",
       "17327_A12          M4  male  17327_A12/17327_A12_*.fastq.gz                -   \n",
       "17327_A2           M4  male    17327_A2/17327_A2_*.fastq.gz                -   \n",
       "17327_A3           M4  male    17327_A3/17327_A3_*.fastq.gz                -   \n",
       "\n",
       "           analysis_name  \n",
       "library id                \n",
       "17327_A10      17327_A10  \n",
       "17327_A11      17327_A11  \n",
       "17327_A12      17327_A12  \n",
       "17327_A2        17327_A2  \n",
       "17327_A3        17327_A3  "
      ]
     },
     "execution_count": 6,
     "metadata": {},
     "output_type": "execute_result"
    }
   ],
   "source": [
    "libraries.head()"
   ]
  },
  {
   "cell_type": "code",
   "execution_count": 7,
   "metadata": {},
   "outputs": [
    {
     "data": {
      "text/plain": [
       "'/woldlab/loxcyc/home/diane/proj/C1_mouse_limb_combined/paper_analysis_vdir/17327_A10/17327_A10-mm10-M4-male_genome.bam'"
      ]
     },
     "execution_count": 7,
     "metadata": {},
     "output_type": "execute_result"
    }
   ],
   "source": [
    "find_library_bam_file(libraries.loc['17327_A10'], 'genome')"
   ]
  },
  {
   "cell_type": "code",
   "execution_count": 8,
   "metadata": {},
   "outputs": [
    {
     "data": {
      "text/plain": [
       "experiment\n",
       "EMP                5\n",
       "chondrocyte       57\n",
       "ectoderm           8\n",
       "endothelial        7\n",
       "macrophage        10\n",
       "mesenchyme       571\n",
       "muscle1           54\n",
       "muscle2           38\n",
       "muscle3           23\n",
       "neural_crest       8\n",
       "perichondrium    139\n",
       "Name: replicates, dtype: int64"
      ]
     },
     "execution_count": 8,
     "metadata": {},
     "output_type": "execute_result"
    }
   ],
   "source": [
    "experiments['replicates'].apply(len)"
   ]
  },
  {
   "cell_type": "code",
   "execution_count": 15,
   "metadata": {},
   "outputs": [
    {
     "name": "stdout",
     "output_type": "stream",
     "text": [
      "/woldlab/loxcyc/home/diane/proj/C1_mouse_limb_combined/paper_analysis_vdir/18088_G8/Aligned.sortedByCoord.out.bam\n",
      "/woldlab/loxcyc/home/diane/proj/C1_mouse_limb_combined/paper_analysis_vdir/18254_D10/18254_D10-mm10-M4-male_genome.bam\n",
      "/woldlab/loxcyc/home/diane/proj/C1_mouse_limb_combined/paper_analysis_vdir/19916_C5/19916_C5-mm10-M4-male_genome.bam\n",
      "/woldlab/loxcyc/home/diane/proj/C1_mouse_limb_combined/paper_analysis_vdir/20032_G2/20032_G2-mm10-M4-male_genome.bam\n",
      "/woldlab/loxcyc/home/diane/proj/C1_mouse_limb_combined/paper_analysis_vdir/20034_B3/20034_B3-mm10-M4-male_genome.bam\n"
     ]
    }
   ],
   "source": [
    "command = ['samtools ']\n",
    "EMP = libraries.loc[experiments.loc['EMP', 'replicates']]\n",
    "for library_id, library in EMP.iterrows():\n",
    "    print(find_library_bam_file(library, 'genome'))"
   ]
  },
  {
   "cell_type": "code",
   "execution_count": null,
   "metadata": {},
   "outputs": [],
   "source": [
    "def write_external_bam()"
   ]
  }
 ],
 "metadata": {
  "kernelspec": {
   "display_name": "Python 3",
   "language": "python",
   "name": "python3"
  },
  "language_info": {
   "codemirror_mode": {
    "name": "ipython",
    "version": 3
   },
   "file_extension": ".py",
   "mimetype": "text/x-python",
   "name": "python",
   "nbconvert_exporter": "python",
   "pygments_lexer": "ipython3",
   "version": "3.7.4"
  }
 },
 "nbformat": 4,
 "nbformat_minor": 2
}
