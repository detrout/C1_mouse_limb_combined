{
 "cells": [
  {
   "cell_type": "markdown",
   "metadata": {},
   "source": [
    "# Introduction"
   ]
  },
  {
   "cell_type": "markdown",
   "metadata": {},
   "source": [
    "Sean had two library control files that contained runs like my ~/proj/C1_e10.5_mouse_limb_run3_Dec5_2016_2/\n",
    "which should i use?"
   ]
  },
  {
   "cell_type": "code",
   "execution_count": 6,
   "metadata": {},
   "outputs": [],
   "source": [
    "from woldrnaseq.models import load_library_tables, load_all_samstats"
   ]
  },
  {
   "cell_type": "code",
   "execution_count": 15,
   "metadata": {},
   "outputs": [],
   "source": [
    "%matplotlib inline"
   ]
  },
  {
   "cell_type": "code",
   "execution_count": 2,
   "metadata": {},
   "outputs": [],
   "source": [
    "mm10 = load_library_tables(['/woldlab/castor/home/sau/flowcells/C1_mouse_limb_combined_Mar_2017/library_mm10.tsv'])\n",
    "mm10_clean = load_library_tables(['/woldlab/castor/home/sau/flowcells/C1_mouse_limb_combined_Mar_2017/library_mm10_clean.tsv'])"
   ]
  },
  {
   "cell_type": "code",
   "execution_count": 3,
   "metadata": {},
   "outputs": [
    {
     "name": "stdout",
     "output_type": "stream",
     "text": [
      "(392, 7) (620, 7)\n"
     ]
    }
   ],
   "source": [
    "print(mm10.shape, mm10_clean.shape)"
   ]
  },
  {
   "cell_type": "code",
   "execution_count": 20,
   "metadata": {},
   "outputs": [],
   "source": [
    "mm10_ids = [ x.replace('_mm10', '') for x in mm10.index]\n",
    "clean_ids = [ x.replace('_mm10', '').replace('_clean', '') for x in mm10_clean.index]"
   ]
  },
  {
   "cell_type": "code",
   "execution_count": 21,
   "metadata": {},
   "outputs": [
    {
     "data": {
      "text/plain": [
       "set()"
      ]
     },
     "execution_count": 21,
     "metadata": {},
     "output_type": "execute_result"
    }
   ],
   "source": [
    "set(mm10_ids).difference(clean_ids)"
   ]
  },
  {
   "cell_type": "code",
   "execution_count": 22,
   "metadata": {},
   "outputs": [
    {
     "data": {
      "text/plain": [
       "['17328_B9', '18042_A12', '17333_G4', '18043_B3', '18089_H5']"
      ]
     },
     "execution_count": 22,
     "metadata": {},
     "output_type": "execute_result"
    }
   ],
   "source": [
    "only_in_clean = list(set(clean_ids).difference(set(mm10_ids)))\n",
    "only_in_clean[:5]"
   ]
  },
  {
   "cell_type": "markdown",
   "metadata": {},
   "source": [
    "Looks like mm10_clean is the superset?\n",
    "\n",
    "Is its read_length fixed?"
   ]
  },
  {
   "cell_type": "code",
   "execution_count": 9,
   "metadata": {},
   "outputs": [],
   "source": [
    "samstats_mm10 = load_all_samstats(mm10)\n",
    "samstats_clean = load_all_samstats(mm10_clean)"
   ]
  },
  {
   "cell_type": "code",
   "execution_count": 11,
   "metadata": {},
   "outputs": [
    {
     "data": {
      "text/plain": [
       "count    620.0\n",
       "mean      50.0\n",
       "std        0.0\n",
       "min       50.0\n",
       "25%       50.0\n",
       "50%       50.0\n",
       "75%       50.0\n",
       "max       50.0\n",
       "Name: Read Length, Minimum, dtype: float64"
      ]
     },
     "execution_count": 11,
     "metadata": {},
     "output_type": "execute_result"
    }
   ],
   "source": [
    "samstats_clean['Read Length, Minimum'].describe()"
   ]
  },
  {
   "cell_type": "code",
   "execution_count": 13,
   "metadata": {},
   "outputs": [
    {
     "data": {
      "text/plain": [
       "count      8.000000\n",
       "mean      96.262837\n",
       "std      121.521282\n",
       "min       19.174125\n",
       "25%       50.000000\n",
       "50%       50.000000\n",
       "75%       69.196429\n",
       "max      392.000000\n",
       "Name: Read Length, Minimum, dtype: float64"
      ]
     },
     "execution_count": 13,
     "metadata": {},
     "output_type": "execute_result"
    }
   ],
   "source": [
    "samstats_mm10['Read Length, Minimum'].describe()"
   ]
  },
  {
   "cell_type": "code",
   "execution_count": 16,
   "metadata": {},
   "outputs": [
    {
     "data": {
      "text/plain": [
       "<matplotlib.axes._subplots.AxesSubplot at 0x7f333509d7b8>"
      ]
     },
     "execution_count": 16,
     "metadata": {},
     "output_type": "execute_result"
    },
    {
     "data": {
      "image/png": "[encoded data removed]",
      "text/plain": [
       "<Figure size 432x288 with 1 Axes>"
      ]
     },
     "metadata": {
      "needs_background": "light"
     },
     "output_type": "display_data"
    }
   ],
   "source": [
    "samstats_mm10['Read Length, Average'].plot.hist()"
   ]
  },
  {
   "cell_type": "markdown",
   "metadata": {},
   "source": [
    "Well that was unexpected.... Why does library_mm10.tsv contain some > 350 bp reads? How does it contain them?"
   ]
  },
  {
   "cell_type": "code",
   "execution_count": 17,
   "metadata": {},
   "outputs": [
    {
     "data": {
      "text/html": [
       "<div>\n",
       "<style scoped>\n",
       "    .dataframe tbody tr th:only-of-type {\n",
       "        vertical-align: middle;\n",
       "    }\n",
       "\n",
       "    .dataframe tbody tr th {\n",
       "        vertical-align: top;\n",
       "    }\n",
       "\n",
       "    .dataframe thead th {\n",
       "        text-align: right;\n",
       "    }\n",
       "</style>\n",
       "<table border=\"1\" class=\"dataframe\">\n",
       "  <thead>\n",
       "    <tr style=\"text-align: right;\">\n",
       "      <th></th>\n",
       "      <th>Unique</th>\n",
       "      <th>Unique Splices</th>\n",
       "      <th>Multi</th>\n",
       "      <th>Multi Splices</th>\n",
       "      <th>Total Aligned Reads</th>\n",
       "      <th>Fraction Mapped</th>\n",
       "      <th>Complexity</th>\n",
       "      <th>Read Length, Minimum</th>\n",
       "      <th>Read Length, Maximum</th>\n",
       "      <th>Read Length, Average</th>\n",
       "    </tr>\n",
       "  </thead>\n",
       "  <tbody>\n",
       "    <tr>\n",
       "      <th>count</th>\n",
       "      <td>392.0</td>\n",
       "      <td>392.0</td>\n",
       "      <td>392.0</td>\n",
       "      <td>392.0</td>\n",
       "      <td>392.0</td>\n",
       "      <td>392.0</td>\n",
       "      <td>392.0</td>\n",
       "      <td>392.0</td>\n",
       "      <td>392.0</td>\n",
       "      <td>392.0</td>\n",
       "    </tr>\n",
       "  </tbody>\n",
       "</table>\n",
       "</div>"
      ],
      "text/plain": [
       "       Unique  Unique Splices  Multi  Multi Splices  Total Aligned Reads  \\\n",
       "count   392.0           392.0  392.0          392.0                392.0   \n",
       "\n",
       "       Fraction Mapped  Complexity  Read Length, Minimum  \\\n",
       "count            392.0       392.0                 392.0   \n",
       "\n",
       "       Read Length, Maximum  Read Length, Average  \n",
       "count                 392.0                 392.0  "
      ]
     },
     "execution_count": 17,
     "metadata": {},
     "output_type": "execute_result"
    }
   ],
   "source": [
    "samstats_mm10[samstats_mm10['Read Length, Average'] > 150]"
   ]
  },
  {
   "cell_type": "markdown",
   "metadata": {},
   "source": [
    "Ok that looks more like there was a summary count at the end of a samstats file."
   ]
  },
  {
   "cell_type": "markdown",
   "metadata": {},
   "source": [
    "Found another source of duplicate library IDs. are they all conflicted"
   ]
  },
  {
   "cell_type": "code",
   "execution_count": 18,
   "metadata": {},
   "outputs": [],
   "source": [
    "h5lv3 = load_library_tables(['/woldlab/castor/home/sau/flowcells/H5LV3BCXY/library.tsv'])"
   ]
  },
  {
   "cell_type": "code",
   "execution_count": 23,
   "metadata": {},
   "outputs": [
    {
     "data": {
      "text/plain": [
       "set()"
      ]
     },
     "execution_count": 23,
     "metadata": {},
     "output_type": "execute_result"
    }
   ],
   "source": [
    "set(h5lv3.index).difference(clean_ids)"
   ]
  },
  {
   "cell_type": "markdown",
   "metadata": {},
   "source": [
    "Everything in H5LV3BCXY is in C1_mouse_limb_combined_Mar_2017/library_mm10_clean.tsv"
   ]
  },
  {
   "cell_type": "code",
   "execution_count": 24,
   "metadata": {},
   "outputs": [],
   "source": [
    "run2 = load_library_tables(['/woldlab/castor/home/sau/flowcells/C1_e10.5_mouse_limb_run2_June20_2016/library.tsv'])"
   ]
  },
  {
   "cell_type": "code",
   "execution_count": 26,
   "metadata": {},
   "outputs": [
    {
     "data": {
      "text/plain": [
       "set()"
      ]
     },
     "execution_count": 26,
     "metadata": {},
     "output_type": "execute_result"
    }
   ],
   "source": [
    "set(run2.index).difference(clean_ids)"
   ]
  },
  {
   "cell_type": "markdown",
   "metadata": {},
   "source": [
    "Everything in C1_e10.5_mouse_limb_run2_June20_2016/library.tsv is also in C1_mouse_limb_combined_Mar_2017/library_mm10_clean.tsv"
   ]
  },
  {
   "cell_type": "code",
   "execution_count": null,
   "metadata": {},
   "outputs": [],
   "source": []
  }
 ],
 "metadata": {
  "kernelspec": {
   "display_name": "Python 3",
   "language": "python",
   "name": "python3"
  },
  "language_info": {
   "codemirror_mode": {
    "name": "ipython",
    "version": 3
   },
   "file_extension": ".py",
   "mimetype": "text/x-python",
   "name": "python",
   "nbconvert_exporter": "python",
   "pygments_lexer": "ipython3",
   "version": "3.7.4"
  }
 },
 "nbformat": 4,
 "nbformat_minor": 2
}
